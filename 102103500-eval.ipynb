{
  "cells": [
    {
      "cell_type": "code",
      "execution_count": null,
      "metadata": {
        "id": "NfUhNi3ajaQH"
      },
      "outputs": [],
      "source": [
        "%matplotlib inline"
      ]
    },
    {
      "cell_type": "markdown",
      "metadata": {
        "id": "mO-qSUQXjaQJ"
      },
      "source": [
        "\n",
        "# Speech Command Classification with torchaudio\n",
        "\n",
        "This tutorial will show you how to correctly format an audio dataset and\n",
        "then train/test an audio classifier network on the dataset.\n",
        "\n",
        "Colab has GPU option available. In the menu tabs, select “Runtime” then\n",
        "“Change runtime type”. In the pop-up that follows, you can choose GPU.\n",
        "After the change, your runtime should automatically restart (which means\n",
        "information from executed cells disappear).\n",
        "\n",
        "First, let’s import the common torch packages such as\n",
        "[torchaudio](https://github.com/pytorch/audio)_ that can be installed\n",
        "by following the instructions on the website.\n"
      ]
    },
    {
      "cell_type": "code",
      "execution_count": null,
      "metadata": {
        "id": "ZJizIcnbjaQN",
        "outputId": "487495bd-09a6-4784-c6c2-0007db8a5360",
        "colab": {
          "base_uri": "https://localhost:8080/"
        }
      },
      "outputs": [
        {
          "output_type": "stream",
          "name": "stdout",
          "text": [
            "Looking in indexes: https://pypi.org/simple, https://download.pytorch.org/whl/cu117\n",
            "Requirement already satisfied: pydub in /usr/local/lib/python3.10/dist-packages (0.25.1)\n",
            "Requirement already satisfied: torch==1.13.1+cu117 in /usr/local/lib/python3.10/dist-packages (1.13.1+cu117)\n",
            "Requirement already satisfied: torchvision==0.14.1+cu117 in /usr/local/lib/python3.10/dist-packages (0.14.1+cu117)\n",
            "Requirement already satisfied: torchaudio==0.13.1 in /usr/local/lib/python3.10/dist-packages (0.13.1+cu117)\n",
            "Requirement already satisfied: typing-extensions in /usr/local/lib/python3.10/dist-packages (from torch==1.13.1+cu117) (4.12.2)\n",
            "Requirement already satisfied: numpy in /usr/local/lib/python3.10/dist-packages (from torchvision==0.14.1+cu117) (1.26.4)\n",
            "Requirement already satisfied: requests in /usr/local/lib/python3.10/dist-packages (from torchvision==0.14.1+cu117) (2.32.3)\n",
            "Requirement already satisfied: pillow!=8.3.*,>=5.3.0 in /usr/local/lib/python3.10/dist-packages (from torchvision==0.14.1+cu117) (9.4.0)\n",
            "Requirement already satisfied: charset-normalizer<4,>=2 in /usr/local/lib/python3.10/dist-packages (from requests->torchvision==0.14.1+cu117) (3.3.2)\n",
            "Requirement already satisfied: idna<4,>=2.5 in /usr/local/lib/python3.10/dist-packages (from requests->torchvision==0.14.1+cu117) (3.8)\n",
            "Requirement already satisfied: urllib3<3,>=1.21.1 in /usr/local/lib/python3.10/dist-packages (from requests->torchvision==0.14.1+cu117) (2.0.7)\n",
            "Requirement already satisfied: certifi>=2017.4.17 in /usr/local/lib/python3.10/dist-packages (from requests->torchvision==0.14.1+cu117) (2024.8.30)\n"
          ]
        }
      ],
      "source": [
        "# Uncomment the line corresponding to your \"runtime type\" to run in Google Colab\n",
        "\n",
        "# CPU:\n",
        "# !pip install pydub torch==1.7.0+cpu torchvision==0.8.1+cpu torchaudio==0.7.0 -f https://download.pytorch.org/whl/torch_stable.html\n",
        "\n",
        "# GPU:\n",
        "# !pip install pydub torch==1.7.0+cu101 torchvision==0.8.1+cu101 torchaudio==0.7.0 -f https://download.pytorch.org/whl/torch_stable.html\n",
        "!pip install pydub torch==1.13.1+cu117 torchvision==0.14.1+cu117 torchaudio==0.13.1 --extra-index-url https://download.pytorch.org/whl/cu117\n",
        "\n",
        "import torch\n",
        "import torch.nn as nn\n",
        "import torch.nn.functional as F\n",
        "import torch.optim as optim\n",
        "import torchaudio\n",
        "import sys\n",
        "\n",
        "import matplotlib.pyplot as plt\n",
        "import IPython.display as ipd\n",
        "\n",
        "from tqdm import tqdm"
      ]
    },
    {
      "cell_type": "markdown",
      "metadata": {
        "id": "7ci9l_I4jaQQ"
      },
      "source": [
        "Let’s check if a CUDA GPU is available and select our device. Running\n",
        "the network on a GPU will greatly decrease the training/testing runtime.\n",
        "\n",
        "\n"
      ]
    },
    {
      "cell_type": "code",
      "execution_count": null,
      "metadata": {
        "id": "wu8Bs8hWjaQS",
        "outputId": "2ed9b744-661c-4cde-b6c9-4768e80fc238",
        "colab": {
          "base_uri": "https://localhost:8080/"
        }
      },
      "outputs": [
        {
          "output_type": "stream",
          "name": "stdout",
          "text": [
            "cpu\n"
          ]
        }
      ],
      "source": [
        "device = torch.device(\"cuda\" if torch.cuda.is_available() else \"cpu\")\n",
        "print(device)"
      ]
    },
    {
      "cell_type": "markdown",
      "metadata": {
        "id": "s2IMMM4kjaQW"
      },
      "source": [
        "## Importing the Dataset\n",
        "\n",
        "We use torchaudio to download and represent the dataset. Here we use\n",
        "[SpeechCommands](https://arxiv.org/abs/1804.03209)_, which is a\n",
        "datasets of 35 commands spoken by different people. The dataset\n",
        "``SPEECHCOMMANDS`` is a ``torch.utils.data.Dataset`` version of the\n",
        "dataset. In this dataset, all audio files are about 1 second long (and\n",
        "so about 16000 time frames long).\n",
        "\n",
        "The actual loading and formatting steps happen when a data point is\n",
        "being accessed, and torchaudio takes care of converting the audio files\n",
        "to tensors. If one wants to load an audio file directly instead,\n",
        "``torchaudio.load()`` can be used. It returns a tuple containing the\n",
        "newly created tensor along with the sampling frequency of the audio file\n",
        "(16kHz for SpeechCommands).\n",
        "\n",
        "Going back to the dataset, here we create a subclass that splits it into\n",
        "standard training, validation, testing subsets.\n",
        "\n",
        "\n"
      ]
    },
    {
      "cell_type": "code",
      "source": [
        "!pip install rarfile"
      ],
      "metadata": {
        "colab": {
          "base_uri": "https://localhost:8080/"
        },
        "id": "Ss86LosBgE0b",
        "outputId": "e6a70b95-6e14-4b25-d175-af8100a95ec8"
      },
      "execution_count": null,
      "outputs": [
        {
          "output_type": "stream",
          "name": "stdout",
          "text": [
            "Collecting rarfile\n",
            "  Downloading rarfile-4.2-py3-none-any.whl.metadata (4.4 kB)\n",
            "Downloading rarfile-4.2-py3-none-any.whl (29 kB)\n",
            "Installing collected packages: rarfile\n",
            "Successfully installed rarfile-4.2\n"
          ]
        }
      ]
    },
    {
      "cell_type": "code",
      "source": [
        "import rarfile\n",
        "import os\n",
        "\n",
        "def extract_rar(rar_path, extract_to):\n",
        "    # Ensure the extract directory exists\n",
        "    if not os.path.exists(extract_to):\n",
        "        os.makedirs(extract_to)\n",
        "\n",
        "    # Open and extract the .rar file\n",
        "    with rarfile.RarFile(rar_path) as rf:\n",
        "        rf.extractall(path=extract_to)\n",
        "\n",
        "    print(f\"Extracted to {extract_to}\")\n",
        "\n",
        "# Path to your .rar file and where to extract\n",
        "rar_file_path = \"/content/recordings_v2.rar\"\n",
        "extract_to_path = \"/content\"\n",
        "\n",
        "# Extract the .rar file\n",
        "extract_rar(rar_file_path, extract_to_path)\n"
      ],
      "metadata": {
        "colab": {
          "base_uri": "https://localhost:8080/"
        },
        "id": "3IOOj-Eof5Ss",
        "outputId": "970f3167-a5b0-4ba1-d156-f33eccf6fca3"
      },
      "execution_count": null,
      "outputs": [
        {
          "output_type": "stream",
          "name": "stdout",
          "text": [
            "Extracted to /content\n"
          ]
        }
      ]
    },
    {
      "cell_type": "code",
      "source": [
        "import torchaudio\n",
        "from torchaudio.datasets import SPEECHCOMMANDS\n",
        "import os\n",
        "from torchaudio.transforms import Resample\n",
        "\n",
        "class SubsetSC(SPEECHCOMMANDS):\n",
        "    def __init__(self, subset: str = None, dataset_path: str = \"./\", target_sample_rate: int = 16000):\n",
        "        super().__init__(dataset_path, download=False)\n",
        "        self.target_sample_rate = target_sample_rate\n",
        "\n",
        "        def load_list(filename):\n",
        "            filepath = os.path.join(self._path, filename)\n",
        "            with open(filepath) as fileobj:\n",
        "                return [os.path.normpath(os.path.join(self._path, line.strip())) for line in fileobj]\n",
        "\n",
        "        if subset == \"validation\":\n",
        "            self._walker = load_list(\"validation_list.txt\")\n",
        "        elif subset == \"testing\":\n",
        "            self._walker = load_list(\"testing_list.txt\")\n",
        "        elif subset == \"training\":\n",
        "            excludes = load_list(\"validation_list.txt\") + load_list(\"testing_list.txt\")\n",
        "            excludes = set(excludes)\n",
        "            self._walker = [w for w in self._walker if w not in excludes]\n",
        "\n",
        "    def __getitem__(self, n):\n",
        "        # Load the waveform, sample rate, and metadata\n",
        "        fileid = self._walker[n]\n",
        "        waveform, sample_rate = torchaudio.load(fileid)\n",
        "\n",
        "        # Resample if necessary\n",
        "        if sample_rate != self.target_sample_rate:\n",
        "            resampler = Resample(orig_freq=sample_rate, new_freq=self.target_sample_rate)\n",
        "            waveform = resampler(waveform)\n",
        "\n",
        "        label = os.path.basename(os.path.dirname(fileid))\n",
        "        speaker_id = fileid.split(\"/\")[-2]  # Extract speaker ID from path\n",
        "        utterance_number = int(os.path.basename(fileid).split(\"_\")[-1].split(\".\")[0])\n",
        "\n",
        "        return waveform, self.target_sample_rate, label, speaker_id, utterance_number\n",
        "\n",
        "# Specify the path to your local dataset folder and target sample rate\n",
        "local_dataset_path = \"/content/recordings\"\n",
        "target_sample_rate = 16000\n",
        "\n",
        "# Create training and testing split using the local folder and resampling\n",
        "train_set = SubsetSC(\"training\", dataset_path=local_dataset_path, target_sample_rate=target_sample_rate)\n",
        "test_set = SubsetSC(\"testing\", dataset_path=local_dataset_path, target_sample_rate=target_sample_rate)\n",
        "\n",
        "# Example usage: access the first sample\n",
        "waveform, sample_rate, label, speaker_id, utterance_number = train_set[0]\n"
      ],
      "metadata": {
        "id": "7xuqmYj7eeY0"
      },
      "execution_count": null,
      "outputs": []
    },
    {
      "cell_type": "markdown",
      "metadata": {
        "id": "3XwDLF4DjaQa"
      },
      "source": [
        "A data point in the SPEECHCOMMANDS dataset is a tuple made of a waveform\n",
        "(the audio signal), the sample rate, the utterance (label), the ID of\n",
        "the speaker, the number of the utterance.\n",
        "\n",
        "\n"
      ]
    },
    {
      "cell_type": "code",
      "execution_count": null,
      "metadata": {
        "id": "RPPss-V0jaQc",
        "outputId": "73ef8dec-3cdd-47f9-b5c9-32cba007cddf",
        "colab": {
          "base_uri": "https://localhost:8080/",
          "height": 483
        }
      },
      "outputs": [
        {
          "output_type": "stream",
          "name": "stdout",
          "text": [
            "Shape of waveform: torch.Size([2, 24235])\n",
            "Sample rate of waveform: 16000\n",
            "Label of waveform: backward\n"
          ]
        },
        {
          "output_type": "display_data",
          "data": {
            "text/plain": [
              "<Figure size 640x480 with 1 Axes>"
            ],
            "image/png": "[encoded data removed]"
          },
          "metadata": {}
        }
      ],
      "source": [
        "print(\"Shape of waveform: {}\".format(waveform.size()))\n",
        "print(\"Sample rate of waveform: {}\".format(sample_rate))\n",
        "print(\"Label of waveform: {}\".format(label))\n",
        "\n",
        "plt.plot(waveform.t().numpy());"
      ]
    },
    {
      "cell_type": "markdown",
      "metadata": {
        "id": "GlJRlXQqjaQd"
      },
      "source": [
        "Let’s find the list of labels available in the dataset.\n",
        "\n",
        "\n"
      ]
    },
    {
      "cell_type": "code",
      "execution_count": null,
      "metadata": {
        "id": "75YsTJWMjaQe",
        "outputId": "a49a5bb1-6cee-4185-9d36-a6b34548c2d0",
        "colab": {
          "base_uri": "https://localhost:8080/"
        }
      },
      "outputs": [
        {
          "output_type": "execute_result",
          "data": {
            "text/plain": [
              "['backward',\n",
              " 'bed',\n",
              " 'bird',\n",
              " 'cat',\n",
              " 'dog',\n",
              " 'down',\n",
              " 'eight',\n",
              " 'five',\n",
              " 'follow',\n",
              " 'forward',\n",
              " 'four',\n",
              " 'go',\n",
              " 'happy',\n",
              " 'house',\n",
              " 'learn',\n",
              " 'left',\n",
              " 'marvin',\n",
              " 'nine',\n",
              " 'no',\n",
              " 'off',\n",
              " 'on',\n",
              " 'one',\n",
              " 'right',\n",
              " 'seven',\n",
              " 'sheila',\n",
              " 'six',\n",
              " 'stop',\n",
              " 'three',\n",
              " 'tree',\n",
              " 'two',\n",
              " 'up',\n",
              " 'visual',\n",
              " 'wow',\n",
              " 'yes',\n",
              " 'zero']"
            ]
          },
          "metadata": {},
          "execution_count": 22
        }
      ],
      "source": [
        "labels = sorted(list(set(datapoint[2] for datapoint in train_set)))\n",
        "labels"
      ]
    },
    {
      "cell_type": "markdown",
      "metadata": {
        "id": "r7AR4P3MjaQf"
      },
      "source": [
        "The 35 audio labels are commands that are said by users. The first few\n",
        "files are people saying “backward”.\n",
        "\n",
        "\n"
      ]
    },
    {
      "cell_type": "code",
      "execution_count": null,
      "metadata": {
        "id": "XBWF8pMzjaQg",
        "outputId": "266381b9-a91b-4162-ec01-6fe689a51f41",
        "colab": {
          "base_uri": "https://localhost:8080/",
          "height": 61
        }
      },
      "outputs": [
        {
          "output_type": "execute_result",
          "data": {
            "text/plain": [
              "<IPython.lib.display.Audio object>"
            ],
            "text/html": [
              "\n",
              "                <audio  controls=\"controls\" >\n",
              "                    <source src=\"data:audio/wav;base64,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\" type=\"audio/wav\" />\n",
              "                    Your browser does not support the audio element.\n",
              "                </audio>\n",
              "              "
            ]
          },
          "metadata": {},
          "execution_count": 23
        }
      ],
      "source": [
        "waveform_first, *_ = train_set[0]\n",
        "ipd.Audio(waveform_first.numpy(), rate=sample_rate)"
      ]
    },
    {
      "cell_type": "code",
      "source": [
        "waveform_second, *_ = train_set[1]\n",
        "ipd.Audio(waveform_second.numpy(), rate=sample_rate)"
      ],
      "metadata": {
        "id": "cGJv7eCAsNqq",
        "outputId": "fffe8078-efc9-445f-a339-84abf827b189",
        "colab": {
          "base_uri": "https://localhost:8080/",
          "height": 61
        }
      },
      "execution_count": null,
      "outputs": [
        {
          "output_type": "execute_result",
          "data": {
            "text/plain": [
              "<IPython.lib.display.Audio object>"
            ],
            "text/html": [
              "\n",
              "                <audio  controls=\"controls\" >\n",
              "                    <source src=\"data:audio/wav;base64,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\" type=\"audio/wav\" />\n",
              "                    Your browser does not support the audio element.\n",
              "                </audio>\n",
              "              "
            ]
          },
          "metadata": {},
          "execution_count": 24
        }
      ]
    },
    {
      "cell_type": "markdown",
      "source": [],
      "metadata": {
        "id": "EssiISTPsVft"
      }
    },
    {
      "cell_type": "markdown",
      "metadata": {
        "id": "bLGlR9WYjaQh"
      },
      "source": [
        "The last file is someone saying “zero”.\n",
        "\n",
        "\n",
        "\n",
        "\n",
        "\n"
      ]
    },
    {
      "cell_type": "code",
      "execution_count": null,
      "metadata": {
        "id": "y4L7bLv-jaQh",
        "outputId": "83c5f5ff-089e-4ccb-c0ca-d4ff99f259ba",
        "colab": {
          "base_uri": "https://localhost:8080/",
          "height": 61
        }
      },
      "outputs": [
        {
          "output_type": "execute_result",
          "data": {
            "text/plain": [
              "<IPython.lib.display.Audio object>"
            ],
            "text/html": [
              "\n",
              "                <audio  controls=\"controls\" >\n",
              "                    <source src=\"data:audio/wav;base64,UklGRtAaAgBXQVZFZm10IBAAAAABAAIAgD4AAAD6AAAEABAAZGF0YawaAgAAAAAAAAAAAAAAAAAAAAAA//////7//v/8//z//P/8//z//P/9//3//v/+///////+//7//P/8//z//P/7//v/+v/6//r/+v/+//7/AAAAAAAAAAACAAIAAwADAAEAAQABAAEAAQABAAEAAQABAAEAAQABAAAAAAAAAAAAAAAAAAAAAAAAAAAA+P/4//b/9v/4//j/9P/0//T/9P/z//P/8v/y//L/8v/z//P/9f/1//n/+f/9//3/+//7//v/+/8EAAQACAAIAA8ADwAMAAwABgAGAAMAAwD9//3//v/+/wEAAQAJAAkADgAOAA4ADgAOAA4AFgAWAB4AHgAdAB0AKAAoACIAIgAnACcAIgAiABoAGgAUABQADQANABIAEgASABIADAAMABMAEwARABEAHgAeACcAJwArACsALQAtAC4ALgApACkAKAAoACoAKgAgACAALgAuAD4APgBCAEIASwBLAEgASAA6ADoANQA1AC8ALwAqACoAIQAhABcAFwASABIADQANABQAFAAVABUAHwAfAC0ALQAjACMAJgAmACIAIgATABMAAAAAAPH/8f/r/+v/4//j/9L/0v/R/9H/2v/a/97/3v/3//f/8f/x/+z/7P/f/9//yv/K/7f/t/+v/6//tf+1/7T/tP+z/7P/sf+x/7v/u/+2/7b/rv+u/7L/sv+8/7z/xP/E/9P/0//U/9T/3P/c/+X/5f/q/+r/6//r/+z/7P/v/+//8P/w//P/8//0//T/7P/s//r/+v/6//r/EQARAA8ADwABAAEACAAIAAcABwAaABoAEwATABQAFAAfAB8AIAAgABIAEgAQABAABwAHAPz//P/x//H/6//r/+z/7P/+//7/EwATAB0AHQASABIADwAPABUAFQANAA0ACgAKAAsACwD1//X/9v/2//L/8v/r/+v/8f/x/+3/7f/h/+H/7P/s/wMAAwAWABYAFwAXABAAEAAEAAQA9//3/+7/7v/r/+v/2//b/9z/3P/o/+j/6f/p/+D/4P/3//f/9v/2//7//v/t/+3/6v/q/wcABwAIAAgAGgAaAA8ADwASABIAFgAWABcAFwAcABwAHQAdAB8AHwAmACYAMwAzAEAAQABBAEEAWABYAGUAZQB1AHUAewB7AHEAcQBrAGsAewB7AHkAeQB5AHkAeAB4AIQAhAB4AHgAWgBaADcANwAhACEAGgAaABAAEAA7ADsAQwBDAFQAVABUAFQANgA2ACcAJwAcABwA/////9z/3P++/77/tf+1/7r/uv+m/6b/wv/C/9T/1P/X/9f/5P/k/9r/2v/P/8//uf+5/6P/o/+Y/5j/iP+I/3z/fP9b/1v/Uf9R/2P/Y/9s/2z/j/+P/7D/sP+Y/5j/nP+c/5j/mP+I/4j/if+J/4z/jP+X/5f/rf+t/8//z//J/8n/3f/d/8z/zP/K/8r/2v/a/8L/wv+v/6//k/+T/4P/g/+S/5L/e/97/5z/nP+Z/5n/sv+y/87/zv/N/83/zP/M/97/3v/7//v/CgAKAAwADADy//L/5f/l/8z/zP/B/8H/2//b/+v/6/8ZABkAGQAZAA8ADwAmACYAOQA5AEQARABMAEwATgBOAEoASgBHAEcASABIADMAMwBBAEEAMgAyAAUABQD8//z/BQAFAAMAAwD9//3/+P/4//b/9v/0//T/8f/x/+//7//0//T/4P/g/+v/6/8AAAAA/f/9/xoAGgBMAEwAUQBRAEkASQBIAEgARQBFACQAJAAmACYANQA1AFIAUgCCAIIAgACAAJoAmgBvAG8APAA8ACwALAAEAAQAAAAAAOf/5/8HAAcA8P/w//D/8P/w//D/x//H/+T/5P/v/+//+//7/w4ADgAcABwALwAvAB0AHQAHAAcACQAJAPD/8P/X/9f/wf/B/8z/zP/y//L/9v/2//L/8v/Y/9j/xP/E/7H/sf/E/8T/yf/J/9H/0f/n/+f/4//j/+L/4v/j/+P/5v/m/8z/zP+r/6v/gv+C/53/nf+n/6f/oP+g/6P/o/+v/6//zv/O//X/9f/2//b/GgAaAAkACQD2//b/+//7//L/8v8SABIABAAEAO//7//z//P/9f/1/+b/5v/T/9P/3v/e/87/zv/p/+n/+v/6//r/+v/8//z/AgACAO7/7v/3//f/BQAFAOn/6f/k/+T/6P/o/+f/5/8CAAIA7//v/9r/2v/T/9P/wv/C/9//3//i/+L/DAAMACMAIwAdAB0AKgAqADsAOwAOAA4ACAAIAAIAAgADAAMA/v/+/x4AHgAjACMAIAAgAAUABQD0//T/3//f//z//P8XABcAJAAkADsAOwA+AD4APwA/AC4ALgBEAEQAQgBCAD8APwBYAFgAPgA+ADwAPAArACsAFQAVABoAGgAaABoAIQAhABsAGwA4ADgAYwBjAGUAZQCBAIEAegB6AHsAewCDAIMAdAB0AD8APwAiACIA/P/8/93/3f/3//f/FgAWAEcARwCDAIMApQClAL8AvwDJAMkA4ADgAN4A3gDhAOEA0QDRALwAvAC0ALQAngCeAJwAnABoAGgAXwBfADIAMgAVABUA7v/u/+D/4P/8//z/8v/y/x8AHwA1ADUATgBOAGAAYABaAFoAXQBdAF0AXQB3AHcAcwBzAFkAWQBZAFkAOQA5AB4AHgAEAAQA9v/2//r/+v/0//T/0f/R/+D/4P/v/+//8//z/xUAFQAYABgALAAsADYANgAvAC8AFgAWAPn/+f8KAAoACAAIAO//7//4//j/3P/c/8L/wv+J/4n/Z/9n/2r/av+b/5v/lP+U/6n/qf/Y/9j/AAAAABoAGgAnACcAFQAVAPz//P8DAAMAHAAcACQAJAA/AD8AOgA6AAoACgAIAAgACQAJAAMAAwAeAB4AKgAqABYAFgAvAC8AIgAiADcANwBiAGIAYABgAGYAZgBHAEcAXABcAGUAZQBwAHAAigCKAIMAgwB+AH4AYQBhAEcARwAqACoAGQAZAB8AHwAdAB0AIwAjACcAJwAkACQAQQBBAIMAgwCJAIkAhQCFAIEAgQCRAJEApQClAIoAigCAAIAAfAB8AEwATABIAEgAPgA+ACYAJgAkACQABQAFAAIAAgDp/+n/AgACAAgACAADAAMABQAFAPf/9/8BAAEA8P/w/87/zv/D/8P/kP+Q/3n/ef+L/4v/bf9t/47/jv+M/4z/X/9f/2L/Yv9r/2v/dP90/8H/wf/e/97//f/9//////8ZABkAGgAaAAEAAQAaABoA+v/6/wwADAD0//T/wP/A/5X/lf+F/4X/gv+C/4D/gP9//3//lv+W/5b/lv+F/4X/jP+M/53/nf+w/7D/q/+r/6b/pv+m/6b/qv+q/8X/xf/I/8j/zf/N/5D/kP+P/4//rv+u/6f/p//B/8H/3f/d/+r/6v/1//X/BwAHAB0AHQAsACwAIAAgAAAAAADn/+f//////xcAFwAhACEAHQAdAPL/8v/H/8f/wP/A/8D/wP+j/6P/m/+b/6v/q/++/77/wP/A//P/8/8IAAgAIAAgAB8AHwAwADAARgBGAD8APwA/AD8AVABUADkAOQAYABgA7//v/7z/vP+t/63/lP+U/5H/kf95/3n/l/+X/8P/w//r/+v/EgASACMAIwAhACEAFAAUAOL/4v+6/7r/1//X//n/+f/w//D/yf/J/8D/wP/y//L/6P/o/9j/2P/E/8T/wP/A/8D/wP+//7//w//D/+T/5P/M/8z/v/+//93/3f/a/9r/1v/W/9//3//O/87/uv+6/63/rf+W/5b/gv+C/1n/Wf9d/13/XP9c/zz/PP9Q/1D/Yv9i/1//X/96/3r/kv+S/7j/uP/d/93/3v/e/8n/yf+9/73/rP+s/4T/hP9+/37/l/+X/4T/hP+2/7b/sP+w/5X/lf+a/5r/mP+Y/5b/lv+w/7D/0f/R/+X/5f/+//7/6//r/9H/0f++/77/nf+d/2n/af9S/1L/VP9U/1T/VP9W/1b/gP+A/5f/l/+l/6X/qP+o/5f/l/+2/7b/wP/A/7v/u//F/8X/6v/q//X/9f/Y/9j/yv/K/6z/rP9x/3H/Sv9K/zn/Of8o/yj/V/9X/4H/gf+Y/5j/nf+d/5//n/+e/57/t/+3/8T/xP/I/8j/5P/k/+H/4f/q/+r/BAAEAPL/8v/I/8j/mv+a/1z/XP9C/0L/V/9X/4j/iP+2/7b/1//X/+L/4v/I/8j/zv/O/83/zf/P/8//1v/W/+j/6P/+//7/6f/p/+P/4//k/+T/tP+0/6v/q/+U/5T/hf+F/6D/oP+2/7b/xP/E/8X/xf/D/8P/wv/C/7//v//A/8D/vf+9/8f/x//g/+D/2//b/9v/2//c/9z/5v/m/8//z//F/8X/wP/A/9T/1P/v/+//3f/d/9n/2f8BAAEANAA0AFQAVACUAJQAnACcAK0ArQDFAMUAvwC/AKcApwC+AL4AwwDDAM0AzQDfAN8A3wDfAPgA+AD3APcA+AD4ANoA2gDQANAA8QDxAO8A7wDyAPIA8wDzANYA1gDcANwA0gDSAIAAgABgAGAAUwBTADsAOwBrAGsAtwC3AMQAxAC9AL0AnQCdAIMAgwCEAIQAogCiAKAAoACeAJ4AmQCZAJkAmQCaAJoAnwCfAI4AjgBqAGoAaQBpAEgASABRAFEAaQBpAIYAhgCdAJ0AhACEAJ0AnQClAKUAgwCDAJcAlwCFAIUAfgB+AIMAgwCNAI0AiQCJAH0AfQCRAJEAcQBxAIoAigCrAKsAjgCOAKMAowCFAIUAeQB5AIAAgABxAHEAVQBVAF0AXQBZAFkAXwBfAEYARgBBAEEAJwAnACQAJABGAEYATwBPAG8AbwBvAG8AWQBZAF8AXwCHAIcAwADAAMkAyQC2ALYAfgB+ADsAOwA+AD4AKAAoAAoACgDv/+//yv/K/9j/2P/k/+T/EAAQAB0AHQAcABwAGQAZAP7//v8YABgAHAAcADUANQBCAEIAKgAqAFEAUQCGAIYAjACMAIoAigB4AHgAYwBjAFEAUQBfAF8AbABsAE4ATgBPAE8AIgAiABQAFAArACsAIQAhACEAIQAfAB8AAAAAAAoACgD+//7/3f/d/+T/5P/R/9H/s/+z/8H/wf/w//D///////P/8//a/9r/5f/l/wYABgAlACUAOQA5ABIAEgDw//D/0v/S/7//v/+m/6b/yP/I/+r/6v8CAAIAKwArAB8AHwALAAsA8f/x/9f/1//B/8H/0v/S//v/+/8mACYAPQA9AFMAUwBSAFIAfQB9AHIAcgBfAF8ARABEABQAFAAGAAYA6//r/+H/4f/G/8b/5f/l/9T/1P/0//T/KQApACIAIgA7ADsAKQApAAsACwD7//v/6f/p/8r/yv+g/6D/ff99/5n/mf/A/8D/x//H//X/9f/7//v/+v/6/wUABQACAAIAHwAfACAAIAAoACgAGAAYAO7/7v/j/+P/4f/h/83/zf+w/7D/p/+n/7//v/+s/6z/uP+4/6X/pf+g/6D/q/+r/8//z//H/8f/uf+5/73/vf+5/7n/vf+9/8D/wP+n/6f/q/+r/8n/yf/P/8//8v/y/+n/6f+7/7v/u/+7/6D/oP+5/7n/yf/J/8z/zP/F/8X/vv++/+L/4v/o/+j/5//n/+X/5f/Z/9n/2P/Y/7P/s/+Y/5j/k/+T/6T/pP+k/6T/wf/B/7H/sf/Y/9j/xf/F/8P/w/+z/7P/qv+q/7P/s/+h/6H/v/+//7f/t/+d/53/nP+c/6b/pv+7/7v/t/+3/7r/uv+x/7H/jP+M/33/ff9o/2j/Zv9m/4j/iP+1/7X/6f/p/wQABAD4//j/4f/h/7P/s/+a/5r/m/+b/6P/o/+1/7X/qP+o/7v/u/+9/73/z//P/+n/6f/n/+f/5v/m/9X/1f+7/7v/w//D/8P/w/+8/7z/0//T/93/3f++/77/vv++/6j/qP+Y/5j/mv+a/7T/tP+z/7P/tv+2/7D/sP+Q/5D/nP+c/5//n/+1/7X/3v/e/+H/4f/Y/9j/5P/k/93/3f+//7//wv/C/7D/sP+d/53/l/+X/4T/hP+h/6H/of+h/6T/pP/A/8D/xv/G/7//v/+Q/5D/o/+j/5z/nP+f/5//yP/I/7r/uv+U/5T/hf+F/4P/g/+F/4X/nf+d/7//v//o/+j/5//n/+b/5v8CAAIABgAGAAYABgD6//r/2f/Z/+b/5v//////EgASAB4AHgAiACIARABEAEMAQwAsACwA/P/8/+D/4P/O/87/x//H/+b/5v8FAAUACQAJAAkACQApACkADwAPABEAEQAvAC8AKwArAC0ALQApACkAKgAqABsAGwAGAAYAGwAbACcAJwAqACoAJQAlACYAJgATABMADAAMAAUABQD/////+P/4/87/zv/B/8H/uv+6/6H/of/F/8X/zv/O/97/3v/J/8n/wf/B/8P/w//A/8D/4v/i/+P/4//i/+L/6f/p/9v/2//c/9z/3v/e/+7/7v/8//z/CwALABkAGQAXABcAGwAbADwAPABPAE8AYABgAF8AXwBkAGQAWwBbAEUARQA+AD4APwA/AEAAQAA9AD0AQgBCAEEAQQA9AD0AMwAzABEAEQD0//T/y//L/6b/pv+6/7r/1P/U/wIAAgATABMAIwAjADQANAAvAC8AIQAhACwALAAyADIASwBLAEMAQwA6ADoAQgBCACEAIQD2//b//f/9//L/8v/6//r/FwAXAB4AHgAhACEALAAsAEkASQBfAF8AcABwAHsAewCTAJMAjQCNAIIAggBlAGUAZgBmAJMAkwCZAJkAfAB8AHIAcgBLAEsAbQBtAIAAgACLAIsAuQC5AN8A3wDwAPAA7wDvAO4A7gDnAOcA3QDdAMMAwwCoAKgAiQCJAGkAaQBeAF4ALwAvAD0APQBhAGEAagBqAGUAZQBlAGUATgBOAEIAQgBKAEoALwAvACcAJwAHAAcABAAEABkAGQA4ADgASABIAEkASQA+AD4AGwAbAAAAAAD9//3/AAAAAAQABAAKAAoADQANAC0ALQAVABUAAgACAAIAAgDh/+H/7v/u/w8ADwAkACQASQBJAGIAYgCNAI0AvwC/AMkAyQDIAMgAwwDDAKgAqACpAKkAlQCVAHoAegBkAGQAMwAzAAAAAAAMAAwAIgAiAEAAQABjAGMAQwBDAFMAUwBiAGIAZQBlAEgASABKAEoAMgAyAAMAAwAJAAkA9f/1/87/zv/i/+L/1//X/7v/u//l/+X/EAAQADMAMwBVAFUAjwCPAJ8AnwCjAKMApwCnAIAAgABaAFoANwA3ACQAJAApACkASQBJAD0APQBMAEwAYQBhAFMAUwBfAF8AXQBdAHUAdQCAAIAAiwCLAJgAmACdAJ0AjgCOAHwAfABqAGoAQABAADsAOwAPAA8ABQAFAPH/8f/a/9r/tP+0/5f/l/+V/5X/qv+q/+H/4f/6//r/FgAWACAAIAAhACEAJQAlAAUABQDk/+T/rv+u/3H/cf9D/0P/Vv9W/2X/Zf9f/1//kP+Q/57/nv+W/5b/qP+o/7//v//F/8X/9f/1//7//v/m/+b//v/+/wAAAAABAAEA6P/o//b/9v/9//3/6//r/woACgDe/97/u/+7/7//v/+8/7z/w//D/+D/4P/m/+b/4P/g/8r/yv/B/8H/vf+9/8L/wv+9/73/nf+d/6T/pP+v/6//tP+0/8n/yf/B/8H/4f/h/+r/6v/m/+b/4f/h/7r/uv+X/5f/bf9t/1H/Uf86/zr/GP8Y/wz/DP8p/yn/Ov86/23/bf+s/6z/zf/N/+z/7P/5//n/5//n/8r/yv/H/8f/wv/C/8n/yf/I/8j/2//b/97/3v/J/8n/1v/W/+r/6v/m/+b/4f/h//X/9f8BAAEAAwADACAAIAAnACcAJAAkACoAKgAKAAoA+v/6//7//v8HAAcABwAHANz/3P/A/8D/p/+n/4f/h/+M/4z/qP+o/6n/qf+k/6T/gf+B/4v/i/+n/6f/0//T/9n/2f/x//H/AgACAAAAAAAYABgAAQABAAAAAAD7//v/5P/k/97/3v+9/73/s/+z/57/nv+4/7j/xv/G/8b/xv+8/7z/m/+b/5L/kv+W/5b/of+h/9H/0f/0//T/+v/6//n/+f/g/+D/6P/o/+H/4f/t/+3/FwAXADsAOwBbAFsARABEAC0ALQAOAA4AIgAiAAcABwD+//7//f/9/9r/2v/N/83/qf+p/2//b/+F/4X/uv+6/9P/0//6//r/CgAKAPz//P/t/+3/5f/l/8L/wv/O/87/9f/1/woACgAeAB4ALQAtACcAJwAgACAADAAMABgAGAAoACgAQgBCAEYARgBHAEcAKwArADAAMAAgACAABgAGAAAAAAAPAA8AIwAjACAAIAAbABsA5//n/8X/xf+u/67/hv+G/5T/lP+n/6f/pf+l/8H/wf+0/7T/pv+m/6n/qf+h/6H/qP+o/6z/rP/H/8f/6P/o//z//P8DAAMAIQAhADIAMgAwADAACgAKAOn/6f/n/+f/6f/p/8z/zP+x/7H/xf/F/8f/x//C/8L/2P/Y/+T/5P/Y/9j/2v/a/93/3f+8/7z/mv+a/3v/e/9d/13/aP9o/4j/iP+2/7b/xf/F/8H/wf/B/8H/vP+8/5r/mv+j/6P/w//D/67/rv+t/63/vf+9/8f/x//j/+P/6f/p/wgACAAVABUAAwADAAcABwAAAAAADQANACcAJwAjACMAIQAhACIAIgAiACIAGAAYAPX/9f/g/+D/AAAAAPX/9f/d/93/tv+2/5n/mf+d/53/l/+X/7L/sv+7/7v/t/+3/93/3f/Q/9D/z//P/+L/4v/a/9r/3//f/8f/x/+7/7v/vf+9/87/zv/J/8n/uP+4/8H/wf+8/7z/vv++/7//v/++/77/uf+5/9j/2P//////AAAAAB4AHgAfAB8AHgAeAB0AHQAZABkAGQAZAP7//v/d/93/2//b/93/3f/b/9v/3v/e/97/3v/w//D/CQAJAAgACAALAAsACwALAPz//P/n/+f/5P/k/+f/5//M/8z/1P/U/+D/4P+t/63/rP+s/8L/wv/f/9//6P/o/w4ADgAnACcAIgAiAEAAQAApACkAHgAeADoAOgBGAEYAaQBpAIAAgABnAGcAWgBaAG0AbQCRAJEApQClAL4AvgCxALEAlwCXAJkAmQCZAJkAmwCbAJwAnAC4ALgAuwC7ALgAuADWANYA3wDfAMgAyAD3APcAAwEDAQEBAQEFAQUB6wDrAN8A3wDBAMEApACkAHsAewBOAE4AgQCBAIYAhgCaAJoAtQC1AMMAwwCtAK0AnACcAIcAhwCKAIoAWABYADAAMAAkACQADwAPAAQABAAcABwALAAsACgAKAA7ADsAQgBCABUAFQD8//z/AQABAPj/+P8LAAsACAAIAAEAAQAhACEACAAIAAEAAQAWABYAIQAhADcANwBVAFUAhgCGAIgAiACOAI4AiACIAIsAiwCFAIUAZQBlAF0AXQBGAEYAOgA6ABAAEAAFAAUACQAJAAcABwAhACEABQAFAPn/+f/9//3/CAAIACEAIQAgACAABwAHAPn/+f/4//j/9//3/87/zv+5/7n/0P/Q/8T/xP/n/+f/DAAMABAAEAD1//X//P/8//7//v8bABsAIwAjAFsAWwB5AHkAfAB8AKgAqACjAKMAlwCXAKQApACiAKIAhQCFAGoAagBXAFcAOAA4AD0APQA3ADcAPgA+AEAAQAA/AD8AMwAzABgAGAAiACIAFwAXACUAJQAjACMAKgAqAFEAUQA7ADsATABMADMAMwAAAAAAwv/C/5z/nP+6/7r/w//D/+P/4//k/+T/5P/k/8v/y//X/9f/+P/4/xkAGQA1ADUAPQA9ADEAMQAhACEAQwBDAEUARQBAAEAAJAAkAC8ALwBJAEkARwBHAGIAYgBqAGoAbQBtAG8AbwBJAEkASgBKADsAOwAgACAAKAAoAA8ADwAOAA4ARABEAEsASwAuAC4ALgAuAEMAQwBRAFEAZQBlAEEAQQBZAFkAZABkAGYAZgBSAFIANgA2ABAAEADq/+r/vf+9/8H/wf/C/8L/w//D/8L/wv/G/8b/wf/B/8//z//p/+n/5v/m/wEAAQAFAAUA7f/t/97/3v/h/+H/zf/N/6f/p/+d/53/o/+j/57/nv+i/6L/lP+U/3n/ef+V/5X/nP+c/6//r/+//7//vP+8/6n/qf+5/7n/w//D/+L/4v/r/+v/6P/o/+f/5//Q/9D/r/+v/5v/m/+3/7f/0v/S//T/9P/v/+//yf/J/8H/wf+u/67/nf+d/6T/pP+n/6f/o/+j/4f/h/9y/3L/Vf9V/zn/Of88/zz/OP84/0b/Rv9j/2P/dv92/3//f/9w/3D/Xf9d/3z/fP+b/5v/lP+U/33/ff9g/2D/af9p/3//f/9j/2P/ff99/43/jf+Q/5D/oP+g/5//n/+a/5r/nP+c/5r/mv+K/4r/ov+i/6T/pP+j/6P/nv+e/4f/h/9l/2X/W/9b/0X/Rf82/zb/Ov86/z3/Pf89/z3/Sf9J/2P/Y/9+/37/g/+D/4L/gv+H/4f/h/+H/1v/W/9D/0P/Rf9F/yf/J/8h/yH/M/8z/1D/UP9l/2X/lf+V/7z/vP/G/8b/7P/s/wYABgABAAEA/////xcAFwAfAB8AKwArAEcARwBCAEIARgBGAEgASABLAEsAMQAxACUAJQAdAB0AIwAjACgAKAA7ADsAYABgAGkAaQBJAEkAZABkAGUAZQBkAGQAOwA7ABsAGwADAAMA/v/+/wAAAAAAAAAA4//j//z//P/6//r/2//b/+X/5f/b/9v/7//v//n/+f/t/+3/BQAFAAEAAQD9//3/1P/U/8D/wP/A/8D/wf/B/7z/vP/H/8f/2f/Z/+T/5P/6//r/4v/i//z//P8AAAAAAQABAAYABgAfAB8AVwBXAIcAhwBuAG4AWwBbAGkAaQCCAIIAmgCaALcAtwDPAM8AogCiAIAAgABiAGIAMgAyAAgACAAGAAYAAwADABQAFAAmACYAVABUAGoAagBLAEsARABEADIAMgBMAEwAMgAyACMAIwAvAC8AIgAiAP3//f8GAAYA9P/0/9z/3P//////AwADAPH/8f/i/+L//P/8/woACgAEAAQAAgACAPf/9//V/9X/wP/A/8T/xP/M/8z/wf/B/8//z//H/8f/yP/I/+L/4v/g/+D/4v/i/8f/x//W/9b/5v/m/+D/4P/k/+T//v/+//T/9P/c/9z/+v/6//f/9/8JAAkAKQApAE4ATgA+AD4AMQAxADcANwBCAEIAXABcAHEAcQBhAGEANAA0AA0ADQDe/97//P/8/yUAJQAtAC0AYABgAG4AbgBnAGcAhQCFAIcAhwBPAE8AQwBDAFsAWwBaAFoAJwAnADwAPAAVABUA+//7/+7/7v/f/9//4v/i/wEAAQD0//T/2//b/+D/4P/e/97/9f/1/zMAMwAyADIAOwA7AEwATABAAEAAQwBDAEkASQBEAEQAUQBRAGcAZwBfAF8AdgB2AIEAgQBgAGAAXwBfAF0AXQBoAGgAggCCAHwAfACEAIQAawBrAFgAWAB1AHUAaQBpAD8APwAzADMANgA2ADIAMgBRAFEAXgBeAGcAZwBeAF4AXABcAEAAQABDAEMALQAtAAIAAgAZABkAKAAoAAoACgAGAAYA9//3//X/9f///////////+b/5v/l/+X/FAAUABIAEgATABMAMgAyAEAAQABCAEIAMAAwACcAJwAxADEACgAKAP////8LAAsAMAAwAEMAQwBLAEsAZABkADUANQAbABsAFgAWAPr/+v8LAAsAMAAwADwAPAAiACIAGAAYAA0ADQD3//f/+f/5/w4ADgA8ADwAPwA/AF8AXwA6ADoAIQAhABoAGgDY/9j/sf+x/5v/m/+G/4b/Yv9i/3b/dv9+/37/k/+T/7r/uv+//7//n/+f/7n/uf/D/8P/0P/Q/+f/5//k/+T/2v/a/8D/wP/B/8H/v/+//7//v/++/77/wf/B/77/vv/K/8r/3P/c/8D/wP+8/7z/uP+4/7j/uP+j/6P/m/+b/6H/of/I/8j/HgAeAF8AXwBeAF4APgA+ACYAJgAKAAoA/f/9/+D/4P/j/+P/2P/Y/73/vf/e/97/3//f/+H/4f/8//z//f/9/wMAAwAwADAAPAA8AD4APgAlACUAGwAbABEAEQD2//b//////+L/4v/W/9b/vf+9/53/nf/H/8f/4v/i//v/+//8//z/AgACAO3/7f8AAAAABwAHAAMAAwAhACEATQBNAEIAQgBCAEIAZQBlAEEAQQAWABYAAwADAOT/5P/z//P/HgAeAB8AHwAeAB4AHQAdADMAMwA9AD0ANwA3ACkAKQA/AD8AWgBaAF4AXgBGAEYAXwBfAFYAVgBEAEQAZwBnAIwAjACuAK4AjgCOAHcAdwBgAGAAbwBvAH4AfgB7AHsAfwB/AHsAewCEAIQAqwCrAKIAogB9AH0AYABgADsAOwAFAAUA3f/d/8n/yf/j/+P/yP/I/8T/xP+7/7v/l/+X/4j/iP+P/4//nv+e/8j/yP/i/+L//P/8/wYABgDK/8r/nv+e/43/jf95/3n/bP9s/4j/iP+N/43/vP+8/9b/1v/o/+j/7f/t/wkACQDo/+j/2//b/+n/6f/x//H/CAAIAAQABAAKAAoA8f/x/87/zv/K/8r/1P/U/+z/7P8GAAYA7v/u/+T/5P/6//r/4P/g/+n/6f/l/+X/3P/c//X/9f8BAAEAAAAAAP////8EAAQA/P/8/+L/4v/I/8j/xv/G/7r/uv+t/63/yP/I/9r/2v/6//r/BgAGAAgACAA9AD0AMwAzAPz//P/d/93/q/+r/4T/hP9v/2//fv9+/4X/hf+A/4D/tv+2//v/+/8AAAAAIQAhAA4ADgDL/8v/xv/G/6v/q/+q/6r/xP/E/7//v//d/93/4P/g/+H/4f/y//L/4f/h//z//P/j/+P/4//j//r/+v/u/+7/AAAAAAAAAAAcABwAGwAbABoAGgAeAB4AHgAeAEYARgBeAF4AWwBbAGAAYABPAE8ANgA2ACQAJAALAAsA7//v/+r/6v/i/+L/+P/4/wUABQDs/+z//////xsAGwAuAC4AOwA7AB8AHwDu/+7/tv+2/4z/jP99/33/X/9f/3L/cv+A/4D/Yv9i/0j/SP8//z//O/87/27/bv+W/5b/pv+m/73/vf+a/5r/fP98/1z/XP9y/3L/lv+W/6f/p//X/9f/3v/e//T/9P8FAAUA5//n/9v/2//e/97/2v/a/9//3//I/8j/v/+//8f/x//3//f/GgAaAC4ALgBCAEIAJAAkABsAGwDh/+H/xP/E/8j/yP/L/8v/5f/l//7//v8oACgAHAAcAAYABgDq/+r/6f/p/8//z/+//7//wv/C/8D/wP/F/8X/4P/g/9b/1v+k/6T/o/+j/4z/jP+B/4H/a/9r/13/Xf9h/2H/W/9b/2//b/9Y/1j/Xf9d/4D/gP94/3j/i/+L/6j/qP/N/83//////xoAGgBFAEUAPgA+AF0AXQCJAIkAbQBtAIkAiQBxAHEAcABwAIwAjACGAIYAhQCFAIcAhwCBAIEAlgCWAKQApACNAI0AlgCWAHkAeQBhAGEASQBJACwALAA7ADsASwBLAGEAYQBoAGgAYQBhAGAAYABLAEsAKwArABgAGAAWABYA4//j/8L/wv+//7//1f/V//r/+v8iACIAXgBeAH0AfQCsAKwArQCtAJgAmACbAJsAggCCAKAAoACoAKgArQCtAKAAoACJAIkAdwB3AE4ATgBPAE8ASwBLAEMAQwBEAEQAQwBDAEIAQgBBAEEAGQAZAAAAAAAEAAQA/////wAAAAD+//7/EQARABsAGwAhACEAVgBWAF0AXQCXAJcAuQC5AJcAlwCGAIYAYwBjAD0APQBaAFoAYQBhAF4AXgA/AD8AWQBZAFMAUwAhACEAHwAfAA4ADgDy//L/2f/Z/8f/x/+3/7f/vP+8/9//3//a/9r/BgAGAOj/6P/1//X/HAAcACAAIAAUABQAAgACAPP/8/+x/7H/of+h/6L/ov/A/8D/4v/i/xIAEgACAAIAAQABABkAGQD+//7//P/8/+D/4P/b/9v/2//b/+T/5P/z//P/4P/g/+P/4//i/+L/4//j//v/+//+//7/GAAYAC4ALgBKAEoAWABYACYAJgAhACEADAAMAP/////o/+j/2f/Z/8f/x/+0/7T/nf+d/5j/mP+b/5v/mP+Y/6f/p/+7/7v/mv+a/5v/m/+L/4v/ev96/5X/lf+h/6H/n/+f/6L/ov+l/6X/lv+W/5b/lv+j/6P/m/+b/6L/ov+J/4n/fv9+/4D/gP+B/4H/nf+d/7b/tv/I/8j/8v/y//3//f/5//n/AgACABoAGgA6ADoAPAA8AB8AHwAnACcAEQARABcAFwANAA0A+//7/wsACwD6//r//f/9/+X/5f/Y/9j/1//X/77/vv+7/7v/1//X/wIAAgAfAB8ALwAvAEgASABCAEIAJgAmACQAJAAjACMAJgAmAAsACwACAAIA7//v/+H/4f8DAAMAAAAAAAUABQDu/+7/4f/h/9n/2f+8/7z/qf+p/6D/oP+m/6b/uf+5/8r/yv/L/8v/u/+7/7z/vP/V/9X/4f/h/9r/2v8RABEAHgAeACwALAA7ADsAMwAzADgAOAAuAC4AHQAdADwAPABDAEMAWgBaAHIAcgCAAIAAgACAAH8AfwBdAF0APwA/AEgASAB+AH4AoQChALYAtgDAAMAAiwCLAGMAYwBRAFEAWwBbAGYAZgB/AH8AgACAAIQAhAB7AHsAYgBiAFEAUQA5ADkAJwAnABoAGgASABIA7//v//b/9v/e/97/5P/k/wEAAQD+//7/GAAYADcANwBNAE0AXABcACQAJAAkACQANgA2ACQAJABAAEAAPgA+ADYANgAZABkACwALABoAGgAJAAkAEAAQABQAFAD2//b//v/+//f/9//9//3/7//v/9n/2f/i/+L/0//T/7v/u//X/9f/5P/k/+L/4v/h/+H/xf/F/77/vv+g/6D/nf+d/5v/m/99/33/fv9+/37/fv9+/37/Zv9m/2D/YP99/33/r/+v/97/3v8AAAAAFwAXADkAOQA8ADwAOwA7AB4AHgAdAB0ACAAIAN7/3v/E/8T/1P/U/9//3//Z/9n/4//j//L/8v/g/+D/4P/g/93/3f/h/+H/7P/s/9L/0v/s/+z//////+T/5P/X/9f/qP+o/3z/fP9c/1z/Vf9V/1v/W/9b/1v/g/+D/53/nf+l/6X/1//X///////+//7/AAAAAP/////h/+H/9v/2/wkACQDt/+3/xP/E/6T/pP+B/4H/gP+A/3r/ev+F/4X/nf+d/7L/sv/F/8X/3v/e/93/3f8EAAQAKgAqAEsASwA+AD4AQABAACkAKQAZABkACwALAPn/+f8AAAAA7v/u/9P/0//T/9P/0v/S/9T/1P/U/9T/2//b//f/9/8CAAIAGAAYADEAMQA6ADoAIQAhAB4AHgAJAAkAEgASAPP/8//X/9f/vv++/7f/t//q/+r/CwALAAsACwAFAAUACwALAB4AHgA9AD0ASABIAE4ATgB1AHUAdAB0AH4AfgCHAIcAewB7AGMAYwCAAIAApgCmAKQApACnAKcAoQChAHUAdQBZAFkAWgBaAF0AXQBZAFkAWwBbAF4AXgBjAGMAhgCGAIcAhwCwALAAswCzAJsAmwC3ALcA2gDaANoA2gDKAMoA1gDWAOYA5gDZANkAwwDDAJ4AngBvAG8AVgBWAEMAQwAzADMAHwAfAEEAQQA9AD0AWABYAH8AfwCIAIgAYwBjAEMAQwBJAEkAMAAwAD4APgBHAEcAYABgAGEAYQByAHIAlQCVAKMAowCOAI4AZQBlAEIAQgAnACcAMgAyAFEAUQBsAGwAcABwAIEAgQCdAJ0ArACsAMcAxwDEAMQAowCjAI0AjQBTAFMAJAAkAP7//v/N/83/qv+q/6b/pv+T/5P/nP+c/6b/pv+k/6T/vv++/+f/5/8DAAMA9//3/8n/yf/A/8D/xv/G/8T/xP/B/8H/0f/R/+f/5//i/+L/4//j/97/3v/o/+j/8//z/8P/w/+o/6j/nv+e/57/nv+m/6b/pP+k/6r/qv/B/8H/4f/h/9v/2/+//7//3f/d/7r/uv+k/6T/wP/A/63/rf+d/53/iP+I/3j/eP9J/0n/Uf9R/2L/Yv97/3v/ff99/4T/hP+E/4T/lv+W/6v/q/+r/6v/xf/F/9z/3P/8//z/6//r//r/+v/v/+//wf/B/57/nv+H/4f/if+J/5T/lP+s/6z/h/+H/1//X/9R/1H/O/87/zf/N/9M/0z/Wv9a/3T/dP92/3b/kv+S/7j/uP/F/8X//v/+/+X/5f/z//P//f/9/8X/xf+e/57/lP+U/3X/df9w/3D/b/9v/43/jf+M/4z/cP9w/5P/k/+Z/5n/uv+6/9j/2P/1//X/BAAEACEAIQA9AD0AQQBBAIEAgQCBAIEAWwBbAFIAUgAYABgAAAAAABIAEgAMAAwAEAAQAAwADAAUABQAMQAxADUANQA4ADgAOgA6ADwAPABRAFEAagBqAHcAdwCEAIQAmQCZAJYAlgCcAJwAlACUAG8AbwBbAFsAPAA8AB0AHQAbABsAHwAfABkAGQApACkANwA3AB0AHQAMAAwA7//v/9z/3P/b/9v/4P/g/93/3f/f/9//xv/G/7f/t/+e/57/fv9+/5v/m/+Y/5j/pv+m/7v/u//l/+X/6v/q/93/3f/k/+T/3//f/+T/5P/i/+L/5f/l/87/zv+7/7v/1v/W/+D/4P/b/9v/2//b/97/3v/f/9//4f/h//b/9v8CAAIANwA3ACwALAAiACIAJwAnACEAIQD+//7/3//f/9b/1v+i/6L/gP+A/2r/av80/zT/H/8f/0P/Q/9Z/1n/aP9o/4D/gP+A/4D/n/+f/6b/pv+X/5f/fP98/2n/af+J/4n/hv+G/4H/gf+P/4//gv+C/4T/hP+D/4P/nf+d/6v/q//L/8v/vP+8/6D/oP/B/8H/4P/g/wQABAA6ADoAKwArADAAMAA/AD8AIAAgACgAKAATABMAJgAmACsAKwAKAAoADQANAAAAAAAAAAAABQAFAAcABwALAAsAHQAdAD8APwBOAE4ALgAuAAAAAAADAAMA7f/t/+P/4//e/97/zv/O/+T/5P/c/9z/9v/2/xcAFwA+AD4AZABkAEsASwBKAEoAUwBTAEQARAAoACgAJwAnACwALABaAFoAZABkAF8AXwBeAF4AYABgAFIAUgA3ADcAYwBjAIAAgAB7AHsAlQCVAHQAdABXAFcAXABcAE0ATQBhAGEAZwBnAJAAkACaAJoAfwB/AIYAhgBqAGoAZABkAGQAZABfAF8AZQBlAGcAZwBkAGQAZQBlAF8AXwBtAG0AggCCAJ4AngCiAKIAiACIAKsAqwCqAKoAxQDFALwAvACoAKgAnQCdAH8AfwCCAIIAgQCBAIYAhgCkAKQAqgCqALEAsQDPAM8AywDLAM4AzgC9AL0ApACkAJ8AnwCIAIgAjQCNAH0AfQBnAGcAaQBpAG0AbQBjAGMASwBLADcANwAOAA4A3v/e/6D/oP96/3r/Y/9j/0b/Rv9M/0z/XP9c/0P/Q/9h/2H/Zv9m/37/fv+M/4z/iP+I/3D/cP9d/13/Y/9j/1//X/9F/0X/Pv8+/yb/Jv8d/x3/Kv8q/1f/V/9u/27/gf+B/3v/e/+P/4//sf+x/7j/uP/P/8//3v/e/9v/2//Y/9j/4v/i/9H/0f+9/73/xv/G/67/rv+Z/5n/m/+b/5n/mf+J/4n/dv92/3X/df+G/4b/pf+l/7//v//d/93/6//r/w4ADgAfAB8AGQAZAP/////6//r/9//3/wcABwAuAC4ANAA0AD0APQBqAGoAkwCTALwAvADCAMIArQCtAHcAdwA2ADYA7f/t/8T/xP+7/7v/u/+7/9H/0f8TABMAPwA/AD8APwA9AD0APAA8ABIAEgAOAA4AOgA6AGoAagCFAIUAhACEAIAAgABkAGQAYQBhAGMAYwBnAGcAgwCDAHgAeABVAFUANgA2AAQABADf/9//3v/e/+D/4P8CAAIAKwArAFsAWwCFAIUAaQBpAGoAagCDAIMAVwBXACgAKADz//P/1v/W/6P/o/9z/3P/gv+C/6X/pf/R/9H/8//z/xcAFwAfAB8A8f/x/9X/1f+u/67/nP+c/3//f/9X/1f/W/9b/0L/Qv9H/0f/bP9s/3//f/+v/6//0P/Q/9//3//c/9z/BgAGABwAHAAqACoAQgBCAD0APQA7ADsATABMAGUAZQBiAGIAOwA7APr/+v/Z/9n/uP+4/6H/of+y/7L/yf/J/7j/uP/W/9b/BQAFAAcABwAnACcAMQAxAC8ALwAvAC8AMgAyAC4ALgAYABgA8f/x/+j/6P/p/+n/DwAPAEkASQBnAGcAaQBpAIMAgwCiAKIAoACgAKEAoQCeAJ4AhwCHAHkAeQBiAGIAbQBtAJUAlQCSAJIAhACEAHAAcABIAEgANAA0ABUAFQD/////BAAEAB8AHwAbABsAAAAAAPz//P8WABYAIAAgAP////8EAAQA8P/w/8f/x//B/8H/pf+l/63/rf+9/73/w//D/9//3//d/93/3f/d/+D/4P/f/9//4P/g/9//3//D/8P/w//D/8H/wf/F/8X/4f/h/+H/4f/k/+T/yP/I/5v/m/+X/5f/p/+n/9L/0v/t/+3/+v/6/8f/x//E/8T/rP+s/5z/nP+U/5T/d/93/4v/i/+g/6D/tP+0/8T/xP/B/8H/w//D/77/vv/Y/9j/5v/m/+D/4P/j/+P/zP/M/5v/m/+B/4H/if+J/2j/aP8n/yf/If8h/x//H/9W/1b/W/9b/z//P/9C/0L/Jf8l/0L/Qv9k/2T/fP98/5X/lf+g/6D/n/+f/4P/g/9//3//lf+V/2H/Yf9q/2r/f/9//43/jf+k/6T/rP+s/8T/xP/C/8L/4//j/+P/4//i/+L//P/8/wEAAQDx//H/2//b/+H/4f/h/+H/1f/V/7r/uv/K/8r/4f/h//3//f8bABsAOQA5AEMAQwBOAE4AagBqAE8ATwBLAEsAPwA/ABAAEADw//D/tv+2/6P/o/+//7//xP/E/9r/2v/q/+r/6P/o/9L/0v/H/8f/8P/w/yEAIQAoACgAXgBeAHcAdwBdAF0ASABIADoAOgArACsAEAAQAD4APgA6ADoALAAsAE0ATQBNAE0AbABsAGwAbABpAGkAaABoAGUAZQBoAGgAaABoAE0ATQBKAEoATABMADMAMwAdAB0A6//r/+r/6v8BAAEAEgASADYANgBMAEwAeAB4AKoAqgDNAM0ACwELASMBIwEkASQBGwEbAd8A3wCnAKcAfQB9ADsAOwD6//r/4P/g/+D/4P/+//7/FwAXADsAOwBuAG4AjACMALEAsQDnAOcA5gDmAOkA6QDQANAAjwCPAFAAUAAqACoAHAAcAAEAAQDm/+b/3P/c/9r/2v+f/5//ef95/5X/lf+p/6n/4f/h/x8AHwAlACUAQABAAEIAQgBYAFgAYwBjAFoAWgBTAFMAFQAVANL/0v+3/7f/tf+1/6n/qf+O/47/gv+C/5n/mf+R/5H/eP94/5n/mf+X/5f/lv+W/6X/pf+h/6H/iv+K/4j/iP+m/6b/m/+b/6v/q//C/8L/wP/A/8P/w//C/8L/x//H/+H/4f/m/+b/1//X/7v/u//B/8H/v/+//9L/0v/w//D/CQAJAB0AHQAnACcAQgBCAAwADAABAAEADAAMAAEAAQAlACUAHQAdABIAEgAqACoAOgA6AFAAUACIAIgArgCuAMQAxADhAOEA1QDVAL4AvgC/AL8A2QDZAOsA6wDtAO0A2QDZAKUApQCKAIoAcQBxAFcAVwBIAEgAZwBnAFsAWwA/AD8ARQBFAGEAYQBjAGMAYQBhAGMAYwBLAEsAQABAAEQARABGAEYASQBJAEoASgBOAE4ASgBKAC4ALgAtAC0AFQAVAOr/6v/M/8z/xv/G/97/3v/w//D/+//7/yAAIAApACkADwAPANH/0f/E/8T/xf/F/8z/zP/9//3/LwAvAF8AXwBqAGoAgwCDAIYAhgCXAJcApQClAHUAdQA/AD8APwA/ADsAOwAeAB4AHAAcABMAEwDk/+T/4v/i/9T/1P/B/8H/1P/U/7r/uv+7/7v/zv/O/+n/6f8AAAAAAgACAPT/9P/g/+D//f/9/xMAEwAjACMAAgACAAUABQDu/+7/7v/u/wQABADn/+f/4f/h/9v/2//C/8L/vP+8/8j/yP/y//L/GAAYAEAAQAA6ADoASgBKAF4AXgBxAHEAgQCBAGgAaABCAEIABwAHAO7/7v/a/9r/3v/e/93/3f/g/+D//f/9//r/+v/+//7/8v/y/9v/2//T/9P/v/+//63/rf+Y/5j/s/+z/77/vv/V/9X/3f/d/9H/0f+B/4H/df91/3n/ef96/3r/lP+U/6//r//B/8H/1P/U/+//7/8EAAQA8//z/93/3f/l/+X/2f/Z/6z/rP+K/4r/R/9H/yD/IP8a/xr/+/77/vn++f4L/wv/Gf8Z/xf/F/8v/y//Sv9K/4H/gf+e/57/rP+s/6n/qf+c/5z/qf+p/6b/pv+b/5v/uv+6/73/vf+x/7H/jv+O/3j/eP+B/4H/fP98/4j/iP+e/57/s/+z/+n/6f8sACwAQQBBAEkASQBhAGEAQQBBACIAIgAAAAAAEwATACcAJwA/AD8AWQBZAGcAZwB/AH8AgQCBAGYAZgBeAF4AZABkAF4AXgBtAG0AbQBtAHIAcgCbAJsAxADEAKwArACdAJ0AigCKAFMAUwBKAEoAMAAwACwALABRAFEAaQBpAJQAlADOAM4A8gDyAAUBBQEdAR0BBQEFAdwA3AC+AL4AqQCpAJEAkQB5AHkAggCCAG4AbgBfAF8AYgBiADwAPAAkACQALwAvABMAEwD5//n/8v/y//n/+f/j/+P/2P/Y/9v/2/+x/7H/lv+W/5r/mv+W/5b/mf+Z/5v/m/+L/4v/df91/3b/dv94/3j/e/97/5P/k//H/8f/4P/g//j/+P/3//f/2//b/+X/5f/A/8D/z//P/9v/2//r/+v/7P/s/+X/5f8BAAEA+P/4//r/+v/R/9H/u/+7/6P/o/+j/6P/u/+7/43/jf+c/5z/q/+r/5v/m/93/3f/Xv9e/23/bf+F/4X/av9q/17/Xv9e/17/bf9t/2P/Y/9I/0j/PP88/2H/Yf9N/03/R/9H/3z/fP+E/4T/lv+W/6P/o/+b/5v/p/+n/9T/1P/v/+//FAAUAAkACQASABIA+P/4/9j/2P/X/9f/2f/Z//P/8//3//f/8//z/wkACQAbABsACwALABAAEAAhACEA/////97/3v/X/9f/vf+9/6H/of+U/5T/lf+V/5X/lf+a/5r/gP+A/3P/c/95/3n/dv92/43/jf+X/5f/mv+a/9n/2f/6//r/+P/4///////u/+7/3f/d/9H/0f+Q/5D/ev96/3n/ef9f/1//c/9z/3P/c/98/3z/fP98/5r/mv+d/53/zf/N/+v/6///////FAAUADEAMQBaAFoAXQBdAGEAYQBjAGMAQABAAFMAUwBgAGAAWgBaAF4AXgBdAF0AZABkAFUAVQBMAEwAaQBpAGkAaQCHAIcAiACIAH4AfgA/AD8AFgAWAAIAAgDZ/9n/3//f/wYABgAYABgAIQAhACwALAAiACIAJAAkACQAJAAJAAkABQAFACUAJQAMAAwAAQABAB4AHgAeAB4ACQAJAOv/6//h/+H/5f/l/+L/4v/s/+z/GAAYAD4APgBHAEcASwBLAD4APgAzADMASgBKACkAKQAwADAALwAvACkAKQBOAE4AYABgAFoAWgBFAEUANQA1ABYAFgDp/+n/3v/e/9r/2v+//7//vP+8/7r/uv/G/8b/+P/4/yIAIgBDAEMALgAuACQAJAAPAA8A6f/p/83/zf+l/6X/mv+a/6D/oP+B/4H/Zv9m/5f/l/+8/7z/0//T/+P/4//1//X/BgAGAAYABgAnACcAJgAmADMAMwBMAEwAQwBDACsAKwBNAE0AewB7AIUAhQBpAGkAXgBeAFkAWQBYAFgAQABAACcAJwBFAEUAYABgAFoAWgBvAG8AfAB8AGMAYwBmAGYAQgBCACgAKAAnACcAGwAbAA8ADwD2//b//v/+/+v/6//l/+X//P/8/+z/7P8DAAMABwAHAD0APQBmAGYAiwCLAMMAwwDDAMMA2ADYAAYBBgHvAO8A2wDbAMYAxgCbAJsAgACAAFoAWgAlACUAQwBDAF4AXgBZAFkAigCKAKoAqgDdAN0AzwDPANIA0gDmAOYAyQDJALwAvACVAJUAcwBzAEcARwA8ADwAPAA8ADoAOgA6ADoASgBKAGMAYwBfAF8AdwB3AIQAhACEAIQAhACEAIIAggBnAGcAaQBpAGAAYAA/AD8AGgAaAPj/+P/W/9b/s/+z/6f/p/+p/6n/qf+p/7b/tv/j/+P/AgACACQAJABIAEgARwBHAEYARgBFAEUAHQAdAPL/8v/q/+r/6v/q/+z/7P/q/+r/5P/k/9P/0//c/9z/2f/Z//P/8/8uAC4AUgBSAGQAZABQAFAAOQA5ACkAKQDn/+f/2f/Z//H/8f8QABAAGQAZABwAHAAyADIASwBLAFAAUABSAFIAVwBXAE8ATwB6AHoAYwBjAG4AbgBYAFgAUABQAFIAUgAXABcAAwADAAoACgDy//L/4v/i/+n/6f/L/8v/oP+g/6T/pP+l/6X/o/+j/9f/1//p/+n/AwADAPn/+f/Y/9j/nf+d/1T/VP81/zX/Av8C//v++/4b/xv/OP84/2L/Yv97/3v/fP98/3v/e/9//3//hP+E/67/rv/H/8f/7v/u/wsACwDu/+7/4//j/9D/0P/E/8T/wP/A/6X/pf/E/8T/xP/E/7T/tP/S/9L/AAAAAAcABwAgACAAFgAWAAkACQAKAAoA7f/t/+n/6f/p/+n/7v/u/wQABADq/+r/3P/c/7j/uP+h/6H/h/+H/4D/gP9//3//e/97/4T/hP+e/57/mf+Z/7H/sf/s/+z/HgAeABwAHAAXABcAGQAZAAwADAD9//3/HwAfADAAMABfAF8AmQCZAKIAogCjAKMAvwC/AKQApACVAJUAlgCWAHsAewCXAJcAmwCbAHEAcQBMAEwANwA3ADUANQA3ADcAMwAzAEAAQABYAFgAVgBWADIAMgApACkAKAAoAPD/8P/a/9r/wv/C/8D/wP+8/7z/v/+//6//r/+V/5X/nf+d/4L/gv92/3b/XP9c/zr/Ov87/zv/O/87/03/Tf+W/5b/q/+r/6n/qf/A/8D/of+h/6P/o/+5/7n/xf/F/8j/yP+i/6L/gv+C/3r/ev9+/37/ev96/4D/gP+B/4H/ff99/4H/gf99/33/d/93/4z/jP+e/57/p/+n/7v/u//e/97//P/8/+b/5v+o/6j/eP94/07/Tv8Z/xn/E/8T/wz/DP/6/vr+1/7X/rX+tf7K/sr+2P7Y/vH+8f7k/uT+4P7g/hj/GP84/zj/cf9x/4r/iv+I/4j/rP+s/4j/iP9k/2T/SP9I/zP/M/83/zf/Nv82/0v/S/9A/0D/WP9Y/1//X/9g/2D/dP90/3r/ev94/3j/hP+E/6v/q//U/9T/CAAIABsAGwAUABQAGwAbAAQABADj/+P/3P/c/9//3//g/+D/CAAIAEEAQQA7ADsAIAAgACYAJgAUABQAAAAAAOj/6P/c/9z/0//T/7j/uP/T/9P/vv++/5r/mv+Y/5j/m/+b/5b/lv+W/5b/vf+9/97/3v/1//X/EAAQACQAJAAdAB0AHQAdABQAFADk/+T/3P/c/8v/y/+i/6L/lv+W/3v/e/+T/5P/nv+e/6f/p/++/77/wv/C/97/3v/d/93/3f/d/93/3f8DAAMANwA3AEQARABaAFoAZwBnAGcAZwBIAEgAGwAbABsAGwAfAB8APAA8AEMAQwBhAGEAgQCBAIIAggCHAIcAawBrAEgASABjAGMATABMAEsASwBPAE8AUgBSAGoAagBRAFEASgBKAEQARABMAEwAbgBuAGcAZwCPAI8A0QDRAMsAywDfAN8A3wDfALUAtQCnAKcAdAB0AE4ATgA+AD4AIQAhACQAJAAhACEAGwAbADsAOwA/AD8ANgA2AEEAQQA8ADwASABIAGEAYQBdAF0ASQBJAEoASgA+AD4AQABAADsAOwBZAFkAWABYADYANgARABEACwALACUAJQAhACEAQQBBAGMAYwCKAIoAmQCZALYAtgCoAKgAhACEAG8AbwBsAGwATABMAC8ALwAMAAwACgAKAAYABgAiACIAGAAYAAsACwANAA0AIQAhAFoAWgBWAFYAKAAoAA0ADQAAAAAAAAAAAAAAAAD8//z/+//7//7//v/7//v//P/8/yYAJgBjAGMAlgCWALMAswDaANoA4wDjAAcBBwEVARUB/AD8AOkA6QD1APUA3gDeALsAuwCjAKMAgwCDAF0AXQBaAFoAXgBeAHYAdgCJAIkAoACgAKAAoAChAKEAowCjAKAAoAChAKEAjQCNAHQAdAB9AH0AbgBuAEQARAAuAC4ACgAKAPb/9v/g/+D/2//b//b/9v8yADIASABIAF8AXwBnAGcASgBKAGQAZABlAGUAZgBmAGoAagBgAGAAZQBlAGsAawBsAGwAZwBnAFQAVABGAEYAMQAxAAcABwAIAAgAAQABAA8ADwAlACUALAAsAEUARQBkAGQAZABkADwAPAAqACoADQANAM//z//E/8T/wv/C/8z/zP/t/+3/AAAAABgAGABDAEMAXABcAGAAYAAzADMAHAAcABUAFQD7//v/DQANAC8ALwBRAFEAaABoAGYAZgBqAGoAZgBmAH0AfQCJAIkAggCCAIkAiQB+AH4AXQBdADQANAARABEAAgACAOr/6v/e/97/8f/x//3//f8CAAIAJgAmAFYAVgCKAIoAtAC0AM4AzgCiAKIAjACMAIIAggBlAGUASQBJAD8APwAhACEAHwAfAAUABQD1//X/4f/h/83/zf+0/7T/uv+6/83/zf/4//j/SQBJAGMAYwCHAIcAdwB3AGYAZgBkAGQAXgBeADUANQDy//L/uv+6/47/jv92/3b/Yv9i/17/Xv9u/27/hP+E/3v/e/+O/47/l/+X/5D/kP+U/5T/k/+T/4D/gP95/3n/VP9U/1T/VP9D/0P/PP88/1T/VP9z/3P/ev96/43/jf+D/4P/fP98/4P/g/+C/4L/gv+C/6L/ov+Y/5j/gP+A/4T/hP9c/1z/O/87/w7/Dv/k/uT+5/7n/t7+3v6//r/+q/6r/qv+q/6u/q7+p/6n/r/+v/76/vr+Pv8+/2L/Yv9n/2f/S/9L/0f/R/9N/03/Qf9B/0j/SP9P/0//aP9o/4D/gP+g/6D/tP+0/9//3//+//7/AwADAAsACwAkACQAKgAqAEYARgBmAGYATwBPACwALAALAAsA6P/o/8b/xv+2/7b/uf+5/8D/wP/H/8f/9f/1//z//P/9//3/BAAEAOr/6v/c/9z/5f/l/wAAAAAEAAQA7//v/+D/4P/8//z/AgACAPv/+/8BAAEAGwAbABsAGwAhACEAOwA7AD0APQA8ADwAWABYAEEAQQA5ADkALgAuAAIAAgDg/+D/2f/Z/8D/wP/J/8n/2v/a/8D/wP+7/7v/y//L/9v/2//E/8T/7v/u/wIAAgABAAEA/////+X/5f8EAAQA/P/8/+T/5P/d/93/qv+q/57/nv+b/5v/qf+p/9P/0//x//H/AAAAAPj/+P8IAAgAHQAdAAkACQAlACUAJQAlABkAGQD+//7/3v/e/8b/xv+j/6P/nf+d/57/nv+Y/5j/ff99/5X/lf+V/5X/eP94/5D/kP+x/7H/tP+0/7r/uv/Y/9j/4P/g/+b/5v/p/+n/BQAFAPD/8P/i/+L/5P/k/+T/5P/7//v/DgAOABUAFQAPAA8ACQAJACUAJQAyADIAKQApAAkACQD7//v/+v/6/wYABgAuAC4AQgBCAEEAQQBDAEMAQQBBAEAAQAA8ADwAQABAAEAAQAA9AD0ARwBHAEAAQAALAAsABAAEAOz/7P/G/8b/o/+j/6b/pv+K/4r/lP+U/5//n/+u/67/2v/a//7//v//////NgA2AEMAQwBKAEoAZQBlAGIAYgBmAGYAawBrAGcAZwBOAE4ARQBFACUAJQAFAAUA5P/k/97/3v/c/9z/3P/c/wAAAAAuAC4ARQBFAFkAWQA8ADwAIQAhAPz//P/P/8//tP+0/8r/yv/K/8r/3P/c/+b/5v/u/+7/NAA0ADMAMwD6//r/4v/i/+P/4//j/+P/4v/i/9//3//2//b/AgACAAsACwAAAAAA//////T/9P/D/8P/kP+Q/3b/dv+N/43/sf+x/+b/5v8BAAEA6f/p/97/3v+4/7j/g/+D/3v/e/97/3v/l/+X/6j/qP+j/6P/pv+m/6j/qP+k/6T/ov+i/5r/mv/Y/9j//v/+//f/9/8ZABkAHAAcACIAIgAMAAwA/P/8/woACgAeAB4AHwAfAB8AHwA0ADQAQQBBAEsASwBkAGQAYgBiAIAAgABWAFYAPgA+ACYAJgD7//v/3P/c/7j/uP+W/5b/qP+o/8P/w//A/8D/wv/C/9n/2f/4//j/FgAWADQANABAAEAAOgA6AEIAQgAeAB4A+P/4/+v/6//H/8f/wf/B/8P/w//D/8P/w//D/+n/6f8RABEAJQAlAEsASwB2AHYAigCKAIYAhgCHAIcAigCKAIsAiwCLAIsAjwCPAI8AjwCLAIsAigCKAIYAhgCQAJAAvQC9AMEAwQDRANEAwQDBALgAuADOAM4A5QDlAOkA6QDDAMMAfAB8AGQAZABhAGEAYwBjAIEAgQCgAKAAoACgALsAuwC8ALwAwgDCAK0ArQClAKUAqgCqAIsAiwCTAJMAwADAANwA3ADoAOgA0ADQALcAtwCRAJEAgQCBAFkAWQA6ADoAUwBTAHAAcACIAIgAugC6AMcAxwDhAOEAxADEAK8ArwCvAK8AtQC1AJsAmwCQAJAAYABgAFgAWABCAEIANgA2ACEAIQDz//P/HgAeADcANwAXABcAJwAnAEIAQgBCAEIAKQApAB0AHQAEAAQAEQARABwAHAALAAsABgAGAN3/3f/S/9L/uP+4/7j/uP+7/7v/2v/a/9v/2//2//b/KwArAFcAVwCaAJoAlQCVAIAAgAB7AHsAXwBfAF4AXgA8ADwAVQBVADoAOgAaABoAHQAdAB0AHQAcABwANQA1AFcAVwBFAEUARABEAEUARQBCAEIAPwA/AEsASwB2AHYAmACYALkAuQCrAKsAogCiALIAsgC9AL0AiQCJAHgAeABfAF8AVgBWAEAAQABcAFwARQBFAD0APQBbAFsAXgBeAHoAegB/AH8AawBrAFcAVwAwADAAEQARAPz//P/i/+L/w//D/6T/pP+J/4n/gP+A/3z/fP9J/0n/Wv9a/2X/Zf9s/2z/gf+B/4D/gP93/3f/a/9r/2v/a/9Z/1n/df91/4T/hP+f/5//cP9w/1L/Uv8//z//QP9A/0v/S/9B/0H/Vf9V/3z/fP+G/4b/fv9+/4P/g/9y/3L/Ov86/zv/O/8t/y3/Fv8W/x3/Hf8z/zP/Jv8m/z3/Pf9e/17/X/9f/2v/a/9+/37/jP+M/5H/kf+M/4z/n/+f/5j/mP+e/57/hv+G/4T/hP+e/57/lf+V/6T/pP/B/8H/2P/Y/8T/xP+8/7z/yP/I/+D/4P/h/+H/+//7/xcAFwAhACEACQAJACUAJQAsACwAUQBRAFAAUAAnACcABwAHAPD/8P/f/9//x//H/77/vv/k/+T/AQABACMAIwAaABoA9P/0/+D/4P/i/+L/AAAAAAMAAwATABMAKgAqAAkACQAGAAYAGAAYADoAOgA/AD8APAA8AD0APQA9AD0APQA9ADsAOwBBAEEAJwAnAAAAAADu/+7/xf/F/53/nf+g/6D/hv+G/3v/e/99/33/YP9g/2D/YP9j/2P/Y/9j/17/Xv94/3j/gv+C/4L/gv9n/2f/b/9v/3v/e/+K/4r/qf+p/5b/lv+K/4r/eP94/0j/SP87/zv/IP8g/yD/IP8f/x//Kv8q/0T/RP8//z//Qf9B/0D/QP9F/0X/Xf9d/37/fv+m/6b/sv+y/8n/yf/F/8X/pf+l/6f/p/+M/4z/gf+B/3X/df9a/1r/X/9f/3z/fP+b/5v/sP+w/9f/1//c/9z/7//v/+H/4f/d/93/0v/S/77/vv+8/7z/qP+o/9b/1v/v/+//IAAgACYAJgAiACIABQAFAOH/4f/F/8X/oP+g/5b/lv9+/37/qf+p/8H/wf/b/9v/2//b/+b/5v/9//3//P/8//n/+f/q/+r/AAAAAAEAAQDm/+b/5v/m/wwADAAfAB8APAA8ADsAOwBQAFAAXwBfAFwAXABdAF0AXgBeAGYAZgB2AHYAZQBlAGMAYwBmAGYAVABUAB8AHwAWABYA5f/l/9X/1f/b/9v/uf+5/7r/uv+8/7z/0//T/9z/3P/b/9v/3P/c/9r/2v/b/9v/zP/M/7X/tf+9/73/0f/R//L/8v/s/+z/2f/Z/+T/5P/c/9z/8P/w/87/zv+9/73/wP/A/6P/o/+E/4T/gf+B/4P/g/9+/37/gf+B/5r/mv+p/6n/xf/F/8D/wP+s/6z/v/+//+H/4f/4//j/DAAMADQANABdAF0AYgBiAGgAaABfAF8AOgA6AEIAQgA4ADgAHwAfACUAJQAhACEAIwAjABMAEwAoACgAVwBXAHsAewB8AHwAfgB+AG8AbwBzAHMAegB6AFIAUgBBAEEAQwBDADsAOwBQAFAAUQBRACAAIAALAAsA7//v/+X/5f/8//z/8P/w/wUABQAGAAYACAAIABEAEQA+AD4AVABUAGsAawBOAE4AQABAAEUARQBDAEMARQBFAC4ALgAjACMAFgAWAP7//v8DAAMAAAAAABAAEAAmACYAPgA+AEMAQwBZAFkAYwBjAHgAeACFAIUAhwCHAHwAfABTAFMAOQA5ACIAIgAmACYAIwAjACQAJAAiACIAIwAjABEAEQD0//T/3//f/+P/4//r/+v/JQAlAE8ATwBkAGQAYwBjAGkAaQBWAFYAQABAADEAMQAgACAAOQA5AEgASABlAGUAhQCFAIkAiQCYAJgAgwCDAGUAZQCRAJEApwCnAJIAkgC9AL0AuAC4AKcApwCSAJIAfgB+AJsAmwC2ALYA1wDXAO0A7QDtAO0A6ADoANsA2wDpAOkA/QD9AAQBBAHrAOsA3QDdAMMAwwDJAMkAqwCrAIYAhgCGAIYAhQCFAH4AfgCGAIYAngCeAIMAgwB7AHsAYgBiAGwAbACDAIMAegB6AH4AfgBrAGsARwBHAD0APQAgACAAKgAqAEAAQAA4ADgAUQBRAFsAWwBaAFoAWwBbAF4AXgBRAFEAMwAzAEsASwBaAFoAVABUAFUAVQBNAE0AIwAjABwAHAAcABwAHwAfACIAIgAhACEAIQAhAB8AHwAlACUANgA2AB8AHwBKAEoAYwBjAEIAQgBVAFUARQBFAEQARAA8ADwAHAAcADoAOgA8ADwAPQA9AGIAYgBhAGEAYABgAGMAYwBjAGMAYwBjAGQAZABlAGUATQBNAEIAQgBEAEQAPgA+AD8APwA+AD4AQgBCACsAKwAHAAcAAAAAAAAAAAABAAEAAQABAAEAAQADAAMABgAGAAIAAgAZABkAJAAkAAYABgAAAAAA4P/g/+H/4f/J/8n/t/+3/7b/tv+Y/5j/mf+Z/5j/mP+a/5r/m/+b/5z/nP+8/7z/vf+9/9L/0v/i/+L/3f/d/93/3f/b/9v/vP+8/5//n/+f/5//m/+b/5//n/+U/5T/a/9r/1j/WP98/3z/bf9t/2v/a/+O/47/qv+q/7v/u/+h/6H/mv+a/5D/kP96/3r/Zf9l/2D/YP+A/4D/h/+H/4H/gf+V/5X/pv+m/6f/p/+Y/5j/kv+S/3P/c/+O/47/m/+b/6v/q//S/9L/3//f/6z/rP+e/57/vv++/7v/u//W/9b/3v/e/+n/6f8fAB8AHQAdACAAIAAOAA4A/P/8//f/9//G/8b/u/+7/7r/uv+m/6b/cP9w/1n/Wf9D/0P/Tf9N/2D/YP91/3X/dv92/4D/gP+y/7L/3P/c/8f/x/+x/7H/kf+R/07/Tv8+/z7/W/9b/2P/Y/90/3T/X/9f/2H/Yf9h/2H/X/9f/17/Xv98/3z/nv+e/7v/u/++/77/qP+o/4H/gf+A/4D/gP+A/3D/cP9T/1P/cv9y/2n/af9b/1v/Yv9i/2H/Yf9I/0j/Qv9C/0P/Q/83/zf/Hf8d/x//H/8c/xz/If8h/z3/Pf9C/0L/Rf9F/0T/RP8o/yj/G/8b//n++f4T/xP/FP8U/xD/EP86/zr/N/83/1H/Uf9b/1v/Sv9K/2D/YP9g/2D/ff99/5//n/+V/5X/e/97/37/fv9h/2H/Xf9d/1r/Wv9c/1z/Wv9a/2H/Yf+R/5H/mv+a/57/nv+7/7v/2f/Z/wEAAQABAAEAAgACAAIAAgACAAIABQAFAAMAAwAGAAYAAwADABAAEAAjACMAKwArAG0AbQCBAIEAfwB/AJYAlgB9AH0AfgB+AKIAogCYAJgAhACEAHwAfABkAGQARQBFACcAJwAPAA8A9v/2/9f/1/+z/7P/oP+g/8H/wf/B/8H/0//T//j/+P8EAAQAAgACAAIAAgD1//X/3P/c/+L/4v/f/9//9//3/wEAAQD6//r/4f/h/+H/4f/p/+n/AgACAAYABgAhACEAIwAjACcAJwAMAAwAEwATAD8APwBuAG4AqgCqAOIA4gDkAOQAyADIAJkAmQCEAIQAfgB+AGAAYABkAGQAXgBeAEwATABpAGkASQBJAFEAUQBhAGEAUABQAHIAcgBfAF8AZABkAHMAcwBWAFYAOwA7AC4ALgArACsAQgBCAD4APgAgACAACwALABYAFgAyADIAIgAiABMAEwA6ADoASQBJAHIAcgCQAJAAhACEAKAAoACiAKIAmwCbAKkAqQCfAJ8AlgCWAKkAqQCoAKgAnwCfAK8ArwDZANkA5gDmAOIA4gDwAPAAxADEAK4ArgCuAK4AogCiALQAtADGAMYApwCnAKcApwClAKUApQClAKQApACwALAAwQDBAMAAwADdAN0A3wDfAOUA5QDKAMoAvQC9AKUApQCWAJYAogCiAIgAiACAAIAARgBGAAcABwDv/+//x//H/7L/sv/G/8b/4P/g//L/8v8GAAYAGAAYAD4APgBjAGMAYABgAGQAZABgAGAAegB6AG8AbwBdAF0AOgA6AAkACQDr/+v/0v/S/7//v//f/9//9//3/xkAGQAlACUAOwA7AFUAVQBhAGEAWwBbAF8AXwBAAEAAOAA4ADoAOgAdAB0ABgAGAPj/+P/+//7/7v/u/9f/1//y//L/3P/c/8X/xf+4/7j/q/+r/6H/of/A/8D/vf+9/9n/2f/e/97/w//D/7j/uP+8/7z/u/+7/7//v//X/9f/0v/S//P/8/8zADMANAA0AGAAYAB1AHUAWABYAEYARgAqACoAAwADAOT/5P/g/+D/3f/d//D/8P8XABcAHwAfACQAJAAmACYACwALABoAGgAfAB8AIAAgAEAAQABUAFQAKAAoAB4AHgAeAB4AGQAZAP3//f/x//H/y//L/7b/tv+6/7r/t/+3/7j/uP+8/7z/vf+9/7//v/+8/7z/yf/J/+T/5P/+//7/LQAtAEEAQQA9AD0APgA+ADsAOwAfAB8A/f/9/+L/4v/L/8v/vv++/8L/wv/C/8L/qP+o/6D/oP+H/4f/hP+E/4D/gP+A/4D/fv9+/5P/k//G/8b/8v/y/wwADAAUABQA/f/9/wEAAQD/////AAAAAO3/7f/S/9L/qP+o/4f/h/9//3//gf+B/5f/l/+//7//y//L/+f/5/8DAAMAEAAQAD8APwBJAEkARQBFAEoASgBDAEMAIwAjAOH/4f+l/6X/df91/1z/XP9h/2H/Xf9d/2n/af+j/6P/3P/c/+H/4f8AAAAA8f/x/+3/7f/+//7//v/+/xgAGAAxADEAZgBmAHUAdQCKAIoAlQCVAJ4AngBgAGAAPgA+ADYANgAnACcAPwA/AE8ATwBmAGYAaQBpAIwAjACjAKMAgwCDAGQAZABOAE4ASQBJAFcAVwBqAGoAewB7AIcAhwBdAF0AQQBBACcAJwD3//f/AAAAAB4AHgD9//3/AwADAPn/+f/H/8f/xv/G/8n/yf/H/8f/yP/I/8b/xv/M/8z/uf+5/5//n/+n/6f/oP+g/6v/q//C/8L/2f/Z/8P/w/+O/47/ff99/43/jf+0/7T/9P/0/wgACAAgACAALQAtACcAJwAeAB4AHgAeACIAIgAgACAAIQAhACMAIwBGAEYAYgBiAGEAYQBWAFYAMAAwABwAHAAiACIAPQA9ADwAPABIAEgAZwBnAE4ATgA/AD8ARgBGAFoAWgA1ADUAIgAiAPz//P/H/8f/xv/G/6n/qf+x/7H/xP/E/8X/xf+p/6n/nv+e/7//v/+//7//uf+5/6H/of+7/7v/o/+j/53/nf+N/43/WP9Y/03/Tf8u/y7/Jf8l/xb/Fv8T/xP/Fv8W/xL/Ev8n/yf/Mf8x/0b/Rv9L/0v/Vf9V/3P/c/9a/1r/SP9I/zH/Mf9O/07/Vv9W/1H/Uf9n/2f/df91/5b/lv+X/5f/jf+N/6n/qf+z/7P/sv+y/77/vv+1/7X/rf+t/7X/tf+u/67/yf/J/9T/1P/z//P/6v/q/87/zv/Y/9j/2v/a/9z/3P+5/7n/gv+C/3b/dv97/3v/fv9+/3j/eP92/3b/cf9x/23/bf+E/4T/jP+M/4P/g/+Z/5n/qf+p/5D/kP+m/6b/tv+2/8z/zP/4//j/+v/6/ysAKwBLAEsAOgA6ABoAGgD/////BgAGAEAAQAB0AHQAewB7AGsAawBnAGcAbABsAGsAawB7AHsAgACAAG4AbgBpAGkAUABQAFwAXABtAG0AbABsAG8AbwBuAG4AcABwAFcAVwBLAEsAXgBeAGQAZAB0AHQAagBqAE8ATwAeAB4AIAAgAAsACwALAAsAOAA4AFYAVgBTAFMAUwBTAGUAZQBYAFgAbABsAGAAYABJAEkAIQAhAAYABgD3//f/zv/O/8f/x/+w/7D/r/+v/9T/1P/t/+3/BAAEAO3/7f/m/+b/7v/u//v/+/8MAAwA9f/1//H/8f/v/+//+v/6/xQAFAAwADAARABEADwAPAAjACMA//////X/9f/Q/9D/of+h/5D/kP/D/8P/IAAgAGsAawCiAKIAqwCrAJ4AngB9AH0AegB6AHcAdwBrAGsAZgBmAFEAUQA9AD0ASwBLAD0APQApACkALAAsAD8APwByAHIAiwCLAIcAhwCHAIcAfAB8AH0AfQBpAGkATgBOADoAOgAUABQAKAAoADIAMgAqACoASwBLAE4ATgBAAEAALQAtABQAFAAbABsAHgAeADgAOAA3ADcAPAA8AFIAUgBYAFgAPQA9ACIAIgAkACQANwA3AGMAYwBfAF8AYQBhAIEAgQCCAIIAkACQAKgAqACpAKkAtwC3AMQAxAC4ALgArACsAKAAoACCAIIAKQApAAAAAAAcABwAKwArAGEAYQBqAGoAYABgAGcAZwA6ADoAJgAmABAAEAACAAIABwAHAAoACgAxADEAJQAlADAAMAAsACwA8//z/9f/1//S/9L/tP+0/4j/iP97/3v/Yv9i/2P/Y/9w/3D/bP9s/1b/Vv9c/1z/j/+P/7z/vP/Y/9j/7P/s//H/8f/n/+f/rf+t/3T/dP9Z/1n/MP8w/yP/I/8c/xz/BP8E/xH/Ef8c/xz/L/8v/0v/S/+B/4H/yf/J/8v/y//C/8L/s/+z/5r/mv+Y/5j/f/9//4n/if+U/5T/j/+P/5n/mf+i/6L/vf+9/9D/0P/g/+D/8f/x//j/+P8RABEAHwAfAAQABAD1//X/7v/u/8X/xf+U/5T/a/9r/zP/M/8V/xX/Ef8R/yH/If9H/0f/V/9X/2L/Yv9j/2P/ZP9k/3j/eP+S/5L/uf+5/8v/y//P/8//3f/d/8P/w//K/8r/1v/W/7r/uv+4/7j/tP+0/7L/sv+p/6n/sf+x/9z/3P/x//H/DwAPACkAKQBBAEEAbgBuAIYAhgCVAJUAnACcAIsAiwB4AHgAZwBnAEgASAA7ADsARQBFADgAOAA0ADQAUQBRAG0AbQB3AHcAhQCFALQAtADYANgA9gD2AA4BDgHoAOgAuQC5AHkAeQA3ADcALAAsACMAIwA4ADgAWABYAGkAaQCSAJIAqACoALMAswClAKUAnQCdAK4ArgCGAIYAawBrAFoAWgAlACUADQANAAwADAAnACcAUQBRAGsAawB0AHQAYQBhAEgASAAsACwAGAAYACIAIgA6ADoAYQBhAH0AfQB8AHwAdQB1AH8AfwB4AHgAcwBzAIoAigBtAG0AQgBCACsAKwAXABcAFQAVAAUABQAHAAcA+//7//D/8P8JAAkADwAPACwALABEAEQANQA1ADwAPAArACsAIQAhAB4AHgD9//3/AwADADYANgBxAHEAfgB+AIIAggCSAJIAcABwAFoAWgBaAFoATABMAEgASAA5ADkALgAuAC0ALQAwADAAKAAoAPv/+//S/9L/zf/N/+D/4P/0//T/BwAHAB4AHgAwADAAMgAyADMAMwBMAEwAYgBiAF8AXwByAHIAYQBhAEsASwBAAEAAGgAaAA4ADgD8//z/AgACAAoACgAJAAkAGQAZABQAFAAbABsAIAAgABAAEAD9//3/0P/Q/8f/x//M/8z/y//L/8z/zP/T/9P/yf/J/4v/i/9a/1r/VP9U/2b/Zv92/3b/ov+i/8f/x//8//z/HAAcABIAEgAVABUAGAAYADIAMgBOAE4AMAAwABsAGwAXABcADQANABEAEQAXABcACwALAPf/9/+9/73/p/+n/7n/uf/l/+X/LwAvAEUARQBHAEcATQBNAEIAQgBDAEMAOwA7ADEAMQA0ADQAHwAfAAAAAADB/8H/fv9+/0v/S/8h/yH/Mv8y/1L/Uv+X/5f/3//f//z//P//////CgAKAAEAAQDX/9f/wv/C/5j/mP93/3f/cP9w/2X/Zf9M/0z/K/8r/zP/M/9Z/1n/fv9+/5f/l/+n/6f/xf/F/7f/t/+h/6H/qf+p/6X/pf+V/5X/iv+K/1z/XP9U/1T/Xv9e/2r/av9m/2b/ZP9k/3z/fP9d/13/T/9P/1D/UP9u/27/rf+t/8z/zP/G/8b/v/+//7D/sP+Z/5n/hf+F/23/bf9o/2j/af9p/1//X/9s/2z/i/+L/8D/wP/k/+T/+v/6/xQAFAAQABAA+//7//L/8v/j/+P/uv+6/5z/nP95/3n/bf9t/1f/V/9f/1//jP+M/6P/o/+4/7j/tv+2/9r/2v/0//T/4//j/+j/6P/U/9T/rP+s/5b/lv9z/3P/UP9Q/1L/Uv9y/3L/dv92/4z/jP/D/8P/vP+8/9j/2P/L/8v/2v/a/xoAGgAkACQANgA2AEMAQwBJAEkANAA0ACAAIAA1ADUALgAuACkAKQAnACcASgBKAFcAVwByAHIAXwBfADgAOABGAEYAPAA8AC4ALgA/AD8ANQA1ADkAOQBTAFMAYwBjAHgAeAB+AH4AhACEAK8ArwDdAN0A+gD6AAYBBgEAAQABBQEFAdEA0QDIAMgAtwC3AJUAlQCuAK4ArwCvAL4AvgCuAK4AvAC8AJMAkwB4AHgAgwCDAHIAcgBvAG8AhACEAGsAawCPAI8ArgCuAJYAlgCEAIQAbABsAGUAZQBoAGgAbgBuAIYAhgBwAHAARwBHAEsASwBEAEQAPgA+AF8AXwB0AHQAbwBvAIQAhABlAGUAbABsAHUAdQBcAFwAdwB3AH4AfgB6AHoAegB6AG8AbwBYAFgAXABcAEUARQA9AD0AHgAeACUAJQAPAA8ACgAKAAQABADn/+f/2P/Y/8X/xf+4/7j/u/+7/8T/xP/0//T/AAAAAP3//f/5//n/+//7/+P/4/+t/63/iv+K/2D/YP9Y/1j/XP9c/1v/W/9h/2H/f/9//6z/rP/J/8n/5f/l/wwADAAbABsAGwAbABYAFgD5//n/AAAAAPL/8v/d/93/zv/O/77/vv+//7//1v/W/+H/4f/B/8H/vv++/6T/pP+m/6b/vv++/8n/yf/f/9//2//b/+z/7P8CAAIABAAEAOj/6P/c/9z/yv/K/6X/pf+e/57/uf+5/8j/yP/e/97/AQABABQAFABAAEAAQwBDAEQARAA5ADkAIwAjABMAEwAZABkAAQABANv/2//n/+f//P/8//v/+/8jACMAVQBVAF4AXgBdAF0APQA9AFUAVQBVAFUAOQA5AEEAQQAwADAAHQAdAA0ADQDy//L/3//f/+H/4f/4//j/AAAAAAMAAwD8//z/+f/5/9D/0P/W/9b/1v/W/77/vv/D/8P/wP/A/8H/wf+//7//tP+0/4T/hP9W/1b/M/8z/x7/Hv8c/xz/M/8z/2D/YP9h/2H/iP+I/6b/pv+//7//3v/e/8f/x//E/8T/xP/E/8X/xf/F/8X/x//H/8L/wv/a/9r/yP/I/77/vv/X/9f/+P/4/y8ALwBEAEQAPQA9AFkAWQBhAGEAfwB/AHMAcwBRAFEANAA0ABsAGwABAAEA6P/o/73/vf+l/6X/kv+S/2j/aP90/3T/gf+B/6H/of+x/7H/rv+u/8z/zP/H/8f/t/+3/8L/wv+1/7X/n/+f/7v/u//T/9P/5//n/+T/5P/h/+H/4f/h/93/3f/1//X/BAAEAP////8AAAAAAAAAABcAFwAkACQAHwAfAAoACgDt/+3/3f/d//r/+v/f/9//2P/Y/7v/u//T/9P/DgAOACMAIwBBAEEAMAAwAD0APQBDAEMAPwA/AD8APwA9AD0APQA9ADgAOAA6ADoAVQBVAF8AXwBBAEEAQwBDAEkASQA2ADYAOQA5AAAAAAACAAIAKQApAGMAYwCzALMAygDKAMsAywCgAKAAiQCJAIoAigCHAIcAhwCHAF0AXQA+AD4AKQApABoAGgDn/+f/wv/C/8H/wf/F/8X/4v/i//z//P8aABoAJQAlAD4APgBJAEkAXABcAIUAhQBkAGQAYgBiAEoASgAtAC0AOAA4ABsAGwDr/+v/xv/G/8z/zP/K/8r/1//X//T/9P/w//D/DAAMADIAMgBfAF8AbABsAFUAVQBDAEMAQABAAFYAVgBpAGkAaABoAFYAVgA9AD0AJgAmACQAJAAjACMAJAAkABgAGAD6//r/0//T/9T/1P/l/+X/rP+s/53/nf+e/57/gP+A/3v/e/+A/4D/Z/9n/2D/YP9U/1T/Qf9B/2D/YP9l/2X/Wf9Z/zP/M/8d/x3/Gv8a/xb/Fv8u/y7/bf9t/3j/eP+g/6D/vv++/8T/xP/A/8D/tP+0/5//n/+H/4f/X/9f/1v/W/91/3X/p/+n/93/3f8rACsAXQBdAGIAYgBjAGMASQBJAEYARgAwADAANAA0AP7//v/E/8T/o/+j/5f/l/+d/53/mP+Y/6b/pv/W/9b/BAAEADEAMQBUAFQAYgBiAHoAegB+AH4AegB6AGEAYQBFAEUAPgA+AC0ALQAiACIAOwA7ADYANgA6ADoAHgAeAEcARwBlAGUAlwCXAN4A3gDrAOsABgEGAfAA8ADYANgAuQC5AJoAmgC0ALQAwQDBAMAAwADBAMEAuwC7AKEAoQCHAIcAYABgAEEAQQA+AD4AOQA5ABUAFQD7//v/EAAQACsAKwAPAA8A/P/8/xoAGgAfAB8ACAAIAP////8fAB8AHwAfADsAOwBEAEQAIQAhAAAAAAAMAAwAGQAZAOf/5//d/93/3//f/9z/3P/e/97/AgACAB0AHQAwADAARQBFAFQAVABfAF8APwA/ADwAPAA4ADgAJgAmADgAOAAqACoA+P/4/wAAAAAYABgAGQAZABMAEwD9//3/BAAEAAAAAAAUABQAHwAfABwAHAAVABUA+//7/+P/4//X/9f/5f/l/w4ADgAfAB8ANAA0AGsAawBwAHAATABMAA0ADQACAAIA7v/u/+L/4v/5//n/3P/c//j/+P8bABsAGAAYADAAMABGAEYAQQBBAFkAWQBbAFsANAA0AB0AHQA6ADoARwBHAD4APgBXAFcAcQBxAE4ATgBGAEYAYwBjAGQAZABrAGsAmwCbAJAAkABoAGgAXwBfAGsAawCjAKMAywDLAM0AzQDmAOYA8QDxAMgAyACPAI8ATQBNAAsACwABAAEA1//X/7f/t/+g/6D/uP+4/8L/wv+//7//1v/W/xoAGgAlACUALQAtACQAJAAAAAAADQANACgAKAAIAAgA2//b/+D/4P/I/8j/vP+8/8H/wf++/77/vv++/57/nv+p/6n/1v/W//X/9f8lACUASQBJAGsAawB9AH0AeAB4AHoAegCDAIMAQwBDABoAGgD6//r/sP+w/5b/lv+g/6D/zv/O/9T/1P/o/+j/+//7/+z/7P/Y/9j/2P/Y/9n/2f/c/9z/v/+//8D/wP+3/7f/k/+T/3//f/+C/4L/av9q/13/Xf9p/2n/jf+N/5//n/+x/7H/zv/O/+H/4f/B/8H/yf/J/+L/4v/a/9r/4//j/+D/4P/E/8T/wP/A/6n/qf+M/4z/lf+V/8L/wv+5/7n/p/+n/+D/4P/c/9z/xv/G/7T/tP+m/6b/kv+S/6L/ov+f/5//gv+C/5v/m/+R/5H/pv+m/8b/xv/l/+X/5f/l//3//f/i/+L/uv+6/5j/mP+D/4P/hv+G/4j/iP+k/6T/pv+m/5L/kv9+/37/gv+C/5j/mP+r/6v/s/+z/7H/sf/D/8P/vv++/8D/wP+S/5L/gP+A/2b/Zv9N/03/Uf9R/x3/Hf8v/y//Rf9F/0X/Rf9K/0r/Rf9F/yX/Jf80/zT/Rv9G/1n/Wf91/3X/d/93/33/ff+X/5f/mP+Y/6j/qP/H/8f/sf+x/6P/o/+g/6D/n/+f/6D/oP+i/6L/of+h/4D/gP99/33/gP+A/3H/cf9a/1r/W/9b/2j/aP+b/5v/vf+9/77/vv+2/7b/lf+V/4H/gf+P/4//ov+i/6L/ov++/77/2P/Y//T/9P8PAA8A9v/2/+v/6//r/+v/5v/m/+f/5//l/+X/5v/m/+L/4v/k/+T/4f/h/+D/4P/9//3/5v/m/wsACwAmACYANwA3AFMAUwBjAGMAZwBnAFwAXAA/AD8AJgAmAAMAAwAwADAAYQBhAGoAagBxAHEASABIAEAAQABFAEUAPwA/AEYARgA5ADkAHwAfACUAJQAjACMAIQAhACQAJAAeAB4ABAAEACEAIQAkACQASQBJAHAAcACCAIIAggCCAJsAmwCiAKIAnQCdAIUAhQB/AH8AZgBmAGcAZwBhAGEATgBOAGIAYgBkAGQAgQCBAIUAhQB/AH8AmwCbAMQAxADEAMQAxQDFAMIAwgDAAMAAoACgAKQApACkAKQArQCtAL8AvwCSAJIAhgCGAIgAiACGAIYApgCmAKUApQClAKUApwCnAKkAqQDGAMYAzgDOALgAuACfAJ8AggCCAG4AbgBtAG0AawBrAG0AbQBtAG0AigCKAH8AfwBjAGMAagBqAGYAZgBuAG4AhgCGAIQAhACHAIcAXwBfAEYARgAiACIAAwADAAkACQD7//v/4v/i/9r/2v/j/+P/5v/m/+X/5f/k/+T/5P/k/+H/4f/m/+b/1P/U/73/vf+3/7f/oP+g/6v/q/+P/4//nf+d/6X/pf+4/7j/0v/S/8D/wP/C/8L/wP/A/7//v/+9/73/v/+//73/vf+9/73/kv+S/3T/dP9//3//ef95/5f/l/+L/4v/ff99/33/ff+D/4P/mP+Y/5j/mP+X/5f/pP+k/7f/t/+2/7b/0v/S/+z/7P/6//r/9v/2/97/3v/0//T/+v/6//f/9//4//j/9f/1//P/8//v/+//1f/V/7r/uv+U/5T/m/+b/5r/mv99/33/gf+B/4D/gP+N/43/o/+j/5//n/+g/6D/pP+k/8D/wP/B/8H/zv/O//z//P8JAAkA7//v/+D/4P/D/8P/n/+f/57/nv+G/4b/d/93/5P/k//K/8r/4v/i//D/8P8GAAYADAAMACcAJwAhACEAJQAlACgAKAArACsAKQApACoAKgA3ADcASgBKAEkASQAaABoADQANACYAJgAtAC0AUQBRAGcAZwCDAIMAeAB4AJEAkQCGAIYAdAB0AIMAgwB5AHkAigCKAKYApgCrAKsA3QDdANAA0ADHAMcA5QDlAO0A7QDqAOoA9gD2AP4A/gDnAOcA4QDhAKcApwCEAIQAcABwAH0AfQCUAJQAgwCDAH0AfQCVAJUAowCjAI4AjgB9AH0AdgB2AJAAkACHAIcAkwCTAKMAowCFAIUAlgCWAIIAggBUAFQAQQBBAD4APgAoACgACwALAAgACAAfAB8AJwAnAEQARAA9AD0AVQBVAEgASAAjACMABwAHAP7//v8CAAIA6f/p/8b/xv+u/67/lv+W/5r/mv+W/5b/p/+n/8z/zP+6/7r/tf+1/7P/s/+a/5r/lP+U/3n/ef93/3f/eP94/3b/dv90/3T/df91/4H/gf91/3X/dv92/2D/YP9O/07/bv9u/2z/bP9S/1L/df91/3X/df94/3j/cf9x/4b/hv+E/4T/VP9U/1j/WP9A/0D/Tf9N/1//X/9f/1//Y/9j/2H/Yf9i/2L/VP9U/zn/Of9S/1L/X/9f/13/Xf9g/2D/Yf9h/17/Xv9H/0f/Rf9F/0P/Q/9Z/1n/Zv9m/3L/cv+Q/5D/pf+l/4f/h/+l/6X/kP+Q/67/rv/o/+j/BAAEACcAJwAQABAABAAEAP////8ZABkAQQBBACUAJQA8ADwAQQBBAD0APQBFAEUAZQBlAG8AbwCHAIcAcQBxAGsAawBsAGwAXgBeAGIAYgBHAEcAIAAgADUANQAsACwAHwAfAB4AHgAeAB4AGQAZACoAKgA+AD4AHQAdABsAGwAYABgAHwAfAAgACAD6//r/AAAAAAEAAQD/////FAAUAB4AHgAsACwAVwBXAFMAUwBCAEIAWQBZAD8APwA/AD8ANQA1ACoAKgAoACgAEQARAP3//f/W/9b/w//D/9v/2/+6/7r/xP/E/9v/2//a/9r/2f/Z/+X/5f8AAAAA/v/+//z//P8AAAAAHgAeACMAIwAZABkA6v/q/97/3v/g/+D/2v/a/8b/xv+//7//qP+o/47/jv+A/4D/jP+M/6P/o/+j/6P/e/97/1//X/9j/2P/Yv9i/2H/Yf94/3j/r/+v/8P/w//n/+f/AAAAAM7/zv/M/8z/yv/K/7n/uf+8/7z/zv/O/+T/5P/K/8r/1//X/7j/uP+G/4b/df91/0r/Sv9a/1r/Xf9d/2//b/+G/4b/sP+w/7v/u/+4/7j/vf+9/7L/sv+D/4P/ZP9k/1T/VP9f/1//jv+O/6L/ov/J/8n/2f/Z/+r/6v8AAAAA5f/l/wYABgAGAAYAGgAaAC0ALQAlACUAPwA/ADsAOwAfAB8ABgAGACAAIABFAEUAXABcAGoAagBUAFQAMAAwACYAJgAkACQAPAA8AEkASQBGAEYARABEAD8APwBEAEQAXgBeAGMAYwBNAE0APwA/ACkAKQAfAB8ACAAIAPX/9f/a/9r/6f/p/y0ALQAwADAAJAAkACgAKAAmACYARwBHAGMAYwCOAI4AvwC/ANgA2ADtAO0A6QDpAOkA6QAHAQcB9AD0ANIA0gC8ALwAoACgAIQAhAB6AHoAbABsAIIAggB+AH4AjACMAKEAoQCwALAAyQDJAMQAxADUANQA5wDnAOMA4wDZANkAtAC0AKIAogCSAJIAfAB8AGkAaQBCAEIAKAAoACcAJwAvAC8ASABIAGUAZQCDAIMAlQCVAK8ArwCvAK8AyADIAOIA4gDSANIAzQDNAMUAxQCXAJcAeQB5AFsAWwA0ADQADAAMABkAGQA8ADwAYQBhAHkAeQCMAIwAiwCLAI0AjQCCAIIAUwBTACsAKwAMAAwABwAHAOb/5v/t/+3/CQAJAP/////+//7/1P/U/7j/uP++/77/wf/B/97/3v8KAAoAKAAoACIAIgApACkAGwAbAAIAAgAHAAcADwAPAAYABgD9//3/2P/Y/+D/4P/6//r/8v/y//T/9P/2//b/+f/5/x8AHwBDAEMASQBJAGwAbACAAIAAkQCRAKsAqwDEAMQAwgDCAKwArACFAIUASgBKAD4APgATABMA//////X/9f+9/73/4f/h/9T/1P/Y/9j/zf/N/7z/vP/A/8D/yf/J/+j/6P/O/87/3v/e/+b/5v/f/9//4P/g/9L/0v+k/6T/mv+a/5v/m/+X/5f/qf+p/73/vf+8/7z/u/+7/8D/wP/0//T/9v/2//H/8f/8//z/+f/5/xAAEAAAAAAA/f/9/9T/1P+d/53/bf9t/1L/Uv8//z//Wv9a/2T/ZP9e/17/bf9t/6H/of/F/8X/4P/g/+D/4P/e/97/3//f/+D/4P/S/9L/tv+2/5r/mv+Y/5j/n/+f/4n/if+V/5X/nP+c/5j/mP+z/7P/vv++/7f/t//E/8T/2v/a/9P/0/+1/7X/tf+1/9f/1/+//7//uf+5/7v/u/+3/7f/tP+0/5r/mv+U/5T/ff99/5P/k/+F/4X/pP+k/73/vf/f/9//EwATAB0AHQABAAEA/f/9///////8//z/+//7/woACgDz//P/CwALAC8ALwBIAEgAYwBjAHwAfABhAGEAYgBiAEYARgAjACMAGAAYAOX/5f+9/73/zP/M/+L/4v/i/+L/y//L/7v/u/+3/7f/j/+P/5f/l/+Z/5n/i/+L/6X/pf+f/5//of+h/4D/gP+E/4T/d/93/2r/av+G/4b/gf+B/4T/hP+a/5r/ov+i/7v/u//J/8n/4v/i/9v/2//2//b/HAAcAB0AHQA1ADUAHgAeAAIAAgD3//f/+//7//z//P//////AgACAOT/5P/w//D/AwADABYAFgBCAEIAQABAAEUARQAsACwAJAAkAA8ADwAAAAAAAwADAPD/8P/3//f/1P/U/8H/wf+o/6j/l/+X/3v/e/9c/1z/eP94/2r/av+E/4T/nv+e/6v/q//W/9b/2v/a/+X/5f/+//7//f/9//////8CAAIA+P/4/+L/4v8AAAAAAQABAOj/6P/m/+b/5P/k//D/8P8HAAcAAQABAAIAAgAAAAAAAAAAAAIAAgACAAIA5f/l/+P/4//O/87/vv++/8T/xP+3/7f/oP+g/6D/oP9//3//lv+W/6b/pv+e/57/o/+j/5P/k/+I/4j/q/+r/8z/zP/k/+T/3P/c/93/3f/O/87/2v/a/+7/7v/+//7/4//j//r/+v/7//v/+v/6//7//v/4//j//P/8//b/9v8EAAQAFgAWACAAIAA8ADwATwBPAGwAbACEAIQAgwCDAIEAgQCAAIAAfwB/AGcAZwBGAEYAIwAjABMAEwAcABwANQA1ADwAPABaAFoAXQBdAFsAWwBvAG8AeQB5AF8AXwBHAEcAIwAjAB0AHQADAAMA///////////9//3/9v/2/xAAEAAaABoAHAAcAC8ALwAeAB4A9//3/+D/4P8DAAMA+v/6/+L/4v/i/+L/4//j/+T/5P/3//f/EQARACIAIgAgACAAHAAcABcAFwD9//3/3v/e/9//3//g/+D/CQAJACcAJwAYABgAIwAjACMAIwAeAB4AHwAfABsAGwA0ADQAQgBCAD0APQBWAFYARwBHAD0APQAlACUAJgAmAEMAQwBEAEQAUgBSAGMAYwBsAGwAhwCHAIAAgACEAIQAhACEAIMAgwCCAIIAgwCDAGsAawBOAE4AMgAyAA0ADQAMAAwAPQA9ACMAIwAxADEAKgAqAP7//v8AAAAAAAAAAAAAAAAAAAAA/v/+//z//P/+//7/9v/2/xIAEgAGAAYAHAAcADwAPAAZABkAMwAzADwAPAAxADEAVwBXAF8AXwBCAEIAIgAiAAEAAQAAAAAA/v/+/+T/5P/a/9r/wf/B/6f/p/+w/7D/xP/E/8L/wv/m/+b/5f/l/+z/7P8RABEAKAAoABEAEQAFAAUABgAGAAMAAwAAAAAACgAKACEAIQD/////3f/d/9v/2//a/9r/8//z///////7//v//f/9//z//P//////7//v//L/8v/+//7/BgAGACIAIgAbABsAIwAjACcAJwAiACIAIwAjADAAMABFAEUATABMAHkAeQCcAJwAogCiALQAtADDAMMAsgCyAJ8AnwCjAKMApQClAKYApgCKAIoAhwCHAIIAggCDAIMAZABkAEIAQgA1ADUAIgAiACoAKgAqACoAGAAYAPj/+P/x//H/DAAMAPD/8P//////8f/x/9f/1//e/97//P/8/wEAAQAHAAcA7f/t/+7/7v/9//3/+v/6/yoAKgAkACQANQA1ADgAOAAiACIAKAAoAAwADAABAAEAAwADAA4ADgApACkAJQAlACoAKgApACkAKQApACsAKwApACkADQANAA8ADwApACkAPwA/AGcAZwCKAIoAigCKAHAAcABfAF8AYwBjAGIAYgBiAGIAZwBnAFAAUAAvAC8AEQARAOv/6//K/8r/sf+x/63/rf/o/+j/HgAeAEEAQQAhACEAHwAfABoAGgD3//f/5//n/+b/5v/A/8D/qP+o/8L/wv+//7//0P/Q//j/+P8AAAAAAQABAAAAAAADAAMAIQAhACYAJgATABMAAgACAAMAAwAAAAAA5P/k/+L/4v/m/+b/5v/m/+L/4v/O/87/sv+y/6r/qv+q/6r/qv+q/4j/iP+H/4f/uv+6/53/nf+7/7v/sP+w/5r/mv+Z/5n/f/9//2L/Yv9s/2z/ff99/1z/XP9a/1r/XP9c/1z/XP9c/1z/Xf9d/1r/Wv9X/1f/ev96/5r/mv+3/7f/qf+p/5z/nP+i/6L/mP+Y/6f/p/+9/73/uP+4/8f/x//f/9//9//3/+T/5P/i/+L/yP/I/9H/0f/m/+b/4v/i/97/3v/g/+D/1//X/6n/qf+h/6H/m/+b/2r/av9//3//b/9v/1j/WP96/3r/ff99/5f/l/+c/5z/gP+A/5T/lP+l/6X/hP+E/4T/hP+b/5v/vf+9/+z/7P8NAA0AFAAUAOb/5v+7/7v/ff99/17/Xv98/3z/pv+m/8H/wf/K/8r/7//v/wMAAwD+//7/EgASAB0AHQA0ADQAQABAAEAAQAApACkA/////wAAAADY/9j/s/+z/6L/ov+h/6H/ef95/2H/Yf9i/2L/Yf9h/2T/ZP9K/0r/PP88/zv/O/9P/0//d/93/5P/k/+r/6v/v/+//57/nv+X/5f/e/97/3//f/9v/2//Wf9Z/0j/SP82/zb/S/9L/5X/lf/U/9T//P/8/xUAFQAzADMAMwAzACsAKwBBAEEATABMAGcAZwBdAF0AZQBlAE4ATgBFAEUARQBFACgAKAAkACQAJQAlACIAIgAwADAARgBGAEYARgBGAEYALQAtACkAKQAtAC0AKQApAEUARQBOAE4ALwAvAEIAQgAlACUADAAMAPH/8f/b/9v/2f/Z/7T/tP+c/5z/ov+i/57/nv+0/7T/4f/h/yAAIABDAEMATwBPAGgAaABIAEgATwBPAFAAUAAdAB0AIAAgAO7/7v/A/8D/0P/Q/+L/4v/2//b/AAAAAAMAAwAzADMAOgA6AHsAewCLAIsAeAB4AKcApwC8ALwAuwC7ALAAsACAAIAAUQBRACMAIwDm/+b/2P/Y/+D/4P/e/97/4P/g//H/8f8aABoASgBKAHAAcACvAK8ArgCuAJUAlQCCAIIAawBrAEgASAAsACwAEgASAP3//f/8//z/3//f/+7/7v8cABwAOAA4AGcAZwCCAIIApgCmALsAuwDDAMMA8ADwAOQA5ADrAOsA5ADkAMIAwgCUAJQAbABsAE4ATgBMAEwAMwAzACkAKQBTAFMAXABcAEoASgBfAF8AWgBaAGcAZwBWAFYAVwBXAIQAhACOAI4AqgCqAIwAjABWAFYAFQAVAMv/y/+2/7b/lP+U/37/fv98/3z/eP94/3r/ev96/3r/lf+V/5z/nP/B/8H/3//f//n/+f8GAAYA9//3/wAAAAD/////+v/6/9//3//U/9T/oP+g/37/fv+C/4L/mv+a/8j/yP/i/+L/4P/g/9//3//j/+P/3v/e/83/zf/i/+L/3//f/+D/4P/i/+L/3//f/97/3v/f/9//6v/q/wMAAwDu/+7/4//j/9n/2f+r/6v/pP+k/63/rf/c/9z/4//j//j/+P8FAAUAAAAAABUAFQA7ADsAbwBvAIYAhgCIAIgAgACAAFUAVQAuAC4AAwADAAUABQDo/+j/8//z/wAAAAAQABAAVABUAGgAaACGAIYAjwCPAHAAcABKAEoAZgBmAGUAZQBwAHAAigCKAKQApACoAKgAtQC1AKYApgC6ALoAzADMAMcAxwDiAOIA6wDrAOsA6wDSANIAxgDGAMMAwwCrAKsAzwDPAN8A3wDhAOEAugC6AJ4AngCWAJYAgACAAIcAhwBwAHAAfQB9AIkAiQCAAIAAgQCBAGYAZgBUAFQAQgBCADkAOQBJAEkAZABkAEgASAA/AD8AMAAwABcAFwAEAAQABQAFAOj/6P/h/+H/4f/h/97/3v/8//z/9P/0/7//v/+e/57/ev96/0z/TP9D/0P/Tf9N/23/bf+O/47/ov+i/6P/o/+a/5r/af9p/2r/av9j/2P/YP9g/2D/YP9d/13/dP90/3n/ef+A/4D/lf+V/5X/lf+Q/5D/YP9g/1r/Wv9b/1v/V/9X/2z/bP9d/13/UP9Q/1v/W/+A/4D/p/+n/7n/uf/W/9b/xf/F/7b/tv+6/7r/sf+x/9b/1v/j/+P/0//T/7v/u//V/9X/4P/g/93/3f/h/+H/4//j/9f/1//e/97/4P/g/+L/4v/i/+L/x//H/8f/x//J/8n/tf+1/47/jv95/3n/k/+T/4P/g/99/33/n/+f/4H/gf+I/4j/pv+m/7j/uP/g/+D/6v/q/wQABADw//D/2//b//D/8P8CAAIABgAGACYAJgA9AD0AVwBXAGMAYwBdAF0AZgBmAGIAYgBvAG8AhgCGAIcAhwCIAIgAjACMAIoAigBoAGgAcwBzAIoAigCGAIYApwCnAKkAqQCkAKQAswCzAJwAnACgAKAAigCKAHAAcABPAE8AJAAkACUAJQAGAAYA+//7/xwAHAAdAB0AOAA4AEMAQwAmACYAJAAkACUAJQAlACUAPAA8AEkASQAsACwABQAFABwAHAAmACYAJQAlACkAKQBXAFcAYwBjAFUAVQBxAHEAaABoAIAAgACKAIoAawBrAFoAWgBAAEAAMAAwADAAMAATABMA9v/2/xQAFAAcABwA+P/4/+X/5f8KAAoAAAAAAP3//f/h/+H/uf+5/7D/sP+N/43/d/93/3v/e/92/3b/Q/9D/0T/RP9j/2P/Tv9O/0z/TP92/3b/e/97/4j/iP+h/6H/m/+b/4H/gf9e/17/Xf9d/1H/Uf85/zn/OP84/zX/Nf80/zT/GP8Y/xP/E/8T/xP/Ff8V/xX/Ff8W/xb/Ff8V/xT/FP8s/yz/Iv8i/zL/Mv9a/1r/ZP9k/2D/YP9Y/1j/Nv82/xX/Ff8T/xP/E/8T/xj/GP8y/zL/Tf9N/1n/Wf9Q/1D/dv92/8b/xv/Z/9n/9v/2/x4AHgAfAB8AHQAdAAAAAAD4//j/3P/c/8f/x/+z/7P/kf+R/3z/fP+S/5L/xP/E/wAAAAAGAAYALwAvAEQARABDAEMANAA0AB4AHgAbABsA/f/9/9H/0f+e/57/lP+U/57/nv+H/4f/ef95/6v/q/+//7//1//X/+T/5P/d/93/3v/e/9v/2//d/93/4f/h/+P/4/8QABAAQwBDAFQAVABoAGgAZwBnAGcAZwBEAEQAWQBZAF8AXwCHAIcAiACIAF0AXQB+AH4AfgB+AJEAkQCmAKYApACkAIAAgABNAE0AJwAnAP7//v/8//z/+//7//n/+f8KAAoAIgAiADcANwBLAEsAVABUADYANgAaABoA8v/y/wYABgAIAAgAHwAfACwALAAkACQAPQA9AD0APQA8ADwAOwA7ADsAOwA+AD4AOQA5AD0APQA8ADwAQwBDADMAMwAgACAAOwA7AEAAQABRAFEAIgAiABsAGwAQABAA+//7/wIAAgAAAAAACgAKACQAJAAsACwATwBPAGgAaABqAGoAWQBZAD8APwA1ADUAAwADAP7//v8BAAEAAAAAACQAJAA4ADgAEwATAP3//f8AAAAAAwADAAIAAgDr/+v/2//b/8b/xv/K/8r/3v/e/+v/6/8KAAoAKgAqAEIAQgA/AD8APgA+ADoAOgAiACIAEAAQAAEAAQD/////AQABAAEAAQANAA0AJgAmACgAKABEAEQARABEAFMAUwBsAGwAfQB9AHwAfABlAGUAWABYAEMAQwAdAB0A6//r/+v/6/8NAA0AJwAnACUAJQAeAB4AHwAfABwAHAAhACEAIQAhACkAKQA/AD8AQQBBAD4APgBJAEkAZABkAFEAUQA4ADgANQA1ABgAGAAoACgATwBPAEMAQwA4ADgAPgA+ADwAPAAzADMACQAJACgAKAAjACMAMAAwAEAAQAAcABwAHgAeAB0AHQAXABcAGgAaADwAPAAiACIA+//7//7//v8AAAAAHgAeAAsACwDz//P/3P/c//X/9f8CAAIAGAAYABoAGgAWABYAHAAcABgAGAD5//n/4P/g//X/9f8BAAEAAQABAAEAAQAAAAAAAAAAAPz//P/j/+P/3//f/+f/5/8DAAMABgAGAB0AHQAqACoADAAMAOr/6v/g/+D/wf/B/5//n/+3/7f/w//D/8H/wf/B/8H/wf/B/8T/xP+m/6b/jP+M/37/fv9l/2X/af9p/4H/gf+Z/5n/sf+x/8//z//z//P/+//7/+j/6P8UABQAIQAhABsAGwD7//v/+P/4/w8ADwA3ADcAPgA+AFMAUwBCAEIAUQBRAGIAYgBEAEQASQBJAEEAQQBCAEIAQgBCAEIAQgBCAEIAPAA8AD0APQA+AD4APQA9AFUAVQBkAGQATwBPAEcARwBkAGQAVABUACgAKAD2//b/4P/g/+H/4f/g/+D/4v/i/+H/4f/y//L/CQAJAAsACwAdAB0AJgAmAE0ATQBCAEIARgBGAD4APgAfAB8AJAAkACEAIQAxADEARQBFAD8APwBGAEYAPwA/AEgASABhAGEAWgBaAHUAdQCPAI8AhQCFAJ8AnwCDAIMAZABkADgAOAAwADAAOQA5ABwAHAAeAB4AAQABAAoACgAlACUAPgA+AFUAVQB0AHQAiwCLAGcAZwBHAEcAQgBCACkAKQAgACAAMQAxABcAFwAZABkAFAAUABYAFgD+//7/8v/y//j/+P/5//n/9f/1/8//z/+7/7v/uP+4/6b/pv+4/7j/5P/k/xAAEAAUABQAAAAAAPj/+P/k/+T/0//T//D/8P8GAAYAOAA4AEAAQAA+AD4AGwAbAPj/+P/a/9r/uP+4/6L/ov+q/6r/x//H/+L/4v/F/8X/wP/A/7//v/+7/7v/uP+4/6D/oP+6/7r/uf+5/87/zv/f/9//2//b/9v/2//W/9b/uf+5/5r/mv+J/4n/l/+X/5r/mv+t/63/wv/C/8T/xP/d/93/y//L/+//7//9//3/4v/i/wsACwALAAsABgAGAPb/9v/g/+D/5P/k/93/3f/q/+r/GAAYACUAJQAhACEALQAtAEMAQwAjACMAJwAnAA0ADQD/////AgACAOH/4f/j/+P/2v/a/7v/u//G/8b/4P/g/9r/2v/z//P//v/+/xAAEAAuAC4APgA+AGIAYgB+AH4AeQB5AIMAgwB7AHsAOgA6ABUAFQADAAMA6//r/9j/2P/a/9r/wf/B/5z/nP+c/5z/m/+b/53/nf+a/5r/nv+e/4r/iv9n/2f/W/9b/13/Xf9V/1X/Yv9i/3L/cv+A/4D/i/+L/17/Xv9A/0D/If8h/xD/EP/1/vX+9v72/vb+9v4E/wT/FP8U/xv/G/81/zX/Xf9d/3r/ev90/3T/eP94/3j/eP9+/37/Yv9i/1z/XP9Z/1n/Vf9V/2L/Yv90/3T/c/9z/3L/cv+A/4D/kf+R/2H/Yf9t/23/gv+C/4v/i/+q/6r/yf/J/+j/6P/8//z/BwAHAAcABwADAAMAHwAfAAUABQAPAA8AJwAnAA8ADwAnACcAJQAlACcAJwAjACMAIAAgACQAJAAjACMAIAAgACkAKQAmACYAPwA/AEsASwBaAFoAcQBxAIIAggB8AHwAeAB4AHYAdgBlAGUAYgBiAGkAaQBRAFEARgBGAEcARwBEAEQAQQBBAHsAewCnAKcAuwC7ALEAsQCyALIAwgDCAKgAqAClAKUAowCjAJ4AngCbAJsAggCCAFoAWgBBAEEAJAAkACkAKQBAAEAARQBFAHMAcwBhAGEAWwBbAFsAWwBYAFgAVwBXAFEAUQBRAFEAPAA8ACYAJgAXABcAAAAAAOz/7P/c/9z/2v/a/+L/4v8SABIANQA1AFIAUgBcAFwAWQBZAEAAQABdAF0ARgBGADwAPAApACkAHwAfAEEAQQBDAEMARQBFAEQARAA/AD8ALgAuAAkACQABAAEA7v/u/93/3f/o/+j//f/9/woACgAFAAUAIQAhACUAJQAVABUAKQApAAwADAD8//z/4v/i/8j/yP+6/7r/if+J/3z/fP98/3z/lf+V/6T/pP+g/6D/o/+j/6T/pP+o/6j/w//D/87/zv/I/8j/3f/d/wYABgD0//T/7P/s/wMAAwD8//z//P/8//v/+/8AAAAACgAKAB4AHgAxADEASQBJAC4ALgAkACQAKAAoABIAEgABAAEA7f/t/87/zv/P/8//7//v/+D/4P/1//X/8v/y/9//3/+u/67/gf+B/3//f/+O/47/qf+p/93/3f/o/+j/5P/k/+X/5f/i/+L/4v/i/9f/1//C/8L/wP/A/8n/yf/x//H//f/9/wEAAQD1//X/4f/h/+P/4//j/+P/4P/g//v/+//5//n/4P/g/+b/5v/g/+D/8P/w/wMAAwAWABYALQAtAEoASgBeAF4AWwBbAF0AXQBhAGEATwBPAEYARgBIAEgANQA1AD0APQAjACMAFwAXAPP/8//N/83/uv+6/73/vf/i/+L/EQARABwAHAAzADMAOAA4ADwAPAAiACIA+f/5//D/8P/M/8z/tv+2/9L/0v/d/93/3f/d/9r/2v/a/9r/BQAFAB4AHgA8ADwAKwArAB0AHQA/AD8AOwA7AFIAUgBgAGAAZQBlAEwATABTAFMAbABsAJkAmQDEAMQAyADIAMUAxQDIAMgAuwC7AI0AjQB7AHsAfwB/AGcAZwBeAF4ASgBKAFcAVwBoAGgARQBFAEMAQwBOAE4AawBrAFIAUgBDAEMAPgA+ACAAIAALAAsA7f/t/7//v/+4/7j/wP/A/6f/p/+n/6f/x//H/8L/wv/S/9L/5//n/+H/4f/D/8P/vf+9/8P/w//a/9r/4v/i/8r/yv+6/7r/vv++/8H/wf+1/7X/qf+p/93/3f/k/+T/4f/h/+L/4v8AAAAA7f/t/+D/4P/N/83/xv/G//r/+v8BAAEAAwADAPT/9P/c/9z/4v/i/+D/4P/4//j/AgACAAEAAQD4//j/4P/g/+D/4P/7//v/+f/5/9D/0P+5/7n/1P/U/+j/6P8AAAAA/P/8/9T/1P/A/8D/rP+s/3//f/+W/5b/vf+9/8b/xv/K/8r/vf+9/5n/mf96/3r/e/97/37/fv97/3v/d/93/43/jf+Z/5n/mP+Y/5r/mv+A/4D/ef95/3n/ef+P/4//n/+f/5T/lP+z/7P/2P/Y/7z/vP/Z/9n/2//b/9//3//F/8X/m/+b/5v/m/+X/5f/nv+e/5r/mv+1/7X/w//D/8T/xP+m/6b/tf+1/8X/xf/X/9f/EQARADwAPABUAFQAZwBnAGYAZgBlAGUAgQCBAKwArACqAKoArgCuAKIAogB7AHsAaQBpAEwATABIAEgASgBKAEQARABVAFUAgACAAJ8AnwC6ALoAuwC7AKMAowCOAI4AVgBWAEEAQQBPAE8ASABIAEgASAAtAC0ABQAFANH/0f/F/8X/xf/F/8f/x//l/+X/BAAEAAMAAwAbABsAJAAkAP/////m/+b/0P/Q/7r/uv+8/7z/xP/E/7j/uP/B/8H/6//r/87/zv/r/+v/AgACABUAFQAhACEAGgAaABsAGwAbABsAEgASAPH/8f/F/8X/t/+3/57/nv+d/53/nv+e/7T/tP/D/8P/w//D/7P/s//F/8X/z//P/8j/yP/S/9L/uf+5/73/vf++/77/qP+o/5//n/+k/6T/s/+z/87/zv/H/8f/4v/i/wUABQArACsAQgBCAD4APgBfAF8ANAA0AB0AHQAFAAUA2//b/9z/3P/v/+//FQAVABsAGwAbABsAHwAfACYAJgAbABsAAQABAP////8LAAsAIwAjADsAOwBUAFQARwBHAEUARQAYABgAzP/M/6b/pv+m/6b/qf+p/6f/p/+j/6P/tf+1/8z/zP/Y/9j/5//n//v/+/8WABYAPwA/AFgAWABqAGoAYwBjAGUAZQBWAFYAOwA7ABYAFgD5//n//v/+/+P/4//Y/9j/uv+6/7T/tP/A/8D/1//X/wIAAgAGAAYACwALAAoACgAFAAUAEgASACoAKgAVABUA+P/4/+b/5v/R/9H/w//D/8f/x//H/8f/w//D/8b/xv/g/+D/+//7/zAAMABHAEcARQBFAGAAYABkAGQAVgBWACcAJwD0//T/zP/M/7r/uv+9/73/2//b/93/3f/e/97/y//L/83/zf/c/9z/uv+6/6D/oP+g/6D/o/+j/6//r//N/83/6f/p/+v/6//l/+X/zP/M/8f/x//A/8D/wf/B/6n/qf+M/4z/pP+k/57/nv+s/6z/yv/K//D/8P8eAB4APgA+AHcAdwCMAIwAjwCPAKcApwCkAKQAtgC2AMcAxwCmAKYAhgCGAGIAYgBGAEYAQABAAFAAUABqAGoAZQBlAIgAiABpAGkAbgBuAJYAlgCdAJ0AmQCZAH8AfwBVAFUAPQA9AD0APQAjACMAHgAeACIAIgAQABAA/P/8///////+//7//v/+///////t/+3/2//b//r/+v8IAAgABQAFAB8AHwAdAB0AKQApAEYARgBjAGMAYQBhAHcAdwB2AHYAXwBfAGQAZABiAGIAZwBnAFIAUgAsACwAGwAbABkAGQAYABgAKgAqAGIAYgCCAIIAfgB+AIQAhACLAIsAbgBuAHcAdwBpAGkAOAA4AAYABgD6//r//f/9//n/+f8ZABkAHQAdADcANwBAAEAAPgA+ADwAPABJAEkAKwArAPf/9//u/+7/6//r/+L/4v/a/9r/o/+j/6X/pf+i/6L/wP/A/+7/7v/s/+z/CAAIAPf/9//V/9X/2f/Z/77/vv+v/6//mf+Z/3n/ef+Q/5D/tf+1/6L/ov+k/6T/pf+l/63/rf/N/83/8//z/w0ADQAVABUABgAGANz/3P+7/7v/nP+c/3b/dv92/3b/ev96/6T/pP/M/8z/7f/t/wAAAAD5//n/5v/m/8z/zP+z/7P/q/+r/6f/p/+y/7L/lP+U/5//n/+8/7z/tf+1/9X/1f/i/+L/CQAJADsAOwA5ADkAKQApABcAFwA7ADsANwA3ADQANAAzADMAFQAVAPv/+//9//3/6v/q/8P/w/+8/7z/uv+6/73/vf/J/8n/9//3/yAAIAAZABkAAAAAAC4ALgBAAEAAIwAjADgAOABEAEQARABEAC8ALwAPAA8AAAAAANH/0f+2/7b/pP+k/7n/uf/b/9v/HAAcAEkASQBKAEoASQBJACwALAAmACYADQANAPj/+P/e/97/4f/h/8v/y/+w/7D/r/+v/83/zf/t/+3/IAAgADkAOQA4ADgAUABQADMAMwAtAC0AGwAbAPT/9P/e/97/x//H/6j/qP+3/7f/wv/C/+r/6v/w//D/8v/y//P/8//b/9v/8//z/9//3//c/9z//f/9/wEAAQD1//X/y//L/7P/s/+v/6//tP+0/6v/q/+f/5//tP+0/8b/xv/N/83/uP+4/7//v//E/8T/y//L/+j/6P/O/87/1v/W/93/3f+i/6L/t/+3/+P/4//k/+T/z//P/7X/tf+i/6L/pP+k/6L/ov+m/6b/ov+i/73/vf/n/+f/5v/m/w4ADgAlACUAKgAqAD0APQA8ADwAWgBaAF0AXQBXAFcAWQBZAFYAVgBiAGIAegB6AHoAegB5AHkAgACAAJEAkQCSAJIAkQCRAIUAhQBmAGYASwBLAFcAVwBRAFEAQABAAEYARgBBAEEAQwBDAEEAQQBbAFsAXwBfAGsAawB+AH4AewB7AH8AfwBoAGgAgwCDAH8AfwCMAIwAqQCpAKYApgCkAKQApQClAKEAoQCBAIEAgQCBAGoAagBcAFwAZQBlAGcAZwCEAIQAgQCBAIAAgAB7AHsAeAB4AE8ATwAgACAAHQAdACAAIAABAAEAGgAaACsAKwAmACYARQBFAE8ATwBGAEYAUQBRAEoASgBFAEUAQgBCAD8APwA+AD4AXwBfAFgAWABBAEEAQwBDACsAKwAUABQA8f/x/+r/6v/H/8f/0//T/+n/6f/3//f/+P/4/xIAEgA4ADgAHwAfADsAOwA+AD4AHgAeABgAGADk/+T/4//j/9v/2//a/9r/1P/U/8v/y//Y/9j/2f/Z/97/3v/F/8X/w//D/+j/6P/i/+L/7f/t/wkACQD6//r/zv/O/6r/qv+Y/5j/mP+Y/5b/lv+Y/5j/kP+Q/5v/m/+0/7T/x//H//P/8//s/+z/1v/W/9//3//d/93/3f/d/9r/2v/Z/9n/v/+//77/vv+p/6n/nP+c/6L/ov+//7//3P/c/9//3//U/9T/sv+y/6H/of+m/6b/qv+q/6z/rP+x/7H/pP+k/4r/iv+p/6n/pf+l/73/vf/n/+f/zf/N/8//z//D/8P/pP+k/43/jf9o/2j/X/9f/2f/Z/9m/2b/f/9//4X/hf9w/3D/k/+T/6f/p/+P/4//lP+U/3D/cP9J/0n/J/8n/xr/Gv80/zT/PP88/zn/Of88/zz/Of85/z7/Pv9W/1b/c/9z/3//f/9+/37/hv+G/23/bf9k/2T/ZP9k/33/ff+Y/5j/oP+g/7r/uv/W/9b/xP/E/8T/xP+8/7z/ov+i/6b/pv+l/6X/pP+k/9D/0P/9//3/IAAgACQAJABBAEEARABEAEQARAA6ADoAHgAeADYANgA/AD8ANAA0AB0AHQAiACIAIgAiACUAJQALAAsAAAAAAAcABwD6//r/4f/h/+L/4v/s/+z/AwADAAcABwADAAMAGwAbABcAFwD6//r/BAAEAOj/6P/j/+P/5f/l/+P/4//n/+f/6P/o/wQABAAEAAQAAQABAAEAAQAIAAgAJAAkACgAKAAnACcADwAPAPv/+//g/+D/xv/G/8v/y//m/+b/AgACAAcABwACAAIAAAAAAAIAAgAAAAAAFQAVAEYARgB3AHcAjwCPALcAtwCxALEAiACIAIIAggBYAFgAWQBZAGoAagBhAGEAeAB4AHIAcgBJAEkAPwA/AF0AXQBjAGMAcQBxAH0AfQBgAGAAYgBiAEIAQgAXABcA9v/2/9j/2P/A/8D/qf+p/6n/qf/A/8D/5P/k/wAAAADo/+j/2f/Z/9//3//f/9//5P/k/wIAAgAkACQARgBGAGIAYgBmAGYAfwB/AIQAhACDAIMAhACEAJYAlgC5ALkA0QDRAOYA5gDQANAAtgC2AIIAggBcAFwAVABUACgAKAAfAB8AJAAkABUAFQAEAAQAKQApAEIAQgBbAFsAYgBiAGQAZABZAFkANAA0AA0ADQD+//7/+P/4/93/3f/o/+j/9v/2/8j/yP+9/73/wP/A/8T/xP/f/9//9//3/wMAAwADAAMABgAGAB0AHQA2ADYAXwBfAFcAVwBmAGYAaQBpAEQARABRAFEAYgBiAEcARwBhAGEAYABgAHgAeACGAIYAfwB/AGUAZQBTAFMAJAAkAB0AHQAbABsAAAAAAP////8fAB8AHAAcADQANAA8ADwALwAvAEQARABYAFgAYwBjAF4AXgBLAEsAKQApACsAKwAlACUAJAAkAC4ALgAMAAwABQAFAP3//f/o/+j/EAAQAC8ALwBQAFAAZABkAFsAWwB5AHkAawBrAEMAQwAqACoAIAAgABEAEQDt/+3/1v/W/6T/pP+Y/5j/n/+f/7X/tf/U/9T/4//j/+L/4v/k/+T/4//j/+z/7P8RABEAKgAqAEAAQAA/AD8AQABAAD8APwAiACIACAAIAB8AHwAfAB8AOAA4AEIAQgBIAEgAYABgAFoAWgBbAFsAXQBdAFwAXABdAF0AQQBBAB4AHgDy//L/1P/U/9f/1//F/8X/pv+m/4f/h/9+/37/gv+C/5b/lv+w/7D/2v/a//v/+/8GAAYAAgACAAIAAgDv/+//z//P/+H/4f/e/97/7v/u//r/+v/e/97/5//n/9j/2P/6//r/JQAlACMAIwAjACMAIQAhACMAIwAOAA4A5v/m/8D/wP/A/8D/qP+o/5r/mv+e/57/mv+a/7T/tP/E/8T/vv++/8P/w/+z/7P/nP+c/5n/mf+j/6P/vv++/7f/t//m/+b/6v/q/93/3f/k/+T/3//f/9r/2v+//7//uP+4/9H/0f/g/+D/xv/G/6b/pv+H/4f/e/97/4L/gv+Z/5n/pP+k/77/vv+r/6v/ov+i/8X/xf/U/9T/n/+f/3H/cf9W/1b/Pf89/1f/V/9l/2X/X/9f/3j/eP+F/4X/hP+E/5v/m/+B/4H/fv9+/3//f/+k/6T/3//f/xcAFwAgACAAIAAgACUAJQAiACIABAAEAP/////9//3//f/9//7//v8CAAIAFQAVAPb/9v/3//f/5f/l/97/3v/1//X/IQAhAD8APwBEAEQARgBGAEEAQQAjACMABwAHAPr/+v/T/9P/tv+2/7f/t//H/8f/4f/h/wMAAwA2ADYAJAAkACIAIgAlACUAJQAlACYAJgAcABwA+P/4/+L/4v/j/+P/vP+8/5b/lv+h/6H/m/+b/4n/if+d/53/uv+6/9f/1/+6/7r/vv++/6P/o/+k/6T/w//D/7//v//q/+r/+//7/9X/1f+l/6X/b/9v/1j/WP9T/1P/X/9f/3j/eP+M/4z/tP+0/9X/1f/x//H/AgACABoAGgAsACwAJQAlADIAMgBKAEoAQgBCAEUARQA2ADYAIwAjABYAFgALAAsAHgAeADQANABiAGIAgQCBAIMAgwCGAIYAegB6AG4AbgCLAIsAawBrAGMAYwBLAEsAIwAjAAoACgDh/+H/xf/F/6P/o/+B/4H/lv+W/6D/oP+m/6b/2f/Z/+T/5P/j/+P/8v/y/w8ADwAHAAcA7P/s/9z/3P+b/5v/hv+G/4P/g/+O/47/qf+p/+X/5f8DAAMADQANAEMAQwBHAEcAZQBlAIIAggCiAKIAegB6AFUAVQAyADIA8//z/9n/2f/d/93/1v/W/+D/4P/8//z/9//3/wkACQAfAB8ARwBHAF8AXwBrAGsAhACEAH0AfQB8AHwAgACAAGoAagA4ADgABAAEAOH/4f/V/9X/uf+5/9n/2f//////BwAHABgAGAAIAAgAJgAmACYAJgAkACQAIQAhACkAKQBDAEMAJgAmABwAHAAeAB4AHAAcAB4AHgAfAB8AHgAeADcANwBBAEEASwBLAG4AbgCbAJsAqgCqAKIAogCJAIkAbQBtAGIAYgBjAGMAYABgAGQAZABfAF8ATgBOAGAAYABqAGoAkACQAKMAowCmAKYAwADAAMQAxAC6ALoAmQCZAHMAcwA+AD4AIwAjACgAKAAoACgAQgBCAFEAUQBCAEIAXwBfAIoAigBtAG0AagBqAGwAbABoAGgASQBJAEYARgBEAEQAQABAACQAJAD6//r/zP/M/6n/qf+u/67/y//L/8H/wf/g/+D/CAAIAAkACQAEAAQA6v/q/+T/5P/l/+X/AgACAAMAAwACAAIABwAHAAoACgALAAsA7//v/wQABAASABIADgAOAPb/9v/1//X/KQApADEAMQAvAC8AKwArAA0ADQAJAAkA8f/x/+f/5//b/9v/7P/s/wgACAD+//7/7//v/xQAFAAkACQA8//z/+3/7f/T/9P/z//P/+3/7f/o/+j/6v/q/+b/5v/s/+z/2P/Y/8j/yP/n/+f/xP/E/8n/yf/i/+L/zv/O/9X/1f/a/9r/w//D/5H/kf+q/6r/t/+3/7T/tP+w/7D/wv/C/9H/0f+w/7D/xf/F/9b/1v/P/8//0v/S/9T/1P/V/9X/1P/U/9j/2P/A/8D/mP+Y/4//j/+G/4b/bP9s/3D/cP9s/2z/g/+D/3b/dv9y/3L/eP94/3b/dv+Q/5D/nP+c/5f/l/+X/5f/k/+T/6P/o/+L/4v/cf9x/4b/hv9w/3D/eP94/37/fv+I/4j/nv+e/33/ff9g/2D/Yf9h/2f/Z/9z/3P/lf+V/77/vv/u/+7/AgACACAAIAAFAAUA3v/e//3//f/k/+T/zP/M/6b/pv+F/4X/ev96/2D/YP9w/3D/W/9b/3b/dv9l/2X/X/9f/3f/d/9f/1//lf+V/5//n//I/8j/4//j//j/+P8FAAUAAgACAPj/+P/e/97/8P/w/wEAAQAIAAgAOwA7AGIAYgB/AH8ArQCtAMkAyQDHAMcAxgDGAJsAmwCCAIIAggCCAHQAdACZAJkAoACgAKEAoQCWAJYAfwB/AGwAbABbAFsAXgBeAFgAWABbAFsAQgBCABoAGgAWABYA/f/9//3//f//////EQARADcANwBDAEMAOwA7ABcAFwDz//P/3f/d/8b/xv/E/8T/zP/M//H/8f/2//b/EwATADIAMgBhAGEAggCCAKgAqACkAKQA1ADUAPwA/AD0APQA9gD2APUA9QDxAPEA8QDxAA8BDwERAREBEgESAQYBBgHqAOoA0QDRAM8AzwDRANEA1QDVAOwA7ADOAM4A5wDnAOkA6QDAAMAAmQCZAIAAgABoAGgAawBrAFkAWQBEAEQARgBGAEoASgA6ADoAIgAiACAAIAApACkAQgBCAD8APwA8ADwAQQBBADAAMAAWABYA6//r/+z/7P/0//T/AAAAAPz//P/O/87/yv/K/7P/s//T/9P/5//n/+X/5f/B/8H/l/+X/4f/h/9y/3L/TP9M/0L/Qv9E/0T/Q/9D/0b/Rv9L/0v/Mv8y/yX/Jf8p/yn/J/8n/yj/KP8p/yn/Kf8p/y7/Lv8R/xH/GP8Y/y//L/8r/yv/LP8s/w3/Df8R/xH/If8h/w//D/8T/xP/Ff8V/wL/Av8P/w//Af8B/yT/JP81/zX/S/9L/3b/dv+h/6H/wP/A/77/vv/b/9v/x//H/9z/3P/z//P/7P/s/+7/7v/x//H/8f/x/xEAEQAxADEALQAtAEcARwBTAFMAZwBnAKEAoQDAAMAA9AD0AAEBAQH/AP8ABAEEAQEBAQECAQIBJQElAUMBQwFFAUUBRAFEAUcBRwE6AToBDQENAfAA8ADZANkA4QDhAAQBBAEHAQcBMQExAU0BTQFlAWUBfwF/AWMBYwFTAVMBOwE7ASMBIwEeAR4BHgEeARoBGgEbARsBGAEYAf8A/wDiAOIA1wDXANwA3ADwAPAAGgEaARYBFgHyAPIAzgDOAJUAlQB3AHcARwBHACwALAAJAAkA2P/Y/6T/pP9p/2n/Tv9O/yP/I/8M/wz/D/8P/w3/Df8u/y7/Hf8d/wL/Av/c/tz+vP68/sH+wf6o/qj+jf6N/nf+d/5//n/+lf6V/q/+r/69/r3+tv62/rn+uf62/rb+tf61/rX+tf60/rT+sP6w/sT+xP7R/tH+tP60/r/+v/6k/qT+gf6B/qL+ov6I/oj+hf6F/qL+ov63/rf+yf7J/vP+8/4V/xX/LP8s/1r/Wv+M/4z/s/+z/8v/y//l/+X/+v/6/wEAAQDm/+b/9f/1/yAAIABJAEkAiQCJAKsAqwC+AL4A1wDXAOQA5ADpAOkABwEHARcBFwEzATMBMgEyATUBNQFWAVYBVwFXAXcBdwGfAZ8BrQGtAccBxwHQAdAB+gH6AQ8CDwITAhMCDwIPAi0CLQIrAisCJwInAjkCOQIvAi8CMwIzAjQCNAI3AjcCVAJUAlECUQJqAmoCeQJ5AnECcQJ9An0ClAKUApICkgK2ArYCowKjAm4CbgI9Aj0CCwILAswBzAF1AXUBKQEpAdcA1wDCAMIAsACwAI8AjwCVAJUAawBrADcANwAKAAoAsf+x/4L/gv8//z///f79/rj+uP42/jb+8P3w/X79fv3z/PP8zfzN/JX8lfxU/FT8BvwG/Jj7mPtc+1z7I/sj++n66fq5+rn6k/qT+lz6XPoY+hj60fnR+ZH5kflH+Uf5DPkM+cL4wvhc+Fz4FPgU+Ob35vfh9+H32PfY99z33PcM+Az4Ivgi+CH4IfgV+BX4N/g3+Hn4efie+J747fjt+Ff5V/m8+bz5Hvoe+mb6ZvrH+sf6KPso+5/7n/sc/Bz8vvy+/H79fv0r/iv+4f7h/or/iv88ADwA7ADsAKcBpwFrAmsCKQMpA9ID0gN2BHYEVQVVBQEGAQa4BrgGaAdoB+cH5wd5CHkIEgkSCY0JjQnwCfAJPAo8CpIKkgrfCt8KGwsbC5ELkQsDDAMMVgxWDIwMjAyrDKsMxQzFDKoMqgyLDIsMhwyHDGIMYgwiDCIMAAwADO8L7wvSC9ILpAukC2gLaAsaCxoL2QrZCpcKlwpBCkEK4wnjCYUJhQkjCSMJnQidCP8H/wdbB1sHfwZ/Br0FvQXiBOIE9gP2AzwDPANjAmMCewF7AZUAlQCr/6v/wP7A/tP90/3m/Ob8CfwJ/CH7IfsS+hL6B/kH+eL34ve/9r/27PXs9fz0/PQV9BX0T/NP84zyjPLe8d7xTvFO8b7wvvAW8BbwgO+A79/u3+5f7l/uBu4G7svty+2o7ajtfO187VXtVe0w7TDtIe0h7T/tP+1i7WLtle2V7dft1+017jXuzu7O7k7vTu/c79zvkPCQ8E7xTvEd8h3yMPMw8z70PvRZ9Vn1d/Z39oT3hPey+LL4o/mj+bz6vPro++j7J/0n/Yb+hv7Y/9j/HgEeAVACUAJsA2wDcARwBIsFiwWlBqUGsgeyB68IrwiXCZcJowqjCrYLtgu8DLwMig2KDWsOaw5KD0oP8A/wD8cQxxB6EXoR/RH9EX8SfxL1EvUSYhNiE9AT0BNWFFYUoxSjFAoVChWKFYoV2RXZFfYV9hUCFgIW3RXdFYAVgBVKFUoVHhUeFfMU8xSxFLEUTRRNFOAT4BNZE1kT0hLSEmMSYxLQEdARPRE9EX4QfhDED8QPDw8PDwEOAQ78DPwM9Av0C8kKyQqjCaMJdwh3CFUHVQdXBlcGTAVMBS8ELwT+Av4C3wHfAekA6QD1//X/4v7i/tD90P3j/OP8CfwJ/C/7L/tZ+ln6mfmZ+dH40fgL+Av4Nfc195L2kvb09fT1Y/Vj9er06vSB9IH0HfQd9J3znfMu8y7zsvKy8j3yPfIC8gLyvfG98aPxo/Fs8WzxOPE48e/w7/B+8H7wAPAA8KPvo+887zzvEO8Q7/7u/u7Y7tjuse6x7pbulu5X7lfuE+4T7vft9+3g7eDt6e3p7Q7uDu5e7l7uvO687iLvIu+z77PvIfAh8KXwpfBa8VrxM/Iz8jzzPPN09HT0o/Wj9Z72nva497j3rPis+Kv5q/nB+sH64fvh+yD9IP1+/n7+t/+3/84AzgDhAeEBMQMxA10EXQSSBZIF1gbWBvsH+wf8CPwI4AngCbUKtQplC2ULCQwJDK0MrQwtDS0NrA2sDTgOOA7KDsoOYg9iD8wPzA81EDUQoBCgEO4Q7hA6EToRdRF1EcgRyBEIEggSRxJHEqQSpBL1EvUSLRMtE3sTexOEE4QTYhNiE2gTaBOYE5gTvRO9E/UT9RMWFBYUJRQlFOwT7BOGE4YTBBMEE6ASoBJVElUS6RHpEWMRYxHXENcQCBAIEP0O/Q66DboNkgySDJoLmgtoCmgKXAlcCWUIZQhnB2cHOgY6BrwEvAQzAzMDzAHMAaQApADJ/8n/1f7V/gD+AP4k/ST9P/w//D/7P/tZ+ln6hPmE+cf4x/gp+Cn4wvfC90D3QPe69rr2J/Yn9mD1YPW69Lr0B/QH9CXzJfNo8mjygvGC8WHwYfAh7yHv8O3w7b3svexe617rGuoa6rPos+g35zfnvOW85RLkEuTD4sPig+GD4VzgXOAz3zPf4d3h3X/cf9x523nbtdq12iPaI9oK2graSNpI2svay9qZ25nbedx53Hvde93g3uDeieCJ4JDikOLD5MPkQedB5xHqEeqt7K3sVu9W7+7x7vGL9Iv0E/cT98f5x/lm/Gb8Hv8e/wQCBALbBNsEhgeGB+MJ4wknDCcMKA4oDtEP0Q+GEYYRKxMrE4UUhRTZFdkV+Bb4FvsX+xeMGIwYChkKGYoZihmXGZcZmhmaGakZqRl4GXgZWBlYGVIZUhknGScZ4xjjGIQYhBgIGAgYWxdbF+UW5RbFFsUW7BbsFlYXVhe5F7kXpRelF20XbRdCF0IXExcTFxYXFhc8FzwXfRd9F4UXhReEF4QXBBcEF2gWaBaOFY4VvRS9FPoT+hMVExUTWhJaEn0RfREuEC4QnA6cDuwM7AxRC1ELcAlwCasHqwclBiUGrASsBA8DDwMvAS8BU/9T/539nf3f+9/7BPoE+oD4gPgf9x/36fXp9ef05/TY89jz3PLc8unx6fE38TfxpfCl8EDwQPDj7+Pvk++T70TvRO/W7tbuZ+5n7uft5+2y7bLtPe097dHs0exv7G/s9Ov064Lrguux6rHqAuoC6vPo8+gG6AboLucu5xLmEubs5Ozk2ePZ46/ir+KM4YzhZuBm4EDfQN8m3ibeDd0N3cjbyNvH2sfaLdot2qHZodmN2Y3ZztnO2TLaMtq32rfaa9tr26DcoNwN3g3eot+i39vh2+F35Hfk9ub25qnpqemY7Jjsa+9r72fyZ/Kf9Z/14/jj+B78Hvyb/5v/CAMIA1MGUwa4CbgJvgy+DNUP1Q/BEsESeBV4FV8YXxjbGtsaNh02HR4fHh/kIOQgFyIXIjQjNCM+JD4k+yT7JJslmyW9Jb0lsyWzJWclZyUAJQAlMCQwJIIjgiPfIt8iKyIrIm0hbSGfIJ8goh+iH7geuB67HbsdcxxzHEwbTBuLGosa3hneGWcZZxkSGRIZvRi9GAoYChhbF1sXqxarFqsVqxXnFOcUehR6FO4T7hOqE6oTORM5E0QSRBJNEU0RFxAXENQO1A7JDckN8wzzDJoLmgtwCnAKTQlNCWkHaQd6BXoF1wPXAy8CLwKLAIsARf9F/7r9uv0A/AD8c/pz+uT45PhQ91D3/fX99cr0yvTK88rzA/MD8yPyI/JE8UTxafBp8A3wDfAs7yzvQO5A7nDtcO0b7BvsHOsc6xXqFeo36TfpleiV6BvoG+iD54Pnv+a/5t3l3eWd5J3kcuNy40fiR+Il4SXhB+AH4O/e797P3c/dwtzC3Krbqtvm2ebZY9hj2ArXCtfA1cDVPdU91c/Uz9R/1H/UzNTM1KDVoNUS1hLW2dbZ1hjYGNgr2SvZstqy2sbcxtzh3uHeaeFp4dbk1uS+577nnuqe6sbtxu2f8J/wtPO081z3XPfb+tv6I/4j/kwCTAIZBhkGjAmMCeEM4QzeD94PwxLDEvcV9xX6GPoY4RvhG2seax6wILAgDCIMInkjeSO3JLckXSVdJRUmFSbzJvMmSCdIJ5QnlCcjKCMo2yfbJzwnPCc0JzQn1ybXJuQl5CXOJc4leCV4JQYlBiX4JPgkgySDJDskOyTYI9gjriOuI6MjoyOmI6YjbCNsI5QjlCN1I3UjviK+IjEiMSLNIc0hUiFSIQghCCFsIWwh+CD4IHggeCADIAMg2B7YHjAdMB25G7kbtRq1Gm4ZbhkVGBUYFBcUF+AV4BV3FHcUkRKREnsQexC2DrYORQxFDCgKKAqWCJYIWwZbBmkEaQQJAwkDXAFcARj/GP8y/TL9N/s3+xL5EvmJ94n3e/Z79nX1dfXA9MD08vPy8wjzCPOy8bLxLPAs8Knuqe6K7YrtNOw07Kbqpur56fnpd+h36AvnC+eR5ZHlfuN+40rhSuGG34bfUt5S3pbcltz92v3audi52PbW9tYy1TLVHdMd01fRV9F3z3fPkM2QzS/ML8xPy0/Ltsm2yQrJCslWyVbJHckdyXHJccm/yr/KLswuzCTOJM6y0LLQlNOU0+DW4Nbm2ubapN6k3mvia+Jg5WDldOh06GrrauvL7svuXvJe8hH2EfYO+w77u/+7/9sD2wNMCEwI2AvYC/gO+A54EngS6hbqFi4ZLhmYG5gbrh+uH2EiYSLiI+IjkyWTJQomCiYfJh8m4ibiJhgmGCaGJYYl6yXrJeYl5iVwJXAlfiV+JYYlhiVXJFckeCN4I8IiwiIHIgciSiFKIQohCiHWINYgnyCfICwgLCBBH0EfIx8jH3seex4OHQ4dox2jHfMc8xzvG+8bxhzGHK4crhxpHGkcJh0mHQseCx5yHXId3RzdHOwb7BspGikaIhkiGWkYaRjbFtsWnhWeFSkVKRU2EjYSdA90D/kM+Qy2CLYIdAV0Be0D7QMJAAkAEf0R/a78rvy297b3PPM8887zzvOG7obuluqW6vDr8Out6K3oh+aH5j7nPuf55/nnn+Wf5ejk6OSI44jjiOKI4hTgFOC/3b/dzd/N34Xehd7D3sPe3N7c3gvfC99h3GHcrNqs2lXcVdyl2qXaXtpe2l3dXd3/3f/dAtsC21TbVNt52nnaydjJ2FfXV9fE1cTVL9Yv1mbUZtQr0ivS2dHZ0XTRdNHOzc7NMc0xzavPq889zT3NF80XzbbSttJ20nbSu9C70K3VrdUv2S/ZNtg22N7c3tzV5NXkk+eT5wjrCOtW81bz7fTt9DT0NPTI+sj6Ev0S/df+1/7SBNIELgsuC6EPoQ+6EroSrxavFoUYhRgGGgYaHR0dHS0gLSBiI2IjQSdBJ84rziuoL6gvHzEfMe0w7TBcMVwxyjDKMCItIi0JLQktKC4oLoIsgiymLKYs8S3xLVIsUixpKmkqTylPKVMnUydnJGckUCNQI/Ej8SOWI5YjkSKRIhYkFiQUJhQmDSUNJQgmCCbyJvImkiOSI0IhQiEwIjAiqiCqII0fjR+UIpQiSiRKJN8i3yJxInEieyN7IyogKiAWHRYdlx2XHSccJxxDG0Mbtxu3G+MZ4xmoF6gXmxWbFR0THRMDDQMNxQvFC9cI1wiNAo0CJgImAk3/Tf/y+PL4k/uT+9P30/c78Dvw/+//7yfvJ++A7IDsB+oH6v/o/+ix7LHsJ+on6nvne+eq5KrkJegl6Onh6eFg4GDg4ubi5ovii+LW39bfPuc+5zbjNuPy2/LbVudW53HgceAp3inekeOR4y/gL+Dj3+PfBecF5/zh/OGY3pjeXupe6n7fft+z2rPauOW45WfdZ90b1RvVGN8Y373bvdu/0L/QkNeQ18rWytYszizO2M7YzhHTEdMazRrN4szizLPTs9Paz9rPSdFJ0afXp9eC1oLWzdbN1lLeUt7t4u3iw+TD5A7tDu3D78PvQu9C76n2qfbV9tX2lvaW9uz+7P4CBQIF/wb/Bq0NrQ2DE4MTxBPEE2kWaRbwGfAZTRlNGWUbZRtDIkMi2CPYI0wlTCVELEQsay5rLsUsxSxgLWAtMy4zLrEssSxrKWspHSsdK5MskyxNKU0ppyynLL8uvy6UKZQpuCe4J04pTimlIqUiZB5kHgwgDCAvHy8f2x7bHqsgqyCFI4UjESQRJGwibCJuIG4glx2XHZMakxq2GbYZLRstG0McQxxSIFIghSGFITshOyHPIc8h8RvxG5YZlhkgGiAahRWFFV8WXxasGKwY3RXdFdwW3BZ7FXsVCw4LDs4RzhHiBuIGugS6BC8JLwmgAKAAYgRiBP0G/QbU/9T/hPqE+rH9sf1m9mb2t+y37M70zvQ29Db07Ojs6PPw8/DW9Nb04OHg4SrnKue17LXsltyW3D7hPuFr5Wvlk+OT49Te1N5Q61DrAuEC4YXdhd2n6afp9t323YLYgti75rvmV+BX4Ona6dqD54PnzuPO4zDYMNgT5BPkV+JX4pvUm9S03rTeAeYB5rbTttME3ATcW+Vb5W7Obs6b1JvU5Nvk23HMccwazRrNr9iv2N7Q3tD+zP7M8tby1ofUh9SKz4rPHtce12vXa9fY09jTn9af1urb6tvk2+TbS+FL4QfnB+cm6ibqP+4/7gHxAfGS7pLuw/PD8yj3KPcf9x/3nP+c/y4ILgjsCOwI9A70Dn0TfROqEqoSCRQJFEAYQBisGqwaRx5HHgAlACV2KHYoFywXLMssyyyALYAtwS7BLrMpsylrKmsq+yz7LBQsFCzWKtYqUTFRMfAw8DChK6ErIjAiMCAuIC4BJAEkpyanJq8mryYbIBsgLSMtI7gouCjtI+0jmSSZJGIoYiiwI7AjiiCKIAUhBSGWIJYglR+VH3YhdiFxJXElNSA1ICMkIyQmISYhzh7OHisXKxc1HTUdrRmtGfkT+RP2H/YfbhFuEUEXQRfKFsoWEgoSCjQGNAYAEAAQ1PzU/HEBcQHBCcEJTP1M/S0BLQFC+kL6UP1Q/Xv3e/fO6M7oAPEA8e/27/bw4vDiQ+ZD5oX5hfmm3qbeauFq4THxMfH93v3eot6i3hzuHO6z3rPePeU95Ynqiep92n3a6ufq5znrOeuG1IbUO+k76XHwcfBi2WLZoeGh4Vz2XPaj4aPhHN0c3Yvyi/LI5Mjk1d7V3k/rT+vN683rNN403ibqJuok7CTs+eL54hPkE+R26XbpGeQZ5Nze3N5S4VLh9t723kDZQNlS21LbNNw03HbWdtar2KvYIdwh3HXYddgm2ibaHtke2dnY2dgZ3RndPd493mreat5P6E/oneid6ODl4OW97r3uKe0p7ejq6Oqc85zzM/kz+en76ftOBE4ELgwuDF4SXhKiEqISmBWYFegd6B2XHJccIhoiGvIm8iZPJk8m/SH9IdQt1C25MLkwoiqiKjgxODEMNww3fi5+Ltct1y0XMhcyqy+rLwoqCiqGMYYxZjFmMaYspizKLcotGioaKnkjeSOiIqIicSFxIdke2R4PIQ8hlSOVI9Af0B+cH5wfjx+PH/sZ+xlaE1oThCCEIHkReRG7FbsV7yDvINUN1Q2jGaMZQBpAGiIJIgnaENoQRBhEGD8BPwFhD2EPoBOgE4gAiABoC2gLFA8UDwHzAfP1BvUGtwG3AdPq0+oLBgsGMQYxBq3frd+CDIIMAv0C/SHUIdSVA5UDDfAN8BnOGc5u/G788u3y7Y3TjdOv8a/xMuoy6qPXo9eu567nAOUA5aHbodt65nrmQORA5BrjGuP14fXhPu4+7j/jP+Ok4KTggfGB8b3jveOO3I7c9v72/pLkkuRc3lzeIwMjA1HsUeyu2a7ZIwEjAfX09fRz3HPcbP9s/5b0lvR/43/jAvAC8LX2tfZ233bfueu56yfwJ/D84vziN+I34pbmluZt3G3cQdlB2dje2N4e1x7Xl9eX19Hf0d/k2eTZQdtB2zvkO+TT2tPaFdwV3AjlCOWe3Z7dK+Ir4lnwWfDM78zv8PLw8sX5xflG+kb63PXc9Rr7GvsX/xf/cwBzAEYKRgqoEqgSyBbIFm8XbxeRHZEdVRxVHAkdCR28H7wfGiAaIJknmSezKLMoyyrLKhkwGTDkL+QvASsBK1ExUTGyLbIt8yLzInQqdCo+Kz4rlCKUIqopqiksKywrQiRCJKMioyKiIaIhQxxDHNka2RqmH6YfaBxoHFUiVSJMHkwezRbNFsMfwx/iEuISKg8qD4IRghEsFiwW0gjSCEYSRhLME8wT3AncCVwSXBJhEWER6wjrCLEQsRDdDd0NuA24DYUUhRR4DHgMChcKF+MS4xJFCkUK/A78Dm4Obg4H/gf+YApgCocGhwY8/jz+RwNHA8n/yf/D9sP2APsA+/f09/SC8YLxRfZF9nPvc+9U7FTsc/Fz8RDrEOsq5yrn8ezx7ODk4OSj5qPm3OTc5InhieH55fnlUNpQ2jLrMuvE38TfBtoG2qLnouel5aXli9mL2QPqA+o58Dnwpdul2yLyIvJ78Hvwt9233VDsUOyY+Zj5eOF44VvmW+Zs+Gz4+un66TTfNN958Hnw5+rn6g/eD94X6xfrW+xb7KzarNpf41/jQOlA6bzXvNcT3hPe2uDa4HbYdtjx2/Hbx9/H3zTWNNY83jzeruSu5ILbgtt54nnixejF6IPdg9394v3ibPBs8OLl4uXD7cPt4f7h/iL4Ivj29/b3nwKfAuL94v2h/KH8mQiZCCIKIgpnDmcOABcAF64ZrhlSGlIaihmKGcYdxh3wH/Afux+7H4MigyK+KL4oFisWK/Am8CayKrIq5SvlK4EjgSNkJWQlvSS9JHIfch91H3UfBSYFJsMkwySxIrEitSq1KjolOiX3HfcdtCC0IDcbNxufEZ8R/yP/IzMhMyFYElgSUyxTLE0YTRh3E3cTGhsaG4oTihM9DD0M4hniGQQXBBcKFAoUThpOGhoUGhS9Hb0dEA0QDXcRdxGiFqIW1w7XDjAOMA6zGrMahQuFC3UPdQ+TF5MXyPzI/PkD+QOfDZ8NqvCq8BcHFwd8B3wH6fPp8zP+M/7RAdEBrOKs4i7qLuq6/Lr8G9wb3EjnSOcE9wT3AeYB5jzbPNsY9hj2V+JX4v/X/9dV9FX0yebJ5vzY/NgP8w/zau5q7ofch9y7+rv6M/Ez8SHcIdyT/ZP9IvMi8xTdFN3b/tv+lPqU+nPjc+OD/IP8H/wf/APkA+R1+HX4Xf5d/tzq3Ope/l7+Nv02/VjwWPCO+477IPQg9E3lTeXy9/L3XfFd8eng6eAQ8hDyBPIE8ljeWN4y6jLqhvKG8trd2t0q5SrlyPDI8PnZ+dlh4GHg4fDh8M3izeKz5rPmc/Nz8z3lPeUW5Rblou6i7m7nbucT7BPsW/xb/GT5ZPlt+m365QHlATr8Ovxy+XL5uQS5BCsDKwPpBekFbxNvE08OTw6KEIoQJBckF3wSfBJHFEcUCRoJGkMaQxqvF68XEh0SHU0gTSD6Hvoesh+yH6EjoSODIYMheBp4GhwcHBx2HHYcHxgfGOAe4B4kISQhBR4FHlwgXCC6Hbod6BPoE4YbhhvVEdURUhNSE1YhViE+ET4RmhyaHNob2hubDZsNKxsrGzEXMRdlB2UH7yHvIUkUSRRmBWYFniWeJe0P7Q9sC2wLXxhfGJYTlhMQ+xD7ThZOFmMNYw0a/hr+HRgdGNcR1xGz+7P79hL2EsICwgKE8oTy7QTtBLj5uPlF8kXy5f3l/V77XvvN6s3qV/dX94LwgvAz7DPsFe0V7b74vvgp6inqUOpQ6onwifDh6OHoYeJh4mrtau3Y8NjwFt4W3kLwQvAC+QL5i92L3QrzCvON+I34o+ej59Ls0uw+8z7zkOyQ7FHkUeRJ+En48/Tz9PPo8+iP+I/49P30/dnk2eRv9W/18PXw9eLo4ujL9cv1iPWI9Y/qj+oW8hbyJPMk8zzmPOY58DnwI+8j7wbrBuus7azt+en56Z7knuSC6ILoluSW5DnkOeS15LXk/9//3xblFuVI4UjhpNyk3HroeuiW5JbkleWV5fDq8Orq6urq+eP54yLqIuru7e7tZ+tn60LzQvPj+uP6ePZ49mP2Y/b6/fr9KPco9076Tvq+A74DlASUBCwHLAdnD2cPiBKIEmYPZg8OFA4UIhQiFAgRCBFtFm0WKxYrFlcVVxUEGgQaLh4uHpcYlxh/HX8d2yDbILgauBr7G/sb+x77HnwcfBzVH9Uf9iX2JbMesx4DIAMgVCNUI2kYaRgiHSIdIxsjG8MXwxf1HPUc5h/mH04WThatHK0c3yPfI+oR6hGKHYodxhnGGZkQmRBZGFkYpRqlGkoRShG2HLYcIRUhFeAT4BO9FL0UhgiGCA0UDRRQDlAOZwZnBhoZGhkCCQIJUAtQC6EHoQcJBgkGTABMADQDNANVAlUCzAHMAWEBYQHWAdYB3ALcAsr2yvaQ+ZD5VfVV9XnxefHg7+Dvs/Gz8eXt5e0A9QD1MvEy8Znsmewp8CnwaO9o72nlaeU38zfz/O/87z3nPedU9VT18/vz+3fpd+mR75Hv0PvQ+wPnA+cL7AvsMPow+snpyeml9KX0P/0//bjwuPD39Pf0RPlE+fDu8O6t9a31t/S39Nzu3O4g9CD0Kvgq+O/t7+3g7+DvqfKp8qbvpu/O6c7pVPNU83jveO8o6Cjo9O/076vxq/HH48fj6e3p7dHy0fKh4qHiq+ur61jtWO3Y5NjkWOZY5k7vTu+k56Tnoeyh7KbwpvC07bTtt+237ejs6Ozx8fHx0fPR80f3R/fr+Ov4FvwW/Cv8K/yR+JH48/nz+aj7qPve/N78W/xb/McFxwWzBLMEHAMcAzcLNwt+Cn4KcAZwBsEOwQ5kDmQOMggyCIUPhQ+oEKgQBBAEEDsXOxdZF1kXnxWfFW0YbRgjFyMXBhMGEykYKRjmF+YXGRcZF8khySFEG0QbjBeMFyUjJSMMHgwechRyFHwnfCcUHRQdgR6BHvcg9yA5IjkinBacFl0kXSRXGlcaQRtBG2sZaxkQFhAWmxybHGkUaRR4H3gfiBaIFtIa0hpUF1QXWxhbGAgLCAsIGggaFhAWEAcNBw2JGoka1AjUCPsH+weTGJMYfQF9AQgACAB8D3wPrAKsAhj8GPxmCGYIgv2C/dT41Ph7AXsBsvey9xnzGfO49rj2Zvtm+ynqKeos7izuAfgB+Lrpuumo7ajtbfNt8xfqF+r+6P7offt9+1DlUOVG7kbujPmM+a/mr+aX7JfsbvFu8a7rruuK6IrorPas9hzrHOtL7Uvti/OL86fvp+817DXsGuoa6nP1c/U65jrmAugC6FT4VPie5J7kPec95w74Dvh153Xno+Cj4JD3kPcH5gfmQ+BD4Mv0y/RG5EbkWuJa4jTvNO+P5Y/lrOGs4U7sTuy26bbpr+Gv4RDvEO8x5zHn7uHu4ZbsluzT6NPoW95b3r3uve4A7gDuouGi4aHtoe3+7/7vieKJ4snryevz7/PvEOwQ7OLz4vP09vT2CvQK9GL3Yvfy9/L3w/nD+Sf7J/ta/Fr8nv6e/oMDgwNiA2IDYANgA5YClgLlBOUEUgRSBNkG2QbRCtEKhgyGDNwN3A1gFWAVRBJEEk4TThPUGdQZ5BTkFJgUmBQ5HDkcHhceF6YZphm6J7onzh7OHi0WLRYCLAIsQB1AHSYNJg0pMykz4xTjFA0aDRowNDA09RT1FD4cPhxbMVsxZQllCaUbpRs2NDY0AAAAABcmFyZVLlUuov6i/jomOiZ2GnYa4AngCTsSOxJRDVENxAvEC5kMmQz9//3/+Bj4GH8EfwT2//b/KxYrFvb69vpA/0D/fwl/CWIAYgBC/EL8egV6BYT/hP8m+yb7iv6K/i78Lvwk8yTzCAEIAbL3svft8O3w3/rf+hfyF/I1+DX4lPKU8v37/fts+Gz4LvAu8OoC6gIX+hf60erR6pcIlwhd9V31oemh6T4GPgZl7WXtXu9e7wL8AvxN8E3wdPV09RL3EveJ+In4hO+E74n+if7v8e/xaPdo9177Xvta8VrxuP24/VD1UPXz5/PnqgWqBVn0WfTn4efh9BL0Ej/3P/fW29bbFQkVCVf9V/1S4FLgUv5S/mL+Yv695b3lnPSc9G8CbwLq5erlDe8N7zn6OfrF6cXpxuvG63HxcfG96b3pMu8y79b11vXy7fLtsu6y7hr+Gv7A9sD2iuaK5l39Xf06+jr68+7z7ggDCAMfBx8HCvkK+VQEVAQiCSIJKfop+iwBLAHLDMsMZwNnA3cGdwYfDR8N2wrbCvAK8AonDicOwBPAEzwOPA7QDdANjBiMGLkTuRO/Er8SphymHO4Y7hgVEhUSxBfEFzUXNReFEYURYxVjFTMcMxyEEIQQfhZ+FoMbgxsMFAwUjw2PDWAaYBq8GrwahgCGALcjtyNKHEocBvoG+pAdkB04HzgfR/JH8mgSaBLeHt4eDu4O7uAV4BVbF1sX8vPy80AJQAmGDoYOIPEg8Qb/Bv/iDuIOrvCu8Gv7a/sWCRYJ1+3X7SPvI+9lDmUOduJ24jLrMuu+Db4NNe017bfbt9tHEEcQ2O/Y76bTptOGEYYRw+TD5CLZItkIAwgDYPJg8vDc8NwE+QT5eOl46TnoOejL+cv5ct9y3xTrFOtyBHIEjOGM4f7t/u3qBeoFqemp6TPmM+aZFJkUMfUx9UHkQeSUCpQKMwQzBFzwXPCt+a35TglOCW36bfqTApMCSfZJ9if+J/5WEFYQa/Zr9qz2rPZlEmUSa/tr+wTuBO4hEyETXQZdBlTsVOz1AfUBSApICuvw6/Cw7rDuIgwiDKXtpe28+7z7sv+y//Dz8PNZ8Vnxx/rH+in4Kfi55bnlivSK9ND70Pub7pvu+u/67wL/Av957Hns0PHQ8aIBogEQ8RDxp/Kn8nr9ev2i+qL6gPaA9r75vvl3AHcAcQhxCLkEuQQr/Sv9OAc4B/AS8BLi/+L/uAa4BlcdVx1hDGEM8QXxBYQahBoVFxUXZRBlEJ0XnRd8HXwdaBdoF+cU5xRGHEYcSxxLHIAXgBepFakV6hvqG6sQqxANCw0L8BXwFVsTWxNBCkEKBRcFFwgbCBuwCLAIEg8SDy8bLxtOCU4JywTLBI4ZjhlUClQKgvuC+1cUVxTrD+sP3frd+soEygQ7DTsNX/xf/CoGKgboA+gDfwR/BBcMFwwr/yv/yv/K/yERIRGt9633j/yP/PkX+Rd8+3z7ovCi8LgRuBGx+bH5hOuE64MGgwax/LH8s+az5s3+zf6BBYEFqOOo4wL8AvxoAGgAvey97CTwJPBa/Vr9zufO53zzfPM/AT8BHOYc5vLq8urR/NH8a+dr59fo1+ho/Wj9ZPNk8wHlAeV0+3T7ae5p7m7sbuxs/Wz92PjY+Jfxl/HK+sr6Y/dj933pfel8DnwO2vza/CTpJOn4AvgCvwa/Btjs2OzO/s7+PAo8CpP5k/ny+fL52ALYAmT+ZP6E9IT0UgBSADsKOwqF8YXx0uXS5Zf+l/6//b/92OLY4pr0mvRwBnAGFukW6bHjsePK88rz8fLx8o/mj+bh6uHqDPAM8AvjC+Ou4K7g1uvW6xHqEeoe5x7nWe5Z7v/t/+2g56DnRepF6oD1gPXS+NL4dvd291z8XPwNAw0D+AD4AIn/if/IDMgM3Q3dDaUBpQF/CX8J5hLmEtIK0gpuD24PxB3EHfUb9Ru/E78TqhmqGb8cvxw0GDQY4yPjIy4nLifbHtseYR1hHaEkoSQDHwMf8RbxFnMecx6oI6gjKxkrGX4TfhPoHOgceBp4GrsTuxNvFW8VlBWUFWAPYA8nDycP8AzwDFkNWQ1pDWkNbgpuCjAKMApqDWoN+gb6BlUCVQJ8DHwMLQotCp7+nv6FBYUFPQ09DZr+mv5N/03/5wbnBj38Pfzi+uL6iAeIByICIgIT+BP44AXgBb0KvQoJ+wn7XP9c/9kL2Qt5AXkBbf9t//AF8AW2/Lb8bvlu+e/87/zR+tH6M/Uz9dD20PZt9G30hvKG8uPv4+/76Pvo0O3Q7RL0EvSK6IroL+sv6+/17/V38Xfx8evx66vuq+5F+EX4ku2S7STrJOvb8tvyaPFo8fzv/O9D/0P/Gu8a76z6rPrq/Or8Xv1e/Yn5iflY/lj+kP+Q/4r7ivv6+/r7H/wf/MH+wf5c/Fz8AP0A/fb19vWzALMAt++370P4Q/g19TX1Mu8y79323fYX+Bf4IOsg6zXrNetH9kf2tOe0587hzuEC5wLnLuUu5Zfal9rK2sra29jb2ATaBNqr3Kvc4Nrg2m3gbeDg4eDhY91j3dfj1+OQ8pDyQ/lD+Vf4V/jr/+v//Qj9CNL+0v6hAqECzgjOCH8Hfwc7DTsNzhnOGSIWIhaOGY4ZjSeNJ4QihCKXHZcdQydDJ+8q7yoGKgYqxTPFM841zjUjNyM3HTUdNdQt1C0mKSYpGScZJwYnBieIJ4gnhCmEKUEoQShqKGooTiNOI/Mb8xvwG/AbKBcoF4oQihBvEW8RYhJiEmwQbBBlDGUMHwUfBQr8Cvxf/F/8nPyc/Ab9Bv0SBhIGeAl4CRUEFQQN/g3+dQF1AUoDSgMe/x7/CAoICtUQ1RABCwELagdqB3cPdw8uCS4JRAZEBnUMdQysCawJ2wnbCa4Org6lDqUO5ArkCmkOaQ62CbYJSgJKAiEBIQFyBXIFRQJFAvD+8P6I+4j7NfY19uDu4O5W81bzX/Jf8nLvcu+r9Kv04vfi92TtZO2N6o3qXPJc8j3sPewr6CvoivCK8ADxAPFL60vrw+zD7LXqteq86Lzo8efx5+3s7exT8VPxPvM+8073Tvc/8j/yDPEM8X70fvTb8tvywPTA9D77PvuS95L3DfIN8mHzYfO78rvyL+0v7cnsyezz6fPpqOCo4MrmyuZg7GDsrt+u3yzZLNkY3BjcpNek1xHNEc2izaLNEtIS0sXGxcbiwOLA88LzwprHmsc9yz3LV9JX0kPKQ8q6w7rDPso+yq7gruAY7Bjsw/bD9ukD6QOa/pr+IPQg9Df4N/hO/E788QHxAbsOuw4BFQEVIBQgFAwbDBu3IrciQiNCI94m3iazJLMk9CX0JTsxOzEUPxQ/fUN9Qw5GDkarQKtAdDR0NBAvEC8KMAowlTOVMzk6OTpbP1s/YDlgOSgtKC3iKeIpbiduJ78avxprGGsYlByUHNwZ3BlaFloWgxeDF84TzhPFCsUKlAOUAyX7Jfte+177LwEvAXQIdAhxBXEFzgDOALL7svul+KX4h/mH+fn8+fwoCCgITA5MDmsNaw2nDacNsQ6xDjMNMw0zEDMQ5RXlFX4WfhbrF+sXFxsXG8QZxBlPFU8VdxR3FJAMkAydCZ0JnQydDDkKOQqFAoUCrQGtAR/5H/lN7k3ueOx47FnrWeul7KXsZe9l76Hsoez45PjkfeJ94ljeWN602LTYqd2p3ZbgluCP3o/eD+IP4pPek94R2RHZltyW3EnfSd/X39ffOOc45zvuO+528HbwoPWg9Wn1afXH8cfxFfIV8iH1IfVZ9Fn0yvnK+Rv8G/xO+U75IfUh9RDtEO3s4uzixeDF4HHfcd9W3Vbd693r3dnb2dtd013T+8/7zzPOM86HxYfFF8cXx3PHc8egvaC96bbptpq3mrfsuOy4l8OXw6rLqsuBx4HH1rvWu6C9oL3lxeXFdt523qbzpvOm/qb+OgI6AkYARgDR+dH5W/pb+tQD1AMLDgsOkB+QH3omeiaiJqImwi/CL8U2xTZCMUIxrTCtMBkxGTENNg02pESkRPJR8lEDVANUO1U7VSlMKUzDQcNBfD18PeI+4j4IRwhHi0yLTJ5InkhlPWU9RTJFMqcppymyILIgfRx9HAAYABgkFCQUAhkCGXwQfBC8BbwF9fr1+mD2YPaB7YHtnPCc8Kn0qfQg+yD7jf6N/sj3yPdx83Hzy/PL86r0qvRA+ED4HAccB4EMgQztDe0NARUBFfwR/BFiCWIJ1g/WD0UVRRVSG1IbUh1SHaojqiM1JTUltiO2IwgcCBziGOIYmhaaFm8TbxMMGAwYtRe1FwgOCA5pBGkEpf6l/vjy+PKq8KrwQ/JD8hvxG/Fj7mPuLOws7C7nLucK5grmY+Rj5BzkHOTt4+3jGuYa5qvlq+U14zXjfuF+4ZXdld2t3a3dluGW4XLjcuP45/jnSe5J7vPu8+7R79HvMe4x7rDqsOqx7LHs6fHp8RvzG/NJ90n3w/bD9t7z3vPa6trqpOak5iLgIuA64DrgYt5i3pjamNrC1sLWVM9Uz1XFVcXmvea92bvZu0q3SrejuaO5Q7VDtVixWLEEpwSn/LT8tCHIIchcz1zPfMh8yF3CXcIKvAq8sMWwxSzkLOQx9zH3RghGCB8SHxJSCFIIf/1//YcAhwA3AzcDBRkFGcEwwTDKLsouHzAfMDg9OD2eNp42+DX4NQ04DTg8NDw0Jj4mPs1RzVFtWG1YRWFFYQtnC2c/VD9Uv0W/RVRBVEGTP5M/t023TXlaeVpCUUJRekZ6RhU3FTd3JHckTxtPG+IW4hanE6cTBRgFGOAW4Ba/B78H6QLpApT4lPhX7FfsiuiK6Ojt6O0o8yjz1fvV+0QERAT7+/v73Pnc+Yv0i/T59fn1APoA+v4J/gmyF7IXxiXGJYAqgCqHJIckPx8/HxMkEyRmJ2Ynki6SLlE4UTgCPQI9vTq9Or02vTZkKWQp8iHyIdQe1B5rG2sbNh82HwsfCx8VFhUWrQqtCmH/Yf+k76TvG+gb6OLm4uZU5lTml+WX5UXiReJH2kfaM9Qz1P/L/8tRy1HLANAA0N7T3tPc1dzVt9a31ivRK9FwzHDMqc2pzQ7PDs9B2EHYm+Kb4oDogOgk7STta/Jr8lLtUu3n6Ofo5+nn6b/tv+1A8UDxQvpC+tz53Pkc9xz38/Hz8YPqg+pS5FLkAeIB4ivgK+CS3ZLdN9833/7U/tSNzI3MO8M7w6e7p7uQrZCtsq6yrtar1qtBqUGpk6aTpm6jbqMBsQGxfsF+wVfGV8anuae5l7CXsNms2aw1vjW+Xt5e3pv2m/YvBS8FXwxfDFECUQIy8jLy5fLl8tUB1QE8HTwdHTgdOIo/ij+iQaJBfUZ9RmNDY0MXQBdAWEZYRgxTDFPfYd9hSHJIcgd1B3VtdW11R3FHcWliaWJ4U3hTi0iLSABLAEuLV4tXFV4VXkdWR1bzR/NHgziDOC8jLyNcFFwUNxE3EfAS8BLmFeYVXBBcECgAKACz77PvEuQS5EbdRt0R5hHmHOsc62ztbO2i8qLyfPp8+jP1M/U5+Tn5zf3N/ckCyQKxCrEKkhGSEfAc8BxlK2Ur3S3dLUMkQyTaJdolTiZOJm8nbyd3M3czlT6VPr09vT2RPpE+0TbRNiYrJiuBIoEi6CHoIXYmdiatKq0qyiDKIC8XLxeMDIwMwvvC+7Pws/C37LfsyevJ65vpm+m55Lnkxt3G3SXaJdqY0pjSTstOy4DNgM2Rz5HPk9CT0NvV29XE1cTVKtIq0s7RztHEz8TPwtDC0MfWx9bK3crdaeRp5I7sjux67nrum+qb6gHoAeiv6q/qnOmc6RruGu7P9c/1a/Rr9EbwRvAr7Cvsd+Z35gTaBNrb19vXYdZh1vbW9tZc1VzVyc3JzX3CfcIjuCO4qLCosOao5qiipqKmyaDJoISchJyemJ6YV5VXlV+jX6OVs5Wz5rvmuz22PbaMr4yv/qX+pXe0d7RD1kPWquyq7C8ILwimEqYSCwQLBKTypPIL8wvzgfWB9XoUehTBOcE5IEQgRAlICUiGTIZMST5JPvU69TrmQuZC7EXsRVhZWFmqbaptAG0AbcNuw27cbNxsoVyhXIBSgFKKS4pLnEacRi9OL05mV2ZXqU2pTf9F/0UvMy8zHhweHOMM4wwmByYHTgZOBsMTwxMNHA0cCQoJCn/4f/in46fj5Nrk2vHX8dcs6CzoTe9N7+z87Pzu/O78T+9P73Lpcums7azti/WL9X4FfgVxHHEcVyFXIZAqkCr+MP4wcSdxJ30kfSTVLdUtBTMFM2g4aDiGQYZBCkUKRWZCZkIKPAo8xCnEKW0bbRvKFsoWmBqYGkgcSBz7G/sbkBKQEgEFAQV883zzgOGA4QHcAdwX3BfcI98j31jfWN+J2InYRM1EzWXEZcSJvYm9g7uDu4LBgsHTytPKXtBe0GbRZtHVy9XLVMlUyXjMeMzOz87P5Nfk17zlvOWQ7pDuLfUt9RH4EfgQ8BDws+6z7un16fXA+sD6nvue+xQEFAQmBCYE8wHzAXf+d/7x+vH6VfJV8hvyG/KG6obqGuYa5vng+eDN2c3ZgNKA0nzHfMfku+S7DLEMse217bV6rHqsO6w7rM6ozqhjo2OjHZodmvqh+qGIrIisDboNurTCtMKmu6a7b7hvuPG88bxN0E3QvOm86eQK5ArTGdMZ3hzeHNsW2xaLBosGKwcrB3gjeCN9On06PlM+UwhhCGEDYwNjA1oDWl1SXVJWT1ZP51HnUcBjwGOmbqZukXSRdNN103VGcEZwmV+ZXxpWGlbcSNxIAEMAQ35FfkWvSa9JQkZCRsk9yT16Mnoydx53HogKiAqa/Jr8ZfZl9uT85PxwAHAAEP8Q/4b6hvqY6pjqyNrI2pnTmdOM2IzYVuJW4kr3SvfkAeQBewd7B3QBdAH2+fb5Y/Vj9d373ft/BH8EMB4wHtcy1zLXONc4VjhWOMUzxTOVK5Ur7yrvKgUuBS7MM8wzlkCWQExDTEPfPN883jDeMPMe8x4gDiAOyArICh4IHgiNB40H9gf2BzECMQKs8azxMOQw5FbWVtbn0efR2szazGfOZ87j0ePRmdKZ0jrNOs0sxizGZ8FnwVe9V73Pws/Ch8mHyeTU5NRt3G3cKuIq4krjSuMC4gLiJuQm5CHsIewF9gX2CP8I/90G3QbDCcMJuAi4CO0H7QcKBwoH6gbqBhwJHAk4CzgLxwnHCW4HbgeNAo0CePt4+3jwePBl52Xnrt6u3iTYJNgy0jLSuMq4ylTEVMRMuEy4grCCsPum+6ZzoHOg4pfil8GYwZhplWmVJ5QnlLKOso6Ok46TAKcAp8m0ybTJvsm+4LfgtxC1ELXLssuy3Mfcx23hbeHXA9cD+iD6IFYtVi2+JL4kjBWMFWwQbBD8Gvwa4DbgNnVQdVB0Y3RjG3AbcAFxAXHPYs9isFiwWGFTYVMzWTNZV2RXZGtwa3C6cLpwVXNVcwtqC2qxV7FXtkK2QuUy5TLuK+4rLS4tLokxiTGfLJ8sSChIKKoXqheGBIYEI+4j7kbkRuSu4a7hrOms6drt2u1x7HHsJekl6TbfNt/71vvWoNCg0JTXlNcc4hzizvbO9vwB/AGJBYkFzQDNABsDGwOgA6ADqgiqCMcaxxpSLFIs9zf3N/I58jmkOKQ4GjYaNg85DzmsN6w3WTpZOk49Tj31PvU+AT8BPxY/Fj+gNKA0siayJlQaVBrrD+sPTgZOBkwCTALDAMMAWv1a/fL08vTX6dfpMeEx4ZXYldiO0o7SMtEy0ezT7NPW0tbS2dHZ0STPJM8NzA3Mo8mjycnLyctk0GTQW9Zb1g3dDd0Q4BDgruGu4XHmcebK6crpoe6h7v30/fQy+jL6Sf5J/hsCGwJBBEEEIQYhBlkJWQlxCnEKxgjGCHsIewhYAVgBv/2//Qr6CvqD9IP0tu627mjraOta5Frk0dfR1wrTCtMGyAbIssGywXa8dryDuIO45rLmsg2vDa8kqiSqrqCuoI2fjZ9EmUSZK5grmF2VXZWon6ifaq1qrdnB2cGqyqrKf8l/ye7E7sTOw87D39Hf0brluuUfBB8EXR1dHRkvGS8pLSktTyZPJmMZYxmUHJQc6C3oLZNEk0QSWhJalmqWautu626AZoBmWVpZWu5N7k0sTCxMBlQGVKxhrGHsaexp0m/Sb0lpSWn9Wf1ZsUOxQ+Yz5jN/KH8oMSgxKNct1y1VM1UzMjMyMxMpEyleFV4VX/5f/n/tf+3K5crlzenN6abypvJd+V35AfsB+y/3L/eA64DrceNx4zzgPOBJ50nnpfGl8fL88vwhBSEFqgmqCdcH1wdZCFkISglKCWQOZA5FFkUWHh0eHVcjVyObJ5sn+Sv5Ky8sLywbKBsosiOyIyIgIiBZH1kfiiCKIH0jfSOdIp0i5B7kHpcYlxhhCmEKrPys/CT0JPQY7xjvpe2l7dXw1fDd793vOOw47ALmAubr2uva/NP80wnSCdJv02/TM9kz2aTfpN/f4t/itOS05BHkEeSK4Irgjd+N33jheOHU5dTl9e317T31PfVJ+0n7mv+a/9j+2P4o/Sj9Pvw+/D3+Pf6YA5gDDAoMClAMUAyQC5ALjwePB4D/gP8e9h72FfAV8LHuse5C8ELwzvLO8hzxHPFk6WTpU99T37HTsdO0ybTJSsNKwybCJsI+xD7EacZpxjTFNMXwwPDAh7mHub6zvrMysDKwbK9sry+zL7MyuDK4Nr02vczCzMJ0yXTJ99D30IXYhdgx3THdydzJ3GTdZN1a5FrkTO9M7wv/C/+AEYARCyELIWUnZSecJ5wnzSDNICgZKBnwG/AbrCesJ9c41zi3SrdK+FX4VexV7FUDTQNNtT61PpUylTLuL+4vvDa8NpxBnEGjS6NLY1BjUDhKOEpdPF081SvVK50dnR3YF9gXiRuJG5EjkSP+K/4rwS7BLggoCCh9Gn0a0wnTCRn7Gfs+9T71G/ob+uEC4QJSC1ILsA6wDjcMNwxsBWwF5f7l/qD7oPtQ/VD95ALkAv8K/wpQEVARFRMVE4wRjBEcDRwNiwiLCFMFUwXVBdUF7AfsB/AJ8AmaCpoK6QjpCPQE9ATZANkAKv0q/Uv6S/r6+Pr4sfix+C34LfgE9wT33/Tf9O7x7vGa75rvV+xX7Jfol+hb5lvmdOV05eTn5Of46vjqmO2Y7YPug+777fvtwu3C7fnu+e6x8LHwr/Wv9Qj7CPur/av9f/9//3sEewRDBUMFzwfPB+EH4QdoA2gDoQChAGj/aP+A/oD+RP1E/VT/VP+L/4v/0gHSAQoCCgIF/QX9ePZ49hX0FfQp8CnwE+8T75HwkfAm8SbxV/FX8TTvNO+y6rLq6OTo5EnhSeF333ffsd6x3q/er96h3qHeP9o/2oHWgdak1KTUwtTC1MDUwNR41HjUP9E/0afOp87mzubOdc91zwvSC9LR1NHUTNdM14DagNrh2uHa6Nro2kbfRt9y5nLmyO3I7Y/0j/Q19zX3avZq9rL4svj+/f79qgaqBl0RXRGDGoMa3R3dHe4c7hyiFqIWiRCJECkOKQ4CEQIRRRhFGKYhpiFqK2or9y33LT0rPStxInEicxhzGD0TPRMyFDIUixqLGlMkUySfLJ8s3zDfMFssWyyxI7Ej4RjhGGAPYA8FDgUOuBO4E6kbqRsLIwsj9CT0JMMgwyC+GL4YjQ6NDmEHYQdmBGYEMwkzCfYP9g8hFSEVXBRcFAIQAhCiB6IHigKKAsX/xf/b/9v/BQEFATIDMgMkAiQCQwBDAF39Xf3s+uz6T/tP+5P9k/2P/4//k/+T/w/+D/5l+GX4XfVd9dr02vQA+AD4Nvs2+6L+ov5vAG8ALQAtAGX+Zf6Y/Jj8pvqm+qD6oPo0/zT/JgQmBKgJqAkpDCkM3A3cDeoM6gzUDNQMuQy5DDQONA7SEdIRfBd8F2obahtbHlsekx+TH5Mfkx8bHhselR6VHt8f3x/3Hvcexx3HHSwZLBmbEZsRnw2fDWQOZA70DfQNhA6EDgQNBA1dCV0JgwSDBLf+t/5g9mD20fDR8Pft9+3T79Pvy/HL8cjyyPL58vnyMO8w71PlU+WZ2pnaodGh0XnOec6N0Y3RcNNw06zTrNOn0KfQqMyozOPG48YcwxzDPsA+wOLA4sA5xDnEbcVtxevF68WqxqrGBccFx0jISMgYyRjJysvKy5TSlNIq3Crc2efZ58Xuxe7r8+vz2PXY9W75bvn6/fr98AXwBc8QzxDFGsUahCCEILMisyJXIVchkB6QHpwdnB2SIJIgEicSJxAvEC85Njk2cDdwNyk0KTReLV4tCioKKgUnBSemJqYmESkRKUgqSCqDLYMtcS1xLaMpoykOIw4jmx2bHUwXTBeQE5ATTxNPE6ASoBKPEo8S1RLVEvYP9g+DC4MLHgceB1ADUAN6/3r/Sf5J/pb9lv0q/ir+c/xz/Ff7V/t0+nT6pPqk+pr9mv1a/1r/BQQFBGcIZwjDC8MLxwnHCesG6wY6AjoC7QPtA6MHowctDy0PgRWBFaIZohl/GX8ZjhWOFcoRyhGUDpQOFw8XD0YRRhELFQsVGRUZFfcT9xPIDsgOMgkyCcUExQRxA3EDpAGkAcH/wf8L/wv/zf/N/0MBQwHMAcwBjQKNAn0CfQLrAesBggKCAjgCOAK4AbgBRQJFAgwEDASLB4sHIwsjC1gPWA+DD4MPrQ2tDUQIRAgrAysDEwETASYCJgIfBR8FQwpDCkUPRQ/zEPMQvA68DmYGZgYj/CP8JfMl8xHtEe0j6iPq1OrU6vzs/Own7yfv6uzq7F/oX+ia35rf2tfa1wvQC9CFyYXJssayxqDFoMVexV7FGsQaxNLC0sL/v/+/Dr4Ovqe6p7pKtUq1H7EfsXuwe7AUshSy9rX2tZ+7n7tNwE3Aech5yELTQtPy3vLe2ufa54TvhO8O8g7yafNp8wP3A/cL/Qv9WwlbCX0YfRhOKE4ocjFyMfs0+zQDLwMvqyerJzIgMiDOH84foiSiJOQs5CypNqk2XjxePGI9Yj2sNaw1LCwsLCoeKh4FFQUV+w77DuoM6gx+DH4MTA1MDW4MbgwfCR8JggSCBHb+dv53+Hf48vLy8q3tre116HXoFeYV5i3kLeSd5J3kNeY15inpKenc6tzqH+sf657qnuqR65Hr0+zT7ADxAPEf8x/zcPdw99b61vrCAsIC2QjZCL8RvxF7F3sX9hv2GwMdAx2ZGZkZ3BfcFxUWFRbcHNwcxx/HHyUpJSk5KTkpnSudK3cldyXBIcEhNxs3G+IY4hiQGJAYvha+FhYWFhbyD/IPKA4oDkIHQgeqBKoE1/zX/PD68Ppv9W/10/TT9MLywvL48Pjwyu/K78zvzO/o8ejxa/Jr8tL20vYD+QP5K/wr/Of+5/4QARAB0wLTApwFnAVRCFEIwwvDC+wN7A01DzUPDg4ODqgNqA3CDMIMPw0/DTUONQ6FDYUNOgs6CxMJEwl6BnoGzgLOAnT/dP9Y/Fj89vj2+H30ffQ77zvvheaF5hbeFt4E1gTWys/KzxrKGsrCxsLGB8MHw1C/UL9fu1+7K7YrtiuxK7GCrIKsrKmsqQ+oD6jEqMSoHqoeqr6svqwsryyvdLF0saK1orW6vbq9cMpwyg3ZDdnh5uHma/Fr8dn42fgnAScBhAmECZEWkRaXJJckezR7NCRCJEINSQ1JIEkgSYpCikJ4PHg83TbdNiM4IzjCPMI8i0WLRUVORU4zUzNTCVAJUKpFqkXgOOA46ivqKzciNyLvGu8apxanFnYTdhPcENwQmQqZCiEDIQNZ+1n7lvWW9cHvwe9J7EnseOd45xjkGOQW4Bbgbdxt3DPbM9vm2+bbW99b34/ij+Ld5d3lC+gL6Oft5+0U8hTycPdw9277bvttAm0CRAhECJYVlhXIH8gf3yzfLCw0LDR7O3s76jrqOvg5+DlRNFE09S/1LysyKzL9Mv0yhTyFPCM7Izv2PvY+ADcAN3M0czSeKZ4puCS4JEIeQh7IGcgZVRdVFwcQBxCXCpcK+AH4AR39Hf0A+AD4CvkK+Uv3S/cx+TH5TvhO+KD2oPag8qDyKvQq9FXzVfPw+fD5g/2D/bMDswPMCMwIHw0fDagQqBAsESwRiRSJFM8TzxNMF0wXPhY+FiQWJBafFZ8VgRWBFb4VvhXAF8AXdRh1GHcYdxgEFgQWThBOECIIIgidAJ0A5/bn9gfvB+9i6WLpSeRJ5DLfMt9D2kPactNy0+PM48wHxwfHqcCpwCC5ILmbspuyvqu+qwinCKdOpE6k0qLSovSk9KRXp1enzKvMq6ysrKxcrlyu5avlqyutK60ZrBmsVrRWtDHAMcAi1SLV2OnY6cL9wv1UC1QLcRVxFRggGCDGJcYlaTJpMgo9Cj3NSs1KyFHIUd1W3VZmT2ZPgUqBSgxCDELAPcA9wzrDOp08nTy7Pbs9dT51PtM60zpbMFswxCbEJucY5xgqESoRNwY3Bm7/bv/T9dP1tvC28P3l/eXF3sXecthy2JbVltXb19vXzdnN2a7artpg2GDY6dbp1qLQotDtz+3PYM1gzY3QjdCp1anV7N3s3W/ib+Jz6XPpSPNI85z7nPsXCBcIyAzIDHkSeRKQFZAVph+mH4IlgiUTMhMyAjoCOuFA4UDqQ+pDUEBQQCk5KTldMl0ydjF2MX0tfS3GMsYyFTAVMNIw0jB0KHQovyC/IBwTHBNfDV8Nuga6BoYEhgS1AbUB/vr++rv0u/Rx63HrKeYp5lfgV+Cs46zjEeQR5FfrV+t97H3sae9p7zvwO/Ay9DL03Pfc90D/QP9PB08HLg8uDy4ZLhmpHqkeUyVTJT0pPSkvLi8ujTGNMZM1kzX5M/kzyTLJMscvxy+uK64rYChgKLMksyRfIF8g/Rr9GocVhxUkDSQNfwV/Bf76/vrr8Ovw+Of451XgVeCy17LXJc8lz3vGe8ZxvHG8ObU5tY+tj61Sp1KngKCAoE+dT50YmBiYN5Q3lI2PjY8DjgOOVo9WjwmUCZQsmSyZFp4WnqmiqaIRpRGlRKpEql+wX7A5wDnAatNq00nsSexS/1L/9xH3EQUeBR6/K78rMzczNxVEFUTRU9FTzWHNYXRtdG32bPZsnmSeZMNUw1RDSENIMzwzPJw1nDVOME4wsDCwMHUxdTE4LzgvBycHJxEcERzHD8cPygTKBM/6z/qD7oPumeWZ5eLc4tyT1ZPVcM1wzebJ5slBx0HHV8tXy9vO284g0SDRWNRY1C/VL9UL1wvX0tbS1kfZR9lA3UDdkuWS5ZXtle3A9MD0xvzG/IQFhAXiFeIVVCNUI3gxeDFQOFA4RT5FPgRABECkRKREVERUREhJSEm5TLlMJ08nT59On05ARkBGoDygPHwyfDIuLi4uyCXIJfok+iSCGYIZRhRGFFwIXAh//3//CfUJ9WjyaPKd7p3uLvAu8JDwkPA86jzqHOgc6DHfMd/52/nbZdpl2n3ffd9C40Ljn+6f7gfyB/KC94L3dv12/c8DzwP6C/oLrBesF7MgsyBKKUop5jHmMWgzaDMCOAI4KTopOgo+Cj6eQJ5AI0EjQag7qDuNNY01bCxsLCshKyGmGKYY9g/2D7wJvAlJA0kDEfsR++/x7/Fb6VvpMt8y3xLWEtYDzgPOAMYAxnS+dL4fth+2Iq0irTKlMqVEoESguZq5mimXKZfmk+aTfJJ8koeOh47FjcWNHIwcjOqN6o21lLWU75zvnBSnFKcury6vzrfOt0a+Rr7tx+3H6tLq0rznvOfe/t7+ohiiGDkuOS62P7Y//Ev8S8ZXxlcEYQRhN2s3a1B2UHbMfcx9/3//f/N183UeYh5iUktSS4c4hzg9Jz0n0h3SHfsW+xZ1FHUUnhKeErMLswtU/1T/H/Qf9FDqUOq447jjYt5i3gDVANXtzO3MYMZgxrfAt8C2vLa8R71HvbPDs8MA0QDR5N7k3p7nnufS7dLtBvEG8cX0xfSQ+JD4lvyW/F0DXQMFDQUNAxUDFacbpxvqIeohfyt/K0E8QTzdSN1I9FH0UVtRW1EATwBPkUqRSudH50egP6A/Tj5OPjU9NT1EPUQ9eDd4N6IpoinJHMkcqBSoFJcRlxFODE4Mtgq2CsACwAL1APUA/ff992bsZuyv46/jV+NX44XjheNd6V3pXeld6SDnIOeJ6onqDukO6RHqEerQ7NDsd/N383/7f/vMBswGfQh9CBwOHA4+FT4VuB24Heko6ShHNEc0fDt8OwhECESfSJ9IREVERbtDu0PeQN5Au0C7QJFAkUAMOww7JDEkMbAosCjWHdYddxN3E/4J/gmOAI4ARflF+TDzMPPJ6cnpk92T3fvQ+9C5xbnFBb4Fvle4V7jjs+Ozhq6GruKo4qjoouiiaJxonAOYA5jSlNKUlJSUlMuSy5J/k3+Tt5S3lJaWlpbgmeCZqp6qnlukW6RprWmtdrd2t4vAi8DkyOTICc8Jz6TXpNc95j3m2vna+aoOqg4HJAckETQRNLdBt0GmTaZNa1VrVTtcO1xjZGNkr2qvajpuOm6pZ6lnI1UjVaM9oz1nJmcmQhBCEPsA+wDx9vH2ZPNk8yD1IPVe817zCe0J7UTmROY54Tnhat1q3X/af9rR1NHUWtBa0P3O/c5Iy0jLVsdWx03HTcekzaTNLtsu29Tq1Ooe9h72zf/N/9QJ1AmdD50PLREtEQoTChN0FHQUbxpvGkEhQSGHI4cjuSW5JRIvEi9sOWw5zUHNQQdHB0dnRGdElUSVRH5EfkToO+g7fjN+M7Ivsi8KKQopQylDKewd7B3GDsYOtwW3BW0BbQHP+s/6+Pz4/NT81Pzk/+T/cwZzBnn/ef+Y9Zj19vL28oTvhO867zrvQvJC8o7tju1O8k7yU/hT+E34Tfhi+mL6UABQACkFKQX6EPoQbxVvFYQThBP1F/UXpxynHPMg8yBWKFYoCC8IL0o2SjaeQ55DKkYqRipEKkR+Qn5Cuz67PqY7pjt6Nno2nyqfKl0gXSBgGGAYrwyvDJsBmwHj9+P3ZPBk8BztHO0P6A/o/d393RDWENZxzXHNZMRkxOS75LuNso2ybqtuq+Sn5Kfuou6iGJ0YncCawJoBmgGacptymx6eHp6lnqWe0J/Qn+mj6aOzpbOl26bbpqeqp6pMr0yvebd5t1bAVsCExYTFbM1szSDWINbg3eDdqOWo5RTwFPBN/k3+2RDZEIQihCJQLlAugDeAN0VARUDARcBFC0kLSX5MfkxeT15PXFNcU2JPYk/9QP1A2yrbKg8XDxeMA4wDEvUS9cDowOg75DvkvOa85gTrBOsj6iPqhOeE583mzeZN6E3oC+wL7OXp5enj6OPodOh06JTolOj/5P/kWONY44Pmg+ah8qHyFwEXAX0MfQwKFgoWuB64Hvgk+CSfJp8m0iLSIskeyR5JH0kfGB4YHscbxxssFywXtBW0FRUbFRtTJlMmjCuMK7AysDJWNFY0UTJRMmYuZi7OJM4k1RfVF0IUQhS3D7cP2wfbB4cBhwHE9cT1/u7+7mzwbPA28Dbw4PLg8q3/rf/yA/IDtgm2CagHqAeQ/5D/BP0E/YQChAJSAVIBgAaABssLywtWDFYMVxJXEuIR4hHXD9cPUhZSFoEegR78IPwgsyWzJagiqCJGIkYikiaSJlMpUyncKtwqDTQNNHk6eTrPP88/1UHVQWs8azzsOuw6TDlMOSQzJDN3KXcpSiBKIFwVXBXvC+8Lc/9z/8rxyvHZ6NnoSOVI5b7hvuHu2+7b7dXt1ZHPkc/kyeTJ8cHxwYO5g7nXsteyfLB8sFitWK1AqECoXqNeo46ijqJuo26jv6a/pm+ob6h6q3qrSbFJsRG1EbWws7CzPLI8soy0jLQnuSe5rcGtwa7GrsZ9yn3KE9IT0mvYa9ga3BrcfOR85FfxV/FYBFgEOxg7GLUktSTFLMUsmjaaNro6ujocPRw9lT+VPzRBNEHeRN5EdER0RCk1KTVbIVshZA9kDyv9K/0J8QnxDegN6Orj6uMk6iTqiPOI86f0p/S49rj2/fn9+Rn9Gf0QARABWQFZAa/9r/2u/q7+uP+4/9/53/nw9vD2/vj++AEAAQDPC88LwBXAFYkbiRvSJtImzTDNMFIxUjFVL1Uv6SzpLMYoxigKKAoocyFzIewX7Bd6GHoYBR8FH6AhoCHTJtMmjyePJ/4m/iYNLQ0tCSoJKtYh1iE8IzwjRyBHIKcYpxh8EHwQFv4W/jjzOPPI9Mj04PDg8HjyePKQ/ZD9tgO2A5sLmwvgDuAOQghCCDMKMworESsRKA4oDjAOMA4sDiwORgxGDDYQNhCtDq0OQQhBCFcMVwzLE8sTPRk9GWkeaR42HzYf1iDWIPsl+yUCJgImhSOFI1UmVSaNKY0pdyx3LKYspiz5J/knNSU1JYElgSVVIlUi7RvtG2UWZRYZEBkQbwhvCJf7l/sh7SHtP+I/4pbbltu31rfWCdEJ0UrNSs2ZzJnMQMtAy6nHqcfmwubCVb5Vvte617oLuAu4jbCNsIuqi6pjqWOpWKlYqXSrdKvqruquIbEhsUS2RLbUvdS9877zvmfCZ8LTxtPG1cjVyInNic1K0UrRodCh0GjVaNXv2e/ZI9sj22rfat885TzlqOyo7PT79PskCyQL7BfsFxImEiZbL1sv1DTUNEA5QDnEOcQ5njmeOf46/jrYONg4gzODMzspOymRGZEZRgpGCnn8efwU8RTxlOqU6ijqKOqb7ZvtSfNJ82/3b/dM+Uz51/zX/KYApgDiAuICQgRCBNcE1wQsBSwFqQWpBfsC+wJB/0H/DQENAVoHWgc5DjkOKBYoFgIcAhwuIi4inSmdKWsqayq+J74ntCa0JgIlAiURIxEjUh5SHjEVMRWhEqESYBVgFXEUcRT4FfgVdxZ3FhYaFhooISghjyGPISAbIBtdG10bBxYHFhgPGA+cBZwF0fbR9r7wvvBq8mryV+5X7gLwAvAq+Sr50v/S/woKCgprD2sPwQ3BDSEUIRSPGo8azxXPFXsTexOSD5IPygzKDBUOFQ7DCcMJjwSPBPEK8QpwEXAR1xXXFc0ZzRkBGwEbCyALIPwl/CXYJdglKSQpJGMnYycvKi8qoCugK8MowygwJDAkqSSpJC8mLyZwInAi+x37HR0aHRoLFQsVUQ1RDWv/a/+r8KvwyOfI55Phk+FO2U7ZCNMI0wbQBtDbz9vPK9Ar0AfNB80wyjDK88rzyorListUyVTJGMQYxHG+cb4avBq8brluuVS0VLTSsdKxjrGOsZO0k7Q5uTm5qrqqura9tr0JxQnFrsiuyDTNNM2D0YPRPNM808DXwNft2u3a8Njw2O3b7dtx4HHgtOW05dDy0PIqAioCKBAoEAohCiERLBEsADEAMaU4pThoOWg5mTeZN0I3QjeoMqgy4ijiKHUedR55DHkM0/vT+3TxdPGb5pvmgt+C34ThhOFr5WvlHesd63TwdPDn8OfwDfMN8134Xfhb+lv62/rb+ov8i/ym/Kb8Qf1B/c76zvph9mH2/ff994//j//VBtUGoA6gDnAWcBbmHeYddSR1JEckRyRmIGYgQB5AHoQehB6VG5UbNBU0FfMO8w7dDt0OHxAfEMQRxBHhEuEScxZzFmwfbB9fJl8mmySbJLIjsiN7I3sjbx5vHn8Yfxi+Cr4Ka/1r/T/5P/mw9rD2wvHC8Zb3lvde/l7+5gfmBzkSORJIFUgVFBcUF64griDkIeQh3R/dH14dXh3nF+cX5BTkFHwSfBLACcAJdAd0B1cNVw0aERoRSxVLFW8XbxchGiEagR+BH04jTiOeIJ4gaSFpIfQj9CN5JHkkDyMPI7oeuh71GvUa8xrzGu0Z7RkPFQ8VVBFUEWIOYg58CXwJGwEbAcX2xfbb69vrFOUU5c3dzd3A1MDUVM9Uz/DN8M0EzATMiMqIylfIV8gJxgnGY8djx17HXsd4w3jDF8EXwbzAvMDBvsG+S7xLvAO5A7nSttK2/bf9tyW6JbrIusi6AL0Ava7CrsJXyVfJs82zzW7RbtGS05LT0tXS1erX6tcP2A/YXthe2Nvc29yD4IPgJuUm5aztrO0m9yb3XANcAygSKBJFHEUc/CX8JdMw0zDSNdI1hjaGNpw2nDZGMkYyAywDLC8lLyVvF28X4wrjCjcCNwIm9yb3I+4j7mrqauqv6K/o++v76xryGvIN8w3zKPco97H9sf2zALMAzQPNA3YGdgYMBgwGtAi0CFwJXAmQBZAFTgVOBeEH4QcBCgEK9A70DuMT4xOQGZAZKyIrIp4lniWjJaMlUCVQJaojqiOMIYwhPB48HqsXqxeAFIAUxBXEFVkUWRQ3FTcVcxZzFlcYVxiSHZId/R/9HwceBx7FIMUgpiCmIMIcwhw4GDgYlg+WD/8I/wjvCO8IFgYWBooFigV2C3YLRBBEEPwX/BeeHp4eyiDKID4lPiU3Kzcr7SntKYMpgyn8JvwmxyLHIsEfwR96GXoZwBHAEVcQVxD6EPoQqxGrEUYURhQNFg0WcBlwGdMc0xzJHMkcFxsXG2McYxxUHFQcMhsyGz8YPxgUFBQUnBGcEVgPWA8bCxsLVQdVB5QElATnAecBsv6y/lX4Vfju8e7x5evl6x/mH+Zs32zfudm52cPVw9Xa0trSWtBa0DzOPM4hzSHNvs6+zkLQQtCFz4XPJ80nzX7LfsswyjDK8cfxx+DE4MRuwW7BrL+sv1O/U7+Cv4K/S8BLwOvC68IeyB7IOsw6zMPPw8+40rjSh9SH1EvWS9bk1uTWGdYZ1j/XP9cj2iPaDdwN3CTgJOA+5j7mje6N7iP6I/qfBp8GFxEXEXUcdRwuJi4mFSsVK9Et0S10LXQtyyrLKgwoDChZIlki2BjYGP0P/Q/6BvoG2f3Z/SD3IPfm8ubycfFx8Rf1F/Up+Sn58fvx++wA7AAmBSYFkAeQB/EJ8Qn1CfUJsgiyCCoJKgkpBykHkwOTAzkDOQOjA6MDIQUhBYMJgwmDDIMM4Q/hDxIVEhWbFpsWHBccF+oY6hiHGIcYdhd2F14WXhaxErESVhBWEDQPNA/JDMkMjguOC3cMdwweDR4NSw9LD5cRlxHWENYQoxCjEMAPwA8rDSsNewt7C+IL4gtZDFkMNA40DtkQ2RCHE4cT6hfqF1kdWR0cIRwhMyUzJQEpASlLKksqjCqMKkwpTCmrJqsmNiU2Jfoj+iOnIKcg0B3QHXsbexslGCUYXhZeFn8VfxX/E/8TTRVNFeIW4hZVFlUWiBWIFR4VHhW4E7gTHBIcEtsQ2xChDqEOnw2fDYQNhA0sCywLvQi9CDMGMwaiAqICsv+y/777vvtb9lv2q/Gr8SztLO2Z6JnoB+QH5CXgJeAU3RTd+tr62iTZJNnJ1snWVNVU1YXUhdRo02jT8dLx0tXS1dJL0kvSQtJC0gfRB9HzzvPOHc0dzcHLwcvuyu7KCMsIyzPMM8yQzZDNFdEV0QHUAdRE1UTVItci12TYZNiF2YXZCNsI22ncadxF3UXd6d7p3hjgGODO4c7htea15pTtlO1m9mb2JwEnATcKNwocExwTixuLG4cghyDBIsEiICQgJNwi3CIBIQEh6h3qHRkXGRefD58PgwiDCOcA5wBw+nD61vfW92j2aPZx+HH4OPw4/Jf+l/6UAZQByQTJBIAGgAZGCEYIEgoSCm0KbQreCt4KjgqOCiQIJAgwBjAG0wTTBOgD6AOWBJYEHwYfBswHzAd5CnkKTgxODNgM2AzDDcMNnA6cDpYPlg91EHUQnA+cD/0M/QwWChYKqwerB3kFeQXABMAEHgUeBcEGwQb4CPgIcgpyCicKJwr5CfkJfwl/CY4Ijgg4CDgIsAiwCJMJkwn/Cv8KBwwHDHcMdwzCDcINIBEgEVcUVxTcF9wXLxsvG9Qd1B10IHQgZiFmIegf6B/bHdsdBBwEHOoY6hgyFjIWIRMhE0cQRxDhDuEO1w7XDhUOFQ5VDlUOsg+yD+gQ6BCYEZgRVBFUEYUQhRBeEF4QLBAsEGEOYQ7gC+ALQQlBCQMHAwfaA9oDbgBuAMz8zPzn+ef59vb29g/zD/NK7kru2+nb6arlquXk4eTha95r3vjb+Nu+2r7aRdlF2U7YTtix1rHWNtY21kzXTNcz2DPYaNho2B7ZHtk72TvZ+Nf411zWXNZv02/TudC50D7PPs8HzgfOG8wbzMPLw8tXy1fLjsuOy/DM8MxNzk3OjNCM0DbVNtVR2VHZgt2C3S7iLuJF5kXmjeqN6oXvhe9Z9Fn0hPqE+qsDqwNeC14LSxNLE50ZnRn4HfgdRiFGITwjPCMIIwgjtCG0If4e/h4CGgIalxOXExULFQsWAhYCGPoY+i/0L/TA78DvLu8u7xLxEvG39Lf0bPhs+ED8QPwh/yH/rQKtAgEGAQaDB4MHdQh1COII4ggzCDMI+wb7BtQF1AVOBE4EZgRmBPAE8AQfBh8GrQetBxYKFgoqDCoMEw4TDkkQSRCyEbIRfhN+E/QU9BQsFSwVYhRiFHUTdRPoEOgQkg6SDisNKw0PCw8LjwmPCWIKYgrBCsEKkAuQC/oM+gyADIAM7AzsDJoOmg4GDwYP9g/2Dx4SHhJWElYSxxTHFHUXdRenGKcYbBtsG5Yflh/kIeQhMCUwJZ0nnSeoJ6gnqyirKI0njScfJB8kCyILInUfdR+THJMcQhtCG6cYpxgiFyIXZRdlF/8W/xZMFkwWFhcWF9wW3BYrFisWgxWDFWQSZBJQD1APYwxjDPMH8wc3AzcDhP+E/w38Dfx1+XX5BvcG97Pzs/N18XXxj++P7/rs+uyf6p/qTuhO6AzmDOYE5ATkD+IP4o/fj99G3UbdQdxB3CnbKdti2mLa59nn2YnaidoR3BHcGt0a3VPdU91S3VLd9dz13Ojb6Ns82jza59fn1yHWIdbg1ODU79Pv07/Sv9Ke0Z7RsNGw0SnSKdLz0vPSi9SL1HfXd9e22rbaJ98n337jfuPC58Lneex57PTx9PFl92X39P30/fsE+wRmC2YLvRG9ETkWORYsGSwZ9Br0GqkbqRukGqQaKRkpGe4V7hURERERkwuTC48FjwX8/vz+qvmq+XH1cfUr8ivyr/Gv8XnyefIA9AD0uva69jb6NvrS/dL9AAIAAkMFQwULBwsH7AjsCDAJMAlUCFQIXQddBygGKAYxBTEFLgUuBWoFagX7BfsF3gfeBxgKGAqzDLMMcw9zD2oSahKMFYwVVBdUF14XXhd6FXoVBhMGEwsQCxB2DHYMfwl/CegG6Ab1BPUEzwPPA/oB+gG1ALUAlgCWANkB2QG6A7oDKwcrB78JvwnjDeMNOBI4EpcUlxTDFsMWChoKGv0b/RtFHkUeNyA3IHcgdyCkIaQh5CLkIm8ibyIwIjAioyKjIhEiESJUIlQiMiEyIWMfYx9QHlAejB2MHeMb4xt8GnwasxizGIEWgRaTFJMUsRGxEYgOiA52DHYMYgpiCgoICgiHBYcFFAMUA5MAkwDG/cb93/rf+o/3j/eE9YT1u/O7893x3fE88Dzwy+7L7s7tzu1P7U/tgeyB7CLsIuyy7LLseOx47ELsQuxe617rTOpM6oDpgOl16HXonuae5vHk8eTx4vHiOeE54Zrfmt/Y3djdXNxc3Ovb69s73Dvcs9yz3Obd5t3e3t7ePuA+4J7hnuG34rfi5ePl4x7lHuVs5mzmLOcs53/of+js6ezpwevB6y3uLe6M8IzwBfMF82L2YvaE+YT5efx5/Kn/qf/QAtACGAYYBkoJSgnkC+QLxg3GDQUPBQ/WDtYOEw4TDq8MrwwtCy0LKwkrCeIG4gbNA80DdwB3AKL9ov3N+s367/jv+D34PfiS+JL4x/nH+Y77jvuN/Y397v/u/ywCLALUA9QD6QTpBNIF0gUjBiMGHgYeBsgFyAUGBQYFhwSHBPAE8ARVBVUFXwZfBoIIgghwCnAKcAxwDCEOIQ4eDx4PABAAECQQJBAlDyUPiA2IDUALQAvZCNkICgYKBqkDqQO9Ab0BeQF5AUACQAKZA5kDNgY2BlIJUgl5DHkMPhA+EGMTYxNOFk4WHxkfGRwbHBuyHLIc9h32HYYehh4dHx0fhh+GHzofOh9FH0UfhB+EH6sfqx/DH8MfoR+hHwgfCB+PHo8eWR1ZHaUbpRt9GX0ZFRcVF20UbRS8EbwRyw7LDjQMNAzpCekJ2wfbB1IGUgbjBOMEcgNyA5ICkgLFAcUBkwCTAEj/SP+5/bn9IPwg/Pf59/l493j3JvUm9SfzJ/Nw8XDxL/Av8BTvFO9N7k3u/O387cHtwe1T7VPtt+y37ETsROza69rrCOsI6x7qHuoj6SPp4+fj5z7mPubf49/joeGh4a3frd8D3gPe7tzu3B7cHtzP28/b/9v/2zfcN9wj3CPcENwQ3O7b7tvr2+vbD9wP3D7cPtyw3LDcx93H3Yfeh9753/nf0eHR4RbkFuRK50rnH+sf66Huoe5/8n/yJPYk9m/5b/nH/Mf8lP+U/y8CLwJLBEsE/gX+BWUHZQf/CP8IawprCoQLhAu6DLoMcQ1xDRQOFA6JDokOQw5DDjkOOQ6pDakN0AzQDBMMEwwOCw4LMAowCosJiwkbCRsJVghWCPcH9wexB7EHeQd5B7sHuwfGB8YHuAe4B6EHoQcYBxgHeQZ5BoYGhgaFBoUGgAaABsMGwwaRBpEGIwYjBmoFagVfBF8EmAOYAzYDNgMQAxADEAMQA6kDqQMaBBoEGgUaBakGqQbZB9kHoAmgCb8LvwvcDdwN9A/0D6sRqxGsE6wTMhUyFaQWpBauF64XChkKGSoaKhqGG4YbqxyrHHUddR0mHiYeaR5pHkceRx7RHdEdBB0EHfsb+xuwGrAaEBkQGc0WzRbAFMAUoRKhEmQQZBBRDlEO2gvaC2kJaQn8BvwGVQRVBGsBawHJ/sn+Kvwq/K/5r/lG90b39fT19Nvy2/IA8QDxq++r71HuUe667brtju2O7dDt0O2Y7pjusu+y7wrxCvFU8lTydvN28wf0B/TU9NT0bfVt9dH10fUt9i32UPZQ9gv2C/ZG9Ub1EvQS9KDyoPJK8Urx4+/j76juqO6n7aftOu067e7s7uyG7Ibseex57ALsAuzY69jrpuum6wfrB+tN6k3qjemN6aHooegb6BvoFegV6HroeuhU6VTp4erh6rTstOyW7pbu0/DT8CPzI/NP9U/1hfeF95H5kfmh+6H7hv2G/cT/xP/IAcgB/wP/A7YFtgWfB58HIQkhCW8Kbwq+C74L2QzZDIcNhw0LDgsOiA6IDoUOhQ6ODo4OBA4EDgoOCg7NDc0NnQ2dDW8Nbw0IDQgN3gzeDG8MbwwhDCEM5wvnC3wLfAtJC0kL0ArQCjgKOAqHCYcJ8wjzCCQIJAgjByMHZQZlBmsFawVPBE8EEAMQA4ABgAG+/77/+f35/aX8pfx1+3X7iPqI+jD6MPpH+kf6fvp++iv7K/sA/AD85Pzk/Av+C/5w/3D/IgEiAZgCmAIBBAEEJQUlBVcGVwZUB1QHegh6CJQJlAmXCpcK4wvjC9kM2QzwDfANAQ8BD6gPqA9aEFoQpRClEHIQchA3EDcQng+eD7YOtg6+Db4NnQydDMgKyAqvCK8IlAaUBjEEMQTbAdsBi/+L/0X9Rf0K+wr7vPi8+Iz2jPZy9HL03vLe8tfx1/Eg8SDxs/Cz8M/wz/Ak8STxpvGm8UXyRfKe8p7y7/Lv8h7zHvNk82TzT/NP83rzevNF80XzrPKs8mXyZfLZ8dnxn/Gf8YPxg/Gr8avx6fHp8V7yXvLj8uPyNfM182zzbPNW81bzZfNl84bzhvOr86vzrvOu873zvfOJ84nzEvMS86bypvJR8lHyF/IX8iXyJfKe8p7yGPMY8//z//MW9Rb1IfYh9h33Hfcx+DH4gfmB+cj6yPo7/Dv8W/1b/c7+zv5jAGMABQIFAskDyQOBBYEFGAcYB70IvQj/Cf8JQAtAC30MfQx5DXkNiA6IDiwPLA9/D38PlA+UD48Pjw8pDykPwA7ADnYOdg7eDd4NfQ19DdoM2gwIDAgMhQuFC0ILQgvzCvMK3greCt4K3gqzCrMKfQp9CigKKAq6CboJXAlcCQ0JDQmNCI0IMQgxCPkH+QeOB44H0AbQBsIFwgWLBIsEfgN+A4cChwKkAaQBHwEfAeUA5QAFAQUBQQFBAYEBgQG9Ab0B+QH5ASMCIwIzAjMCEQIRAgECAQLfAd8BIQIhAj8CPwJaAloCbwJvAksCSwJjAmMCyQLJAj4DPgO3A7cDRQRFBHsEewSyBLIElwSXBHgEeAQoBCgEoQOhA0ADQAOjAqMCzwHPAfQA9AAhACEAN/83/2b+Zv6Y/Zj9+/z7/Gb8Zvzt++37Yvti+5D6kPoa+hr6qPmo+Wb5ZvkP+Q/5zfjN+KL4ovh5+Hn4d/h3+Ej4SPhx+HH4uvi6+PH48fgF+QX5AfkB+Sf5J/la+Vr5zfnN+VH6Ufqz+rP6Ifsh+4D7gPvP+8/7H/wf/In8ifwb/Rv9Nf01/Vv9W/1O/U79zvzO/EH8QfxV+1X7OPo4+jv5O/mU+JT4BfgF+Gn3afcz9zP3+vb69hz3HPdu9273vPe891n4Wfhm+Wb5Zvpm+mX7Zftk/GT8Wf1Z/TL+Mv7L/sv+Tv9O/wEAAQAmASYBSQJJAosDiwObBJsEJgYmBvEH8QevCa8JHQsdC4wMjAzIDcgNrg6uDjcPNw9zD3MPlA+UD2APYA9HD0cP/w7/Du8O7w6kDqQOcg5yDgkOCQ66DboNiA2IDVENUQ0GDQYNoAygDBsMGwybC5sL4wrjCsMJwwnGCMYIowejB5IGkgapBakFxATEBAcEBwSaA5oDQgNCA/UC9QLQAtAC1QLVAs8CzwLtAu0CEQMRAyADIAM6AzoDOAM4A1ADUAMRAxED8ALwAuIC4gK9Ar0CgAKAAioCKgL0AfQBwQHBAbABsAG9Ab0BkAGQAXABcAEtAS0B/AD8AMgAyACWAJYAVgBWAEAAQAAoACgAxf/F/4X/hf8o/yj/z/7P/nj+eP5i/mL+Q/5D/in+Kf7o/ej9gf2B/fr8+vw+/D78TvtO+0P6Q/o5+Tn5HPgc+C73Lveo9qj2z/XP9RX1FfVm9Gb0xPPE84/zj/NS81LzYvNi81/zX/NM80zzDfMN87fyt/K78rvy8vLy8iDzIPNn82fzJ/Qn9B/1H/VG9kb2Pvc+9/b39veV+JX4Mfkx+aP5o/nt+e35/Pn8+Rn6Gfo5+jn6Ifoh+hv6G/pD+kP6ifqJ+nb6dvpx+nH62PrY+kr7Svu0+7T7KPwo/E38Tfwk/CT8Hfwd/MD7wPtF+0X79Pr0+uP64/o4+zj7n/uf+1P8U/xg/WD9wf7B/hsAGwC8AbwB4gPiAw0GDQYACAAI1wnXCW4LbgueDJ4MrQ2tDVsOWw6XDpcOdg52DkwOTA7TDdMNKg0qDZkMmQxWDFYMMgwyDAQMBAwgDCAMPgw+DFcMVwx6DHoMpAykDI4MjgxADEAMqguqC5oKmgptCW0JLAgsCPUG9QapBakFdQR1BIMDgwP7AvsCrgKuAqECoQLfAt8CNgM2A9cD1wN8BHwEEAUQBWkFaQWlBaUFqgWqBUwFTAXGBMYETgROBOwD7ANDA0MDWQJZAooBigHcANwASABIANr/2v97/3v/F/8X/77+vv5z/nP+Bf4F/nL9cv0J/Qn9kPyQ/An8Cfxd+137xPrE+g36Dfpc+Vz50fjR+Br4Gvht92337/bv9mP2Y/aT9ZP16fTp9Cr0KvSg86DzXPNc8xDzEPMC8wLzBfMF8yvzK/N783vz0PPQ8xT0FPRi9GL0kPSQ9Jf0l/Se9J70f/R/9Fj0WPRu9G70d/R39Jn0mfTt9O30evV69Wj2aPZe9173UPhQ+FD5UPmH+of6/vv++0v9S/2m/qb+zP/M/7IAsgCXAZcBQwJDApsCmwLEAsQC/wL/AgwDDAPdAt0CqAKoAlwCXAJhAmECiAKIAqMCowLnAucCSwNLA5EDkQPRA9ED0APQA8cDxwPNA80DwwPDA7ADsANmA2YDUwNTA1oDWgORA5ED/QP9A5EEkQRnBWcFcQZxBokHiQerCKsIsQmxCcgKyArkC+QLxQzFDKENoQ1CDkIO1w7XDuoO6g62DrYOiQ6JDjoOOg7NDc0NWA1YDfYM9gxrDGsM5QvlC1ALUAuhCqEK+wn7CWIJYgmzCLMI1gfWBwoHCgdBBkEGbAVsBUwETAQvAy8DJAIkAgMBAwEEAAQA+f75/vX99f0m/Sb9hfyF/Bz8HPyt+637YPtg+zj7OPsh+yH7NPs0+0j7SPtX+1f7aftp+2n7aftu+277c/tz+177XvtN+037SftJ+xv7G/v1+vX6APsA+wX7Bfss+yz7TftN+3n7efvY+9j7EPwQ/FH8Ufxv/G/8PPw8/C/8L/wl/CX8/vv++9v72/us+6z7ZPtk+wf7B/vT+tP6w/rD+qT6pPqd+p363/rf+jr7OvtS+1L7QftB+/z6/PqY+pj6Wvpa+gP6A/rZ+dn54Png+Rn6GfpN+k36ifqJ+uv66/pR+1H7tPu0+xv8G/x3/Hf8xvzG/Cf9J/1X/Vf9gP2A/cL9wv0L/gv+U/5T/o/+j/69/r3+Av8C/4T/hP/M/8z/PgA+AMkAyQBEAUQBnAGcAe4B7gEYAhgCSAJIAmkCaQJmAmYCZAJkAmICYgJFAkUCHAIcAgICAgLxAfEB2QHZAdUB1QH/Af8BNgI2AoUChQLRAtECTQNNA7IDsgMxBDEEiwSLBK0ErQTZBNkECAUIBUEFQQVFBUUFXQVdBYUFhQWpBakFuAW4Ba8FrwW4BbgFywXLBeEF4QUIBggG9AX0BdMF0wXoBegF1wXXBbEFsQV6BXoFHQUdBbsEuwRSBFIEwQPBA1cDVwOvAq8CDgIOApoBmgEMAQwBqwCrAC8ALwD5//n/uv+6/1r/Wv8n/yf/Jv8m/xX/Ff8H/wf/8/7z/uX+5f7A/sD+sv6y/oz+jP4l/iX+wv3C/WH9Yf0e/R793/zf/Lf8t/y2/Lb8u/y7/Nv82/wN/Q39L/0v/VL9Uv1f/V/9Wv1a/XD9cP17/Xv9c/1z/Vv9W/0y/TL9HP0c/Tn9Of0p/Sn9A/0D/fL88vwR/RH9MP0w/Xj9eP3e/d79Qv5C/o/+j/6q/qr+wP7A/t3+3f7n/uf+4P7g/tz+3P6l/qX+tP60/rX+tf6U/pT+fP58/kz+TP4X/hf+3f3d/bv9u/1//X/9P/0//RL9Ev0N/Q39Kf0p/T39Pf1X/Vf9h/2H/aL9ov20/bT9Av4C/jD+MP6X/pf+/f79/if/J/9Y/1j/h/+H/6//r//7//v/XABcAMAAwAAfAR8BWwFbAYMBgwGaAZoBxwHHAd4B3gEHAgcC9gH2AecB5wGNAY0BNgE2ARABEAEIAQgB/wD/AOoA6gDbANsAuAC4AJAAkACmAKYA4gDiAB4BHgF7AXsBtwG3AcQBxAHwAfAB3gHeARACEAIXAhcCIQIhAjkCOQI1AjUCMgIyAkoCSgKHAocCzQLNAi8DLwOmA6YDEgQSBG0EbQTLBMsE6gTqBNEE0QSWBJYEVwRXBNgD2ANtA20D+gL6AoECgQLpAekBUAFQAdcA1wBTAFMAEQARAM7/zv9n/2f/Hf8d/8r+yv5s/mz+Lf4t/ur96v24/bj9cf1x/Q/9D/3I/Mj8cfxx/H/8f/yW/Jb8q/yr/Nf81/z+/P78U/1T/bf9t/0a/hr+Uv5S/pv+m/75/vn+NP80/1b/Vv9f/1//ef95/33/ff+U/5T/zP/M/9v/2//d/93/4f/h//v/+/8nACcAVgBWAH0AfQCTAJMAkQCRAJwAnAC1ALUAmgCaAGIAYgAkACQA7//v/6f/p/+D/4P/iP+I/1n/Wf88/zz/Pf89/zH/Mf9Q/1D/df91/6n/qf/V/9X/z//P/9b/1v+8/7z/lv+W/3z/fP9O/07/Hv8e/wL/Av8u/y7/Of85/1j/WP95/3n/jf+N/9H/0f8fAB8AYwBjAIMAgwCTAJMAnQCdALcAtwC1ALUAuQC5AKMAowCJAIkAcgByAGIAYgBbAFsAMQAxAA4ADgDg/+D/1v/W/9D/0P+x/7H/qP+o/6L/ov+w/7D/mf+Z/37/fv9Q/1D/JP8k//T+9P7J/sn+xv7G/uT+5P4Q/xD/OP84/1T/VP9u/27/gv+C/6r/qv/E/8T/4f/h/xcAFwBRAFEAjQCNALkAuQAoASgBfQF9AfEB8QFvAm8C6ALoAjYDNgOBA4ED1APUA+oD6gMLBAsELwQvBC4ELgQ0BDQEFgQWBO4D7gPGA8YDcgNyAy8DLwPbAtsCegJ6AioCKgL1AfUBpAGkAUIBQgHcANwAYgBiANb/1v9A/0D/t/63/lH+Uf70/fT9ev16/RT9FP3U/NT8ofyh/GT8ZPxD/EP8Mvwy/CP8I/wl/CX8Hvwe/CT8JPw9/D38WfxZ/IH8gfyW/Jb84/zj/BL9Ev0+/T79gP2A/b39vf0O/g7+aP5o/qz+rP7+/v7+Z/9n/7v/u/8QABAAQQBBAEcARwBOAE4AOgA6ADIAMgA3ADcAOQA5ADcANwBLAEsAdgB2AIsAiwCkAKQAmQCZAHoAegBcAFwAJAAkAOn/6f+x/7H/X/9f/zP/M//1/vX+0v7S/sv+y/6T/pP+hf6F/oX+hf6Q/pD+iP6I/on+if6F/oX+n/6f/q3+rf67/rv+1f7V/uf+5/4D/wP/Pf89/3f/d/+T/5P/1f/V//j/+P8kACQAcwBzANQA1AAfAR8BaAFoAZsBmwHGAcYBvAG8AcABwAG5AbkBeQF5AVIBUgEnAScBNgE2ARMBEwEeAR4BMgEyAT4BPgFJAUkBLAEsAQIBAgHHAMcAygDKALIAsgCgAKAAgACAAFwAXABUAFQAVABUADwAPAAfAB8ABgAGAO3/7f/u/+7/0//T/8X/xf+9/73/yf/J/8b/xv/R/9H/6//r/+P/4//P/8//vf+9/77/vv/V/9X/6v/q/ygAKABWAFYAcQBxAJoAmgCaAJoAtwC3ALYAtgChAKEAngCeAG8AbwBUAFQAPwA/AB0AHQAGAAYADQANACgAKAAsACwAKAAoACkAKQAqACoAJQAlAEIAQgBMAEwAQwBDACIAIgAjACMAAQABAND/0P+0/7T/hP+E/3n/ef93/3f/dv92/3j/eP90/3T/df91/3b/dv+A/4D/lf+V/3L/cv+J/4n/lv+W/5P/k/+1/7X/tP+0/8r/yv/e/97/4P/g/+D/4P/v/+//AAAAAOf/5//l/+X//v/+/wcABwATABMAFQAVAAQABAAOAA4AAgACAOr/6v/8//z/FQAVAA0ADQAfAB8ANgA2ADsAOwBjAGMAdQB1AI8AjwCdAJ0AmACYAJUAlQB7AHsAkgCSAJMAkwCVAJUAdgB2AIUAhQCHAIcAYgBiAHgAeACIAIgAnQCdAMcAxwDKAMoA4wDjAPEA8QAMAQwB9wD3AOUA5QDXANcAvQC9AK4ArgCKAIoAoACgAKIAogCTAJMApwCnAKMAowCxALEAogCiAKEAoQCOAI4AdwB3AHgAeABcAFwANAA0AAAAAADg/+D/0v/S/7z/vP++/77/nP+c/6D/oP+K/4r/g/+D/5b/lv9l/2X/X/9f/17/Xv9f/1//YP9g/3z/fP+C/4L/gv+C/4D/gP98/3z/f/9//33/ff+H/4f/nv+e/6X/pf/X/9f/4//j//b/9v8MAAwANwA3AEYARgBhAGEAWABYACcAJwD5//n/n/+f/33/ff9z/3P/XP9c/0r/Sv84/zj/Pf89/z//P/8k/yT/If8h/wT/BP/9/v3+Hf8d/x7/Hv8q/yr/QP9A/z7/Pv8//z//P/8//zr/Ov9N/03/cf9x/3r/ev+N/43/ov+i/7j/uP/L/8v/5P/k//j/+P8iACIAQABAAF0AXQBiAGIASABIAEUARQApACkARQBFAGcAZwCCAIIAhACEAIIAggCHAIcAcABwAGYAZgCFAIUAggCCAJ0AnQCuAK4AmACYAIIAggBRAFEAIAAgAAsACwDq/+r/7P/s/wMAAwAYABgAJAAkAAcABwADAAMAGQAZAD4APgBeAF4AZwBnAGgAaABdAF0ASgBKAGYAZgB0AHQAogCiAKwArACsAKwArQCtAK0ArQCoAKgArgCuAKQApAC4ALgArgCuAJ8AnwCnAKcAowCjAK4ArgDHAMcAvwC/AMUAxQCrAKsAsgCyAMIAwgCpAKkAoACgAH8AfwCYAJgAngCeAHwAfAB6AHoAXgBeAFwAXABVAFUAMQAxACEAIQD0//T/6P/o///////n/+f/DwAPACAAIAA2ADYAQgBCAEMAQwBZAFkAKgAqAAQABAAKAAoA+v/6/+T/5P/l/+X/1//X/+b/5v/h/+H/9f/1/w0ADQAiACIAHQAdACMAIwAKAAoA/f/9/wIAAgAAAAAAAQABAB8AHwARABEA+//7/wAAAAD6//r/+v/6//n/+f/y//L/+v/6/woACgD9//3/2v/a/9b/1v+7/7v/pv+m/8r/yv/b/9v/5f/l//7//v8AAAAA+f/5/97/3v/m/+b/1v/W/7z/vP/B/8H/tv+2/57/nv+l/6X/wP/A/8b/xv/m/+b/6v/q/+X/5f/s/+z//P/8/+f/5//s/+z/BQAFAAgACAD+//7/CgAKACIAIgAfAB8AIQAhACMAIwAXABcA/v/+/9//3/+6/7r/nv+e/57/nv+e/57/nv+e/5r/mv+y/7L/2f/Z/9z/3P/I/8j/vv++/9X/1f/T/9P/wP/A/7L/sv+4/7j/mv+a/5v/m/+Y/5j/mv+a/5X/lf+q/6r/tv+2/5f/l/+T/5P/mv+a/5b/lv+u/67/vP+8/7v/u/++/77/wf/B/8b/xv+t/63/o/+j/5r/mv+A/4D/ff99/3n/ef93/3f/dv92/5T/lP+U/5T/lP+U/5X/lf+a/5r/cP9w/1X/Vf9Z/1n/WP9Y/1//X/+M/4z/k/+T/5H/kf+Q/5D/l/+X/4L/gv90/3T/Vv9W/1r/Wv93/3f/ZP9k/1P/U/9o/2j/Tv9O/0b/Rv9j/2P/Xf9d/0b/Rv9D/0P/P/8//1b/Vv95/3n/kf+R/6T/pP+5/7n/xv/G/87/zv/9//3/BAAEAN7/3v/E/8T/qf+p/6b/pv/G/8b/xv/G/8b/xv+q/6r/pv+m/6X/pf+k/6T/n/+f/7j/uP/F/8X/wf/B/8T/xP/B/8H/1P/U/8j/yP+s/6z/nf+d/6r/qv+c/5z/sP+w/9n/2f/X/9f/1f/V/9H/0f/i/+L/2f/Z/+//7/8dAB0AHQAdADoAOgAmACYACQAJAOr/6v/g/+D/AAAAAP7//v8ZABkAJwAnAFAAUABsAGwAZABkAH4AfgCIAIgAZwBnAHMAcwCOAI4AqACoAMgAyADHAMcA3QDdAOgA6ADmAOYA0gDSAMUAxQDLAMsAwwDDANkA2QAAAQABAAEAAfwA/ADcANwA3gDeANMA0wC5ALkAvgC+AL0AvQCiAKIAowCjAIwAjAB8AHwAaQBpAFMAUwA9AD0ADAAMAAQABAAJAAkA+v/6/xgAGAAiACIAIQAhACAAIAA2ADYAcgByAGUAZQBxAHEAVABUADkAOQBBAEEAHwAfAAcABwAoACgAJwAnAD4APgBNAE0AZABkAGwAbABdAF0AQABAACQAJAAmACYAKAAoADAAMAApACkAQwBDAEcARwBKAEoAZQBlAEkASQBDAEMARABEAEUARQBAAEAAVQBVAF8AXwBBAEEAQABAACgAKAAgACAAAgACAAAAAADo/+j/u/+7/8H/wf+w/7D/p/+n/7z/vP/E/8T/3//f/9z/3P/e/97/xf/F/6v/q/+L/4v/S/9L/z7/Pv9C/0L/Qf9B/1r/Wv9w/3D/dP90/5T/lP+Z/5n/l/+X/7X/tf/f/9///P/8//L/8v/a/9r/1f/V/+H/4f8IAAgAIQAhAA8ADwD3//f/9v/2//z//P/p/+n/7v/u/+v/6//X/9f/6P/o///////+//7/FAAUACYAJgAWABYAAgACAAIAAgDj/+P/yf/J/6z/rP+f/5//wv/C/6f/p/+h/6H/2f/Z/9r/2v/p/+n/AAAAAAgACAD7//v/CAAIACMAIwAZABkAPwA/AGAAYAA6ADoAPQA9ADAAMAAbABsAHgAeAB8AHwAdAB0AMwAzAEYARgBZAFkAcwBzAH4AfgBdAF0AWwBbAEIAQgAcABwAHQAdAAEAAQDl/+X/4//j/wAAAAD+//7/FgAWACUAJQAeAB4AJQAlABsAGwD4//j/6P/o/+j/6P/s/+z/7P/s/+v/6//h/+H/xv/G/83/zf+t/63/vf+9/7X/tf+K/4r/gf+B/4P/g/95/3n/hv+G/6r/qv+r/6v/t/+3/87/zv+//7//hf+F/5T/lP+E/4T/kf+R/77/vv/k/+T/5f/l/+D/4P/4//j/FwAXACcAJwBZAFkARgBGAFEAUQBXAFcAOQA5AEIAQgA/AD8AOAA4ACcAJwA4ADgAOwA7ABkAGQAYABgANwA3ADgAOABPAE8AcwBzAH8AfwCbAJsAhACEAHQAdAB9AH0AewB7AIAAgABlAGUAPwA/ACMAIwAUABQABgAGAOr/6v/i/+L/BQAFACQAJAB1AHUAiwCLAJoAmgCiAKIAiwCLAJcAlwC2ALYAxQDFALIAsgCcAJwAnQCdAJ0AnQCfAJ8AoQChAJIAkgB7AHsAfwB/AH8AfwCJAIkAfQB9AHgAeABnAGcAfwB/AGgAaABcAFwAZABkAFoAWgAyADIANQA1ACgAKAArACsAEAAQAPX/9f/I/8j/uv+6/8P/w//C/8L/wv/C/+D/4P/8//z/CQAJAPf/9//h/+H/4//j/+H/4f/L/8v/vv++/8L/wv+9/73/w//D/7T/tP+g/6D/lP+U/5L/kv+N/43/hf+F/4b/hv+E/4T/o/+j/7z/vP+h/6H/qv+q/9b/1v/9//3/9v/2/9H/0f/L/8v/vf+9/6T/pP+J/4n/hf+F/4T/hP+V/5X/uv+6/8v/y//q/+r/AQABAPT/9P/b/9v/4P/g/8D/wP+H/4f/Z/9n/zH/Mf8Y/xj/K/8r/0P/Q/8o/yj/Lv8u/0L/Qv9D/0P/Mf8x/wb/Bv8A/wD/BP8E/+L+4v7s/uz+/f79/gb/Bv8c/xz/Hf8d/xf/F/8v/y//PP88/zX/Nf8t/y3/Tv9O/3P/c/+Q/5D/pv+m/7r/uv/f/9///P/8//j/+P/8//z/AAAAAPH/8f/a/9r/4v/i//r/+v//////HwAfACUAJQAeAB4AOAA4AD4APgAoACgAPwA/ACwALAAZABkADgAOAP7//v8EAAQA9f/1/wcABwAfAB8AOgA6AFkAWQBaAFoAXABcAEUARQA3ADcAOQA5ABsAGwAYABgAGgAaABcAFwD8//z/EAAQABoAGgAjACMAUgBSAHAAcAB/AH8AfQB9AJQAlACkAKQAngCeAKAAoAChAKEAmgCaAIUAhQB0AHQAPQA9ABgAGAAPAA8A9f/1/xUAFQAbABsA8f/x/+z/7P8DAAMAAgACAB8AHwAuAC4AUgBSAFwAXAA+AD4AJAAkAB8AHwAHAAcA4v/i/9r/2v/b/9v/3f/d/8n/yf/B/8H/xP/E/9D/0P/u/+7/BwAHACQAJAAwADAASwBLADAAMAAlACUADwAPAAIAAgACAAIA/v/+/xgAGAAKAAoACAAIAPP/8//a/9r/6f/p/+P/4//h/+H/2f/Z/+b/5v/9//3/+//7/x0AHQAzADMADwAPABUAFQAWABYA+f/5//3//f/l/+X/2f/Z/+H/4f/p/+n/DwAPAB0AHQA3ADcAMQAxABoAGgA0ADQAMQAxAF8AXwBCAEIAMwAzAEEAQQBEAEQAYQBhAGQAZABhAGEAfgB+AIEAgQBJAEkAQQBBAEIAQgA9AD0APwA/AEAAQABbAFsAZgBmAGYAZgBWAFYALgAuAD0APQAuAC4AHQAdACUAJQAbABsAOgA6ADcANwA+AD4AMgAyADEAMQBAAEAAPwA/AEEAQQA/AD8AGAAYAOn/6f/D/8P/ov+i/6P/o/+T/5P/h/+H/6j/qP/P/8///f/9/wEAAQAdAB0AAwADAOb/5v/k/+T/4f/h/+b/5v/5//n/zv/O/7r/uv+R/5H/o/+j/6T/pP+5/7n/xP/E/9f/1//p/+n/AgACACQAJABBAEEARgBGACoAKgAjACMAPwA/ACsAKwBCAEIARgBGAEMAQwBIAEgAPAA8AB4AHgArACsAIwAjACoAKgBuAG4AhwCHAJ0AnQCIAIgAawBrADwAPAASABIAGQAZABoAGgACAAIAIgAiACQAJABKAEoAewB7AIIAggBmAGYAXwBfAD8APwBAAEAAKAAoABsAGwAeAB4AEgASAOr/6v/f/9//+v/6/wQABAAOAA4AIwAjAAQABAAEAAQAAQABAP/////i/+L/6v/q/xcAFwAWABYAHQAdAPX/9f/c/9z/tP+0/5b/lv+V/5X/dv92/3X/df9z/3P/gv+C/5n/mf+h/6H/yv/K/93/3f/B/8H/v/+//73/vf+e/57/oP+g/4r/iv99/33/h/+H/2v/a/9c/1z/hf+F/6r/qv/B/8H/3//f/wEAAQAeAB4AJgAmAEcARwBAAEAAJAAkAC0ALQASABIA6P/o/83/zf/K/8r/y//L/8f/x//G/8b/wv/C/8L/wv/F/8X/qv+q/6L/ov/C/8L/wf/B/8P/w//b/9v/6P/o/wEAAQDj/+P/3P/c/8H/wf/K/8r/3v/e/9r/2v/i/+L/9//3//v/+/8AAAAA7v/u/9f/1//Z/9n/9f/1/+v/6//f/9///P/8//n/+f8TABMAHAAcACUAJQBYAFgAXQBdAGkAaQCBAIEAYgBiAFYAVgAvAC8AFQAVAPz//P//////+v/6/wYABgAeAB4AHAAcABwAHAD9//3//P/8//3//f//////GgAaACAAIAAbABsAMgAyAD0APQA8ADwAPgA+AFUAVQBgAGAAXQBdAGAAYABgAGAAXwBfAEoASgAmACYAIwAjABcAFwAEAAQAJQAlADsAOwAuAC4AJQAlAD8APwA/AD8AHAAcADkAOQAwADAAGAAYAPX/9f/l/+X/z//P/6T/pP++/77/vf+9/9X/1f8AAAAAGwAbABwAHAAcABwABgAGAPn/+f/7//v/3f/d/+f/5//l/+X/3//f/+T/5P//////4v/i/8D/wP+m/6b/of+h/7f/t//L/8v/4P/g//v/+/8qACoAXABcAIcAhwCFAIUAmwCbAK4ArgCpAKkArQCtAK0ArQCvAK8AnQCdAIEAgQBrAGsAZgBmAIMAgwB2AHYAaABoAIcAhwB7AHsAmwCbAJcAlwB/AH8AgQCBAGEAYQBeAF4AQwBDADMAMwA/AD8APwA/AEAAQAA/AD8AOgA6ABwAHAAYABgAGQAZAA4ADgAgACAABwAHAP3//f8dAB0AIQAhAD4APgBAAEAAUQBRAFsAWwA8ADwAWwBbAFcAVwA7ADsAQABAAD4APgA8ADwAHQAdAB4AHgAVABUA+//7/wAAAAD3//f/x//H/7z/vP+e/57/fv9+/3z/fP9+/37/ff99/3z/fP9//3//gf+B/4D/gP+G/4b/hP+E/4j/iP+b/5v/g/+D/2n/af9a/1r/XP9c/1v/W/91/3X/ef95/3v/e/+Z/5n/nP+c/53/nf+R/5H/hv+G/3v/e/9b/1v/Xf9d/1L/Uv88/zz/Qf9B/0D/QP9B/0H/P/8//zz/PP88/zz/PP88/17/Xv90/3T/af9p/37/fv9+/37/nv+e/5X/lf96/3r/iv+K/6H/of+c/5z/mv+a/5r/mv+W/5b/rP+s/7j/uP+z/7P/tv+2/7D/sP+U/5T/kf+R/5f/l/+k/6T/nv+e/5z/nP+x/7H/u/+7/8v/y//s/+z/8P/w/+P/4/8BAAEA/P/8//7//v8BAAEAAQABAOT/5P/i/+L/wP/A/9X/1f/L/8v/u/+7/8H/wf+//7//xP/E/8X/xf/J/8n/wv/C/93/3f/o/+j/4f/h/+b/5v/l/+X/3//f/6P/o/+A/4D/hf+F/4H/gf+K/4r/t/+3/9r/2v8MAAwAKgAqAEYARgBcAFwAjACMAKsAqwCwALAA3gDeAPAA8AASARIBCQEJAekA6QDuAO4A1ADUAMQAxADJAMkAwgDCAMMAwwDEAMQAxQDFAMQAxADJAMkA4gDiAPAA8AAOAQ4B8wDzAAkBCQHuAO4AuQC5AKkAqQCTAJMAowCjAKcApwCkAKQAqgCqAIwAjACEAIQAbgBuAGAAYABjAGMAYgBiAEwATAAXABcA7v/u/8//z//A/8D/wP/A/7n/uf/N/83/6P/o/+L/4v/f/9//4f/h/+D/4P/i/+L/4f/h/9v/2//f/9//yf/J/7v/u//L/8v/+v/6/yIAIgBCAEIAUABQAD8APwAcABwABgAGAAoACgAIAAgACAAIAAQABAAFAAUABAAEAOf/5//I/8j/tP+0/4j/iP+X/5f/jf+N/3z/fP+B/4H/ff99/3z/fP91/3X/ff99/2j/aP9X/1f/cf9x/4D/gP99/33/ff99/3H/cf9W/1b/Z/9n/37/fv9X/1f/bv9u/2D/YP9P/0//V/9X/3P/c/98/3z/fP98/4D/gP99/33/fP98/3v/e/9c/1z/Zf9l/5v/m//A/8D/2v/a/+b/5v/k/+T//P/8/xgAGAAkACQAIwAjACMAIwAwADAASABIAEkASQBhAGEAewB7AIMAgwB+AH4AmgCaAJwAnAC9AL0AtgC2AJoAmgCeAJ4AoACgAI0AjQBuAG4AVABUAEAAQAAtAC0ABwAHAAkACQD///////////7//v8IAAgAMQAxAFUAVQBiAGIANgA2ACYAJgAOAA4A/v/+//j/+P/T/9P/wP/A/6r/qv+a/5r/f/9//3j/eP+Z/5n/tv+2/8X/xf/r/+v/AgACAP7//v8VABUAQgBCACkAKQA8ADwAKwArAAUABQDn/+f/3//f/+b/5v/c/9z/sP+w/7P/s//F/8X/u/+7/7v/u/+7/7v/vP+8/7//v/+//7//wv/C/7X/tf+N/43/e/97/23/bf9Y/1j/YP9g/2D/YP9G/0b/Of85/0D/QP85/zn/Pv8+/yT/JP8u/y7/P/8//1X/Vf+F/4X/pf+l/8f/x//e/97/3v/e/wEAAQD5//n/4v/i/+L/4v/6//r/AAAAAOb/5v/k/+T/7P/s/wEAAQD8//z/GQAZACEAIQAzADMAYgBiAFoAWgBzAHMAggCCAIAAgACBAIEAgQCBAKEAoQCRAJEAbABsAEoASgBBAEEARABEAGAAYABkAGQAZQBlAGEAYQBkAGQAVwBXAD8APwBAAEAAPgA+AEEAQQBEAEQAYABgAGYAZgBiAGIAcABwAIYAhgCQAJAApwCnAKgAqACYAJgAcABwAHUAdQCDAIMAgQCBAKAAoAC5ALkAygDKAMUAxQDeAN4A6ADoAPMA8wALAQsBBwEHAQgBCAEIAQgBCAEIAQ0BDQHjAOMAyQDJAL0AvQCLAIsAhQCFAIIAggCPAI8AoACgAIEAgQB9AH0AWwBbADwAPAAtAC0AFQAVAAEAAQAbABsAQgBCAF4AXgBcAFwAdwB3AGsAawBBAEEABAAEAPX/9f/4//j//////xoAGgABAAEA6//r//z//P/j/+P/2f/Z/93/3f8EAAQAHAAcACEAIQBRAFEAXgBeAF4AXgBCAEIAEAAQAN//3/+9/73/of+h/6L/ov+7/7v/yv/K//L/8v8CAAIALQAtAFEAUQCHAIcAkgCSAHsAewByAHIAWwBbAFIAUgAFAAUA/f/9/+7/7v/Y/9j/xf/F/6f/p/+r/6v/tP+0/5f/l/+S/5L/Wv9a/2z/bP9m/2b/cv9y/5j/mP+b/5v/nP+c/5//n/+7/7v/ov+i/6D/oP+X/5f/dP90/37/fv+C/4L/fP98/5X/lf+N/43/mf+Z/7L/sv/O/87/8P/w/y4ALgAiACIAEgASACkAKQAMAAwADQANAAsACwAQABAABAAEAAoACgAAAAAAAgACAAAAAAAFAAUAHAAcAC4ALgBRAFEAPAA8ACIAIgAKAAoA5f/l/9D/0P/D/8P/xP/E/8n/yf/k/+T/AgACAC0ALQAlACUALwAvAEcARwBBAEEAJwAnACAAIAALAAsAAAAAAO7/7v/f/9//4//j/+L/4v/7//v/AwADAPT/9P/Z/9n/3P/c/9n/2f/Y/9j/7P/s/xAAEABHAEcAZABkAFUAVQA9AD0AJQAlACMAIwAwADAARgBGADYANgAeAB4AJAAkABcAFwD1//X/xf/F/57/nv+N/43/bf9t/1z/XP90/3T/kv+S/57/nv+v/6//wv/C/7//v/+Y/5j/Z/9n/zP/M/8e/x7/Ff8V//n++f4Q/xD/Av8C//3+/f4A/wD/G/8b/xr/Gv9C/0L/cP9w/5j/mP/J/8n/xv/G/+D/4P/+//7/AAAAAAAAAAADAAMA7//v/8z/zP+//7//vv++/7//v/+7/7v/0v/S/9z/3P/a/9r/9P/0/wUABQAhACEACgAKAPn/+f8TABMABQAFAPL/8v/a/9r/uf+5/5z/nP+e/57/nv+e/5//n/+h/6H/n/+f/6H/of+q/6r/zv/O/wIAAgAdAB0AMwAzADsAOwAdAB0AGQAZAP7//v8AAAAA8//z/+n/6f8EAAQA/f/9/wkACQA1ADUAVwBXAH0AfQCdAJ0AkwCTAHYAdgBeAF4ARwBHADAAMAAfAB8APgA+AEAAQAAkACQAIAAgACAAIAA5ADkAPQA9AFYAVgBsAGwAbgBuAGAAYABlAGUARgBGAEMAQwA+AD4AIQAhABkAGQD6//r/3//f/+H/4f/Z/9n/2v/a/9r/2v/a/9r/3//f//j/+P8EAAQAMgAyAFIAUgB2AHYAZQBlAFwAXABhAGEASwBLAFsAWwBOAE4AGwAbAOX/5f/S/9L/u/+7/8P/w/+4/7j/vf+9/8P/w//A/8D/wv/C/8H/wf/F/8X/wv/C/8T/xP/h/+H/4f/h/+P/4//e/97/yf/J/7r/uv+n/6f/n/+f/4f/h/+H/4f/hf+F/4T/hP+f/5//wP/A/9X/1f//////+f/5/yQAJAAuAC4ACAAIAAAAAADm/+b/xf/F/9j/2P/S/9L/zv/O/8X/xf/s/+z//////w8ADwAdAB0AMAAwABoAGgAWABYA+v/6/xIAEgAIAAgA+P/4/wEAAQD/////5//n/+f/5//m/+b/5v/m/9//3//t/+3/BAAEAAAAAAABAAEAAAAAAPv/+/8SABIAHAAcACgAKAA/AD8APwA/AD8APwBFAEUAJwAnAOn/6f/j/+P/zP/M/9//3//h/+H/9v/2/wAAAAAFAAUANgA2ADwAPAAhACEAHAAcAOn/6f+z/7P/nv+e/4r/iv9//3//f/9//4L/gv+b/5v/sv+y/+n/6f8DAAMAIQAhACUAJQAhACEAIwAjACUAJQAfAB8AIAAgAB0AHQAaABoAFgAWABoAGgAAAAAA9//3//3//f/+//7/CAAIAC0ALQBBAEEAPQA9AD0APQA6ADoAXABcAGQAZABWAFYAWQBZAD8APwA+AD4AJAAkAAoACgDt/+3/6v/q/xsAGwAnACcAIwAjADoAOgBEAEQAQQBBAD8APwA+AD4APAA8AEIAQgAsACwADwAPAPv/+//l/+X/5f/l/8X/xf/D/8P/tf+1/57/nv+i/6L/vP+8/+D/4P/8//z/GAAYABgAGAD4//j/5f/l/8n/yf++/77/w//D/77/vv/Z/9n/4f/h/8P/w//l/+X/2f/Z/9T/1P/n/+f/5//n/wMAAwAsACwAUQBRAEkASQBkAGQAawBrAFkAWQBIAEgAQwBDAPP/8//1//X/BwAHAA8ADwAtAC0AHgAeAO//7//I/8j/yP/I/6//r/+l/6X/m/+b/4r/iv+o/6j/nP+c/6j/qP+o/6j/uv+6/6P/o/+2/7b/yP/I/+b/5v8OAA4A+//7/+H/4f/7//v/HAAcADsAOwBOAE4AOAA4ADsAOwBfAF8AQgBCAFsAWwBdAF0AiQCJAJMAkwB6AHoAdwB3AEkASQBbAFsAcgByAHYAdgCOAI4AoACgAKEAoQCJAIkAiACIAMsAywDiAOIA/gD+ABoBGgERAREBAAEAAd0A3QCkAKQAkACQAIAAgABnAGcAZwBnAHcAdwCfAJ8ApACkAKQApAClAKUApQClAKQApACjAKMAhACEAGEAYQBBAEEAIQAhABYAFgASABIA/v/+/wAAAAD6//r/AAAAABoAGgA0ADQAQQBBAEIAQgBGAEYARABEAEcARwAwADAAJQAlABoAGgAbABsAKAAoACkAKQA4ADgAJgAmADcANwAcABwAAwADAAQABAAtAC0AKgAqAC8ALwBZAFkAZQBlAGYAZgBmAGYAZgBmAGMAYwBIAEgAKgAqAP7//v/k/+T/2v/a/77/vv+q/6r/of+h/8j/yP/0//T/DQANACMAIwAkACQADQANAAEAAQDl/+X/v/+//6D/oP+b/5v/lP+U/5b/lv+B/4H/dv92/3v/e/98/3z/i/+L/7j/uP/9//3/LgAuADoAOgBJAEkARgBGABsAGwAUABQA5P/k/9r/2v/e/97/3P/c/97/3v/b/9v/5P/k//7//v8CAAIAHgAeAEEAQQBcAFwAXgBeAHsAewBZAFkAKAAoABAAEADL/8v/r/+v/4z/jP95/3n/Zf9l/0L/Qv80/zT/Q/9D/1n/Wf9z/3P/j/+P/4P/g/+4/7j/w//D/7//v/+a/5r/df91/2D/YP9j/2P/Nf81/zH/Mf9b/1v/PP88/1r/Wv91/3X/hP+E/57/nv+X/5f/mP+Y/4f/h/+Z/5n/o/+j/4n/if+X/5f/uf+5/7v/u/+5/7n/n/+f/6H/of+u/67/pf+l/6X/pf+5/7n/y//L/7v/u/+j/6P/pP+k/8D/wP/C/8L/vv++/8D/wP/A/8D/vv++/5H/kf92/3b/df91/4b/hv+l/6X/v/+//8b/xv/e/97/5P/k/+D/4P/a/9r/8v/y//r/+v/k/+T//v/+/+r/6v/r/+v/2v/a/7L/sv+a/5r/l/+X/5z/nP+c/5z/n/+f/6H/of+w/7D/pP+k/63/rf/D/8P/1P/U/+3/7f8XABcAQABAAGcAZwBnAGcAbABsAGYAZgBJAEkAMgAyAP7//v/i/+L/7f/t/xUAFQAFAAUAJAAkABQAFAAQABAAHgAeACcAJwBBAEEAPwA/AGAAYABkAGQARgBGAEUARQBAAEAACgAKAOH/4f/C/8L/vf+9/7//v/+//7//vf+9/7r/uv/H/8f/7//v/wsACwAdAB0AJQAlAEQARAAkACQAMgAyABgAGADl/+X/0f/R/7r/uv/A/8D/2//b/9v/2//i/+L/0f/R/8n/yf/h/+H/5//n/xcAFwAfAB8AIAAgACYAJgAwADAAUwBTAGYAZgBiAGIATgBOAAoACgDk/+T/z//P/8T/xP/m/+b/AQABABIAEgAqACoARgBGAEcARwBFAEUARQBFAFoAWgBnAGcATABMADoAOgBBAEEALgAuACMAIwBHAEcANwA3AD0APQA+AD4AQwBDAD8APwBZAFkAXABcAEUARQBHAEcARABEAEgASAA1ADUAHQAdAB8AHwAdAB0AHwAfAB0AHQAdAB0A/v/+/xQAFAAnACcAIAAgAC4ALgBGAEYAQQBBAEAAQAAiACIAOAA4AEcARwAkACQAIgAiACIAIgA1ADUASgBKAGcAZwBvAG8AWABYAJIAkgCjAKMAyQDJAOgA6AACAQIB8ADwAMUAxQCuAK4AmQCZAGUAZQBiAGIAOgA6AAoACgACAAIA8v/y/93/3f/W/9b/tf+1/9T/1P/g/+D/4P/g/+T/5P/g/+D/yf/J/7T/tP+h/6H/k/+T/4j/iP+j/6P/mv+a/6H/of+c/5z/oP+g/5X/lf9k/2T/dP90/3X/df9+/37/rv+u/7z/vP/V/9X/5v/m/wAAAADo/+j/1v/W/87/zv+z/7P/vv++/7P/s/+x/7H/1v/W/9j/2P/2//b/+v/6//r/+v/9//3//////9b/1v+9/73/wP/A/8L/wv/D/8P/wv/C/8L/wv/g/+D/4//j/9//3//c/9z/6v/q/wAAAAD9//3/AgACAAMAAwAAAAAAAgACAPr/+v/R/9H/0//T/+L/4v/b/9v/6//r//v/+/8JAAkACQAJAN//3//e/97/3//f/8X/xf+6/7r/vf+9/8D/wP+7/7v/zf/N/+n/6f/E/8T/4v/i/wYABgAQABAAKwArACMAIwA+AD4ASgBKAEMAQwBGAEYANwA3ACMAIwAlACUAIwAjACMAIwA/AD8APQA9AEgASABiAGIAXQBdAF8AXwBdAF0AYQBhAGYAZgB+AH4AbABsAGQAZABGAEYASwBLAFAAUAAwADAAGgAaAP3//f8RABEA+P/4/+D/4P8BAAEAAgACAAEAAQD8//z/AQABABwAHAAfAB8AHAAcAB4AHgAgACAAHQAdADcANwAqACoAJQAlACYAJgAlACUAKgAqAD0APQBTAFMAWQBZAEIAQgAuAC4AHwAfABYAFgDl/+X/v/+//73/vf/D/8P/vP+8/9r/2v8EAAQAAAAAAP3//f8BAAEABgAGAPr/+v8AAAAAAAAAAAAAAAD/////+v/6/9r/2v/t/+3/AwADACsAKwA+AD4AIQAhACsAKwBXAFcAXABcAFkAWQB5AHkAZABkAFIAUgBnAGcAfAB8AHwAfAByAHIATwBPACIAIgAZABkAHQAdAAoACgDz//P/6v/q//j/+P/4//j/HwAfACYAJgAhACEAHQAdAAAAAAD9//3///////7//v8AAAAAAwADAA0ADQAxADEARQBFAEIAQgBQAFAAQwBDAC0ALQAiACIACwALAAsACwAMAAwA8P/w//n/+f8zADMAQwBDAFwAXABOAE4ARABEADYANgA2ADYALwAvABgAGAApACkASABIAF8AXwBaAFoAaABoAIoAigBrAGsAYQBhAE0ATQA9AD0AOAA4AA8ADwD9//3//P/8///////x//H/3P/c/9j/2P+w/7D/n/+f/5//n/+p/6n/k/+T/33/ff+B/4H/gv+C/67/rv/Y/9j/BAAEACYAJgAiACIARABEAGIAYgBMAEwAJgAmACQAJAAFAAUA5P/k/+n/6f/2//b/3v/e/+D/4P/k/+T/AQABAAAAAAAZABkAJwAnAAcABwAJAAkA7P/s/+D/4P/Z/9n/vf+9/8H/wf/A/8D/wP/A/9P/0//E/8T/m/+b/2j/aP9B/0H/QP9A/1T/VP9h/2H/hP+E/63/rf+9/73/k/+T/3r/ev+C/4L/gP+A/3z/fP9f/1//X/9f/0v/S/8o/yj/HP8c/wD/AP/9/v3+HP8c/zf/N/85/zn/V/9X/3f/d/96/3r/bf9t/1j/WP9b/1v/X/9f/2D/YP9u/27/gf+B/3v/e/+A/4D/ff99/4P/g/+h/6H/pf+l/8P/w//E/8T/6P/o///////1//X/AAAAAAUABQA4ADgAOwA7AFEAUQA4ADgAAwADAPb/9v/E/8T/qP+o/7f/t/+U/5T/fP98/2L/Yv9i/2L/XP9c/2n/af+M/4z/m/+b/7H/sf/t/+3/AgACABcAFwD+//7//P/8//X/9f+8/7z/jf+N/2v/a/9l/2X/WP9Y/1n/Wf9r/2v/Zf9l/4P/g/+d/53/zf/N/+L/4v8MAAwAIQAhADAAMABHAEcAXQBdAGAAYABWAFYAQQBBACYAJgAdAB0ACwALAPH/8f/F/8X/sP+w/7b/tv/I/8j/BAAEADoAOgBXAFcAVgBWAGwAbABsAGwAWABYAGcAZwBnAGcARwBHACoAKgDh/+H/uf+5/8P/w/+h/6H/s/+z/8H/wf/U/9T/4v/i/+r/6v8DAAMA/v/+/xgAGAD8//z/3v/e/9//3//w//D/AAAAAPD/8P/i/+L/6v/q/+T/5P/o/+j/5f/l//b/9v8WABYAHgAeABYAFgAvAC8AQQBBAD8APwBCAEIAPwA/AEwATABpAGkAfgB+AIIAggBsAGwAXQBdAGwAbACEAIQAggCCAIYAhgB2AHYAYwBjAFAAUAA6ADoAPAA8AD8APwBBAEEAQQBBAFkAWQBnAGcAYABgAGcAZwBAAEAAJwAnABkAGQDn/+f/3v/e/+P/4//S/9L/yf/J/+T/5P/t/+3/IgAiABUAFQAbABsACQAJANz/3P/G/8b/sv+y/57/nv+j/6P/pP+k/7L/sv/L/8v/wv/C/9r/2v/m/+b/w//D/8f/x/+v/6//pP+k/8H/wf/B/8H/2//b/+P/4/8YABgAWgBaAEsASwA4ADgAUgBSAFgAWABHAEcAMQAxABgAGAAhACEADwAPAAsACwDr/+v/7//v/wIAAgD+//7/JQAlAEgASACGAIYAmgCaAKUApQCqAKoAlgCWAHMAcwBBAEEAOQA5ADkAOQA7ADsAVgBWAFoAWgA7ADsAOgA6ACwALAAPAA8AEAAQACsAKwBTAFMAQgBCADcANwBUAFQAYwBjAFsAWwBCAEIAPwA/ACQAJABDAEMARgBGACUAJQAoACgAFAAUAPr/+v/m/+b/1v/W/93/3f/8//z/AwADAOv/6//b/9v/+f/5/wwADAAoACgAWwBbAIIAggCaAJoApwCnALYAtgCbAJsAgwCDAHYAdgBkAGQAXwBfAF8AXwBfAF8AYwBjAEcARwAkACQAIwAjADwAPAA8ADwAOQA5AE8ATwBkAGQAdQB1AIkAiQBwAHAAPQA9AA8ADwDw//D/yv/K/8z/zP/e/97/5v/m/wEAAQAAAAAAAAAAAPr/+v8AAAAA8//z/9z/3P/c/9z/wP/A/7z/vP/A/8D/v/+//53/nf+d/53/nP+c/5j/mP+c/5z/of+h/6b/pv+f/5//if+J/3n/ef9i/2L/Zf9l/3//f/+c/5z/m/+b/7T/tP+6/7r/tf+1/9H/0f/f/9//3//f/93/3f/u/+7/AQABABQAFAAsACwAKwArADQANABJAEkANwA3AEUARQBWAFYAVQBVAFUAVQBCAEIAXQBdAEMAQwBQAFAAXgBeAGIAYgCHAIcAmACYAIAAgACZAJkAmQCZAJsAmwCGAIYAdQB1AGEAYQBJAEkAQABAAEIAQgBWAFYAdwB3AIoAigCiAKIAxwDHAMUAxQC8ALwAygDKAKIAogCxALEAwADAAL4AvgC7ALsApgCmAJ0AnQB3AHcAXwBfAGAAYABfAF8AXABcAGUAZQCEAIQAYQBhAHEAcQBsAGwAWwBbAGEAYQBDAEMAVgBWAGcAZwBhAGEAXwBfAF8AXwBgAGAAXwBfAF8AXwA3ADcAHQAdAB4AHgD9//3/CQAJACMAIwAeAB4AIgAiABwAHAABAAEA8P/w//v/+//4//j/+P/4//z//P/6//r/FQAVABoAGgAcABwACAAIANP/0/+9/73/vP+8/53/nf+V/5X/rv+u/8n/yf/t/+3/BAAEAAAAAADp/+n/0//T/7L/sv+h/6H/of+h/6b/pv+n/6f/xf/F/7v/u/+k/6T/nf+d/3z/fP+K/4r/o/+j/5n/mf+n/6f/wP/A/8H/wf/e/97/6v/q/8X/xf/k/+T/5v/m/9X/1f/c/9z/2//b/9//3//f/9//+//7/+f/5//V/9X/2v/a/8//z/+z/7P/z//P/9z/3P/d/93/AAAAAPD/8P/o/+j/7//v/8b/xv/E/8T/t/+3/6H/of+l/6X/of+h/3r/ev9b/1v/RP9E/y//L/8r/yv/T/9P/1r/Wv9Z/1n/Tf9N/zX/Nf8a/xr/Gv8a/x7/Hv8S/xL//P78/gz/DP8f/x//Hv8e/z7/Pv8w/zD/Fv8W/x7/Hv8g/yD/Sf9J/2D/YP9Z/1n/Wf9Z/z3/Pf85/zn/N/83/z7/Pv9X/1f/dP90/3z/fP+F/4X/nf+d/4H/gf+A/4D/fv9+/33/ff95/3n/f/9//4//j/9+/37/m/+b/5X/lf+V/5X/lP+U/6j/qP/T/9P/4f/h/+P/4//g/+D/4//j//v/+/8KAAoAJAAkAB4AHgAeAB4AOAA4AFYAVgBWAFYAWwBbAFwAXABZAFkAYwBjAE0ATQBCAEIAMQAxAAsACwDo/+j/p/+n/5v/m/+W/5b/n/+f/7v/u/+z/7P/wv/C//L/8v8GAAYANQA1AF4AXgBIAEgAMAAwAAYABgDe/97/8//z/wMAAwD7//v/y//L/8P/w//h/+H/4P/g/woACgA7ADsAfgB+AMAAwADGAMYAxwDHALgAuACqAKoAxwDHAKkAqQCdAJ0AowCjAJgAmABUAFQAQQBBACwALAAcABwAIAAgAB8AHwAhACEAHwAfAAUABQAEAAQAIAAgACUAJQBCAEIARgBGAC0ALQAhACEAIgAiAB4AHgAgACAAFAAUAPv/+//j/+P/y//L/9r/2v/g/+D/4P/g/+D/4P/e/97/4v/i/93/3f/x//H//v/+//L/8v/Q/9D/rf+t/6T/pP9//3//h/+H/6P/o//M/8z/6//r/wUABQDy//L/6f/p/9P/0//E/8T/sv+y/6b/pv+q/6r/qf+p/6H/of+o/6j/u/+7//P/8/8oACgASABIAGcAZwBmAGYAfAB8AIcAhwCDAIMAgwCDAIQAhABtAG0ARwBHADwAPABBAEEAWwBbAEcARwBCAEIARABEACUAJQAIAAgABgAGAAcABwAJAAkABwAHAAsACwDe/97/2v/a/9P/0/+//7//3f/d/9z/3P/q/+r/4//j//b/9v8PAA8ABQAFACYAJgBJAEkAOAA4AEMAQwBMAEwALwAvACIAIgAnACcAOQA5ADcANwBtAG0AdQB1AF8AXwBlAGUAaQBpAGkAaQCBAIEAegB6AFAAUABEAEQAJwAnACQAJAAiACIAIgAiACIAIgAGAAYAAAAAANv/2/+//7//w//D/9z/3P/d/93/2f/Z//P/8//9//3/FAAUAEAAQAA7ADsATABMAGkAaQBlAGUAZQBlAGUAZQBVAFUAOgA6ACAAIAAfAB8ARQBFAHIAcgCAAIAAogCiAL4AvgChAKEAoQChAKUApQCiAKIAoQChAKMAowCcAJwAggCCAJQAlACuAK4AqACoAKoAqgCgAKAAfAB8AGEAYQB4AHgAXQBdADwAPAAkACQAFAAUAP3//f//////EwATAAgACAAfAB8AJwAnAEcARwBZAFkARQBFAEYARgBGAEYARgBGAEoASgBnAGcAZwBnAEwATABOAE4APwA/ACoAKgAnACcADAAMAPP/8/+8/7z/o/+j/6L/ov+o/6j/pf+l/7v/u//M/8z/7v/u/wkACQAdAB0AHgAeACEAIQALAAsA+//7/+X/5f/I/8j/lv+W/3r/ev9e/17/LP8s/xX/Ff8d/x3/Fv8W/y7/Lv9f/1//lv+W/9L/0v/3//f/EgASAB8AHwAEAAQA3v/e/9//3//d/93/4P/g/97/3v/f/9///f/9/wQABAAcABwAIwAjACMAIwAEAAQABwAHACcAJwAlACUAKwArAEYARgBFAEUAOgA6ABAAEAATABMACQAJAAEAAQAAAAAAAwADAPf/9//i/+L/5v/m/9X/1f/U/9T//f/9/wEAAQD//////////wEAAQABAAEA/f/9/xUAFQAiACIAHQAdAAcABwD9//3/CQAJAB0AHQAXABcA8f/x/wYABgD5//n/y//L/87/zv/G/8b/0//T//D/8P8NAA0AEwATAPz//P/r/+v/tv+2/7f/t/+0/7T/zP/M/9n/2f8DAAMAJwAnAF4AXgCdAJ0AngCeAKEAoQCfAJ8AhwCHAIAAgABMAEwAKQApAA4ADgAAAAAA/f/9//r/+v/6//r/7v/u/wgACAAyADIAMgAyADkAOQAqACoABQAFAAsACwAoACgAIQAhAAYABgDm/+b/zP/M/7P/s/+m/6b/j/+P/3r/ev9f/1//XP9c/0b/Rv85/zn/Pf89/1j/WP9t/23/kf+R/7H/sf/L/8v/8P/w//j/+P/2//b/9v/2/83/zf+u/67/kf+R/3f/d/96/3r/e/97/3T/dP9z/3P/kf+R/57/nv+6/7r/pv+m/5D/kP9k/2T/Wf9Z/0//T/8l/yX/EP8Q//r++v4C/wL/Af8B/xD/EP9A/0D/Sf9J/0L/Qv9E/0T/Zv9m/4X/hf9//3//m/+b/5z/nP93/3f/U/9T/z7/Pv8y/zL/E/8T/yz/LP9C/0L/fP98/6z/rP/W/9b/5v/m//X/9f8mACYAMgAyAEcARwAtAC0AKwArAC4ALgApACkAPAA8AEgASAAsACwAIAAgACMAIwAgACAAHAAcACIAIgAJAAkA3P/c/7//v/+9/73/wv/C/+v/6/8GAAYAHgAeAEIAQgA6ADoAIQAhACIAIgAGAAYA8f/x/87/zv+8/7z/pv+m/5n/mf+P/4//ef95/4b/hv9t/23/V/9X/1L/Uv9U/1T/Uv9S/2f/Z/+f/5//tf+1/9v/2//3//f/8f/x//X/9f/3//f//v/+/xsAGwA4ADgARABEAEEAQQBFAEUAJAAkADQANABBAEEADAAMABUAFQAGAAYAAgACABwAHAAeAB4AHgAeAB8AHwAZABkAGgAaABcAFwATABMAEQARACYAJgAyADIAMAAwABUAFQAWABYAFQAVABsAGwAQABAAAAAAACgAKAA2ADYAPgA+AFYAVgA1ADUANgA2ABEAEQDz//P//f/9//D/8P/Z/9n/4v/i/wAAAAAEAAQAJwAnAFMAUwBQAFAAUwBTADkAOQBFAEUAQQBBAEcARwBbAFsAYgBiAGAAYAA0ADQAIQAhABAAEAAAAAAAGgAaADAAMABYAFgAewB7AJ4AngCbAJsAlwCXAK0ArQChAKEAnQCdAJsAmwCKAIoAaABoACwALAAkACQAOQA5AFkAWQCTAJMAvAC8AMQAxADVANUA5wDnANQA1ADCAMIAugC6AKAAoACjAKMAqACoAKcApwC8ALwAyADIAKMAowCFAIUAfQB9AF0AXQBXAFcAWgBaAFgAWABzAHMAiwCLAK4ArgDHAMcAxADEALIAsgCEAIQAUABQADAAMAAFAAUABwAHAP3//f/m/+b/8f/x/+//7//w//D/4P/g//r/+v8LAAsAEgASACcAJwBKAEoAZQBlAGIAYgBWAFYASABIAEAAQAAiACIADQANAPP/8//o/+j/w//D/9j/2P/m/+b/4v/i/+D/4P/Z/9n/2//b/9j/2P/A/8D/wP/A/6z/rP+f/5//rP+s/9j/2P/4//j/BgAGAOv/6//k/+T/0v/S/8T/xP/U/9T/tP+0/8X/xf/w//D/DgAOABsAGwAeAB4AGwAbAAQABAAbABsAKQApAA8ADwABAAEA/P/8/8z/zP/I/8j/yP/I/8f/x/+w/7D/o/+j/6X/pf+g/6D/n/+f/7r/uv+//7//u/+7/9P/0//8//z/IwAjACkAKQAnACcALAAsABIAEgAIAAgAFQAVAPb/9v8oACgALAAsADkAOQA6ADoAHwAfAB4AHgAfAB8AHwAfAB4AHgA7ADsAQgBCAEQARABEAEQAVgBWAHoAegCEAIQAgQCBAHIAcgBRAFEALwAvABQAFAD2//b/8P/w/wwADAAjACMAMgAyACUAJQAfAB8AHQAdABYAFgAdAB0ACQAJAP/////j/+P/6f/p/xAAEAAeAB4AGQAZAB8AHwAJAAkA/v/+//7//v/+//7/AAAAAAAAAADy//L/3f/d/+H/4f/V/9X/3P/c/+L/4v/X/9f/5P/k/+j/6P/k/+T/7P/s//3//f/o/+j/5f/l/8f/x/+9/73/oP+g/5b/lv9w/3D/XP9c/2X/Zf9d/13/av9q/4T/hP99/33/qf+p/8T/xP+//7//4//j/+3/7f/i/+L/3v/e//b/9v/0//T/4P/g/xQAFAAAAAAA8v/y//j/+P/1//X/+v/6//P/8//f/9//6//r/9L/0v++/77/v/+//8T/xP+w/7D/iP+I/37/fv+f/5//mP+Y/7T/tP+2/7b/m/+b/6L/ov+Z/5n/dP90/1v/W/9f/1//Xv9e/2b/Zv+N/43/oP+g/7T/tP/K/8r/6f/p/97/3v/y//L//f/9/9f/1//1//X/7f/t/9j/2P/j/+P/1v/W/7v/u//O/87/3v/e/83/zf/g/+D/2f/Z//T/9P8VABUAPAA8ADIAMgAfAB8AKAAoAPf/9//k/+T/6f/p/9b/1v/q/+r/2//b/+j/6P8EAAQA4v/i/9//3//x//H/BwAHABoAGgBKAEoAggCCAJgAmACyALIAxADEAMcAxwDGAMYA4QDhAOoA6gAEAQQBBAEEAewA7ADYANgAuQC5AM0AzQC1ALUAtAC0AM4AzgCuAK4ArQCtALIAsgDOAM4AzQDNALAAsACQAJAAgwCDAIEAgQBjAGMASABIADEAMQAeAB4AHgAeACAAIAAhACEACgAKACUAJQAnACcAJwAnACQAJAAjACMA+f/5/9//3/+s/6z/mv+a/6L/ov+d/53/n/+f/6r/qv/U/9T/4//j/+3/7f8DAAMA4f/h//n/+f8mACYAMwAzAAcABwD/////2f/Z/8D/wP/D/8P/vP+8/6H/of+j/6P/ov+i/77/vv/K/8r/2v/a//7//v8CAAIA//////j/+P/d/93/yP/I/7f/t/+t/63/kf+R/6D/oP+5/7n/o/+j/27/bv9V/1X/Rf9F/yn/Kf8W/xb/L/8v/0j/SP9X/1f/W/9b/z3/Pf9M/0z/eP94/3b/dv+R/5H/e/97/3j/eP95/3n/mv+a/5f/l/+Y/5j/sP+w/6L/ov+5/7n/uP+4/9P/0//c/9z/6f/p//z//P8IAAgAFAAUAPv/+//q/+r/3P/c/8j/yP/h/+H/4//j/8n/yf/W/9b/wv/C/8j/yP/H/8f/xP/E/8X/xf/A/8D/2P/Y/+v/6//l/+X/6//r/9T/1P/E/8T/xP/E/9D/0P/o/+j/4f/h/+L/4v/h/+H/7f/t/woACgD3//f//f/9/y0ALQBHAEcAUABQAFMAUwBGAEYAKwArACcAJwASABIA9f/1/yIAIgBDAEMAJQAlAEwATACEAIQAlACUAK0ArQCjAKMAfwB/AGYAZgBpAGkAYgBiAEYARgBmAGYAXwBfAEMAQwBIAEgAHAAcABEAEQArACsAPAA8AEYARgA9AD0ASABIACEAIQA1ADUAWgBaAF8AXwBrAGsAbgBuAG4AbgBvAG8AiQCJAIsAiwCHAIcAfAB8AE0ATQApACkAHwAfACIAIgAbABsAOgA6AGMAYwBxAHEAfwB/AFEAUQBGAEYASQBJADkAOQAjACMACwALAAAAAAABAAEADAAMACYAJgAlACUARwBHAGMAYwBhAGEARgBGAEcARwAeAB4ABQAFACcAJwAkACQAIwAjABgAGAD+//7/BAAEAAUABQAEAAQABwAHAAgACAAEAAQADwAPACwALABJAEkAXwBfAFoAWgBBAEEAJAAkABkAGQAbABsAHQAdACEAIQAKAAoA+v/6/woACgAdAB0AKwArADwAPABYAFgASgBKABsAGwADAAMA/P/8/wEAAQD2//b/zf/N/7r/uv+5/7n/lv+W/6H/of+9/73/uv+6/9r/2v/o/+j/5P/k/8r/yv/A/8D/t/+3/6H/of+h/6H/t/+3/8D/wP/N/83/9//3//D/8P/k/+T/AAAAAP7//v//////EwATACIAIgAeAB4AHAAcAB0AHQAdAB0AKgAqACYAJgDt/+3/4//j/9L/0v/I/8j/4v/i/8L/wv+2/7b/lf+V/5r/mv+d/53/tf+1/9b/1v/2//b/AQABAOz/7P/J/8n/uP+4/6D/oP+h/6H/i/+L/2D/YP9g/2D/Pv8+/0T/RP9e/17/Vf9V/2j/aP99/33/Wf9Z/2f/Z/9+/37/d/93/4r/iv+0/7T/tP+0/7n/uf+y/7L/mv+a/5r/mv+d/53/nP+c/7L/sv/A/8D/wf/B/7r/uv+g/6D/r/+v/8n/yf/F/8X/xf/F/+P/4//m/+b/5f/l/+f/5//j/+P/6v/q/wkACQAFAAUA9P/0/93/3f/A/8D/of+h/4z/jP98/3z/i/+L/6T/pP+i/6L/pP+k/57/nv+Z/5n/uP+4/83/zf/w//D/AAAAACgAKAA/AD8ASABIAE8ATwAlACUAHgAeAAEAAQAYABgAPwA/AFMAUwB1AHUAfgB+AHwAfACTAJMAogCiAJoAmgCtAK0AuQC5AJ8AnwCjAKMApQClALAAsACmAKYAwgDCAL8AvwDRANEAzgDOAIwAjABoAGgAPgA+ACUAJQAeAB4AGgAaABgAGAA2ADYASwBLADEAMQBEAEQAWABYADcANwA7ADsAMgAyABwAHAAeAB4ACAAIAOr/6v/j/+P/AwADAAQABADk/+T/3v/e/97/3v/g/+D/3v/e//b/9v8VABUAPwA/AGgAaABlAGUAawBrAEAAQAAiACIAIwAjAAMAAwAXABcAKAAoACMAIwAlACUAJAAkACkAKQAPAA8A5//n/+T/5P/r/+v/DQANACUAJQA6ADoAWgBaAGYAZgBlAGUAWwBbAC4ALgAZABkA7//v/8//z/+r/6v/ov+i/6X/pf+R/5H/hP+E/4X/hf+i/6L/o/+j/6f/p/+T/5P/gv+C/4T/hP+A/4D/kP+Q/4H/gf+e/57/x//H/8//z/8AAAAAAgACABoAGgAMAAwADAAMAB8AHwD9//3/FgAWACUAJQAgACAAKwArAEIAQgATABMA/P/8//////8TABMAHAAcACsAKwAtAC0ACAAIAAAAAAALAAsAIQAhAPz//P8UABQACAAIAPb/9v/7//v/+P/4//n/+f/z//P/AwADABcAFwAtAC0AWwBbAFkAWQBWAFYAXABcAEUARQA6ADoAPwA/AD8APwBAAEAARABEAFwAXAB2AHYAgwCDAJQAlACAAIAAjQCNAKkAqQCuAK4A5ADkANQA1ADBAMEAqwCrAJAAkABVAFUASgBKAGQAZABlAGUAcwBzAGoAagCGAIYAaABoAGAAYABmAGYASABIAFQAVABiAGIAPwA/AB0AHQAgACAABgAGAAAAAAD3//f/4f/h//3//f/b/9v/vf+9/7n/uf+//7//3P/c/+3/7f8CAAIA4//j/+D/4P/W/9b/rP+s/5f/l/+d/53/nv+e/53/nf+5/7n/vf+9/6L/ov+p/6n/iv+K/6//r//P/8//sv+y/6P/o/+r/6v/i/+L/4D/gP9//3//ef95/5L/kv91/3X/cP9w/1b/Vv9Y/1j/dv92/3r/ev92/3b/hf+F/5f/l/+g/6D/tf+1/8z/zP/b/9v/3P/c/8X/xf+1/7X/t/+3/7X/tf/F/8X/2f/Z//b/9v8GAAYABAAEAAgACAAEAAQAGAAYACEAIQD9//3/FwAXACEAIQA0ADQALQAtADwAPAA1ADUAHwAfACEAIQAmACYAPAA8ACEAIQAdAB0AJAAkAFgAWAB+AH4AggCCAG0AbQA3ADcAJQAlAA4ADgACAAIA/v/+//3//f8FAAUAAAAAABgAGABBAEEAPAA8AFIAUgBfAF8AXABcAGMAYwBZAFkANwA3AAYABgDi/+L/AAAAAOj/6P/c/9z/4P/g/+//7///////CQAJACMAIwAhACEAPQA9ACYAJgAVABUAHAAcAB8AHwATABMAAwADAAoACgAEAAQABAAEAO3/7f/P/8//wf/B/6b/pv+U/5T/mv+a/53/nf+K/4r/l/+X/6n/qf+w/7D/qf+p/7n/uf/Q/9D/wf/B/9r/2v/M/8z/t/+3/6H/of+d/53/oP+g/6P/o/+o/6j/sf+x/7D/sP+3/7f/sf+x/67/rv+Q/5D/q/+r/6n/qf+7/7v/uf+5/6T/pP+o/6j/nv+e/57/nv+i/6L/m/+b/4D/gP+T/5P/e/97/5n/mf+8/7z/0f/R/9v/2//N/83/5//n/+n/6f/z//P/DAAMACEAIQAoACgARwBHAGIAYgBsAGwAgACAAKgAqACeAJ4AowCjAI4AjgBaAFoALAAsAB0AHQAKAAoA7//v//D/8P8AAAAACAAIABIAEgAbABsACQAJAAMAAwDw//D/4f/h/+P/4//k/+T/9//3/wUABQAuAC4APgA+ADYANgBaAFoAbABsAGIAYgB1AHUAfQB9AHYAdgBzAHMAbQBtAFEAUQA+AD4ASABIAGcAZwCDAIMAqQCpALQAtADXANcAyADIALkAuQCRAJEAjgCOAHwAfABYAFgAUgBSAFEAUQBkAGQAXQBdAEMAQwAeAB4AGQAZABMAEwAIAAgA6P/o/+L/4v/4//j/CwALACsAKwBJAEkASwBLAE4ATgA4ADgAFgAWABkAGQAcABwADwAPAPP/8//g/+D/sv+y/4H/gf9n/2f/S/9L/0n/Sf9T/1P/ZP9k/23/bf+M/4z/kP+Q/4X/hf+X/5f/mP+Y/6z/rP+g/6D/qv+q/7X/tf+//7//uf+5/6D/oP+X/5f/mv+a/4//j/9i/2L/U/9T/1n/Wf9o/2j/Y/9j/2T/ZP9x/3H/jv+O/5b/lv+U/5T/kP+Q/7P/s//H/8f/3v/e/+j/6P/p/+n/8P/w//3//f8DAAMA8//z/w0ADQAHAAcA3P/c/7v/u/+M/4z/gf+B/23/bf9x/3H/ef95/4//j//H/8f/6v/q/woACgANAA0AFgAWACEAIQAtAC0AIQAhAPz//P/7//v/9f/1/+r/6v/U/9T/4f/h/+v/6//v/+//+v/6//f/9/8PAA8AIAAgAA4ADgDw//D/4//j//3//f/5//n/CAAIAAkACQAVABUAFgAWAAAAAAAQABAAFQAVAD0APQBAAEAANQA1ADQANAAwADAAIQAhAAMAAwABAAEAEwATAEIAQgBdAF0AdQB1AIUAhQB6AHoAbABsAFkAWQBbAFsAZQBlAF4AXgBWAFYAQwBDAEcARwA7ADsANAA0AC0ALQA7ADsARwBHADoAOgA1ADUAGQAZAPz//P/e/97/2P/Y//D/8P8AAAAAEAAQAAsACwAQABAAGQAZABQAFAAJAAkA+f/5/wAAAAAAAAAABgAGAAgACAALAAsADgAOAO//7//K/8r/p/+n/5X/lf+D/4P/b/9v/3H/cf99/33/m/+b/6D/oP+Y/5j/kf+R/47/jv+V/5X/kv+S/5r/mv+U/5T/jv+O/3v/e/9o/2j/XP9c/03/Tf9M/0z/Nv82/yj/KP8i/yL/Mf8x/1L/Uv9n/2f/iv+K/6v/q//c/9z/8//z//H/8f/t/+3/7P/s//7//v/+//7/BwAHABIAEgAcABwAEwATAPT/9P/0//T/BAAEACYAJgA2ADYATwBPAIEAgQCoAKgAuQC5AJsAmwCEAIQAcQBxAGMAYwBVAFUAUwBTAHEAcQB+AH4AgwCDAHwAfACMAIwAqwCrALwAvADVANUA6gDqAA4BDgEUARQB+QD5AMsAywCeAJ4AhwCHAHAAcAB0AHQAdwB3AH8AfwB6AHoAbABsAHQAdAB3AHcAjQCNAJ4AngC5ALkA1QDVAOEA4QDoAOgA4ADgAN8A3wDRANEAygDKAMEAwQC0ALQApQClAIEAgQB5AHkAcwBzAHYAdgBsAGwAUABQAEEAQQArACsAHwAfABUAFQAiACIAOQA5AE8ATwBlAGUAcwBzAIsAiwCDAIMAdAB0AFMAUwAvAC8AGwAbAPz//P/t/+3/4f/h/+v/6/8BAAEAHQAdADsAOwBEAEQAQABAACsAKwArACsAIAAgABIAEgAJAAkA7f/t/9b/1v+0/7T/rP+s/7b/tv++/77/v/+//63/rf+r/6v/tv+2/8L/wv+w/7D/rv+u/8n/yf/i/+L/+//7/wEAAQAdAB0AKAAoAB8AHwAeAB4AHAAcACYAJgATABMA3v/e/6H/of+S/5L/nf+d/57/nv+o/6j/xv/G/wMAAwAgACAAMwAzAEoASgBGAEYAPwA/AB8AHwAKAAoADQANACQAJAAuAC4AJAAkACYAJgAxADEAKwArAPz//P/g/+D/zP/M/6//r/+o/6j/of+h/6v/q/+x/7H/uv+6/8v/y//V/9X/8f/x/wQABAAAAAAA8P/w//j/+P/s/+z/1//X/9j/2P/O/87/xP/E/6v/q/+p/6n/rP+s/6T/pP+7/7v/1v/W/+7/7v8IAAgAGQAZAAkACQD7//v//f/9//j/+P/2//b/8f/x///////v/+//zf/N/83/zf/B/8H/uf+5/7v/u//C/8L/zv/O/+v/6/8SABIAKgAqADoAOgBOAE4AawBrAGMAYwBdAF0AYwBjAEkASQBAAEAAQABAAEYARgBHAEcAQgBCAD4APgAjACMACAAIAAYABgAFAAUA6f/p/9z/3P/J/8n/pf+l/5v/m/+V/5X/n/+f/6r/qv+//7//2v/a/87/zv/D/8P/vP+8/57/nv96/3r/cv9y/3T/dP+B/4H/nP+c/6T/pP+j/6P/jf+N/4r/iv+P/4//hv+G/6H/of+8/7z/yf/J/+L/4v8FAAUAKAAoAEUARQBaAFoAZgBmAHAAcAB0AHQAhwCHAHoAegBWAFYAUABQAEMAQwBDAEMATwBPAFoAWgBmAGYAZwBnAGcAZwBqAGoAZQBlAGQAZABlAGUASABIADoAOgBEAEQAQwBDAE0ATQBLAEsARwBHAD8APwAeAB4ACAAIAPr/+v/z//P/+f/5//X/9f/q/+r/+f/5/wcABwAKAAoAEgASABEAEQAlACUANAA0ADgAOABBAEEALAAsAAsACwDy//L/6P/o/wUABQAqACoAMAAwACoAKgAgACAAGwAbAC0ALQAzADMAQABAAFAAUABKAEoASQBJADsAOwAkACQADAAMAOP/4//W/9b/9P/0/xAAEAAkACQAKwArACYAJgAvAC8AMgAyAC0ALQAnACcACQAJAPP/8//Y/9j/u/+7/8j/yP/Y/9j/2//b/+j/6P/0//T/9P/0/9//3/+4/7j/qP+o/5v/m/+J/4n/gv+C/2X/Zf9Q/1D/V/9X/1L/Uv9U/1T/af9p/4P/g/+Z/5n/n/+f/67/rv+//7//s/+z/7v/u//f/9//9P/0/wkACQAJAAkA6v/q/9L/0v/I/8j/yf/J/8T/xP+7/7v/yv/K/8D/wP+g/6D/nv+e/5f/l/+K/4r/m/+b/77/vv/g/+D/8f/x/+r/6v/d/93/xf/F/8L/wv/Q/9D/uP+4/6r/qv+//7//w//D/8T/xP/J/8n/0P/Q/9L/0v/O/87/5v/m//X/9f/g/+D/3P/c/9//3//m/+b/FAAUADsAOwA2ADYAKgAqACkAKQA8ADwAPAA8ADQANAA8ADwAKAAoABIAEgAjACMALgAuACsAKwA/AD8ASwBLAFsAWwB5AHkAhgCGAH0AfQBLAEsARgBGAFAAUABAAEAARQBFAEsASwBCAEIAMgAyADMAMwA9AD0AUQBRAGYAZgB8AHwAfwB/AG0AbQBxAHEAXgBeADkAOQBNAE0AYQBhAGsAawB0AHQAfAB8AIsAiwB6AHoAZQBlAFEAUQAuAC4AGwAbADsAOwBMAEwAZgBmAH4AfgBxAHEAawBrAGUAZQBnAGcAQQBBAN//3/+j/6P/if+J/27/bv9u/27/c/9z/2H/Yf9w/3D/k/+T/6L/ov+5/7n/yf/J/8z/zP/V/9X/5v/m/wAAAAAMAAwA/v/+//v/+//q/+r/5P/k//T/9P/4//j//f/9/wMAAwAOAA4AIwAjACEAIQA1ADUARwBHADUANQA+AD4AOgA6AB0AHQAUABQAAgACAAEAAQADAAMAAQABABQAFAAhACEAJwAnADkAOQAzADMAGwAbAAoACgD9//3/9P/0//T/9P/Z/9n/1v/W/8D/wP+x/7H/wv/C/8v/y//T/9P/5v/m/+//7//0//T/CQAJAAAAAAD7//v/CwALACcAJwAxADEASgBKAGQAZABbAFsAaQBpAG0AbQCBAIEAmACYAJQAlAB6AHoAeQB5AIkAiQCPAI8AjQCNAIQAhAB8AHwAfQB9AHQAdAB3AHcAgACAAFsAWwBYAFgAPAA8ABoAGgAoACgABQAFAPj/+P8QABAAHwAfABcAFwAOAA4A4//j/9T/1P/d/93/2P/Y/8//z/+u/67/kf+R/4H/gf+M/4z/hv+G/5P/k/+i/6L/rP+s/7f/t//g/+D/HAAcADwAPABZAFkAagBqAHcAdwBxAHEAUABQACsAKwAXABcAJQAlADYANgAsACwAPwA/AEMAQwAvAC8AHwAfABIAEgAMAAwAAgACAAoACgAWABYAGwAbABgAGAAAAAAA4v/i/+L/4v8AAAAALgAuABcAFwD8//z/BQAFAOD/4P+7/7v/ov+i/2n/af9F/0X/OP84/yf/J/89/z3/PP88/0z/TP9i/2L/fP98/33/ff+N/43/n/+f/3v/e/9j/2P/Vv9W/0T/RP9g/2D/dP90/4T/hP95/3n/oP+g/9b/1v8HAAcAIgAiAC0ALQApACkADQANAAcABwDV/9X/of+h/2//b/9U/1T/Q/9D/yz/LP8v/y//K/8r/0T/RP9//3//sP+w/9P/0//J/8n/1//X/7//v/+i/6L/u/+7/7n/uf/p/+n/7//v//v/+//a/9r/vP+8/7j/uP+o/6j/v/+//7//v//r/+v/CQAJAB4AHgA9AD0AQwBDAEEAQQA7ADsAVwBXAEgASABAAEAAQwBDADUANQAZABkAHAAcACAAIAAhACEAJAAkADoAOgBVAFUAUgBSADwAPABHAEcAKQApABoAGgAfAB8AHQAdACAAIABCAEIAXgBeAF0AXQBjAGMAUgBSAB4AHgAmACYAHAAcAEAAQAAyADIAJgAmAD8APwA5ADkAPQA9ACMAIwAMAAwA/f/9/wwADAAiACIANQA1ACUAJQAoACgAJQAlAA8ADwD4//j/4v/i/+f/5//r/+v/8P/w/wwADAD2//b/5P/k/+T/5P/E/8T/x//H//3//f/p/+n/6v/q//3//f/h/+H/5f/l/9v/2//2//b/AwADAOP/4//m/+b/5//n/+f/5//R/9H/vv++/6D/oP+W/5b/mP+Y/5b/lv+h/6H/zP/M/+H/4f/u/+7/7//v/+X/5f/r/+v/z//P/83/zf/R/9H/0P/Q/87/zv/E/8T/wf/B/7r/uv/P/8//2v/a/9z/3P/F/8X/sf+x/7H/sf+a/5r/uv+6/+L/4v/9//3/FwAXACgAKAA+AD4ARABEADsAOwAkACQAIgAiAB0AHQAcABwAFQAVACYAJgBFAEUAOQA5ACgAKAAmACYAMwAzAFAAUACGAIYAowCjAJsAmwCbAJsAfAB8AF4AXgA+AD4ASwBLADoAOgAZABkANQA1AFoAWgCGAIYAhwCHAIcAhwBzAHMAWABYAEMAQwBKAEoARABEAFUAVQBxAHEAhACEAGsAawBbAFsAGwAbAPb/9v8FAAUAFwAXAB0AHQAJAAkA/v/+/wMAAwAHAAcABwAHAAMAAwDn/+f/6P/o/+v/6//q/+r/6P/o/97/3v+3/7f/hP+E/4L/gv+E/4T/of+h/8r/yv/q/+r/BQAFACEAIQAvAC8AVABUAGoAagBnAGcAXQBdAEQARABJAEkAPgA+ACcAJwA9AD0ASwBLAC4ALgAjACMAIwAjAC4ALgBgAGAAigCKAHkAeQB8AHwAjgCOAFsAWwBCAEIALwAvABMAEwDq/+r/3v/e/7L/sv+t/63/v/+//7r/uv+//7//vv++/83/zf/I/8j/zP/M/+j/6P/g/+D/BgAGAC8ALwBOAE4AZQBlAGQAZABfAF8AQwBDAD0APQA7ADsAPAA8AC4ALgAWABYAFgAWACQAJABFAEUAcABwAJQAlAC2ALYA0wDTAOcA5wDNAM0AxgDGAMsAywCoAKgApwCnAK8ArwCjAKMAkgCSAGwAbABIAEgAJwAnABIAEgD9//3/AAAAAAEAAQAfAB8AIAAgAB8AHwAfAB8AHgAeACUAJQA+AD4AQABAAEAAQABDAEMAPwA/AD0APQA/AD8AGwAbAOX/5f/F/8X/tv+2/6T/pP/G/8b/xv/G/8j/yP/j/+P/5f/l/wUABQAiACIAPAA8AGMAYwA9AD0ARQBFAFQAVAApACkAFwAXAA0ADQD4//j//P/8//z//P/3//f/0//T/+P/4//9//3/7f/t/+f/5//7//v/4P/g//z//P8BAAEABQAFAAQABAAAAAAA4v/i/7//v/+d/53/fP98/3b/dv94/3j/df91/43/jf+v/6//1//X/9T/1P+9/73/oP+g/5H/kf+X/5f/k/+T/4z/jP+6/7r/3//f/9n/2f/w//D/3//f/7f/t/+7/7v/t/+3/8n/yf/S/9L/vP+8/7f/t/+d/53/o/+j/6H/of+e/57/nP+c/7P/s/+//7//wf/B/7T/tP+p/6n/yP/I/6n/qf/C/8L/3v/e/9v/2//e/97/v/+//8D/wP/C/8L/ov+i/4T/hP99/33/iv+K/7L/sv/V/9X/+P/4/wkACQAgACAACAAIAPv/+////////v/+//3//f/j/+P/3v/e/+T/5P/8//z/AwADAOj/6P/n/+f/BgAGAP////8aABoAKAAoADoAOgBNAE0ANQA1ACcAJwAoACgAJgAmACkAKQAOAA4A/v/+//T/9P++/77/u/+7/6//r/+S/5L/tP+0/8v/y/++/77/pP+k/7n/uf/U/9T/5f/l/yMAIwBeAF4AaQBpAHcAdwA9AD0AGwAbAO7/7v/W/9b/zv/O/7X/tf++/77/v/+//8H/wf/h/+H/yf/J/9f/1//i/+L/8v/y/xIAEgAmACYARgBGACkAKQDo/+j/xv/G/6v/q/9x/3H/cv9y/4H/gf+B/4H/nP+c/5r/mv+Y/5j/eP94/4v/i/+a/5r/mf+Z/7//v/+h/6H/o/+j/6r/qv+P/4//Yf9h/1b/Vv8b/xv/3P7c/vD+8P7z/vP+Jf8l/z3/Pf97/3v/m/+b/67/rv/v/+//AgACAC8ALwAaABoAHQAdAA0ADQABAAEAIAAgAAkACQAAAAAA/v/+/9v/2//D/8P/wv/C/6j/qP+j/6P/pf+l/6b/pv/B/8H/xP/E/+b/5v/8//z/2P/Y/8X/xf/H/8f/xP/E/8P/w//W/9b/6v/q/93/3f/g/+D/2//b/+D/4P/l/+X/7f/t/wcABwDw//D/4v/i/+j/6P8AAAAA6v/q/+P/4//p/+n/0v/S/6b/pv+7/7v/xv/G/9H/0f/o/+j/5P/k/9//3//J/8n/tf+1/6z/rP/G/8b/7P/s/xMAEwAyADIAaABoAFAAUABBAEEAUgBSAF0AXQBeAF4AbQBtAIMAgwBhAGEAegB6AKQApACUAJQAlgCWAIsAiwB6AHoAaABoAG0AbQBqAGoAZgBmAH8AfwCGAIYAjQCNAKgAqACdAJ0AbgBuAEoASgBKAEoASABIAEYARgAmACYAJwAnAPr/+v/t/+3/8f/x/9z/3P/i/+L/uP+4/6L/ov+n/6f/ov+i/67/rv/e/97/5//n/+f/5//p/+n/5//n/8n/yf+p/6n/wP/A/7z/vP/e/97/EwATACYAJgAlACUAJwAnAEQARABJAEkAVABUAG8AbwCJAIkArACsAKwArACmAKYApwCnAKgAqACnAKcAnACcAKwArAC2ALYAvAC8AL0AvQC9AL0AvgC+AKgAqACNAI0AgACAAIMAgwCgAKAA1wDXAO0A7QDsAOwA3gDeAMMAwwDGAMYAqACoAJgAmACEAIQAWABYAHYAdgBgAGAAVABUAFMAUwBTAFMATQBNAFMAUwBwAHAAfAB8AG4AbgBWAFYAXgBeAH8AfwBrAGsAXABcAF4AXgBbAFsAPwA/AB0AHQAaABoAFQAVACoAKgBBAEEAPAA8AEEAQQA+AD4AMAAwAEEAQQA3ADcAIQAhADUANQBbAFsAWgBaAEIAQgBIAEgASABIAEQARABBAEEAGQAZAP3//f/3//f/4v/i//n/+f8GAAYALAAsACEAIQABAAEA1//X/6X/pf+7/7v/1v/W//j/+P8fAB8AOQA5AEwATABFAEUAQgBCABsAGwACAAIA1v/W/5f/l/9s/2z/P/8//wb/Bv/9/v3+3v7e/s7+zv7j/uP+3v7e/g7/Dv8V/xX/Uv9S/2z/bP9k/2T/l/+X/3b/dv+S/5L/mv+a/6f/p//D/8P/1v/W/9P/0//a/9r/1v/W//D/8P/6//r/3P/c/+f/5/8BAAEAHwAfAB4AHgAyADIAUwBTAGEAYQBeAF4ARgBGAGMAYwBSAFIAagBqAKAAoACnAKcAnACcAHYAdgBwAHAAiQCJAG8AbwBoAGgAZABkAGIAYgB/AH8AcQBxAEgASABcAFwAYgBiAB4AHgDz//P/vv++/6X/pf+i/6L/s/+z/7v/u/+k/6T/lv+W/4L/gv96/3r/ZP9k/4T/hP9i/2L/e/97/4X/hf+V/5X/3//f/wIAAgARABEAKwArACgAKAAKAAoA5P/k/8H/wf/F/8X/w//D/7z/vP+9/73/v/+//8H/wf/g/+D/3//f/+b/5v8dAB0AQQBBAEYARgAzADMAKwArADsAOwAXABcA8f/x/8z/zP+j/6P/pv+m/47/jv+D/4P/d/93/2v/a/+H/4f/Yf9h/3f/d/9Y/1j/Wf9Z/2n/af9s/2z/l/+X/8P/w//u/+7/4P/g/8//z/+0/7T/s/+z/47/jv+i/6L/if+J/4v/i/+n/6f/lv+W/67/rv+5/7n/sv+y/7D/sP+s/6z/mv+a/6r/qv/D/8P/5f/l/+z/7P8BAAEAGgAaABsAGwDs/+z/7v/u//r/+v/2//b/GgAaACIAIgA3ADcAHAAcABsAGwAAAAAA4//j/+//7/8AAAAAHwAfACMAIwA8ADwAXwBfAGkAaQBWAFYAQABAAEQARABaAFoAYQBhAGYAZgBkAGQAbgBuAJAAkACWAJYAkwCTALEAsQC2ALYAuQC5ANMA0wC5ALkAmgCaAIMAgwCCAIIAmQCZAJMAkwCbAJsAfgB+AI8AjwCeAJ4AtQC1ALYAtgCKAIoAgwCDAEQARABHAEcANQA1AD8APwApACkAHAAcABwAHAAxADEAawBrAFkAWQBZAFkARQBFAD0APQBIAEgAMQAxADQANAAZABkABwAHABwAHAAhACEAJgAmAD8APwAUABQACAAIAAcABwD2//b/1v/W/9P/0/+3/7f/t/+3/7H/sf+3/7f/0P/Q/6r/qv+k/6T/fP98/3n/ef+h/6H/uv+6/7H/sf+c/5z/qP+o/3n/ef9o/2j/WP9Y/0j/SP9q/2r/VP9U/yn/Kf8g/yD/Mv8y/0//T/9L/0v/cP9w/5j/mP+k/6T/oP+g/4v/i/+P/4//jv+O/5D/kP+F/4X/ev96/3n/ef9w/3D/fP98/4P/g/+e/57/lf+V/4P/g/9j/2P/PP88/1v/W/93/3f/jf+N/4z/jP+S/5L/kv+S/2b/Zv9j/2P/Tv9O/z3/Pf9S/1L/UP9Q/13/Xf9k/2T/b/9v/2v/a/94/3j/kP+Q/5X/lf++/77/3P/c//D/8P8cABwAcABwAI4AjgCUAJQAnQCdAJIAkgCBAIEAagBqAE4ATgA4ADgASQBJAFIAUgBEAEQAXgBeAGUAZQBKAEoAXgBeAFYAVgBdAF0AbQBtAFMAUwBVAFUAVgBWAF8AXwBxAHEAjwCPAKwArADgAOAA9AD0AO0A7QDfAN8AugC6AJQAlABtAG0AfwB/AIoAigCSAJIAfgB+AF0AXQBOAE4AWQBZAGsAawBtAG0AiwCLAJ8AnwCEAIQAXwBfAEQARAAZABkAJgAmAA4ADgADAAMAFwAXACgAKABAAEAAWgBaAJAAkACwALAAvQC9AKIAogBnAGcALwAvABAAEADk/+T/xP/E/9D/0P/W/9b/7//v//X/9f//////DQANABYAFgA2ADYAPQA9AFwAXABYAFgAKQApAA8ADwDk/+T/4f/h//f/9//+//7/EQARABkAGQAWABYADwAPABwAHAAvAC8AMAAwAC0ALQAUABQAAAAAAAYABgAYABgAAAAAAO//7//j/+P/2f/Z//H/8f/o/+j/8f/x/+X/5f/M/8z/sP+w/5H/kf+U/5T/dP90/2b/Zv9q/2r/df91/8r/yv8MAAwAKgAqADoAOgAuAC4AIgAiACAAIAAtAC0AOwA7AE4ATgBPAE8APQA9ACwALAAzADMALQAtABIAEgAVABUA/v/+/xIAEgAuAC4ANgA2AFwAXABmAGYAagBqAEYARgAhACEADwAPAPL/8v/4//j/4f/h/9D/0P/W/9b/vP+8/6f/p/+Y/5j/lv+W/6P/o//I/8j/+f/5/y8ALwBgAGAAXQBdAC8ALwD+//7/8P/w/+v/6/8CAAIAFgAWAAgACAAYABgADgAOABUAFQAyADIAPwA/AEgASAAxADEAOQA5AEUARQBfAF8AfAB8AGAAYABRAFEAPAA8ACIAIgAVABUABgAGAAMAAwAPAA8AKgAqAE0ATQB3AHcAjgCOAHMAcwBAAEAAIAAgABMAEwAKAAoAIgAiABYAFgAAAAAAAwADANn/2f/D/8P/rP+s/5r/mv+R/5H/df91/27/bv9h/2H/cv9y/3n/ef9p/2n/df91/1v/W/9A/0D/Kf8p/xz/HP80/zT/X/9f/5n/mf/K/8r/BAAEADIAMgBEAEQAQwBDADMAMwAbABsAAQABAAUABQDm/+b/4P/g/8b/xv+N/43/gv+C/3j/eP+F/4X/h/+H/4//j/+s/6z/0P/Q//////8FAAUACQAJAAsACwDy//L/5f/l/+j/6P/w//D/DAAMACMAIwAmACYAJgAmADIAMgBDAEMASABIAEIAQgBGAEYAUgBSAHcAdwCCAIIAYwBjAFoAWgAwADAACAAIAPn/+f/f/9//5v/m/9r/2v/k/+T/+P/4/xQAFAA0ADQARABEAGMAYwBoAGgAZwBnAHIAcgBxAHEAbABsAHIAcgB8AHwAZwBnAFMAUwBQAFAAQgBCAD4APgBFAEUAWQBZAG8AbwBrAGsAXgBeAHUAdQCcAJwAlwCXAKgAqACgAKAAlwCXAKMAowCmAKYAjACMAHMAcwBqAGoAPwA/AAgACADr/+v/uv+6/5T/lP9p/2n/Sf9J/2D/YP9j/2P/f/9//47/jv97/3v/aP9o/2//b/94/3j/bv9u/4n/if+3/7f/2//b/+3/7f8dAB0AJAAkAAoACgAYABgA/P/8/wQABAD9//3//P/8/+n/6f/i/+L/4f/h/9r/2v+x/7H/kv+S/4T/hP+P/4//m/+b/8f/x/8BAAEAGAAYADUANQBEAEQALgAuAP/////t/+3/0v/S/57/nv+2/7b/1P/U/97/3v/e/97/4P/g/73/vf+d/53/e/97/2n/af9z/3P/Xf9d/3f/d/+G/4b/kv+S/6f/p/+n/6f/rf+t/8L/wv/o/+j/+f/5/87/zv/E/8T/rv+u/4z/jP9t/23/Yf9h/3b/dv+G/4b/ov+i/83/zf/j/+P/9f/1/xoAGgAgACAAKgAqADUANQBJAEkAcQBxAF4AXgBbAFsAeAB4AHwAfABvAG8AXQBdAEkASQBBAEEAKAAoACUAJQAJAAkA+//7/wwADAAmACYAOAA4ADkAOQAkACQADAAMAAEAAQDq/+r/7P/s//H/8f/d/93/vv++/5j/mP+Y/5j/iv+K/6v/q/+2/7b/uP+4/7D/sP+a/5r/2P/Y/xQAFAApACkAIQAhACIAIgBMAEwAbABsAFwAXABEAEQAFQAVAPb/9v/1//X/3P/c/+//7//2//b//P/8/+L/4v+6/7r/nv+e/6f/p//J/8n/v/+//8b/xv/F/8X/y//L/+f/5/8GAAYALQAtAEcARwBBAEEAFgAWAPL/8v+3/7f/nP+c/6L/ov+Y/5j/nf+d/6P/o/++/77/6v/q/+b/5v8GAAYAMAAwADcANwBHAEcAdwB3AIIAggBrAGsAVgBWAEQARABBAEEAIQAhACgAKAAqACoAHQAdAAAAAAD4//j/wP/A/6n/qf/Z/9n/5//n/wQABAABAAEAIQAhAD0APQBDAEMAWwBbAF8AXwCBAIEAiQCJAIYAhgBoAGgAZwBnAFQAVABEAEQAIwAjACoAKgA/AD8AIAAgAB8AHwAcABwANwA3ADEAMQAiACIAUQBRAEEAQQBZAFkAWgBaAGUAZQCCAIIAfwB/AJwAnACWAJYAXQBdAEsASwAhACEA8P/w/w4ADgD6//r/EgASADAAMAAlACUAIgAiACsAKwBHAEcAIwAjABkAGQAVABUA/////+f/5//e/97/AAAAAOn/6f/K/8r/vf+9/8H/wf+//7//0f/R/+D/4P/3//f//////wIAAgAxADEARwBHAFEAUQB1AHUAhgCGAGMAYwBmAGYAcQBxAFsAWwBbAFsAcgByAJcAlwC8ALwAwADAAM8AzwDmAOYA/QD9AAEBAQH9AP0A4wDjAL8AvwCxALEAkwCTAHYAdgBQAFAAOwA7AEoASgBPAE8AagBqAHgAeACEAIQAlACUAHEAcQB9AH0AhwCHAG0AbQBmAGYAYABgAC8ALwAtAC0AJQAlAAUABQABAAEA/f/9/wMAAwAKAAoAGQAZACsAKwAeAB4ANgA2AEoASgBYAFgAYwBjAGgAaABQAFAANgA2ABoAGgDw//D/BgAGAA0ADQAeAB4AOQA5AEAAQAAmACYAMgAyAEMAQwAqACoANAA0AFEAUQAxADEALAAsAEoASgBiAGIAegB6AGsAawBUAFQAPgA+ABsAGwADAAMA7f/t/+z/7P/+//7/DgAOAP/////8//z/6//r/8b/xv+2/7b/ov+i/6X/pf+t/63/mv+a/7T/tP+9/73/t/+3/67/rv+f/5//ef95/4D/gP+E/4T/c/9z/3r/ev93/3f/c/9z/3X/df9//3//iv+K/4b/hv+O/47/k/+T/6L/ov+X/5f/pv+m/67/rv+p/6n/pv+m/7D/sP/L/8v/0f/R/8b/xv+y/7L/iP+I/3H/cf+F/4X/iv+K/3n/ef9m/2b/Yv9i/1P/U/9X/1f/bv9u/3//f/+G/4b/oP+g/6D/oP+Y/5j/k/+T/5r/mv+Q/5D/if+J/5r/mv9y/3L/Sf9J/y3/Lf8t/y3/K/8r/y3/Lf9G/0b/V/9X/3X/df+E/4T/m/+b/5z/nP+5/7n/tv+2/7b/tv+8/7z/wP/A/6//r/+X/5f/hv+G/4D/gP+W/5b/kv+S/6D/oP+x/7H/xf/F/+3/7f8WABYAMgAyAF8AXwB9AH0AYwBjAEwATAAlACUADgAOAA8ADwAhACEAMAAwACgAKAAFAAUA5//n/8r/yv/Q/9D/6P/o/wAAAAAKAAoAMAAwAEYARgBLAEsATgBOAC0ALQAwADAAFAAUAPv/+//b/9v/yf/J/7H/sf+t/63/wv/C/8D/wP/I/8j/u/+7/7b/tv/Q/9D/DgAOADwAPABzAHMApQClAJ4AngB3AHcARgBGACEAIQAGAAYAAAAAAPr/+v/m/+b/0P/Q/8n/yf+6/7r/vf+9/+X/5f8AAAAADAAMABcAFwAWABYAGQAZAA8ADwAIAAgAHAAcABsAGwAUABQA9P/0/9r/2v/J/8n/4P/g/9v/2//I/8j/qf+p/5b/lv+D/4P/ef95/6L/ov+2/7b/zv/O/9f/1//4//j/+//7/wAAAAAFAAUAAgACAAUABQDv/+//2//b/6f/p/+K/4r/ev96/3X/df9o/2j/bv9u/4L/gv+C/4L/lP+U/67/rv/J/8n/1P/U/9P/0//E/8T/q/+r/5n/mf+L/4v/jf+N/6f/p//B/8H/xv/G/7D/sP+3/7f/uP+4/7b/tv+i/6L/iv+K/2v/a/9N/03/VP9U/1b/Vv90/3T/gP+A/5X/lf+I/4j/ev96/27/bv9R/1H/P/8//0D/QP9h/2H/Vv9W/0b/Rv8n/yf/Hf8d/x7/Hv87/zv/Y/9j/3//f/+i/6L/sf+x/7H/sf+n/6f/rf+t/6f/p/+a/5r/ov+i/7j/uP/H/8f/1//X//X/9f8cABwAOAA4AFoAWgB2AHYAkwCTAK8ArwDHAMcAxADEALIAsgCxALEAmACYAHwAfABYAFgAWgBaAFgAWABrAGsAjwCPAKQApACrAKsAkgCSAIcAhwBsAGwAbABsAGEAYQBgAGAAYwBjAH8AfwCZAJkAhACEAHEAcQBYAFgATQBNAEAAQABLAEsAVQBVAFIAUgBPAE8AWgBaAGMAYwBrAGsAdAB0AGoAagBdAF0AVwBXAE0ATQA8ADwAOQA5AFsAWwB+AH4AiACIAKEAoQCpAKkAsACwAKIAogCdAJ0AfQB9AGMAYwBMAEwALAAsABUAFQAHAAcAEgASAA4ADgAtAC0ARQBFAFsAWwBPAE8AUgBSAGIAYgBrAGsAdwB3AGQAZABRAFEAKwArACgAKAAcABwAAgACAPj/+P/2//b/8v/y//3//f8MAAwAIwAjACsAKwAjACMAIwAjABsAGwAYABgADgAOAAYABgADAAMACwALAAgACADu/+7/4//j//z//P/1//X/6P/o/+f/5//a/9r/1f/V/9L/0v/s/+z/+P/4/x0AHQAzADMAJAAkAA0ADQD9//3/AQABAPj/+P8DAAMAEwATAB0AHQAEAAQA/////wcABwANAA0AMAAwAFQAVABsAGwAcQBxAH4AfgBvAG8AOAA4ABIAEgAXABcAFwAXADIAMgBeAF4AiACIAJkAmQCyALIA2ADYALwAvAB+AH4AQABAAPf/9/+6/7r/o/+j/6v/q//S/9L/8v/y/ykAKQBAAEAAYgBiAHYAdgBpAGkATwBPADQANAAWABYA+f/5/+T/5P/X/9f/1//X/9v/2/8CAAIACQAJAC0ALQBTAFMAegB6AIYAhgCCAIIAmwCbAJEAkQCKAIoAhgCGAHcAdwBqAGoASwBLAEcARwBHAEcAQwBDAEQARABXAFcAeAB4AI0AjQB5AHkAZQBlAEcARwAfAB8AHwAfABMAEwALAAsACQAJAAkACQAFAAUA2f/Z/9b/1v/h/+H/2f/Z/9D/0P++/77/zf/N/7P/s/+q/6r/mf+Z/6H/of+q/6r/o/+j/4z/jP91/3X/gP+A/2X/Zf9R/1H/Gf8Z/wz/DP8T/xP/GP8Y/yv/K/9f/1//of+h/8X/xf/b/9v/5v/m/+X/5f/5//n/EwATABMAEwAkACQALwAvAC8ALwA5ADkAMQAxADYANgAuAC4AFwAXABoAGgA1ADUAdgB2AH0AfQCiAKIAxADEAMMAwwDQANAAuAC4ALIAsgCbAJsAfwB/AHEAcQBxAHEAbABsAF4AXgBGAEYANQA1ADYANgA5ADkAUgBSAGgAaAB+AH4AZgBmAFsAWwBaAFoAYQBhAGAAYABlAGUAawBrAHEAcQByAHIAcABwAGwAbABuAG4AWABYAEUARQBPAE8ASQBJAEwATABLAEsAVABUAHoAegCbAJsAlwCXAJAAkAB8AHwAiwCLAIIAggBeAF4ATwBPACQAJAAEAAQA7P/s/97/3v/5//n/EAAQAC4ALgA3ADcAOwA7AD8APwA/AD8AQwBDAGcAZwB2AHYAYQBhAEAAQAACAAIAyv/K/6f/p/+c/5z/nf+d/57/nv+d/53/of+h/4f/h/+S/5L/nf+d/8H/wf/e/97/3P/c//3//f/p/+n/tv+2/5v/m/9//3//c/9z/3n/ef97/3v/e/97/23/bf9s/2z/c/9z/3b/dv9M/0z/U/9T/1n/Wf91/3X/df91/47/jv+7/7v/kf+R/3r/ev9n/2f/Sv9K/0T/RP89/z3/OP84/0z/TP9x/3H/ev96/3b/dv+I/4j/k/+T/5v/m/+Z/5n/n/+f/7z/vP/B/8H/l/+X/3z/fP9k/2T/X/9f/2L/Yv9d/13/ev96/5//n/+e/57/v/+//9n/2f++/77/v/+//7f/t/+h/6H/kP+Q/3D/cP9N/03/H/8f/zP/M/9C/0L/YP9g/4P/g/+k/6T/pf+l/7L/sv/L/8v/0f/R//b/9v8FAAUAAwADAAAAAAAAAAAABAAEABwAHAAfAB8AIQAhAB4AHgA4ADgAYgBiAGEAYQB1AHUAggCCAHkAeQCKAIoAoQChAKMAowCfAJ8AsACwAMYAxgCpAKkAmQCZAFgAWAA6ADoAPQA9AFgAWABMAEwAOAA4AD0APQBTAFMAZwBnAH8AfwCIAIgAeQB5AFsAWwAvAC8ABwAHAOr/6v/I/8j/x//H/8D/wP/c/9z/1f/V/8T/xP+x/7H/r/+v/7z/vP/r/+v/7//v/wIAAgD5//n/5f/l/+7/7v/l/+X/8//z/woACgDu/+7/9//3/+7/7v8BAAEAIQAhAEQARABoAGgAawBrAIcAhwB3AHcAUgBSAEkASQAgACAA6P/o/9//3/+t/63/ov+i/6L/ov+2/7b/p/+n/6X/pf+b/5v/gf+B/4T/hP+C/4L/gP+A/43/jf+p/6n/kf+R/23/bf9L/0v/NP80/xj/GP8l/yX/N/83/0r/Sv9c/1z/V/9X/3H/cf9//3//d/93/3L/cv9U/1T/Mv8y/xf/F//+/v7+9/73/uX+5f72/vb+Ff8V/xv/G/81/zX/Qf9B/3H/cf92/3b/ov+i/7H/sf+Z/5n/uf+5/7P/s//L/8v/2f/Z/9T/1P/Z/9n/1//X//X/9f8gACAAIAAgADkAOQBbAFsAcQBxAHYAdgBZAFkAXABcAF8AXwBZAFkAdwB3AHcAdwBjAGMAXgBeADQANAAlACUAJgAmACcAJwAuAC4AMAAwACwALAA3ADcASwBLAD8APwBPAE8ATwBPAFoAWgBiAGIAXwBfAGAAYABlAGUAVwBXAEIAQgBFAEUAQwBDAF4AXgA+AD4AQABAAFEAUQBAAEAAXQBdAGMAYwBkAGQAhACEAGoAagBzAHMAgQCBAJ4AngCHAIcAlwCXAMUAxQCiAKIAswCzALQAtACbAJsAngCeAJ8AnwCXAJcAcgByAGIAYgBOAE4AKgAqACIAIgAhACEARwBHAHEAcQCLAIsAqgCqAMYAxgDYANgA2QDZAOAA4ADEAMQAwwDDALgAuACLAIsAbABsAFcAVwA0ADQAFgAWADEAMQBAAEAAZABkAIAAgABoAGgARABEAEAAQAAoACgANQA1ACwALAAkACQASQBJADMAMwAiACIAEAAQAOL/4v/j/+P/4P/g/+b/5v/1//X/4P/g//j/+P8IAAgABQAFAA0ADQAwADAAVQBVAEIAQgA6ADoAOQA5ADcANwA1ADUAOQA5AD4APgBCAEIAKgAqACgAKABDAEMAOgA6AF4AXgCaAJoAoACgAJwAnACBAIEAdwB3AEcARwBSAFIAYgBiAGAAYABfAF8ARABEACcAJwAXABcAGAAYABcAFwAXABcADwAPACkAKQA9AD0AKwArABkAGQDz//P/zv/O/67/rv+Y/5j/gP+A/2//b/+D/4P/nf+d/8H/wf/r/+v/7v/u/9f/1//Z/9n/5P/k/wMAAwD0//T/7v/u/wcABwAEAAQABwAHAAUABQATABMAIAAgAAYABgACAAIA1v/W/8b/xv/g/+D/5v/m/+P/4//i/+L/6P/o/w4ADgAgACAAMwAzAEIAQgBBAEEAXwBfADsAOwAdAB0ABQAFANv/2/+t/63/ev96/1//X/9g/2D/V/9X/2z/bP9//3//k/+T/6j/qP/B/8H/sv+y/7z/vP+V/5X/fP98/2j/aP9b/1v/fP98/4H/gf9e/17/fP98/3v/e/9g/2D/aP9o/2T/ZP99/33/if+J/4L/gv+V/5X/p/+n/5j/mP+d/53/gP+A/4f/h/9s/2z/ef95/4j/iP+C/4L/jf+N/6//r//D/8P/wP/A/8L/wv/C/8L/xf/F/7H/sf+M/4z/g/+D/4X/hf+F/4X/a/9r/z3/Pf9J/0n/Wf9Z/2P/Y/+A/4D/e/97/3z/fP9//3//nf+d/7n/uf/W/9b/4P/g//b/9v8EAAQAAgACAB8AHwAAAAAA+f/5/wMAAwAcABwAGgAaACgAKAArACsAFgAWAB8AHwAQABAABQAFADMAMwAvAC8AQABAAF0AXQBoAGgAcwBzAE4ATgAvAC8AHQAdAAsACwD0//T/yv/K/+D/4P/P/8//wf/B/+f/5/8BAAEAFwAXACoAKgA4ADgAJQAlACUAJQAjACMAJAAkACAAIAAAAAAA/f/9/+n/6f/B/8H/tv+2/7T/tP/D/8P/2f/Z/9j/2P/a/9r/uv+6/7r/uv+r/6v/qf+p/9b/1v/b/9v/uv+6/47/jv9x/3H/V/9X/2f/Z/+C/4L/of+h/9D/0P/g/+D/3f/d/+P/4//O/87/2//b/9//3//m/+b/AAAAAN//3//d/93/3P/c/9z/3P/b/9v/2P/Y/9v/2//g/+D/BwAHADYANgBdAF0AiACIAKcApwCvAK8ApwCnAKcApwCLAIsAXwBfAD8APwAoACgAVABUAHYAdgCkAKQAvQC9AMsAywDMAMwAygDKAMsAywDEAMQAmwCbAIcAhwCEAIQAgwCDAJIAkgB/AH8AhwCHAG0AbQBnAGcAZQBlAG4AbgCJAIkAoACgAKQApAC8ALwAwQDBAMEAwQDDAMMApwCnAKIAogCLAIsAZABkAH0AfQCWAJYAowCjAKAAoACpAKkAkwCTAHIAcgBVAFUAOQA5AB8AHwAZABkAMAAwAEAAQABGAEYAXwBfAF0AXQBAAEAAQwBDACcAJwAsACwAHAAcAAwADAAgACAACgAKAAgACAAFAAUABgAGAO3/7f+1/7X/nv+e/53/nf+Z/5n/qP+o/73/vf+f/5//mP+Y/3z/fP+A/4D/f/9//4P/g/+S/5L/hv+G/7f/t//G/8b/sf+x/57/nv+g/6D/oP+g/5n/mf+W/5b/kf+R/4//j/+Q/5D/kP+Q/5T/lP+x/7H/qv+q/6r/qv/Q/9D/5v/m/yAAIAAvAC8AFwAXAAsACwDy//L/3v/e/8v/y//z//P/5//n/9D/0P/g/+D//////yQAJABBAEEARABEAC8ALwAiACIA/v/+/+H/4f/Q/9D/xf/F/+T/5P/+//7/MQAxAFoAWgBdAF0AegB6AJsAmwCYAJgAhACEAGwAbABmAGYAhwCHAH4AfgCFAIUAewB7AGwAbABhAGEARwBHACkAKQAuAC4AMgAyABMAEwATABMAMwAzADgAOAAwADAARQBFAFkAWQBDAEMANQA1ABkAGQDx//H/3//f/97/3v/C/8L/vP+8/8j/yP++/77/uf+5/8H/wf/A/8D/pv+m/7r/uv+6/7r/z//P/93/3f/b/9v/3//f/9//3//f/9//1P/U/+r/6v/p/+n/2//b/+P/4//d/93/2//b/9f/1//k/+T/7f/t/9L/0v/j/+P/6f/p/+D/4P/8//z/+v/6//3//f8LAAsALAAsADQANAAkACQAEAAQAPb/9v/9//3/1P/U/7//v//D/8P/2//b/+3/7f/r/+v/7v/u/97/3v+x/7H/xf/F/8H/wf+9/73/8v/y/93/3f/L/8v/0P/Q/8//z//Q/9D/7P/s/+7/7v8IAAgACwALABwAHAAhACEAGwAbAEgASAArACsAQABAACsAKwAwADAAaQBpAGoAagBoAGgAVgBWAD4APgAfAB8AAQABAPT/9P+9/73/n/+f/5X/lf+A/4D/gv+C/4z/jP+v/6//0P/Q/+v/6//u/+7/7//v/+n/6f8QABAAIgAiAAAAAAD/////4v/i/8j/yP+9/73/vP+8/9b/1v/k/+T/yf/J/7z/vP/R/9H/8f/x//v/+//y//L/+f/5/wMAAwDw//D/1//X/8n/yf+1/7X/rv+u/8j/yP/M/8z/0f/R/8L/wv/L/8v/rP+s/53/nf+g/6D/gP+A/5r/mv+I/4j/f/9//3L/cv9g/2D/if+J/5b/lv+Y/5j/mv+a/3P/c/9T/1P/Rf9F/0L/Qv8x/zH/Uf9R/2j/aP99/33/dv92/5T/lP/B/8H/wP/A/8T/xP/G/8b/p/+n/6b/pv+Q/5D/gv+C/2v/a/9x/3H/ef95/07/Tv9R/1H/Z/9n/3T/dP+S/5L/wf/B/+T/5P/t/+3/GAAYACIAIgBCAEIARQBFAFQAVABtAG0AZgBmAFgAWABnAGcAVwBXADkAOQA7ADsAOgA6AEYARgBuAG4AgACAAJsAmwCQAJAAkgCSAKkAqQCIAIgAfAB8AIkAiQBsAGwATwBPADAAMAAGAAYAAQABACIAIgA+AD4APAA8AFQAVACMAIwAnQCdAJsAmwCVAJUAXABcABMAEwDT/9P/vf+9/7//v//R/9H/zf/N/93/3f/+//7/HgAeAEcARwBDAEMARQBFAGYAZgCFAIUAgwCDAIQAhAB7AHsAjgCOAJkAmQCJAIkAmACYAIMAgwB6AHoAbQBtAFAAUAA4ADgANwA3ADYANgA4ADgAOAA4AFMAUwB2AHYAZwBnAIAAgACDAIMAfwB/AF0AXQA8ADwAHwAfAB4AHgAhACEAJwAnABQAFAAAAAAA8//z/93/3f/X/9f/vv++/9r/2v/5//n/DQANADAAMABaAFoAZwBnAGMAYwBhAGEARQBFAAkACQDd/93/1v/W/7X/tf+y/7L/uf+5/9T/1P/u/+7/7v/u/+7/7v/N/83/o/+j/6P/o//D/8P/8v/y/ykAKQA9AD0AOAA4AC4ALgAKAAoA3//f/6L/ov+a/5r/m/+b/7f/t//p/+n/BAAEAAQABAACAAIAHgAeABkAGQApACkAPAA8ACIAIgAzADMAKgAqAD4APgBKAEoAMQAxACQAJAApACkAJgAmACcAJwBJAEkAaABoAGgAaABoAGgAZgBmAEYARgA/AD8ARgBGADQANAA0ADQATgBOAGAAYACCAIIAjQCNAIAAgABmAGYASwBLAB8AHwABAAEAFgAWACMAIwAaABoANAA0ADsAOwBIAEgAYwBjAGAAYABqAGoAUABQAFEAUQBqAGoAZwBnAIQAhABaAFoANwA3AB8AHwAiACIAQgBCAEgASAA0ADQAEQARAAUABQACAAIADgAOACMAIwAiACIAJQAlACYAJgApACkAFgAWAAAAAAAGAAYA9P/0/9b/1v+2/7b/ov+i/4L/gv9z/3P/kf+R/57/nv+p/6n/wf/B/8H/wf/C/8L/xP/E/7L/sv+P/4//aP9o/3n/ef98/3z/Zv9m/5v/m/+m/6b/pP+k/5T/lP+E/4T/nv+e/6j/qP+i/6L/pv+m/6P/o/+k/6T/qP+o/6b/pv+m/6b/ov+i/5//n/+Q/5D/a/9r/1r/Wv9d/13/X/9f/13/Xf9i/2L/e/97/5b/lv+k/6T/t/+3/87/zv/j/+P//P/8//L/8v/e/97/AwADAPD/8P/e/97/xf/F/5X/lf96/3r/gv+C/5n/mf+1/7X/2f/Z//z//P8CAAIA3f/d//D/8P/9//3/FwAXABcAFwAxADEAPwA/AD8APwA7ADsAIAAgACgAKAAbABsAAAAAAAEAAQD+//7/AAAAAAIAAgD+//7/FwAXABUAFQD6//r/AgACAMn/yf/T/9P/1//X/7z/vP+//7//m/+b/6f/p/+8/7z/t/+3/9b/1v/a/9r/3v/e/+T/5P/i/+L/4//j/+X/5f/2//b/BgAGAP7//v/8//z//v/+//3//f8EAAQANwA3ADcANwAcABwAHwAfABwAHAAHAAcAGwAbACAAIAA8ADwARwBHAHgAeACBAIEAfwB/AKUApQCNAI0AggCCAIUAhQBlAGUAYQBhAEYARgBHAEcASgBKACwALAALAAsACQAJAAgACAAUABQACAAIABgAGAD7//v/3v/e/+H/4f/h/+H/4v/i/+X/5f/h/+H/4f/h/9v/2//o/+j/AAAAAAAAAAAFAAUA5v/m/8v/y//F/8X/wv/C/6f/p/+q/6r/xf/F/+7/7v8iACIAWABYAHUAdQCLAIsApACkAKUApQCIAIgAgQCBAHYAdgBSAFIALwAvABkAGQAlACUACgAKAAAAAADw//D/3//f/+L/4v/d/93/2v/a/9v/2//7//v/AAAAAP///////////v/+//z//P/6//r/+v/6//j/+P8XABcADQANAPL/8v/a/9r/tP+0/7f/t/+d/53/qP+o/+L/4v8JAAkAHQAdACoAKgBOAE4AOwA7ACQAJAADAAMA1//X/9f/1//W/9b/2P/Y/8P/w/+0/7T/uP+4/7f/t/+6/7r/mP+Y/7D/sP/F/8X/w//D//n/+f8CAAIAAgACACcAJwBLAEsAfwB/AHEAcQBiAGIAPwA/AAAAAADv/+//4v/i/+j/6P/8//z/DQANACoAKgBpAGkAewB7AIQAhACHAIcAeAB4AIEAgQCDAIMApwCnAKUApQC1ALUAxADEAKUApQCsAKwAnQCdAG4AbgBPAE8ALAAsAB4AHgAmACYALgAuAAsACwD0//T/3f/d/97/3v/W/9b/7//v/wUABQAdAB0AQABAAEoASgA8ADwAKAAoABQAFAACAAIAAwADAAAAAAADAAMA6//r/8H/wf+8/7z/m/+b/5z/nP+R/5H/dv92/4v/i/+i/6L/pf+l/5b/lv+C/4L/nf+d/6H/of+5/7n/0P/Q/93/3f/Q/9D/rP+s/5P/k/+T/5P/lv+W/5j/mP+V/5X/e/97/4v/i/+t/63/pv+m/6b/pv/J/8n/pf+l/7D/sP/C/8L/vP+8/8T/xP/C/8L/wP/A/8H/wf/e/97/3//f/9z/3P/Z/9n/yf/J/97/3v/9//3/7P/s/9v/2//f/9//8//z/wMAAwAYABgAAwADAOn/6f/k/+T/0//T/6n/qf+v/6//8P/w/+T/5P8HAAcALgAuACIAIgAIAAgAIAAgACIAIgAuAC4ATABMAFoAWgBCAEIAbwBvAH4AfgBdAF0ARgBGAEIAQgBBAEEAQwBDAD8APwBHAEcAVwBXAEMAQwBeAF4AZABkAH4AfgB9AH0AfQB9AHkAeQBaAFoANAA0AA0ADQD8//z//f/9///////0//T/zf/N/7b/tv+3/7f/t/+3/7L/sv/K/8r/4//j/9P/0/++/77/xv/G/6v/q/+i/6L/lP+U/33/ff97/3v/i/+L/6H/of+T/5P/gP+A/4v/i/+n/6f/qP+o/43/jf+H/4f/hf+F/4j/iP+q/6r/vf+9/9P/0//e/97/2P/Y//j/+P/4//j/7v/u/wMAAwADAAMACwALADYANgA2ADYABwAHAAAAAAD+//7/AAAAABoAGgA/AD8AQgBCACEAIQAbABsABgAGANj/2P/C/8L/tf+1/53/nf+j/6P/uP+4/8j/yP/F/8X/4//j/+b/5v/r/+v/+P/4//D/8P8KAAoA+v/6/+L/4v/h/+H/9//3/wcABwADAAMAFAAUACkAKQBOAE4AZgBmAH0AfQCSAJIAjACMAK8ArwDEAMQAzgDOAP4A/gAcARwBNwE3AUoBSgFeAV4BhAGEAWEBYQFIAUgBSgFKAUoBSgFJAUkBLQEtASoBKgEoASgBLQEtASoBKgEJAQkB+gD6AN4A3gDJAMkAsACwAIsAiwCAAIAAeAB4AEYARgAnACcAHQAdAAMAAwACAAIAJAAkABQAFAACAAIA9P/0/93/3f/J/8n/uP+4/7v/u/+1/7X/uv+6/7j/uP+5/7n/tf+1/8L/wv/Z/9n/2v/a/9X/1f/s/+z/3f/d/+v/6/8HAAcAGwAbABwAHAAfAB8AHwAfAB4AHgAbABsALwAvADsAOwA7ADsAPAA8ABMAEwD4//j/1//X/6z/rP+k/6T/oP+g/53/nf+6/7r/zf/N/9X/1f+9/73/3f/d/9v/2//i/+L/0//T/8L/wv+p/6n/j/+P/53/nf97/3v/g/+D/4//j/+x/7H/xv/G/8f/x//J/8n/xv/G/8r/yv+9/73/pP+k/4n/if+L/4v/df91/2f/Z/9r/2v/Z/9n/2T/ZP9j/2P/Xv9e/3X/df+D/4P/g/+D/5//n/+7/7v/5f/l/wAAAAACAAIABAAEAPn/+f/e/97/7v/u/wIAAgAAAAAAAQABANn/2f+5/7n/zP/M/8v/y/+7/7v/v/+//8P/w//B/8H/yP/I//b/9v/9//3/EgASACEAIQAgACAAIQAhABwAHAADAAMA8f/x/8f/x/+e/57/iv+K/2L/Yv9Z/1n/Uf9R/zz/PP86/zr/U/9T/1//X/9o/2j/hv+G/37/fv+V/5X/g/+D/3z/fP+A/4D/fv9+/33/ff97/3v/d/93/3z/fP93/3f/ZP9k/13/Xf9Z/1n/Xf9d/1n/Wf91/3X/fP98/4n/if+b/5v/pP+k/8L/wv+//7//wP/A/7//v/+//7//wf/B/7v/u/+j/6P/vv++/8H/wf/A/8D/x//H/6r/qv+i/6L/wP/A/8b/xv+s/6z/pP+k/8j/yP/L/8v/4//j//////8GAAYABAAEACMAIwAPAA8A/v/+/+r/6v/Q/9D/uP+4/6f/p//A/8D/0v/S/+v/6//9//3//v/+/xgAGAA2ADYAMQAxABYAFgApACkAJQAlABQAFAAcABwAFwAXADQANABBAEEAXQBdAFwAXABVAFUAXABcAFcAVwBaAFoAWwBbAFwAXACJAIkAuQC5AMYAxgDiAOIA5wDnAN4A3gDQANAAzQDNAKkAqQChAKEAiACIAIUAhQBuAG4AbABsAGsAawBqAGoAaABoAEwATABPAE8APQA9AD0APQBPAE8ATQBNAG0AbQBrAGsAewB7AIIAggBnAGcAagBqAGYAZgBrAGsAbQBtAIYAhgCDAIMAhwCHAKQApACSAJIAfwB/AIQAhABqAGoAZABkAJkAmQCBAIEAjgCOAJgAmAB4AHgAaQBpAGgAaAB/AH8AjACMAIUAhQCDAIMAhACEAIYAhgCHAIcAbgBuADoAOgAgACAAAgACAP7//v8BAAEA/f/9//3//f/7//v/GwAbAAcABwABAAEA8v/y/+j/6P/o/+j/u/+7/8H/wf/C/8L/uv+6/47/jv+D/4P/f/9//33/ff99/33/Xf9d/1v/W/9c/1z/W/9b/1v/W/9b/1v/X/9f/1z/XP98/3z/a/9r/13/Xf95/3n/cv9y/4r/iv+E/4T/gv+C/5v/m/95/3n/ZP9k/03/Tf9Y/1j/d/93/3T/dP+P/4//uf+5/9r/2v/z//P/IQAhABkAGQArACsAPAA8AB8AHwA7ADsARQBFAGQAZABnAGcAYwBjAGEAYQBiAGIAXgBeAEYARgA0ADQAIwAjADQANAAaABoAKQApAEsASwBbAFsAWwBbAGAAYAB6AHoAgACAAGgAaABLAEsANAA0ABsAGwAcABwAIAAgAAkACQDk/+T/z//P/8D/wP/D/8P/xP/E/+j/6P/s/+z//f/9/xgAGAApACkARABEAEgASABjAGMASwBLADsAOwBAAEAAPQA9AD4APgAlACUASwBLAIAAgACpAKkAkQCRAIUAhQCKAIoAhgCGAIYAhgCEAIQAhQCFAG4AbgBhAGEAaABoAGgAaABrAGsAaQBpAGkAaQBmAGYAZwBnAGIAYgBFAEUAHAAcAP7//v/z//P/BAAEAOD/4P/f/9//3v/e/93/3f/d/93/4//j//b/9v/f/9//yP/I/8T/xP/D/8P/yf/J/+b/5v/p/+n/5v/m/+b/5v/i/+L//f/9/wgACAAiACIAIwAjAC4ALgBKAEoASABIAHEAcQCKAIoAiQCJAIkAiQCLAIsAiQCJAKEAoQCtAK0AqwCrAMgAyADJAMkAxwDHAMcAxwDIAMgAyADIAMgAyAC6ALoApACkAKQApACqAKoAkACQAGkAaQBqAGoAaQBpAGEAYQBMAEwASgBKAGIAYgBoAGgAcABwAJQAlACBAIEALAAsAC8ALwAvAC8AAAAAAAQABADq/+r/3P/c/+n/6f8YABgAEwATAPf/9/8BAAEA5f/l/+n/6f8IAAgAAQABAAcABwDw//D/5v/m/+r/6v/l/+X/6P/o/9//3//b/9v/+f/5/yEAIQBDAEMARQBFADoAOgAkACQADAAMAAAAAAD4//j/3f/d/+D/4P/e/97/3P/c//j/+P/1//X/3//f/8P/w/+3/7f/n/+f/5z/nP+f/5//nf+d/5n/mf+x/7H/v/+//7j/uP+5/7n/u/+7/63/rf+g/6D/yf/J/93/3f/e/97/+//7/wEAAQD1//X/2f/Z/8T/xP/b/9v/3f/d/9z/3P/n/+f/CQAJAB0AHQABAAEA7//v/8T/xP+g/6D/iv+K/0//T/9X/1f/cv9y/1f/V/9e/17/XP9c/1v/W/94/3j/hf+F/4f/h/+f/5//rP+s/+D/4P/c/9z/3//f/8j/yP+n/6f/WP9Y/zn/Of8j/yP/Av8C/y7/Lv9F/0X/Xf9d/1r/Wv9i/2L/Vv9W/zr/Ov9U/1T/bP9s/4X/hf9v/2//YP9g/2H/Yf9D/0P/Pv8+/yr/Kv86/zr/Qf9B/0D/QP9B/0H/NP80/wr/Cv8C/wL/HP8c/y7/Lv9D/0P/RP9E/0P/Q/9Y/1j/kP+Q/5v/m/97/3v/m/+b/4j/iP9Z/1n/Uv9S/yD/IP8S/xL/Jv8m/z7/Pv8s/yz/F/8X/x7/Hv8J/wn/Fv8W/x//H/8Z/xn/Mf8x/1L/Uv9P/0//Yv9i/2X/Zf99/33/i/+L/6D/oP+k/6T/sP+w/7//v//B/8H/wf/B/8r/yv/8//z/BQAFAAMAAwADAAMA7v/u/9b/1v+y/7L/qv+q/5H/kf+C/4L/i/+L/5//n//L/8v/5f/l/+X/5f/V/9X/1v/W/9z/3P/q/+r/9//3/9r/2v/i/+L/sP+w/6z/rP+v/6//qf+p/8X/xf/o/+j/AAAAAN3/3f/0//T//f/9/xAAEAAgACAAOwA7ADEAMQAmACYAQgBCACcAJwAbABsAPAA8ADoAOgA8ADwAOwA7AEUARQBgAGAARgBGAD0APQA9AD0APAA8ADkAOQA0ADQAOAA4AFYAVgBaAFoAXQBdAGEAYQB7AHsAfwB/AJsAmwCkAKQAlwCXAIEAgQCAAIAAYQBhAEYARgBAAEAAWQBZAF4AXgBsAGwAewB7AFAAUABDAEMANgA2ABoAGgAmACYATwBPAHEAcQCEAIQAsQCxAN4A3gDSANIA3gDeAMsAywCdAJ0AtwC3AJwAnACXAJcAmACYAJkAmQC6ALoA1gDWAMAAwAC5ALkA2wDbAM0AzQDUANQAswCzALcAtwDJAMkA2wDbAOkA6QDlAOUA5gDmAN4A3gC1ALUAhgCGAH0AfQB2AHYAXQBdAHoAegCHAIcAhwCHAIkAiQCNAI0AcwBzAHMAcwCKAIoAnQCdAK0ArQCoAKgAwwDDAMgAyADHAMcAyQDJAMUAxQCmAKYAnwCfAKcApwClAKUAuQC5AK8ArwCNAI0AhACEAIQAhACAAIAAfwB/AIcAhwCPAI8AogCiAL0AvQDEAMQArACsAJEAkQB6AHoARQBFABwAHAAbABsAJQAlADgAOAAYABgAFQAVABEAEQAoACgAOAA4ADgAOAAzADMAGQAZABUAFQD7//v/2v/a/7z/vP+i/6L/k/+T/5P/k/+U/5T/lf+V/5X/lf+V/5X/pv+m/5n/mf+V/5X/mP+Y/5v/m/+E/4T/fP98/33/ff96/3r/eP94/3n/ef92/3b/o/+j/7z/vP/T/9P/4v/i/+H/4f/I/8j/pv+m/4r/iv9s/2z/Vf9V/1b/Vv9W/1b/Uv9S/1r/Wv94/3j/iv+K/57/nv+r/6v/wv/C/73/vf++/77/oP+g/5v/m/+Z/5n/lf+V/5D/kP9x/3H/VP9U/1L/Uv9e/17/h/+H/5n/mf+v/6//0//T/+D/4P/S/9L/2f/Z/+T/5P/6//r/BQAFACsAKwBCAEIAQgBCAC8ALwAaABoA8P/w/8v/y/+//7//wv/C/93/3f/r/+v/JAAkAFUAVQCJAIkAowCjAL8AvwC3ALcAogCiAKUApQCJAIkAfQB9AIEAgQCDAIMAegB6AEwATABJAEkAPAA8AC0ALQBSAFIAeAB4AJ8AnwDXANcA/gD+AAsBCwEKAQoBEAEQAfgA+AC/AL8AqACoAI0AjQBsAGwAZwBnAGcAZwBoAGgAcgByAJUAlQC3ALcAzADMAOwA7AD3APcA0gDSAK8ArwBvAG8AYgBiAFkAWQA/AD8ALAAsABoAGgAhACEAGwAbACcAJwBCAEIAOwA7AEMAQwA1ADUAGwAbAAEAAQDn/+f/+v/6/8f/x/+//7//zf/N/6v/q//C/8L/xv/G/+z/7P8AAAAA4//j/+T/5P/Z/9n/wf/B/9//3//o/+j/+f/5/xQAFAAqACoAJwAnAC4ALgAJAAkA3//f/83/zf+u/67/wf/B/7v/u/+i/6L/pv+m/6T/pP+j/6P/uv+6/8L/wv/C/8L/tP+0/5n/mf+b/5v/fv9+/6D/oP+Z/5n/f/9//4b/hv+C/4L/hf+F/2j/aP9n/2f/gP+A/43/jf+3/7f/wv/C//7//v8TABMA9f/1//3//f/j/+P/1//X/97/3v/t/+3/AAAAAAAAAAD3//f/2//b/8H/wf+h/6H/iP+I/27/bv9Z/1n/Wv9a/1n/Wf9U/1T/X/9f/3v/e/9i/2L/Xv9e/3r/ev+D/4P/lP+U/33/ff+U/5T/nP+c/57/nv+X/5f/pf+l/6D/oP+p/6n/1v/W/9D/0P/y//L/EQARABoAGgD1//X/3f/d/9v/2/+p/6n/o/+j/4r/iv90/3T/g/+D/5T/lP+B/4H/mv+a/5n/mf+d/53/nv+e/57/nv+8/7z/o/+j/6D/oP+I/4j/ev96/3z/fP97/3v/cv9y/3P/c/+h/6H/uv+6/7v/u//a/9r/3f/d//v/+/8eAB4AGwAbAC4ALgAsACwAEAAQAAAAAAD3//f/4v/i/8H/wf/K/8r/6v/q/+L/4v/9//3/8f/x/+T/5P8BAAEABAAEAOv/6//f/9//7P/s/9f/1/+5/7n/pf+l/6T/pP+l/6X/pv+m/5H/kf9+/37/mf+Z/6H/of+c/5z/oP+g/7//v//a/9r/CQAJAEQARAA5ADkAUABQAFkAWQBCAEIACgAKAMP/w/+9/73/o/+j/53/nf+M/4z/o/+j/7z/vP/h/+H/8v/y/+z/7P8YABgAFQAVAAQABADr/+v/vv++/6z/rP+I/4j/Yf9h/z7/Pv8+/z7/U/9T/2X/Zf+C/4L/Z/9n/3D/cP+M/4z/fP98/4z/jP+J/4n/lP+U/6n/qf+k/6T/p/+n/6j/qP97/3v/Vf9V/2T/ZP9Z/1n/YP9g/2H/Yf9i/2L/Yv9i/2X/Zf9o/2j/Zf9l/2//b/+L/4v/qf+p/8D/wP+9/73/vP+8/7v/u//D/8P/3v/e//j/+P8BAAEAAAAAAP////8VABUACAAIAPr/+v////////////////8mACYAWwBbAHEAcQCYAJgApQClALoAugDGAMYA+QD5AO8A7wDvAO8A/gD+AN8A3wDUANQAnQCdAHIAcgB1AHUAcwBzAFoAWgBsAGwAlQCVAKMAowC7ALsAvwC/ANcA1wD9AP0AIQEhATcBNwE8ATwBLgEuAe8A7wDOAM4AjgCOAHcAdwBTAFMAPQA9ACwALAAjACMASgBKAF4AXgB9AH0AmACYALAAsADLAMsA1gDWAOIA4gDmAOYA/AD8AAIBAgH+AP4A5QDlAL0AvQB8AHwAUABQACwALAAiACIAJwAnACQAJAAtAC0AUgBSAGUAZQB6AHoAgACAAHwAfACEAIQAngCeAKQApACFAIUAeAB4AGAAYAA0ADQADQANAPn/+f/9//3//P/8//v/+/8LAAsAPwA/AEEAQQBHAEcALQAtADEAMQAhACEAFAAUAPv/+/8BAAEAGAAYAP3//f/z//P/8v/y//z//P8WABYAFAAUAC4ALgA8ADwAPQA9AF4AXgBPAE8AWABYAHUAdQBqAGoAYQBhAGwAbABYAFgAUABQACQAJAD/////3f/d/97/3v/R/9H/tf+1/8P/w/+3/7f/uf+5/9X/1f/j/+P/5P/k//7//v8JAAkA9f/1/+f/5//T/9P/tP+0/4n/if+N/43/jf+N/4f/h/9x/3H/Tv9O/1r/Wv9+/37/i/+L/6H/of+4/7j/v/+//57/nv+H/4f/hf+F/4n/if91/3X/bf9t/4f/h/+M/4z/pv+m/6b/pv+o/6j/z//P/+T/5P/2//b/AQABACcAJwA/AD8AOwA7AD0APQA/AD8AMQAxAP7//v/T/9P/pf+l/57/nv+9/73/u/+7/9P/0//g/+D/4//j/wcABwAiACIAHgAeACAAIAAVABUA/v/+/wAAAAD+//7//P/8///////o/+j/wv/C/7v/u/+4/7j/xv/G/+T/5P/D/8P/zP/M/93/3f/f/9//CgAKABcAFwD7//v/GAAYABcAFwD8//z//v/+//f/9//6//r//P/8//j/+P/x//H/3v/e/wIAAgDw//D/4P/g/+j/6P/+//7/9f/1/8z/zP+7/7v/2P/Y/+D/4P/y//L/3P/c/+L/4v/Y/9j/wf/B/7P/s/+h/6H/r/+v/8T/xP/G/8b/0//T/7r/uv/S/9L/3//f/9j/2P/u/+7/EgASACMAIwA7ADsAKgAqACoAKgArACsAMAAwACIAIgAHAAcAMAAwAEYARgBDAEMAYQBhAH0AfQB5AHkATQBNAEYARgA2ADYAJwAnACcAJwAdAB0AKgAqAEUARQBdAF0AYgBiAGIAYgBiAGIAWgBaAC0ALQAAAAAAAQABAP/////8//z//f/9//X/9f//////IgAiAE4ATgBcAFwAcwBzAIgAiACGAIYAogCiAKcApwCJAIkAfAB8AGoAagBMAEwAYgBiAHkAeQB8AHwAcQBxAFoAWgBHAEcANAA0ADcANwARABEA+f/5/+3/7f/Z/9n/4v/i/+P/4//p/+n/5P/k/+z/7P8DAAMA6f/p/+H/4f/K/8r/uP+4/+b/5v/+//7/9v/2//D/8P/8//z/GQAZAAQABADi/+L/4P/g/9z/3P/c/9z/2//b//H/8f/+//7/+P/4//r/+v/q/+r/1P/U/9z/3P/c/9z/2P/Y/+H/4f/7//v/5f/l/9b/1v/d/93/xf/F/7v/u/++/77/u/+7/7v/u/+5/7n/vf+9/9X/1f/i/+L/EQARAEAAQABqAGoAiwCLALYAtgC3ALcAogCiAHUAdQBGAEYAGwAbAOn/6f/l/+X/5f/l/+X/5f/n/+f//P/8/wwADABFAEUAaABoAGYAZgBVAFUARQBFAEsASwAqACoABAAEAOn/6f/p/+n/yf/J/8T/xP+//7//0P/Q/+//7/8EAAQAAgACAAEAAQD9//3//P/8//v/+//2//b/+P/4//z//P8AAAAAAAAAABIAEgAkACQAFwAXAP////8AAAAAAAAAAP3//f//////GwAbAAAAAAADAAMAGgAaAAMAAwDp/+n/0//T/7P/s/+F/4X/e/97/4P/g/+C/4L/j/+P/7b/tv+8/7z/vf+9/9j/2P+//7//vv++/6r/qv+B/4H/d/93/3X/df9y/3L/cf9x/3X/df9n/2f/Wf9Z/1X/Vf9H/0f/fP98/6L/ov+p/6n/wP/A/6f/p/+j/6P/pv+m/6f/p/+k/6T/sP+w/8r/yv/C/8L/n/+f/4j/iP9t/23/Nf81/xX/Ff/7/vv+EP8Q/zv/O/9e/17/iP+I/5T/lP+W/5b/s/+z/5j/mP91/3X/fP98/3D/cP9c/1z/ff99/3X/df9a/1r/cf9x/5P/k/+e/57/nP+c/53/nf+b/5v/nv+e/57/nv+r/6v/0P/Q/+z/7P8GAAYA6//r/+b/5v/e/97/zv/O/97/3v/i/+L/8//z/+b/5v/X/9f/wv/C/9P/0//k/+T/8v/y/woACgAJAAkACwALAAoACgAIAAgABwAHAPv/+//O/87/xv/G/6f/p/+0/7T/zP/M/+f/5/8LAAsAKQApACsAKwAmACYARgBGADAAMAAnACcAGgAaAAgACAALAAsAFAAUADIAMgBMAEwAeAB4AIAAgACDAIMAbABsAF4AXgBFAEUAIgAiADAAMAAxADEAQwBDAEYARgBAAEAAQwBDAEMAQwA+AD4AIAAgABwAHAAXABcAKQApADgAOABRAFEAWQBZAF0AXQBTAFMAOwA7AD4APgA9AD0APwA/AFwAXABfAF8AXwBfAF0AXQBfAF8AWQBZAD4APgAtAC0A9//3/93/3f+3/7f/sf+x/8D/wP/j/+P/FAAUABwAHAAxADEAXgBeAFUAVQBVAFUAgwCDAH4AfgClAKUAyADIAOMA4wAHAQcBJwEnARABEAEFAQUB8gDyAOMA4wDkAOQAxgDGAMEAwQDCAMIAwADAAKMAowC0ALQAxwDHAKoAqgCUAJQAgwCDAIEAgQB5AHkAaABoAHsAewB3AHcAgACAAHsAewBuAG4AcABwAGUAZQCEAIQAiQCJAHkAeQBkAGQAXgBeAB4AHgD8//z/AAAAANX/1f/j/+P/9//3//3//f8cABwAHAAcABsAGwAgACAAFAAUAPr/+v8OAA4AIAAgAA4ADgAiACIAIAAgAAsACwDR/9H/vP+8/6b/pv95/3n/fP98/3P/c/91/3X/kf+R/8L/wv/t/+3/BgAGABoAGgDq/+r/uP+4/7f/t/+3/7f/tf+1/73/vf/a/9r/5P/k//v/+//c/9z/4v/i/9X/1f+//7//p/+n/6H/of/J/8n/+f/5/0AAQABfAF8AewB7AGcAZwBUAFQAPwA/AEMAQwA/AD8APgA+ADIAMgAcABwAPAA8AEEAQQBDAEMAPAA8AFYAVgBcAFwAUwBTAHsAewB4AHgAXABcAEYARgAMAAwA3v/e/9P/0/+7/7v/t/+3/7X/tf/E/8T/1f/V/+P/4//n/+f/1v/W//j/+P/q/+r/rf+t/5P/k/99/33/W/9b/0//T/9U/1T/Tf9N/0H/Qf9N/03/Mf8x/xz/HP8a/xr/H/8f/xn/Gf8n/yf/Y/9j/4n/if+e/57/gP+A/2D/YP9C/0L/aP9o/3v/e/+Q/5D/uf+5/7j/uP+1/7X/m/+b/3n/ef9i/2L/d/93/5T/lP/U/9T/+P/4/wMAAwAhACEAGQAZAAcABwD/////5v/m/+n/6f/o/+j/5f/l//b/9v8XABcAIgAiAAwADAD9//3/DAAMAB8AHwA3ADcARQBFADEAMQBPAE8ASwBLAFIAUgB4AHgAggCCAHoAegCXAJcAkQCRAHMAcwBKAEoAOgA6AB8AHwAXABcAFgAWAAQABADb/9v/ov+i/6v/q/+7/7v/1//X/9z/3P/8//z/6f/p/9z/3P/f/9//3f/d/+T/5P8BAAEAAQABAA0ADQAiACIAKAAoADMAMwAiACIAFwAXAPj/+P/Y/9j/wP/A/8T/xP+9/73/yf/J/9//3//X/9f/3P/c/9v/2//k/+T/4f/h/+L/4v/5//n/BwAHACAAIAAbABsAJAAkAAcABwACAAIAAgACAOv/6//R/9H/t/+3/7P/s/+y/7L/t/+3/6D/oP+q/6r/tv+2/8n/yf/5//n/EAAQACwALAA4ADgAOgA6AD4APgA/AD8AMgAyAB0AHQAZABkA/P/8/+7/7v/S/9L/4v/i//7//v/6//r/EwATABQAFAD8//z/6f/p/9//3//S/9L/zv/O//b/9v8YABgASABIAHcAdwCcAJwAnQCdAHYAdgBWAFYAKAAoAAMAAwD0//T/3v/e/8z/zP/B/8H/7v/u/xUAFQAsACwARQBFAEkASQBAAEAAXABcAFQAVAAxADEAGAAYAOL/4v/h/+H/tv+2/5n/mf+s/6z/xv/G/8P/w//C/8L/wP/A/7//v//W/9b/zP/M/7H/sf+T/5P/lf+V/6v/q/+S/5L/vP+8/+L/4v/j/+P/5f/l/+L/4v/e/97/4P/g//7//v/X/9f/rf+t/5P/k/+o/6j/yP/I/+r/6v8EAAQA+v/6/+n/6f/B/8H/nP+c/5//n/+H/4f/dv92/4H/gf+u/67/of+h/6z/rP+3/7f/pP+k/7T/tP+3/7f/k/+T/3P/c/8+/z7/Mv8y/y//L/9A/0D/Tv9O/1b/Vv+K/4r/kv+S/5//n/+2/7b/uf+5/77/vv+l/6X/jf+N/2X/Zf9b/1v/Vv9W/27/bv+b/5v/lv+W/6v/q//U/9T/AgACAOz/7P/Y/9j/of+h/2n/af9w/3D/V/9X/2z/bP95/3n/mf+Z/5f/l/+x/7H/pv+m/6D/oP/U/9T/2//b/7n/uf/F/8X/6v/q//v/+//4//j/+P/4//b/9v8GAAYALgAuADoAOgBsAGwAfgB+AKAAoACHAIcAkQCRAIsAiwBaAFoAWABYAFgAWABWAFYAcQBxAIIAggBcAFwAQwBDAEYARgA6ADoAGAAYAAAAAAD9//3/AAAAABgAGAA3ADcAWABYAHcAdwChAKEApACkAKEAoQCmAKYAnACcAJgAmACzALMAzADMAMkAyQDKAMoAxwDHAN4A3gDqAOoA6wDrAOkA6QDOAM4AtQC1AJ8AnwB8AHwAcgByAI0AjQCEAIQAoQChAMoAygDFAMUA0gDSAOUA5QD6APoABgEGAQUBBQH6APoA5QDlAM4AzgCWAJYAhACEAIUAhQCoAKgA4ADgANoA2gDAAMAAwwDDANYA1gDQANAAjACMAKIAogCUAJQAggCCAIgAiACEAIQAhACEAIMAgwCfAJ8AqwCrAKYApgCpAKkAlwCXAFsAWwA5ADkAHwAfAAcABwDw//D/zf/N/+L/4v8EAAQALgAuAEgASABYAFgAdAB0AI0AjQBvAG8AYQBhAEgASAAKAAoA2f/Z/8L/wv/H/8f/xP/E/8b/xv/C/8L/1f/V/+f/5//T/9P/wf/B/8L/wv/S/9L/6//r/+j/6P/l/+X/xf/F/8P/w//B/8H/wf/B/8H/wf/D/8P/wf/B/8D/wP+//7//mv+a/4D/gP9w/3D/X/9f/37/fv9+/37/k/+T/8v/y//h/+H/3P/c/7//v/+j/6P/if+J/3//f/+k/6T/wf/B/+z/7P8cABwAJQAlABsAGwAzADMAMwAzAAAAAAD2//b/BAAEABUAFQAkACQARABEAFYAVgA3ADcAOQA5ACIAIgASABIAGQAZABYAFgAXABcAFAAUACsAKwBNAE0APAA8ADUANQAbABsAFgAWAAAAAAD/////AAAAAB4AHgASABIA+//7//////8aABoAQwBDAEIAQgBFAEUAQABAAFkAWQBLAEsAHgAeAPb/9v/N/83/t/+3/87/zv/g/+D/3//f/9//3//o/+j/zv/O/9n/2f8DAAMAAgACAAAAAAABAAEA2v/a/6n/qf+N/43/Zv9m/z3/Pf85/zn/Pv8+/z3/Pf8//z//Pf89/1L/Uv9k/2T/ef95/5T/lP+h/6H/nv+e/6L/ov+K/4r/c/9z/33/ff+A/4D/ef95/1//X/94/3j/ef95/3r/ev9e/17/bP9s/3//f/+A/4D/of+h/4X/hf+s/6z/yv/K/7j/uP+j/6P/pP+k/6P/o/9x/3H/Pv8+/yL/Iv8B/wH/9v72/u/+7/7S/tL+5v7m/vr++v4M/wz/L/8v/1f/V/9+/37/q/+r/8b/xv/a/9r/6f/p/+P/4//o/+j/zv/O/7n/uf+3/7f/n/+f/5j/mP92/3b/l/+X/4v/i/9//3//nf+d/6v/q//B/8H/7P/s/yUAJQAiACIAPAA8AEUARQAqACoAFQAVABEAEQAtAC0AEAAQAAIAAgAFAAUA/P/8/wIAAgD/////DAAMAB0AHQAlACUAPgA+ADgAOAA+AD4ANgA2AB4AHgA2ADYAXABcAGcAZwBjAGMAZgBmAEwATAA/AD8AKgAqABAAEADu/+7/4//j/+P/4//8//z/KwArAEIAQgBgAGAAVgBWAEEAQQBFAEUARABEAEUARQBEAEQASQBJADwAPAAfAB8AJQAlACcAJwAoACgAJgAmAA0ADQAKAAoACQAJAAoACgAvAC8ASABIAF8AXwBlAGUAZwBnAGkAaQBpAGkAagBqAGEAYQBeAF4AgACAAHIAcgBaAFoAOQA5AB8AHwAmACYAFAAUAP/////+//7/FwAXAEAAQABCAEIARABEAEMAQwBFAEUAQABAAE4ATgBgAGAAYABgAFYAVgAqACoAIQAhACUAJQAfAB8AMQAxADgAOAAoACgARwBHADsAOwAkACQAIgAiAEIAQgA3ADcAKgAqAEYARgBAAEAARABEADMAMwD+//7/AgACAB0AHQAjACMAIwAjACQAJAAjACMAHgAeACwALAA/AD8ASgBKAF4AXgBfAF8AfQB9AIEAgQB6AHoAPQA9AAgACADZ/9n/v/+//8r/yv/I/8j/yP/I//L/8v9CAEIAZgBmAGgAaABiAGIARABEACwALAASABIAAAAAAPz//P8ZABkAHwAfAAcABwAOAA4A8v/y/+z/7P/2//b/FAAUABMAEwAFAAUA+//7/+H/4f/h/+H/xv/G/8X/xf/I/8j/yP/I/8P/w//U/9T/5f/l//L/8v8BAAEA5f/l/8z/zP+//7//u/+7/6D/oP+8/7z/zP/M//r/+v8GAAYACwALACMAIwAlACUAGAAYAOT/5P/h/+H/+P/4/9j/2P/R/9H/0P/Q/97/3v/4//j/AQABADYANgBAAEAAaQBpAIUAhQB/AH8AfQB9AHgAeABlAGUAPwA/ADQANAA1ADUAKQApAAQABADu/+7/3//f/+H/4f/I/8j/t/+3/7z/vP+5/7n/v/+//77/vv/B/8H/rP+s/6b/pv+t/63/kv+S/5b/lv+Q/5D/i/+L/4//j/+b/5v/jP+M/3f/d/+J/4n/pf+l/7v/u//T/9P/4v/i/93/3f/e/97/4P/g//n/+f8JAAkAJwAnAD0APQA3ADcAJgAmAAcABwAEAAQA+P/4/+j/6P8dAB0AKgAqACgAKAAiACIAHgAeAC0ALQA+AD4ASQBJAFMAUwAgACAAMQAxABMAEwD2//b/+//7//X/9f/6//r/AgACAOz/7P/g/+D/BwAHACAAIAA4ADgAQgBCADwAPAA+AD4APgA+AEMAQwA+AD4AIgAiACsAKwAgACAABwAHACMAIwAwADAAVgBWAEwATABRAFEAXwBfAFsAWwBJAEkANQA1ADoAOgA3ADcATABMAHgAeACfAJ8AtQC1ALkAuQC8ALwAqACoAIoAigB6AHoAYQBhAFwAXABfAF8ARQBFACkAKQARABEA/v/+//n/+f/J/8n/qP+o/6P/o/+Q/5D/s/+z/8n/yf/C/8L/3//f//L/8v/x//H//////yQAJAA7ADsASgBKAEoASgBCAEIAOAA4ADoAOgARABEA/v/+/+T/5P/2//b/BQAFABoAGgApACkAQwBDAF4AXgB5AHkAfgB+AEoASgAjACMAAwADAPz//P/c/9z/9f/1/wAAAAAbABsARgBGACkAKQA1ADUAJwAnAAwADAAAAAAA5P/k/+j/6P/l/+X/+v/6//L/8v/T/9P/1f/V/9//3//d/93/0//T/6P/o/+Y/5j/lv+W/3f/d/+Q/5D/pf+l/6j/qP+u/67/qP+o/8n/yf/i/+L//P/8//3//f/d/93/vv++/8P/w/+u/67/Yf9h/x3/Hf8b/xv/6P7o/uf+5/4G/wb/Jv8m/zj/OP81/zX/Uf9R/2H/Yf90/3T/aP9o/2P/Y/9J/0n/Sf9J/1//X/9p/2n/av9q/17/Xv9F/0X/Lf8t/0z/TP9g/2D/fP98/3v/e/+C/4L/gf+B/5j/mP+1/7X/wP/A/77/vv/Z/9n/3f/d/9L/0v/A/8D/qP+o/7b/tv/U/9T/8P/w/wkACQDt/+3/7f/t/+v/6//K/8r/tv+2/7v/u/+8/7z/v/+//5z/nP9+/37/q/+r/8r/yv/f/9//+//7/yEAIQAjACMAPAA8ADwAPAAlACUARwBHAFUAVQBxAHEAaABoAG0AbQCCAIIAlACUAK0ArQC7ALsA3QDdANgA2ADCAMIAwQDBAMoAygCoAKgAhQCFAIAAgABRAFEANwA3AB4AHgD1//X/8P/w//D/8P8kACQANQA1ADMAMwBRAFEAbwBvAFUAVQBlAGUAWwBbAEEAQQAlACUA+P/4/9j/2P+4/7j/ov+i/7D/sP+7/7v/lv+W/63/rf/F/8X/7v/u/+v/6//6//r/IwAjABUAFQAeAB4AGwAbACgAKAAbABsA+v/6//////8CAAIA/////wgACAAKAAoADwAPACwALAAqACoARgBGADoAOgBRAFEAYQBhAF4AXgA2ADYA+//7/wEAAQDi/+L/3//f/wMAAwACAAIACAAIACIAIgAnACcAJAAkABUAFQD5//n/GgAaAD8APwA7ADsAJQAlABkAGQAIAAgA3//f/+z/7P/7//v/9//3//P/8//b/9v/4P/g/wAAAAABAAEABgAGAAUABQD6//r/AwADAP/////6//r/AwADAPz//P8RABEAGQAZADIAMgAxADEAEwATABcAFwAZABkABAAEAPv/+/8AAAAA/P/8/yIAIgA6ADoANgA2ADgAOABkAGQAfgB+AHoAegB2AHYAVwBXAD4APgAWABYAKAAoABoAGgASABIADAAMANP/0//E/8T/n/+f/3j/eP+S/5L/nf+d/6v/q//A/8D/3P/c/wMAAwANAA0ANwA3AEIAQgA+AD4AIgAiAAQABADp/+n/6f/p/+L/4v/w//D/IAAgACcAJwA1ADUAXABcAGYAZgBgAGAAXQBdADsAOwA0ADQAOgA6ADsAOwAzADMAPwA/ADkAOQA9AD0ARABEAD4APgBaAFoAYABgAEsASwBDAEMARgBGAGkAaQBTAFMAQgBCAGEAYQBnAGcAgQCBAIEAgQB/AH8AfAB8AHoAegB5AHkAjwCPAJwAnAB+AH4AgQCBAIYAhgB8AHwAZwBnAGkAaQBaAFoAUABQAG0AbQBTAFMAbABsAFQAVAAfAB8AQABAADIAMgAgACAAOwA7AEkASQBmAGYAbABsAIYAhgBgAGAARgBGAEkASQAdAB0ABAAEAAgACAD2//b/2//b/97/3v/b/9v/vv++/9r/2v/b/9v/5P/k//r/+v/8//z/2v/a/8D/wP/J/8n/yP/I/8P/w//C/8L/w//D/8H/wf/A/8D/v/+//6f/p/+M/4z/iP+I/3T/dP9K/0r/Qf9B/0j/SP9J/0n/ZP9k/27/bv9b/1v/Q/9D/1H/Uf9H/0f/Tf9N/3f/d/9z/3P/cf9x/3z/fP+C/4L/c/9z/1f/V/9h/2H/Qv9C/zz/PP9M/0z/X/9f/1n/Wf9r/2v/ff99/4n/if+k/6T/vP+8/8r/yv+1/7X/sP+w/6b/pv+Y/5j/m/+b/53/nf9+/37/Vv9W/2X/Zf9a/1r/Ov86/yH/If8h/yH/Hv8e/zX/Nf9L/0v/Zf9l/47/jv+3/7f/v/+//8D/wP/M/8z/2//b/+b/5v/f/9//wv/C/8r/yv/l/+X/zP/M/9f/1//e/97/2v/a//b/9v/6//r/AwADAPn/+f/4//j/2v/a/77/vv/w//D/7f/t//z//P8CAAIA5P/k/+n/6f8OAA4AEwATAP////8FAAUAAQABAP7//v8KAAoANwA3ACoAKgARABEAQgBCADMAMwBGAEYAjQCNAGAAYABsAGwAVgBWAEgASAA3ADcAHAAcAC4ALgAUABQA/f/9/woACgAbABsAGwAbADUANQBPAE8AWABYAEgASABBAEEAbABsAEsASwBLAEsAfwB/AGEAYQBhAGEAcwBzAJEAkQB6AHoAhwCHAJwAnAB4AHgAqwCrAOoA6gDAAMAA1ADUAOIA4gC1ALUAnACcAKIAogCXAJcAZwBnAIMAgwCRAJEAqQCpANUA1QDjAOMAzwDPANIA0gDZANkAtAC0ALIAsgBnAGcAfQB9AHEAcQBXAFcAqQCpAEoASgBPAE8AoACgAHYAdgBhAGEAfAB8AEIAQgAeAB4AMAAwAHAAcABJAEkANwA3AHIAcgAOAA4AIgAiAD8APwCl/6X/zP/M/9D/0P/H/8f/IgAiADMAMwDS/9L/3v/e/00ATQAhACEAbgBuAKkAqQBqAGoAdQB1AFcAVwA9AD0A4P/g/8D/wP/+//7/tf+1/73/vf8FAAUA+P/4/wMAAwBWAFYAPwA/ABsAGwBRAFEAEwATANH/0f/M/8z/qP+o/x3/Hf/N/s3+Dv8O/7f+t/61/rX+4/7j/pT+lP6S/pL+6/7r/g//D//7/vv+3f7d/gT/BP/X/tf+tf61/v/+//70/vT+3P7c/ib/Jv/5/vn+0v7S/u/+7/64/rj+k/6T/pn+mf7r/uv+Jv8m/x//H/98/3z/9//3/8z/zP8AAAAAmwCbAP3//f8NAA0ATgBOAND/0P+J/4n/w//D/7X/tf9t/23/CQAJAMr/yv9y/3L/9v/2/8T/xP+7/7v/KQApACgAKAAjACMAMwAzAKX/pf+r/6v/nv+e/yX/Jf97/3v/UP9Q/y3/Lf+p/6n/1v/W/7v/u/+O/47/BQAFAKL/ov++/77/pwCnABgAGAD5//n/oACgADYANgDK/8r/OgA6AD0APQAfAB8ANgA2ABoAGgCXAJcAtv+2/xQAFADnAOcAwP/A/9YA1gDxAPEAVABUAIwAjACCAIIAQgBCADgAOACSAJIAAgACADkAOQBFAEUASABIAEIAQgACAAIAUwBTAOj/6P87ADsAgACAAIn/if9WAFYAKAAoADYANgCUAJQAFP8U/08ATwBAAEAAQgBCAKH/of9eAF4Asf+x/5P/k/84ATgB3P/c/zgAOAByAHIASABIAEUARQB1AHUAMgAyAOz/7P+4ALgAjv+O/30AfQAVABUAEgASAPP/8//J/8n/4QDhAJT/lP/r/+v/LAAsANj/2P8MAAwA5P/k/4oAigC2/7b/AQABAJf/l/9qAGoA3P/c/0n/Sf8MAQwBTv9O/7b/tv+9AL0Atv+2//r/+v9rAGsAnACcAHr/ev/vAO8AUgBSAMn/yf/HAMcACwALAIAAgAC//7//0ADQADIAMgDE/8T/SAFIASgAKABgAGAAjACMAMQAxAA2ADYAKwArAAIBAgEzADMAzf/N/z4APgApACkAGQEZAWgCaAKt/63/Yv1i/QECAQJ5/3n/XP9c/w0EDQQ9/D38Iv8i/6gCqAK/AL8A3P/c/1YBVgFVAFUA8/3z/YwCjAIT/xP/wPvA+2AAYABV/lX+5v7m/nv/e/8zADMAh/+H/7YAtgA3AjcCnv6e/poAmgDX/9f/OP44/lIAUgB2/nb+GgAaAGH/Yf8h/yH/KgAqAKn/qf8uAC4A+f/5/3f/d/8L/gv+t/63/hkAGQB0/3T/mv6a/nH+cf6kAKQA5P3k/Sb9Jv2q/6r/if2J/ZP+k/5SAFIAsv+y/5n+mf67AbsB4gHiATf/N/81ATUBpgCmAC3/Lf/5APkAmQCZAJH+kf6X/Zf9sP+w/1z/XP8YABgAWgBaAOj/6P90AHQAWP9Y/8T/xP/YANgAQgBCAMUBxQGVAJUA4wDjAO//7/8rASsBxgHGAUj8SPzS/9L/HAAcAE/9T/2oAKgAQgBCAH3+ff6t/63/LAAsAFL+Uv5rAGsAHwAfAKr8qvyf/p/+ZgBmAAgBCAGt/63/+QL5AqoBqgHg++D7mAKYAt4A3gDb/Nv88ALwAiX/Jf94+nj6KgAqAAkECQTp/On8gfyB/JwEnARI/0j/hgGGAdsG2wZ//X/9qfyp/JwEnARv/2//xPzE/CAEIASf+5/7dvx2/AoDCgPn/ef9/f/9/03/Tf/6APoArQGtAZgCmAKdAp0CJf4l/uf+5/5f/l/+9f71/qIAogD6APoAxP7E/jj9OP0GBAYEqfup+5n9mf1EA0QDW/xb/NP/0/8jASMBvv6+/ur86vzD+8P7UvxS/OH54fnQ/9D/tf61/iH4IfhI+0j7EQARAB39Hf3y//L/JAMkAwP9A/2iAKIANQI1AnH7cfv5APkAl/6X/pr7mvst/S39rv2u/TT/NP8H/gf+HwEfAd//3//tAe0BRAVEBeT+5P57A3sDswSzBEr+Sv4RAhECFQYVBmT/ZP/OAM4A/gH+AUX9Rf2oAagBQwBDAL/7v/sWABYALgEuAQsCCwJTAFMAJgcmB5cElwTd/93/7gXuBV36XfplAGUACAoICkT5RPk8/jz+xgLGAk74Tvi2/bb9NAg0CPj9+P0o+Sj5nQGdAdj+2P6X+Jf4GwQbBNkH2Qfh8uHy4wPjA3wPfA9m8GbwcwhzCNsM2wwU7xTv8gbyBtYD1gNk9GT0ZQNlAz76Pvoz8jPypgCmAEQERARLAEsA6AHoASIJIglIBkgGlAGUAZIOkg48ADwA1PXU9aIMogwk+ST5aftp+7oVuhXy9/L3yfrJ+vcO9w6l+6X7zQDNAKMHoweS+5L7Ef4R/jAHMAchBiEGwALAAgIHAgdOB04H+vr6+v3//f8VCBUIGPYY9hf7F/uQA5ADqPio+NUI1QjPCc8JlPyU/BIHEgdZB1kHeQB5AHsBewGyAbIB9fr1+nj6ePrhAOEADf4N/o//j//yBPIEc/9z/9kA2QBACUAJdgJ2AlH/Uf/cB9wHCAAIAA//D//rBusGwQDBAEcBRwFcBlwGxwLHAtD+0P7ABcAFWwVbBVH7UfvgA+ADPwY/Bpb/lv/oBOgE4gPiA38BfwGrBKsE4ALgAu/+7/7G/8b/v/+//9//3/9mAWYBpQKlAksGSwaYBJgE9AT0BN8E3wQGAAYA3ALcAiv+K/72+/b7twC3AMv4y/gE+AT4wP/A/4H+gf7l++X7eP94/+j96P3v++/7PwM/AzgDOANy/3L/qwKrAo8BjwHE+8T7w/3D/bQBtAG8+7z7BfsF+4D7gPvA98D3Pf09/aH9of2z+bP5ffx9/IT8hPw4+zj7RP9E/9wA3ABw/nD+eQF5Ad0B3QH3/vf+QwFDAe/97/0K+wr7pf+l/3YAdgCI/Ij8QvxC/D79Pv18+3z7jf2N/Tb+Nv6Q+ZD5e/p7+tf81/x2/Hb81v/W/9gE2AQABAAEf/5//kL+Qv5QAVABDP4M/qj8qPwpACkABfoF+tj42PhAA0ADvf69/jv8O/wWBBYE1/vX+/X59fmBAIEAmfuZ+2j8aPxV/1X/Rv9G/y4ALgC2/bb9If4h/uf+5/5+/37/uwC7ALj7uPt//H/8TwBPALv7u/tmAWYBfQR9BG/7b/sWAhYCjf+N/3n3efeOAY4BJv8m/135XfnP+8/7I/oj+pX9lf0q/ir+uQC5ABYEFgS6/Lr8vf+9//oD+gPZ+9n7nf+d/3MCcwL/+f/5RQBFAP4B/gGN+437FgIWApUBlQF4AHgAKQEpAbb7tvts/Wz94v7i/k//T/8TARMB4/7j/oAAgABVAVUBhgCGAKACoAJ0BHQElAKUAiIBIgE8AjwCxgDGAJQClAIHAwcDrAGsAfz9/P0Z/Rn9o/+j/+v96/3pAOkA+QD5ABn/Gf/1AvUCvgG+AfgA+ADBA8EDsQGxAZP/k//6BPoEJAIkAr37vfsABwAHkgOSA2L9Yv3MBMwEc/5z/oX6hfpeAl4CuQC5AOj86PxOBU4F0gPSA5r9mv0NBQ0FtwC3AEL+Qv7QA9ADRf5F/mf9Z/0YAxgDCAMIA2kAaQCMB4wHYwRjBDT9NP0TCBMIwQLBAun86fyqBaoF9wD3AJ/9n/0SAhICZANkA5X9lf26AboBdQZ1BsX9xf1n/mf+5gTmBJEBkQGKAIoA6wXrBaUBpQGFAIUAIAYgBpEBkQGwALAAeAJ4AtL/0v+l/6X/eP14/bb/tv+7/rv+u/67/kEDQQO//7//jACMAHMEcwTZAdkBNv82/9QC1AL1/fX9CPwI/GoAagBz+3P7k/yT/NYA1gBC/0L/4v/i/8X+xf5QAFAAhf+F/2MAYwALAgsCmPyY/A3/Df9kAWQB/////5AAkAAkAiQCSf9J/+H94f39Av0Cqv6q/jn/Of/tBO0EOf45/tn92f12BHYEswCzAFkAWQCIBIgEQAJAAhL/Ev+OA44DqASoBOb/5v8CAAIArf+t/7P8s/wz/zP/LAEsAXUAdQDYA9gDowKjAsMCwwIGBQYFawBrAFQBVAGFA4UDRf5F/oT+hP4+AT4Bmf2Z/VX+Vf6UApQCjP+M/8oAygClAaUBzP7M/kL/Qv8LAAsAkv+S/53/nf9t/23/Kf8p/5z9nP0j/yP/pP+k/xL/Ev+E/YT9d/13/YsAiwCi/aL9c/9z/7UBtQFh/WH9I/4j/vr9+v14+3j7aAFoAW/+b/7l++X7egB6AB/9H/0I+wj7bgBuAAz9DP2W+Jb4ZP5k/kH8Qfwl+yX78/7z/q0ArQCB/YH93v3e/aYApgB//X/9zP3M/fwB/AGm/Kb8XP1c/SYBJgF5+3n7/f39/foA+gC5+7n7fv1+/WUAZQCO/47/zf/N/4X/hf/WANYAK/8r/7/+v/4CAgICHv4e/kr9Sv1BAUEBpACkAOf85/xn/2f/Of85//z7/Psl/SX94f7h/vv8+/yA/ID8AAEAAUsASwD9/f39+//7/0kBSQEf/x//5v3m/WoBagFM/Uz9wv3C/YEBgQHn/ef97Pvs+1f+V/7TANMASf1J/Tf9N/3HAMcA1vzW/MH8wfzY/9j/gv6C/vf99/1uAW4BIP8g/7z+vP7KAcoBZP5k/tP+0/7g/+D/5f3l/f3//f/OAc4BRQFFAQABAAGjA6MDRgJGAkkBSQFjA2MDaAFoAf79/v2EAIQAkQGRAXYAdgDiAOIAkwGTATf/N/+GAIYASQFJASYAJgDM/sz+SwBLABACEAIjACMApAGkAUECQQL8APwAyAHIAaj/qP+gAaABZQFlAUj+SP6kAKQAKAAoAC/9L/0w/zD/7P/s/yz9LP1W/lb++QH5ARoAGgA4ADgAkAGQAb0BvQG/AL8AYwNjA8ACwAJ//3//AwIDAk8ATwD5/vn+xAHEAXL/cv/G/cb9mAGYAXEAcQAh/iH+tgG2Ab8BvwFB/kH+LQEtARYCFgK+/r7+Of85/10AXQBHAEcAL/4v/rcBtwFFA0UDJwEnAVoBWgGbApsCiwGLAVcCVwKyALIAEv8S/4EAgQApASkB7QDtAIwBjAGtAK0AAf8B/3sCewJPAU8BTP9M/1MDUwP1//X/RQBFACwCLAKm/6b/fQF9AbT/tP+1/rX+tgG2ASQBJAHiAeIBAwIDAvL/8v/e/97/hgCGAKIAogCG/4b/N/83/yT/JP8K/wr/8//z/9MB0wEXARcBQP9A/0gCSAK0AbQBB/8H/ysBKwHZ/9n/zf/N/+wB7AFI/0j/egF6ASsBKwHZ/tn+gAKAAowAjAA3ADcA8gDyAIH+gf4FAAUAn/+f/9D+0P7oAOgA2/7b/of9h/3iAeIBvgC+AH//f//9A/0DlAGUAUj+SP5CBEIEgAKAAtv/2//tAe0Bmf+Z/1j/WP+3ALcA5P7k/hwBHAH8//z/lP6U/sYBxgHTANMAJwAnALP/s/9J/0n//v/+/7b8tvzr/uv+RwBHABT8FPwAAAAACgEKAXv8e/zgAOAASABIAJ/+n/4XAhcC3QDdAJH/kf9VAVUBsP+w/+f95/2vAa8BbQFtAev76/sA/wD/IgEiAT79Pv32//b/VQFVAX7+fv4V/xX/1wHXAfL+8v5d/l3+mQKZAtL/0v8I/gj+XwFfAZT+lP7W/db9kP+Q/9H80fwA/QD9+/37/Vr+Wv54/nj+v/6//kD/QP8Z/xn/cv9y/0gASAC0/7T/l/+X//sA+wDY/9j//////2sBawEo/yj/tgC2ANcB1wEN/w3/+//7/88BzwE1/TX94v7i/rkBuQGC/oL+6/7r/ggACABg/2D/JP8k/8n/yf91AXUB1P/U/6MAowAHAgcCi/6L/uEA4QBqAmoCbABsAMIAwgCqAKoAWf1Z/SoAKgAaABoABv4G/uwC7AJlAWUBGv8a/8sBywHVAdUBtv+2/3j/eP/g/+D/bgBuAL3+vf4nACcAzADMACMAIwDRAdEBIQEhAWD/YP8GAgYCfAB8ANf+1/7z//P/qf2p/Xv/e/8HAQcBEP8Q/0j/SP+KAYoBwADAAJkAmQCSAJIAjACMACUBJQHS/9L//P/8/5gDmAMwATABvwC/ADMDMwPSAdIB2/7b/gQCBAJBAEEAwv7C/sgAyABEAUQBnf+d//IA8gCMAYwBbf9t/xMBEwFCAEIA7f7t/jABMAGv/6//DwAPAEcARwDI/8j/EwATABIBEgHmAOYAuf+5/xYAFgAPAA8Awv7C/nf/d//N/83/T/9P/1MAUwAC/wL/2v7a/uf/5//p/en9EAAQAMD/wP8B/wH/oQChALn+uf7U/tT+sACwAJ3+nf65/bn92v/a/1j9WP0T/RP9f/9//3b8dvyM/Yz9MQAxAFL+Uv5j/mP+SwBLAHv/e/+f/p/+nP6c/sX+xf6Y/5j/T/9P/879zv3W/tb+gwCDAK//r//nAOcAaAFoAT0APQDMAswC+wH7AYgCiALZAdkBoQGhATACMAKAAIAAsQKxAiwCLAJvAG8ACwMLA5EAkQCkAKQAigOKA0L/Qv9yAHIAJQElAef/5//kAOQAYAFgAbEAsQAcABwAXQBdAHf/d//H/sf+y/7L/vz9/P03/jf+i/6L/nz+fP71/fX92f3Z/UX+Rf6H/If8wADAACEAIQAg/iD+zP/M/9n/2f/n/+f/V/9X/7r/uv+L/4v/Tf1N/cAAwAC0ALQAuP64/pAAkAAEAAQA/v7+/sT+xP7sAOwA6f/p/9j+2P7y//L/Lf8t/+j+6P77//v/O/87/zD+MP57/3v/UQBRAH//f/+TAJMAAwIDAngCeAJvAm8CkQKRAhsBGwGRAJEA4//j/539nf2p/6n/EP0Q/R36Hfol/iX+WfxZ/Av8C/w3/jf+dP50/jP+M/5u/27/8ADwAB//H/9AAEAAywHLAdf/1//KAMoAqP+o//j9+P2G/ob+qP2o/Rb7FvuW+5b7/Pv8+376fvrn++f7N/03/VD9UP3X/df9bP5s/lH/Uf93/3f/NgA2AMMAwwDFAMUASgBKAAsBCwEjACMAkf6R/hD/EP8j/iP+o/6j/nL+cv4E/gT+Tf5N/sL8wvzr/+v/Xf1d/eb85vxt/m3+W/tb+7n9uf0z/zP/b/5v/iUBJQFQ/1D/hQCFAAEDAQOuAa4BXgBeAC8BLwFHAEcARwBHAG4AbgAS/xL/ev96/58BnwGLAIsA4P/g/8IAwgAMAQwBpQGlAUgBSAGnAacBYgFiAa4CrgI0AzQDKQQpBNsE2wRfBF8EFAcUB70EvQR8AnwCrQKtAroAugCD/4P/0f3R/bn+uf6W/5b/fAB8AA0DDQOUA5QDcwNzAwMEAwRsBGwEawJrAtkC2QK6AroCGQIZAtEC0QJ4AHgAlAGUAX4CfgJYA1gDMQQxBN8E3wSVA5UDrQOtA50EnQRRBFEE7ALsAuMC4wICAwIDEAIQAlcCVwItBC0ER/9H/7n/uf/BAcEBJv0m/YYAhgBlAWUB0P7Q/ugA6ACfAp8C5gHmAScDJwMMAgwCfwF/ASECIQIIAAgAlgCWAGYAZgDO/c79eQB5AL7+vv4O/w7/AwADAFj/WP/ZANkAk/6T/lYAVgDOAM4AEv4S/tUA1QBT/1P/WP5Y/kH/Qf8pASkBDf8N/7r+uv74AfgBg/+D/x7/Hv+CAYIBxwDHAJIAkgBiAWIBaQJpAkAAQAACAQIBvwK/AoQAhADYANgA8QDxACIBIgHYANgAzwDPACwBLAF+/37/TQBNAIn/if/g/eD9AP4A/jsAOwAr/iv+Z/9n/zwCPAJZ/1n/aAJoAq0ArQDvAO8AuAG4AaP/o/+yALIAWQBZABb/Fv9AAEAAygHKAfz//P/z//P/fQF9AR//H/8oAigC2wHbATUBNQEAAwADJwEnAZMBkwHLAMsA2QDZAOIB4gEUABQA7QHtAY8AjwBXAVcBXgJeAksBSwEzATMBEAIQAlAAUADr/uv+rACsALb9tv1g/mD+1//X/3r9ev3f/N/8hP+E/wkACQDp++n79P70/p3/nf+c+5z7hgCGAPz//P+R/ZH95//n/20AbQD9/v3+Cf4J/g7+Dv7q++r7RfxF/OL84vzB/MH80/zT/DD8MPy9/r3+yv7K/v3//f8XABcAHQAdALQAtACS/ZL9mf+Z/6T/pP8o/ij+lAGUAXkBeQEo/yj/pgGmAcr/yv8Q/xD/twG3AUv/S/9EAEQAfAN8A3T/dP9dAV0BfAB8AOz+7P6T/5P/6v3q/SL+Iv42/Db82f3Z/fr8+vxm+mb61/zX/Lv7u/uL+4v7ffp9+sv7y/uD/IP8DvwO/KL8ovxh/WH9Q/1D/af7p/uk/aT9Fv4W/vj6+Poc/xz/pPyk/IX9hf12/nb+5P3k/bz+vP7e/t7+gv+C/3j/eP/aANoAeQB5AIwAjACYApgC9QD1AF8BXwEFAwUDcQNxA7wCvAJDBEME0QPRA70DvQOeBZ4F0wXTBU0FTQV3BHcE/AP8A4AEgASkAqQCiQOJAzkCOQIYAhgCiwCLAOgA6AAgAiACXf9d/+gB6AFHAUcBDgIOAscDxwNXA1cDcgRyBMkByQG6A7oD2gHaAUz/TP+AAoACl/6X/kkASQAxATEB1ADUAOkC6QILAgsCvgS+BHYDdgMHAgcCoQOhAx8DHwOwAbABkwaTBlQFVAULBAsEFwcXB7sCuwLLA8sDxQbFBjUDNQNmBWYFQgVCBZIDkgNZA1kDtAO0A1gCWALwAfAB8gHyAfH/8f9UAlQCpwGnAXP+c/45ADkAOwA7AJz+nP42/jb+UgFSAXz+fP6O/47//v/+/zT+NP5BAEEA0f7R/mv/a//K/8r/N/03/TH9Mf2T+5P7SPtI+7T5tPlc+Fz4L/ov+kL4Qvhk+WT5AfsB+0D6QPqI+4j7b/1v/e377fsq/Cr8Hv8e/279bv2L+4v7gACAANP80/yY+Zj5CQAJADH6Mfpb+lv6ef15/ZH6kfrn/Of8wfzB/FX8Vfxq/mr+av1q/Tj/OP8DAAMA2f3Z/VL/Uv/n/uf+VP1U/dL70vtH/Ef8Z/1n/c75zvnR/NH8n/uf+7D4sPi5/7n/YPpg+vv9+/0A/gD+f/l/+acApwBJ+kn6h/yH/KT+pP54+nj6bP1s/X36ffrW/db9kfqR+sn7yfvV/dX94/rj+t//3/9cAFwAcf9x/0X/Rf9mAWYBJgAmAJv9m/0mAiYCZf9l/30AfQDA/8D/jwCPANwA3AAk/iT+9gL2Apz8nPzhAOEA5QHlAf3+/f5xBHEEEQIRApMAkwB3AXcBbgZuBn8AfwCqAqoCkgOSA0j+SP6QBZAFOv86/xgAGADNBc0FSv1K/Xj/eP9wBHAEkQGRAVL7UvsfBh8GGgEaAeP84/wpAykDhP2E/YsHiwf39vf2t/+3//kK+QpW71bvvQy9DLsAuwC+9b715QnlCW73bvcuBi4GtPy0/Bn6GfoVBBUEfvd+93IBcgHuAe4BeAB4AFr/Wv9rAGsAzgPOA4kBiQHI/8j/VAZUBkcARwCi/aL9nAOcA4n+if4GAgYCLwIvAvr2+vYqBCoEwPvA+5kCmQJo/2j/8vny+f4B/gGB/oH+xADEAMcFxwXHAMcAnP6c/h8BHwGqBaoFQPxA/AIDAgPO/M78kPmQ+dr82vwX/Bf8uAG4AW74bvirAasBKP0o/eH84fxwAnACGfsZ+2kFaQW2/rb+1QHVAXr/ev/C+cL5TwVPBdr52vmT+ZP5cP5w/u347fjT/9P/cvhy+Er9Sv1I/kj+8PXw9a/+r/7Y+tj6L/sv+zn6Ofqi/KL8D/4P/kD2QPZMAkwCH/sf+/z+/P5u+2776fjp+EP6Q/p//n/+4vji+DEAMQCAAIAAkfyR/CsCKwLiAeIBTwRPBJ4AngCs/6z/VQBVAE4ATgBZAVkBgwKDAp8DnwPCA8IDKAEoAXAKcArzAvMCrwKvAowHjAd1BHUE3wXfBZ4BngFrCmsKRQZFBjoDOgNdBl0G6gDqAHEGcQYHAwcDDwgPCDwDPAN9An0CDgkOCZsEmwR+Bn4GTQZNBosDiwOOB44HJQUlBXYEdgRZBFkEmgSaBCsDKwNyAnICjgKOAsYFxgUHBAcETwNPA34FfgUqBSoFOQM5A9UE1QRXA1cDhQGFAbgBuAEuAi4C//3//bgBuAHo/uj+6f/p/1cDVwMY/xj/wQPBAxIBEgEZAhkC3wLfAqoBqgGBA4EDt/63/pUBlQEt/y3/S/5L/jMAMwDG+sb60/7T/kUARQDs/uz+ef15/b79vv2X/pf+J/0n/en+6f6K/4r/8P/w/6b+pv6QAZABlQGVAYb/hv/YANgArvyu/P3+/f7H/Mf84/zj/MD/wP/R/dH9m/2b/Wz9bP3j/uP+BfwF/Ev9S/32/vb+zf3N/fX/9f9n/mf+rgCuADICMgL6//r/LQItAmABYAGTAZMBdQF1AWICYgJQAlACuv66/n4DfgM9AT0BygDKAEMBQwHa/9r/jgGOAcQAxABIAEgAvQK9AksDSwPMAMwAbgJuAjcENwQ5ATkBZgRmBGICYgIbAhsCPgM+A5YAlgBOBE4EzgDOAKv/q//dAN0Amf6Z/u787vya/Zr9Mf8x/4z7jPsP/w//MQAxAB//H/+6AroCSwJLAt0B3QF1A3UD8wLzAlkBWQEIAwgDwwLDAnj/eP+UAJQAiv2K/W/+b/4m/yb/6Pvo+yP+I/7Q/dD9xv7G/vX+9f4XABcA1wLXAqT/pP/OAM4AEwMTAwYABgDmAOYAfwF/AXj+eP7U/dT9+v76/qv9q/11/3X/W/9b/1n+Wf6v/6//GAAYABgBGAH9AP0A/gH+ARECEQJ6AHoAlgGWAQcBBwELAAsAWv9a/y0CLQL3APcAlwCXAJcClwIKAAoA+v/6/98A3wA0/jT+yf/J/7f+t/4l/iX+g/2D/aj9qP3C/cL9PP08/fv++/7p/en9tv22/W3+bf46/Tr9Hv4e/qD+oP7j/OP8C/0L/eb+5v5b/lv+6f3p/SD/IP8a/Rr9Fv4W/qL/ov8+/j7+bP5s/lH+Uf5t/m3+H/4f/rz+vP41/zX/Iv4i/pH+kf5z/nP+Xv1e/eT95P0O/g7+evx6/Hv+e/4w/jD+8/zz/M3+zf5Z/ln+5f3l/en+6f5X/1f/uP64/pD9kP2M/oz+Nf01/dT91P3D/sP+yP3I/eL+4v6//r/+3P7c/lT/VP/g/uD+qv2q/dL+0v6XAJcAuf+5/1UBVQHpAOkAVQFVASIBIgEiACIA+AD4AEf/R/+v/6//Wv9a/zz9PP19/33/9f31/b/9v/1dAF0AF/8X/4f/h//HAMcAMAAwAFoAWgDCAMIAy//L/w4BDgHkAOQArACsALMAswCHAIcAFwAXAOgA6ACxAbEBugC6AIcAhwB8AHwAjP+M/yUAJQB7/3v/cf9x/3b/dv8d/x3/LAAsADsAOwAHAAcAAQABABf/F//W/tb+3/7f/rX+tf6m/qb+l/6X/uf95/2m/qb+rf6t/mL/Yv8GAAYAZP5k/gf+B/6V/ZX9QP1A/Xn9ef1Z/Vn9Fv4W/sP9w/1q/mr+L/8v/zj/OP98AHwApgCmAHMAcwBvAG8AkwCTAC4ALgBz/3P//P78/s/+z/5h/mH+Tv5O/o/+j/4D/wP/yf7J/lH+Uf4v/y//dP90/5f/l/8UABQAvQC9AIMAgwDM/8z/ZABkAJIAkgABAAEAJgEmAa0ArQD3/vf+rP6s/pP+k/55/nn+9v72/ooAigDl/+X/MAAwABABEAHH/8f/BQEFAToBOgESABIAJQAlALP/s/9CAEIABv8G/yQAJAA0ADQAzv7O/tEB0QGrAKsAWwBbAJ8BnwHX/9f/FgAWAMIAwgDlAOUAsQCxAKsAqwCYAJgAAwADAKMAowD5APkA7gDuABoBGgEwADAAAgACAFoAWgBO/07/of+h/34AfgCg/6D/egB6AOsA6wDaANoAKAEoAQ4ADgDZANkAXQBdAPv++/62/7b/Pv8+/zf+N/7M/sz+GQAZAAH/Af+V/5X/fwB/AGL/Yv+kAKQAtQC1AAIBAgE3ATcBNgE2AcgByAHmAOYAMwIzAhkBGQH9//3/tgC2AAL/Av8M/wz/Of85/1r/Wv///v/+wv7C/l7/Xv9r/mv+Ov86/wEAAQAEAAQAsACwAMsAywAHAAcAwf/B/1EAUQCH/4f/w//D/8D/wP/6/vr+Fv8W/8P+w/7v/+//TQBNADIAMgBhAWEBIgEiAdoA2gCpAakB+gH6AdQB1AF/An8CoQKhAgEDAQOgAqACSgFKAXwBfAGSAJIALwAvAJ0AnQDlAOUAdAB0AIf/h/+7ALsAyf/J/14AXgC2AbYBmQCZAGABYAF6AHoA5gDmAF4BXgHBAMEANwI3AqMAowC+AL4A1gDWAIL/gv9bAFsAXABcAGQBZAGLAYsB/wH/AbkCuQLLAcsBAwMDA0YDRgOHAocCdQN1A0wCTAKjAaMBoAKgAosBiwEJAgkCOgI6AuIA4gAKAQoBTQBNACMBIwEpASkBeQB5AHQBdAHb/9v/HwAfAKMAowAlACUAfwB/AKD/oP8kACQAFwAXAIf/h/9eAF4AAQABAF7/Xv8M/wz/pf+l/5r/mv+G/4b/YwBjABYAFgBJAEkA6QDpADkBOQEYARgBrwCvAPgA+AC6ALoABQEFAdkB2QESAhICwgHCATUBNQGaAJoAiACIAJwAnABQAFAAbgBuAKv/q/+Q/5D/VABUAOz/7P/vAO8AJQElAccAxwAOAQ4BhP+E/6P/o//P/8//yP/I/0cARwAsACwAx//H/3j/eP/u/+7/hQCFACQBJAEVARUBXAFcAVIBUgFAAUABtgG2AVEBUQFbAVsB0ADQAIUAhQD6APoA5v/m/x4AHgBHAEcA4f/h/90A3QCmAaYBrAGsAVYBVgEjAiMCeAF4AbUBtQFqA2oDqgKqAokCiQIfAh8CWwFbAdIA0gD+//7/MAAwACT/JP8L/wv/pf+l/9P/0/8wATABggGCAWABYAE+Aj4CAAEAAQUBBQGxAbEBIAAgAJ8AnwANAA0ATf9N/4cAhwBq/2r/qv+q/yEAIQAL/wv/DwAPAHP/c//B/8H/Ev8S/1j+WP7c/9z/0v7S/rz/vP+7/7v/Bf4F/gP/A//L/sv+8/3z/W/+b/5G/Ub9efx5/Aj9CP1M/Ez8E/wT/P/8//xJ/Un9e/17/fv9+/0q/ir+lP2U/Un+Sf5A/kD+Bf4F/jX/Nf+V/pX+Y/5j/qj+qP6j/qP++f75/g//D/9p/2n/mP6Y/rv+u/7j/uP+gP6A/kT+RP5j/mP+gv6C/oL9gv3Q/dD9+v36/Vr9Wv24/bj9xP3E/b/9v/0Y/hj+bP5s/kr+Sv42/jb+4P7g/sz+zP7J/sn+xP7E/h3+Hf5G/kb+nf6d/qL+ov45/zn/8/7z/un+6f4q/yr/cf9x/0r/Sv+v/6///QD9AJkAmQAYARgBvAG8AZEBkQGvAa8BZwFnAf8A/wCRAJEALQAtAKoAqgCq/6r/1v/W/6EAoQD0//T/UAFQAY4BjgHAAMAAdwF3AYQBhAEqASoBigCKAK4ArgAjACMAn/+f//D/8P8E/wT/6/7r/kP/Q//U/tT+8v7y/mX/Zf/u/+7/5P/k/wMAAwDQ/9D/4//j/wUABQAP/w//4P7g/t3+3f62/rb+Zf9l/3r/ev9a/1r/4P/g/3b/dv+T/5P/nv+e/8P/w/+f/5//sf6x/rH+sf67/rv+cv9y/xj/GP9J/0n/6P/o/wr/Cv/r/+v/HQAdAKn/qf8RABEALv8u/3b/dv+i/6L/+f75/n//f/8d/x3/EP8Q/wX/Bf9P/0//l/+X/27/bv+q/6r/sv6y/h7/Hv/z//P/3f7d/tb/1v+H/4f/tf+1/zQANAD6/vr+KP8o/xX+Ff6S/ZL98f3x/Zj9mP0N/g3+bP5s/g7/Dv97/3v/ev96/0oASgAzADMAawBrAMMAwwBRAFEA7ADsAOX/5f+c/5z/uf+5//D+8P4S/xL/cf9x/1n+Wf6X/pf+z/7P/of+h/5D/0P/N/83/wn/Cf9V/1X/8P/w/8b/xv9nAGcAbgBuAC0ALQATABMArP+s/87/zv91/3X/xf/F/2H/Yf9z/3P/AwADAAcABwCrAKsAsACwAHgAeABrAWsBiwCLALEAsQCzALMAFAAUABAAEABm/2b/0f/R/8D/wP/w//D/eAB4ALQAtAArASsBYQFhAa4BrgHKAcoBSAFIAYEBgQEcARwBbwBvABEAEQDb/9v/4P/g/yAAIAAEAQQBuAC4ALYAtgArASsBuAC4ACABIAH3APcA1ADUACQBJAE/AT8BfgF+AVwAXAA1ADUAJAAkAOr+6v5T/1P/nf+d/3//f//5//n/CAAIAEgASAD7APsAcAFwAcwBzAHxAfEB8AHwAd0B3QHUAdQBuwG7AR8CHwKzAbMBPAE8Aa0ArQCRAJEAkwCTAKsAqwCfAZ8BjgGOAboBugEfAh8CdQJ1AmQCZAIuAi4C/wH/AXsBewFRAVEB4wDjAKMAowBpAGkADQANAP3//f9CAEIAgf+B/1n/Wf9C/0L/2v7a/hv/G/9//3//2P/Y/00ATQBYAFgA5//n/6v/q/8D/wP/2v7a/sn+yf4T/xP//v7+/iX/Jf+h/6H/t/+3/9j/2P93AHcAKAEoAcYAxgBIAEgAUgBSADkAOQByAHIABQEFAREBEQGwALAAbQBtAPIA8gDYANgAoQChAOAA4AD+AP4AfAB8AAUBBQEcARwB8QDxAMoBygHaAdoBUAJQAhkCGQIVAhUCGwIbAicBJwGzALMAEgASAJT/lP8n/yf/Hf8d/13/Xf8K/wr/Mf8x/1T/VP+R/5H/p/+n/2P/Y/+j/6P/mP+Y/2f/Z/+C/4L/Xv9e/2v/a/+z/7P/L/8v/7j+uP49/j3+Z/5n/vv++/5d/13/0v/S/73/vf8f/x//U/9T/9n/2f+d/53/HwAfAFoAWgBPAE8AwgDCAJcBlwFgAWABZgFmAYQBhAHKAMoA+AD4AKsAqwC1ALUAvQC9ADwAPACzALMAHQAdAP7//v/d/93/k/+T//n/+f9eAF4AJwEnAeMA4wCgAKAAzQDNAD0APQDsAOwAtwC3AE0ATQD3//f/Mf8x/w//D/8q/yr/L/8v/xb/Fv8DAAMAGAAYAFEAUQAxATEBFAEUAbUAtQBwAHAAYgBiAKf/p/9WAFYAMwAzANr/2v/eAN4AZwBnAGYAZgDRANEAMwAzADQANACNAI0A3ADcAMYAxgAYARgBNAE0AbkAuQBiAWIB5ADkAJIAkgBfAF8A2v/a/0b/Rv8N/w3/Sf9J/1b/Vv+h/6H/mf+Z/ycAJwCgAKAABAEEAf4A/gDn/+f/c/9z/zr/Ov8d/x3/oP+g/7z/vP/f/9//5P/k/4b/hv8LAAsApf+l/2wAbAACAQIBvQC9AFoBWgENAQ0BqQCpAP8A/wC5ALkAswCzAKoAqgDj/+P/BAAEAJMAkwDo/+j/7v/u/yEAIQCn/6f//P/8/+L/4v8rACsAggCCAI4AjgC/AL8A4QDhAJ8AnwCxALEAZwBnAPv++/4M/wz/KP8o/4z+jP4O/w7/e/97/8b/xv/B/8H/AAAAAAEAAQAcABwAUv9S/8v+y/71/vX+hv6G/j7+Pv6K/4r/+P74/ib/Jv/F/8X/of+h//j/+P/+//7/JgAmANL/0v/y//L/TQBNACEAIQB5AHkAFQAVAAYABgARABEAcf9x/y8ALwCA/4D/5f7l/oD/gP9O/07/A/8D/8T/xP+x/7H/sf+x//7//v/X/9f/Fv8W/x//H/9i/2L/wP7A/qj+qP66/rr+K/4r/mz+bP5R/lH+lP2U/VT+VP7A/cD93P3c/aj+qP6Q/pD+Of85/2//b/96/3r/B/8H/1v/W/+j/6P/3P7c/ij/KP8X/xf/pv6m/ln+Wf5s/mz+tf61/tb91v0x/jH+Ef4R/p79nv24/bj9T/5P/vP+8/4i/yL/yv/K/9f/1/9f/1//LP8s/wL/Av+1/rX+0v7S/j7/Pv9k/2T/cP9w/5b/lv8y/zL/bv9u/2T/ZP8YABgAowCjAL0AvQDDAcMB+AH4ASABIAFgAWAB1QDVAJP/k/+M/4z/Dv8O/yj/KP+o/6j/J/8n/yf/J/+M/4z/3//f//X/9f/y//L/EgASAPv/+/92AHYAswCzAKgAqACTAJMAXQBdAAQABAD5//n/CQAJAAQABABj/2P/Qf9B/1r/Wv+B/4H/L/8v/2P/Y//G/8b/jP+M/w4ADgADAAMALAAsAB4BHgEMAQwBBwEHAVgBWAEbARsBEAEQAcQAxABfAF8ALgAuAA4ADgCDAIMA3gDeACEBIQEbARsBZwFnATMBMwHlAOUAxADEAL0AvQDHAMcAowCjALUAtQDEAMQAlwCXALEAsQBeAF4ANQA1AEkASQAlACUARgBGAHUAdQAfAB8AeAB4AEsASwANAA0Azf/N/4//j/+R/5H/qP+o/8H/wf/A/8D/6v/q/yEAIQAbABsA1//X/xUAFQD+//7/4v/i/x0AHQAhACEAVgBWAGgAaABgAGAAeQB5AJgAmABeAF4AGQAZAMr/yv+H/4f/XP9c/6j/qP8VABUAJAAkAKAAoADPAM8AdgB2AIcAhwCUAJQAPgA+AOb/5v8KAAoA/////8b/xv8zADMAeQB5AJMAkwDKAMoA3gDeALwAvAC/AL8A3ADcAGIAYgA1ADUAIQAhAPj/+P/p/+n/MAAwAHYAdgBTAFMAeQB5AEUARQBDAEMAHAAcABoAGgAuAC4AYwBjAK0ArQAQARABGwEbAScBJwHqAOoAhwCHAHYAdgAXABcA8//z/yYAJgD7//v/IQAhACQAJAD+//7/HQAdACIAIgB+AH4AWwBbAHoAegAhASEB7ADsAPYA9gDTANMAywDLAKIAogBnAGcAtQC1AJ4AngCqAKoAwgDCAGUAZQCCAIIAtwC3AJkAmQDeAN4AAQEBAfsA+wAEAQQBGAEYAfcA9wDKAMoAmgCaAKMAowCbAJsAfQB9AIQAhABkAGQATABMAJYAlgCiAKIAbABsABEAEQD8//z/AQABAP3//f/+//7/+//7/wAAAAAAAAAAAAAAAAUABQAHAAcABgAGAAUABQAEAAQAAwADAAAAAAAFAAUAAwADAP7//v8DAAMAAgACAAAAAAACAAIAAAAAAAUABQAJAAkABAAEAAQABAACAAIABgAGAAQABAAAAAAA/f/9//z//P/6//r/+v/6/wEAAQAAAAAAAwADAAMAAwD+//7//v/+/wMAAwD/////+//7//7//v/7//v//f/9/wAAAAD9//3//P/8/wAAAAD+//7/AAAAAAAAAAACAAIAAAAAAP3//f8CAAIAAAAAAP7//v8AAAAAAgACAAQABAAEAAQABAAEAAcABwAJAAkABAAEAAIAAgAAAAAABAAEAAQABAADAAMABAAEAA==\" type=\"audio/wav\" />\n",
              "                    Your browser does not support the audio element.\n",
              "                </audio>\n",
              "              "
            ]
          },
          "metadata": {},
          "execution_count": 25
        }
      ],
      "source": [
        "waveform_last, *_ = train_set[-1]\n",
        "ipd.Audio(waveform_last.numpy(), rate=sample_rate)"
      ]
    },
    {
      "cell_type": "markdown",
      "metadata": {
        "id": "mlRj71qojaQi"
      },
      "source": [
        "## Formatting the Data\n",
        "\n",
        "This is a good place to apply transformations to the data. For the\n",
        "waveform, we downsample the audio for faster processing without losing\n",
        "too much of the classification power.\n",
        "\n",
        "We don’t need to apply other transformations here. It is common for some\n",
        "datasets though to have to reduce the number of channels (say from\n",
        "stereo to mono) by either taking the mean along the channel dimension,\n",
        "or simply keeping only one of the channels. Since SpeechCommands uses a\n",
        "single channel for audio, this is not needed here.\n",
        "\n",
        "\n"
      ]
    },
    {
      "cell_type": "code",
      "execution_count": null,
      "metadata": {
        "id": "vojUvy-5jaQj",
        "outputId": "c7782660-1306-4f26-d772-ce0eb3bbba34",
        "colab": {
          "base_uri": "https://localhost:8080/",
          "height": 61
        }
      },
      "outputs": [
        {
          "output_type": "execute_result",
          "data": {
            "text/plain": [
              "<IPython.lib.display.Audio object>"
            ],
            "text/html": [
              "\n",
              "                <audio  controls=\"controls\" >\n",
              "                    <source src=\"data:audio/wav;base64,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\" type=\"audio/wav\" />\n",
              "                    Your browser does not support the audio element.\n",
              "                </audio>\n",
              "              "
            ]
          },
          "metadata": {},
          "execution_count": 26
        }
      ],
      "source": [
        "new_sample_rate = 8000\n",
        "transform = torchaudio.transforms.Resample(orig_freq=sample_rate, new_freq=new_sample_rate)\n",
        "transformed = transform(waveform)\n",
        "\n",
        "ipd.Audio(transformed.numpy(), rate=new_sample_rate)"
      ]
    },
    {
      "cell_type": "markdown",
      "metadata": {
        "id": "OEYOUgqAjaQk"
      },
      "source": [
        "We are encoding each word using its index in the list of labels.\n",
        "\n",
        "\n"
      ]
    },
    {
      "cell_type": "code",
      "execution_count": null,
      "metadata": {
        "id": "xOIFUZ0njaQl",
        "outputId": "0ef09dd0-73c0-4f78-d1a6-1307e87c22b9",
        "colab": {
          "base_uri": "https://localhost:8080/"
        }
      },
      "outputs": [
        {
          "output_type": "stream",
          "name": "stdout",
          "text": [
            "yes --> tensor(33) --> yes\n"
          ]
        }
      ],
      "source": [
        "def label_to_index(word):\n",
        "    # Return the position of the word in labels\n",
        "    return torch.tensor(labels.index(word))\n",
        "\n",
        "\n",
        "def index_to_label(index):\n",
        "    # Return the word corresponding to the index in labels\n",
        "    # This is the inverse of label_to_index\n",
        "    return labels[index]\n",
        "\n",
        "\n",
        "word_start = \"yes\"\n",
        "index = label_to_index(word_start)\n",
        "word_recovered = index_to_label(index)\n",
        "\n",
        "print(word_start, \"-->\", index, \"-->\", word_recovered)"
      ]
    },
    {
      "cell_type": "markdown",
      "metadata": {
        "id": "xzjj3yUsjaQl"
      },
      "source": [
        "To turn a list of data point made of audio recordings and utterances\n",
        "into two batched tensors for the model, we implement a collate function\n",
        "which is used by the PyTorch DataLoader that allows us to iterate over a\n",
        "dataset by batches. Please see [the\n",
        "documentation](https://pytorch.org/docs/stable/data.html#working-with-collate-fn)_\n",
        "for more information about working with a collate function.\n",
        "\n",
        "In the collate function, we also apply the resampling, and the text\n",
        "encoding.\n",
        "\n",
        "\n"
      ]
    },
    {
      "cell_type": "code",
      "execution_count": null,
      "metadata": {
        "id": "lWIAcx_JjaQm"
      },
      "outputs": [],
      "source": [
        "def pad_sequence(batch):\n",
        "    # Make all tensor in a batch the same length by padding with zeros\n",
        "    batch = [item.t() for item in batch]\n",
        "    batch = torch.nn.utils.rnn.pad_sequence(batch, batch_first=True, padding_value=0.)\n",
        "    return batch.permute(0, 2, 1)\n",
        "\n",
        "\n",
        "def collate_fn(batch):\n",
        "\n",
        "    # A data tuple has the form:\n",
        "    # waveform, sample_rate, label, speaker_id, utterance_number\n",
        "\n",
        "    tensors, targets = [], []\n",
        "\n",
        "    for waveform, _, label, *_ in batch:\n",
        "        tensors += [waveform]\n",
        "        targets += [label_to_index(label)]\n",
        "\n",
        "    tensors = pad_sequence(tensors)\n",
        "    targets = torch.stack(targets)\n",
        "\n",
        "    return tensors, targets\n",
        "\n",
        "\n",
        "batch_size = 10\n",
        "\n",
        "if device == \"cuda\":\n",
        "    num_workers = 256\n",
        "    pin_memory = True\n",
        "else:\n",
        "    num_workers = 0\n",
        "    pin_memory = False\n",
        "\n",
        "train_loader = torch.utils.data.DataLoader(\n",
        "    train_set,\n",
        "    batch_size=batch_size,\n",
        "    shuffle=True,\n",
        "    collate_fn=collate_fn,\n",
        "    num_workers=num_workers,\n",
        "    pin_memory=pin_memory,\n",
        ")\n",
        "test_loader = torch.utils.data.DataLoader(\n",
        "    test_set,\n",
        "    batch_size=batch_size,\n",
        "    shuffle=False,\n",
        "    drop_last=False,\n",
        "    collate_fn=collate_fn,\n",
        "    num_workers=num_workers,\n",
        "    pin_memory=pin_memory,\n",
        ")"
      ]
    },
    {
      "cell_type": "markdown",
      "metadata": {
        "id": "gOD7rqkPjaQm"
      },
      "source": [
        "## Define the Network\n",
        "\n",
        "For this tutorial we will use a convolutional neural network to process\n",
        "the raw audio data. Usually more advanced transforms are applied to the\n",
        "audio data, however CNNs can be used to accurately process the raw data.\n",
        "The specific architecture is modeled after the M5 network architecture\n",
        "described in [this paper](https://arxiv.org/pdf/1610.00087.pdf)_. An\n",
        "important aspect of models processing raw audio data is the receptive\n",
        "field of their first layer’s filters. Our model’s first filter is length\n",
        "80 so when processing audio sampled at 8kHz the receptive field is\n",
        "around 10ms (and at 4kHz, around 20 ms). This size is similar to speech\n",
        "processing applications that often use receptive fields ranging from\n",
        "20ms to 40ms.\n",
        "\n",
        "\n"
      ]
    },
    {
      "cell_type": "code",
      "execution_count": null,
      "metadata": {
        "id": "q5FpHeMWjaQn",
        "outputId": "2cc90c3a-c7ab-4063-ce2e-ac399412a7ec",
        "colab": {
          "base_uri": "https://localhost:8080/"
        }
      },
      "outputs": [
        {
          "output_type": "stream",
          "name": "stdout",
          "text": [
            "M5(\n",
            "  (conv1): Conv1d(2, 32, kernel_size=(80,), stride=(16,))\n",
            "  (bn1): BatchNorm1d(32, eps=1e-05, momentum=0.1, affine=True, track_running_stats=True)\n",
            "  (pool1): MaxPool1d(kernel_size=4, stride=4, padding=0, dilation=1, ceil_mode=False)\n",
            "  (conv2): Conv1d(32, 32, kernel_size=(3,), stride=(1,))\n",
            "  (bn2): BatchNorm1d(32, eps=1e-05, momentum=0.1, affine=True, track_running_stats=True)\n",
            "  (pool2): MaxPool1d(kernel_size=4, stride=4, padding=0, dilation=1, ceil_mode=False)\n",
            "  (conv3): Conv1d(32, 64, kernel_size=(3,), stride=(1,))\n",
            "  (bn3): BatchNorm1d(64, eps=1e-05, momentum=0.1, affine=True, track_running_stats=True)\n",
            "  (pool3): MaxPool1d(kernel_size=4, stride=4, padding=0, dilation=1, ceil_mode=False)\n",
            "  (conv4): Conv1d(64, 64, kernel_size=(3,), stride=(1,))\n",
            "  (bn4): BatchNorm1d(64, eps=1e-05, momentum=0.1, affine=True, track_running_stats=True)\n",
            "  (pool4): MaxPool1d(kernel_size=4, stride=4, padding=0, dilation=1, ceil_mode=False)\n",
            "  (fc1): Linear(in_features=64, out_features=35, bias=True)\n",
            ")\n",
            "Number of parameters: 29475\n"
          ]
        }
      ],
      "source": [
        "class M5(nn.Module):\n",
        "    def __init__(self, n_input=1, n_output=35, stride=16, n_channel=32):\n",
        "        super().__init__()\n",
        "        self.conv1 = nn.Conv1d(n_input, n_channel, kernel_size=80, stride=stride)\n",
        "        self.bn1 = nn.BatchNorm1d(n_channel)\n",
        "        self.pool1 = nn.MaxPool1d(4)\n",
        "        self.conv2 = nn.Conv1d(n_channel, n_channel, kernel_size=3)\n",
        "        self.bn2 = nn.BatchNorm1d(n_channel)\n",
        "        self.pool2 = nn.MaxPool1d(4)\n",
        "        self.conv3 = nn.Conv1d(n_channel, 2 * n_channel, kernel_size=3)\n",
        "        self.bn3 = nn.BatchNorm1d(2 * n_channel)\n",
        "        self.pool3 = nn.MaxPool1d(4)\n",
        "        self.conv4 = nn.Conv1d(2 * n_channel, 2 * n_channel, kernel_size=3)\n",
        "        self.bn4 = nn.BatchNorm1d(2 * n_channel)\n",
        "        self.pool4 = nn.MaxPool1d(4)\n",
        "        self.fc1 = nn.Linear(2 * n_channel, n_output)\n",
        "\n",
        "    def forward(self, x):\n",
        "        x = self.conv1(x)\n",
        "        x = F.relu(self.bn1(x))\n",
        "        x = self.pool1(x)\n",
        "        x = self.conv2(x)\n",
        "        x = F.relu(self.bn2(x))\n",
        "        x = self.pool2(x)\n",
        "        x = self.conv3(x)\n",
        "        x = F.relu(self.bn3(x))\n",
        "        x = self.pool3(x)\n",
        "        x = self.conv4(x)\n",
        "        x = F.relu(self.bn4(x))\n",
        "        x = self.pool4(x)\n",
        "        x = F.avg_pool1d(x, x.shape[-1])\n",
        "        x = x.permute(0, 2, 1)\n",
        "        x = self.fc1(x)\n",
        "        return F.log_softmax(x, dim=2)\n",
        "\n",
        "\n",
        "model = M5(n_input=transformed.shape[0], n_output=len(labels))\n",
        "model.to(device)\n",
        "print(model)\n",
        "\n",
        "\n",
        "def count_parameters(model):\n",
        "    return sum(p.numel() for p in model.parameters() if p.requires_grad)\n",
        "\n",
        "\n",
        "n = count_parameters(model)\n",
        "print(\"Number of parameters: %s\" % n)"
      ]
    },
    {
      "cell_type": "markdown",
      "metadata": {
        "id": "4V_4TpwNjaQn"
      },
      "source": [
        "We will use the same optimization technique used in the paper, an Adam\n",
        "optimizer with weight decay set to 0.0001. At first, we will train with\n",
        "a learning rate of 0.01, but we will use a ``scheduler`` to decrease it\n",
        "to 0.001 during training after 20 epochs.\n",
        "\n",
        "\n"
      ]
    },
    {
      "cell_type": "code",
      "execution_count": null,
      "metadata": {
        "id": "2DfC06BLjaQp"
      },
      "outputs": [],
      "source": [
        "optimizer = optim.Adam(model.parameters(), lr=0.01, weight_decay=0.0001)\n",
        "scheduler = optim.lr_scheduler.StepLR(optimizer, step_size=18, gamma=0.1)  # reduce the learning after 18 epochs by a factor of 10"
      ]
    },
    {
      "cell_type": "markdown",
      "metadata": {
        "id": "iYWw2V_GjaQq"
      },
      "source": [
        "## Training and Testing the Network\n",
        "\n",
        "Now let’s define a training function that will feed our training data\n",
        "into the model and perform the backward pass and optimization steps. For\n",
        "training, the loss we will use is the negative log-likelihood. The\n",
        "network will then be tested after each epoch to see how the accuracy\n",
        "varies during the training.\n",
        "\n",
        "\n"
      ]
    },
    {
      "cell_type": "code",
      "execution_count": null,
      "metadata": {
        "id": "fM2bMRMljaQs"
      },
      "outputs": [],
      "source": [
        "def train(model, epoch, log_interval):\n",
        "    model.train()\n",
        "    for batch_idx, (data, target) in enumerate(train_loader):\n",
        "\n",
        "        data = data.to(device)\n",
        "        target = target.to(device)\n",
        "\n",
        "        # apply transform and model on whole batch directly on device\n",
        "        data = transform(data.contiguous()) # Ensure data is contiguous before applying transform\n",
        "        output = model(data)\n",
        "\n",
        "        # negative log-likelihood for a tensor of size (batch x 1 x n_output)\n",
        "        loss = F.nll_loss(output.squeeze(), target)\n",
        "\n",
        "        optimizer.zero_grad()\n",
        "        loss.backward()\n",
        "        optimizer.step()\n",
        "\n",
        "        # print training stats\n",
        "        if batch_idx % log_interval == 0:\n",
        "            print(f\"Train Epoch: {epoch} [{batch_idx * len(data)}/{len(train_loader.dataset)} ({100. * batch_idx / len(train_loader):.0f}%)]\\tLoss: {loss.item():.6f}\")\n",
        "\n",
        "        # update progress bar\n",
        "        pbar.update(pbar_update)\n",
        "        losses.append(loss.item())"
      ]
    },
    {
      "cell_type": "markdown",
      "metadata": {
        "id": "yQuZYSHajaQt"
      },
      "source": [
        "Now that we have a training function, we need to make one for testing\n",
        "the networks accuracy. We will set the model to ``eval()`` mode and then\n",
        "run inference on the test dataset. Calling ``eval()`` sets the training\n",
        "variable in all modules in the network to false. Certain layers like\n",
        "batch normalization and dropout layers behave differently during\n",
        "training so this step is crucial for getting correct results.\n",
        "\n",
        "\n"
      ]
    },
    {
      "cell_type": "code",
      "execution_count": null,
      "metadata": {
        "id": "RmELvLw2jaQu"
      },
      "outputs": [],
      "source": [
        "def number_of_correct(pred, target):\n",
        "    return pred.squeeze().eq(target).sum().item()\n",
        "\n",
        "\n",
        "def get_likely_index(tensor):\n",
        "    return tensor.argmax(dim=-1)\n",
        "\n",
        "\n",
        "def test(model, epoch):\n",
        "    model.eval()\n",
        "    correct = 0\n",
        "    for data, target in test_loader:\n",
        "\n",
        "        data = data.to(device)\n",
        "        target = target.to(device)\n",
        "\n",
        "        data = transform(data.contiguous())\n",
        "        output = model(data)\n",
        "\n",
        "        pred = get_likely_index(output)\n",
        "        correct += number_of_correct(pred, target)\n",
        "\n",
        "        pbar.update(pbar_update)\n",
        "\n",
        "    print(f\"\\nTest Epoch: {epoch}\\tAccuracy: {correct}/{len(test_loader.dataset)} ({100. * correct / len(test_loader.dataset):.0f}%)\\n\")"
      ]
    },
    {
      "cell_type": "markdown",
      "metadata": {
        "id": "LzqoIKMajaQv"
      },
      "source": [
        "Finally, we can train and test the network. We will train the network\n",
        "for ten epochs then reduce the learn rate and train for ten more epochs.\n",
        "The network will be tested after each epoch to see how the accuracy\n",
        "varies during the training.\n",
        "\n",
        "\n"
      ]
    },
    {
      "cell_type": "code",
      "execution_count": null,
      "metadata": {
        "id": "0XTch1KcjaQw",
        "outputId": "ce4dbe36-e7e4-4b91-fe9e-7f5c4e10db68",
        "colab": {
          "base_uri": "https://localhost:8080/"
        }
      },
      "outputs": [
        {
          "output_type": "stream",
          "name": "stderr",
          "text": [
            "  0%|          | 0.028985507246376812/20 [00:00<02:24,  7.24s/it]"
          ]
        },
        {
          "output_type": "stream",
          "name": "stdout",
          "text": [
            "Train Epoch: 1 [0/535 (0%)]\tLoss: 3.744446\n"
          ]
        },
        {
          "output_type": "stream",
          "name": "stderr",
          "text": [
            "  1%|          | 0.11594202898550723/20 [00:00<02:15,  6.82s/it]"
          ]
        },
        {
          "output_type": "stream",
          "name": "stdout",
          "text": [
            "Train Epoch: 1 [50/535 (9%)]\tLoss: 3.252906\n"
          ]
        },
        {
          "output_type": "stream",
          "name": "stderr",
          "text": [
            "  1%|          | 0.1739130434782609/20 [00:01<02:17,  6.91s/it] "
          ]
        },
        {
          "output_type": "stream",
          "name": "stdout",
          "text": [
            "Train Epoch: 1 [100/535 (19%)]\tLoss: 3.254390\n"
          ]
        },
        {
          "output_type": "stream",
          "name": "stderr",
          "text": [
            "  1%|▏         | 0.26086956521739135/20 [00:01<02:10,  6.63s/it]"
          ]
        },
        {
          "output_type": "stream",
          "name": "stdout",
          "text": [
            "Train Epoch: 1 [150/535 (28%)]\tLoss: 3.637258\n"
          ]
        },
        {
          "output_type": "stream",
          "name": "stderr",
          "text": [
            "  2%|▏         | 0.318840579710145/20 [00:02<02:07,  6.46s/it] "
          ]
        },
        {
          "output_type": "stream",
          "name": "stdout",
          "text": [
            "Train Epoch: 1 [200/535 (37%)]\tLoss: 3.477170\n"
          ]
        },
        {
          "output_type": "stream",
          "name": "stderr",
          "text": [
            "  2%|▏         | 0.4057971014492755/20 [00:02<02:11,  6.71s/it] "
          ]
        },
        {
          "output_type": "stream",
          "name": "stdout",
          "text": [
            "Train Epoch: 1 [250/535 (46%)]\tLoss: 3.174408\n"
          ]
        },
        {
          "output_type": "stream",
          "name": "stderr",
          "text": [
            "  2%|▏         | 0.46376811594202916/20 [00:03<02:09,  6.62s/it]"
          ]
        },
        {
          "output_type": "stream",
          "name": "stdout",
          "text": [
            "Train Epoch: 1 [300/535 (56%)]\tLoss: 3.600039\n"
          ]
        },
        {
          "output_type": "stream",
          "name": "stderr",
          "text": [
            "  3%|▎         | 0.5217391304347827/20 [00:03<02:03,  6.34s/it]"
          ]
        },
        {
          "output_type": "stream",
          "name": "stdout",
          "text": [
            "Train Epoch: 1 [350/535 (65%)]\tLoss: 2.957685\n"
          ]
        },
        {
          "output_type": "stream",
          "name": "stderr",
          "text": [
            "  3%|▎         | 0.6086956521739129/20 [00:04<02:04,  6.42s/it]"
          ]
        },
        {
          "output_type": "stream",
          "name": "stdout",
          "text": [
            "Train Epoch: 1 [400/535 (74%)]\tLoss: 3.201174\n"
          ]
        },
        {
          "output_type": "stream",
          "name": "stderr",
          "text": [
            "  3%|▎         | 0.6811594202898547/20 [00:04<02:42,  8.39s/it]"
          ]
        },
        {
          "output_type": "stream",
          "name": "stdout",
          "text": [
            "Train Epoch: 1 [450/535 (83%)]\tLoss: 3.261173\n"
          ]
        },
        {
          "output_type": "stream",
          "name": "stderr",
          "text": [
            "  4%|▍         | 0.7536231884057965/20 [00:05<03:02,  9.48s/it]"
          ]
        },
        {
          "output_type": "stream",
          "name": "stdout",
          "text": [
            "Train Epoch: 1 [500/535 (93%)]\tLoss: 3.059032\n"
          ]
        },
        {
          "output_type": "stream",
          "name": "stderr",
          "text": [
            "  5%|▌         | 1.0289855072463754/20 [00:07<02:08,  6.77s/it]"
          ]
        },
        {
          "output_type": "stream",
          "name": "stdout",
          "text": [
            "\n",
            "Test Epoch: 1\tAccuracy: 6/145 (4%)\n",
            "\n",
            "Train Epoch: 2 [0/535 (0%)]\tLoss: 3.222335\n"
          ]
        },
        {
          "output_type": "stream",
          "name": "stderr",
          "text": [
            "  6%|▌         | 1.1159420289855062/20 [00:08<02:03,  6.54s/it]"
          ]
        },
        {
          "output_type": "stream",
          "name": "stdout",
          "text": [
            "Train Epoch: 2 [50/535 (9%)]\tLoss: 3.050375\n"
          ]
        },
        {
          "output_type": "stream",
          "name": "stderr",
          "text": [
            "  6%|▌         | 1.17391304347826/20 [00:08<02:02,  6.52s/it]  "
          ]
        },
        {
          "output_type": "stream",
          "name": "stdout",
          "text": [
            "Train Epoch: 2 [100/535 (19%)]\tLoss: 2.944656\n"
          ]
        },
        {
          "output_type": "stream",
          "name": "stderr",
          "text": [
            "  6%|▋         | 1.260869565217391/20 [00:09<02:05,  6.71s/it]"
          ]
        },
        {
          "output_type": "stream",
          "name": "stdout",
          "text": [
            "Train Epoch: 2 [150/535 (28%)]\tLoss: 3.452490\n"
          ]
        },
        {
          "output_type": "stream",
          "name": "stderr",
          "text": [
            "  7%|▋         | 1.3188405797101448/20 [00:09<02:02,  6.57s/it]"
          ]
        },
        {
          "output_type": "stream",
          "name": "stdout",
          "text": [
            "Train Epoch: 2 [200/535 (37%)]\tLoss: 3.553757\n"
          ]
        },
        {
          "output_type": "stream",
          "name": "stderr",
          "text": [
            "  7%|▋         | 1.4057971014492756/20 [00:10<02:02,  6.57s/it]"
          ]
        },
        {
          "output_type": "stream",
          "name": "stdout",
          "text": [
            "Train Epoch: 2 [250/535 (46%)]\tLoss: 2.811478\n"
          ]
        },
        {
          "output_type": "stream",
          "name": "stderr",
          "text": [
            "  7%|▋         | 1.4637681159420295/20 [00:10<02:03,  6.69s/it]"
          ]
        },
        {
          "output_type": "stream",
          "name": "stdout",
          "text": [
            "Train Epoch: 2 [300/535 (56%)]\tLoss: 2.804537\n"
          ]
        },
        {
          "output_type": "stream",
          "name": "stderr",
          "text": [
            "  8%|▊         | 1.5507246376811603/20 [00:11<02:01,  6.57s/it]"
          ]
        },
        {
          "output_type": "stream",
          "name": "stdout",
          "text": [
            "Train Epoch: 2 [350/535 (65%)]\tLoss: 2.898923\n"
          ]
        },
        {
          "output_type": "stream",
          "name": "stderr",
          "text": [
            "  8%|▊         | 1.6086956521739142/20 [00:11<01:58,  6.43s/it]"
          ]
        },
        {
          "output_type": "stream",
          "name": "stdout",
          "text": [
            "Train Epoch: 2 [400/535 (74%)]\tLoss: 2.729347\n"
          ]
        },
        {
          "output_type": "stream",
          "name": "stderr",
          "text": [
            "  8%|▊         | 1.666666666666668/20 [00:11<01:59,  6.54s/it] "
          ]
        },
        {
          "output_type": "stream",
          "name": "stdout",
          "text": [
            "Train Epoch: 2 [450/535 (83%)]\tLoss: 2.945906\n"
          ]
        },
        {
          "output_type": "stream",
          "name": "stderr",
          "text": [
            "  9%|▉         | 1.753623188405799/20 [00:12<02:03,  6.74s/it]"
          ]
        },
        {
          "output_type": "stream",
          "name": "stdout",
          "text": [
            "Train Epoch: 2 [500/535 (93%)]\tLoss: 2.572831\n"
          ]
        },
        {
          "output_type": "stream",
          "name": "stderr",
          "text": [
            " 10%|█         | 2.014492753623191/20 [00:13<01:39,  5.56s/it] "
          ]
        },
        {
          "output_type": "stream",
          "name": "stdout",
          "text": [
            "\n",
            "Test Epoch: 2\tAccuracy: 11/145 (8%)\n",
            "\n",
            "Train Epoch: 3 [0/535 (0%)]\tLoss: 2.878135\n"
          ]
        },
        {
          "output_type": "stream",
          "name": "stderr",
          "text": [
            " 11%|█         | 2.101449275362322/20 [00:14<01:49,  6.12s/it]"
          ]
        },
        {
          "output_type": "stream",
          "name": "stdout",
          "text": [
            "Train Epoch: 3 [50/535 (9%)]\tLoss: 3.071863\n"
          ]
        },
        {
          "output_type": "stream",
          "name": "stderr",
          "text": [
            " 11%|█         | 2.159420289855076/20 [00:14<01:53,  6.38s/it]"
          ]
        },
        {
          "output_type": "stream",
          "name": "stdout",
          "text": [
            "Train Epoch: 3 [100/535 (19%)]\tLoss: 2.660377\n"
          ]
        },
        {
          "output_type": "stream",
          "name": "stderr",
          "text": [
            " 11%|█         | 2.2463768115942067/20 [00:15<01:53,  6.39s/it]"
          ]
        },
        {
          "output_type": "stream",
          "name": "stdout",
          "text": [
            "Train Epoch: 3 [150/535 (28%)]\tLoss: 3.015252\n"
          ]
        },
        {
          "output_type": "stream",
          "name": "stderr",
          "text": [
            " 12%|█▏        | 2.3333333333333375/20 [00:15<01:55,  6.51s/it]"
          ]
        },
        {
          "output_type": "stream",
          "name": "stdout",
          "text": [
            "Train Epoch: 3 [200/535 (37%)]\tLoss: 2.157902\n"
          ]
        },
        {
          "output_type": "stream",
          "name": "stderr",
          "text": [
            " 12%|█▏        | 2.3913043478260914/20 [00:16<01:56,  6.63s/it]"
          ]
        },
        {
          "output_type": "stream",
          "name": "stdout",
          "text": [
            "Train Epoch: 3 [250/535 (46%)]\tLoss: 2.235585\n"
          ]
        },
        {
          "output_type": "stream",
          "name": "stderr",
          "text": [
            " 12%|█▏        | 2.478260869565222/20 [00:16<01:55,  6.58s/it] "
          ]
        },
        {
          "output_type": "stream",
          "name": "stdout",
          "text": [
            "Train Epoch: 3 [300/535 (56%)]\tLoss: 3.053301\n"
          ]
        },
        {
          "output_type": "stream",
          "name": "stderr",
          "text": [
            " 13%|█▎        | 2.536231884057976/20 [00:17<02:10,  7.50s/it]"
          ]
        },
        {
          "output_type": "stream",
          "name": "stdout",
          "text": [
            "Train Epoch: 3 [350/535 (65%)]\tLoss: 2.840641\n"
          ]
        },
        {
          "output_type": "stream",
          "name": "stderr",
          "text": [
            " 13%|█▎        | 2.6086956521739184/20 [00:18<02:43,  9.42s/it]"
          ]
        },
        {
          "output_type": "stream",
          "name": "stdout",
          "text": [
            "Train Epoch: 3 [400/535 (74%)]\tLoss: 2.712877\n"
          ]
        },
        {
          "output_type": "stream",
          "name": "stderr",
          "text": [
            " 13%|█▎        | 2.6811594202898608/20 [00:18<02:53,  9.99s/it]"
          ]
        },
        {
          "output_type": "stream",
          "name": "stdout",
          "text": [
            "Train Epoch: 3 [450/535 (83%)]\tLoss: 1.951986\n"
          ]
        },
        {
          "output_type": "stream",
          "name": "stderr",
          "text": [
            " 14%|█▍        | 2.753623188405803/20 [00:19<02:55, 10.18s/it] "
          ]
        },
        {
          "output_type": "stream",
          "name": "stdout",
          "text": [
            "Train Epoch: 3 [500/535 (93%)]\tLoss: 2.101106\n"
          ]
        },
        {
          "output_type": "stream",
          "name": "stderr",
          "text": [
            " 15%|█▌        | 3.0144927536231956/20 [00:21<01:38,  5.77s/it]"
          ]
        },
        {
          "output_type": "stream",
          "name": "stdout",
          "text": [
            "\n",
            "Test Epoch: 3\tAccuracy: 28/145 (19%)\n",
            "\n",
            "Train Epoch: 4 [0/535 (0%)]\tLoss: 1.884563\n"
          ]
        },
        {
          "output_type": "stream",
          "name": "stderr",
          "text": [
            " 16%|█▌        | 3.1014492753623264/20 [00:21<01:45,  6.27s/it]"
          ]
        },
        {
          "output_type": "stream",
          "name": "stdout",
          "text": [
            "Train Epoch: 4 [50/535 (9%)]\tLoss: 1.847163\n"
          ]
        },
        {
          "output_type": "stream",
          "name": "stderr",
          "text": [
            " 16%|█▌        | 3.188405797101457/20 [00:22<01:47,  6.38s/it] "
          ]
        },
        {
          "output_type": "stream",
          "name": "stdout",
          "text": [
            "Train Epoch: 4 [100/535 (19%)]\tLoss: 2.476666\n"
          ]
        },
        {
          "output_type": "stream",
          "name": "stderr",
          "text": [
            " 16%|█▌        | 3.246376811594211/20 [00:22<01:47,  6.39s/it]"
          ]
        },
        {
          "output_type": "stream",
          "name": "stdout",
          "text": [
            "Train Epoch: 4 [150/535 (28%)]\tLoss: 2.232922\n"
          ]
        },
        {
          "output_type": "stream",
          "name": "stderr",
          "text": [
            " 17%|█▋        | 3.333333333333342/20 [00:23<01:47,  6.45s/it]"
          ]
        },
        {
          "output_type": "stream",
          "name": "stdout",
          "text": [
            "Train Epoch: 4 [200/535 (37%)]\tLoss: 1.584768\n"
          ]
        },
        {
          "output_type": "stream",
          "name": "stderr",
          "text": [
            " 17%|█▋        | 3.391304347826096/20 [00:23<01:52,  6.76s/it]"
          ]
        },
        {
          "output_type": "stream",
          "name": "stdout",
          "text": [
            "Train Epoch: 4 [250/535 (46%)]\tLoss: 1.901394\n"
          ]
        },
        {
          "output_type": "stream",
          "name": "stderr",
          "text": [
            " 17%|█▋        | 3.4782608695652266/20 [00:24<01:50,  6.68s/it]"
          ]
        },
        {
          "output_type": "stream",
          "name": "stdout",
          "text": [
            "Train Epoch: 4 [300/535 (56%)]\tLoss: 1.990800\n"
          ]
        },
        {
          "output_type": "stream",
          "name": "stderr",
          "text": [
            " 18%|█▊        | 3.5362318840579805/20 [00:24<01:55,  7.04s/it]"
          ]
        },
        {
          "output_type": "stream",
          "name": "stdout",
          "text": [
            "Train Epoch: 4 [350/535 (65%)]\tLoss: 2.056702\n"
          ]
        },
        {
          "output_type": "stream",
          "name": "stderr",
          "text": [
            " 18%|█▊        | 3.6231884057971113/20 [00:25<01:44,  6.40s/it]"
          ]
        },
        {
          "output_type": "stream",
          "name": "stdout",
          "text": [
            "Train Epoch: 4 [400/535 (74%)]\tLoss: 2.259852\n"
          ]
        },
        {
          "output_type": "stream",
          "name": "stderr",
          "text": [
            " 18%|█▊        | 3.681159420289865/20 [00:25<01:44,  6.39s/it] "
          ]
        },
        {
          "output_type": "stream",
          "name": "stdout",
          "text": [
            "Train Epoch: 4 [450/535 (83%)]\tLoss: 2.099720\n"
          ]
        },
        {
          "output_type": "stream",
          "name": "stderr",
          "text": [
            " 19%|█▉        | 3.768115942028996/20 [00:26<01:45,  6.51s/it]"
          ]
        },
        {
          "output_type": "stream",
          "name": "stdout",
          "text": [
            "Train Epoch: 4 [500/535 (93%)]\tLoss: 1.676683\n"
          ]
        },
        {
          "output_type": "stream",
          "name": "stderr",
          "text": [
            " 20%|██        | 4.0289855072463885/20 [00:27<01:33,  5.85s/it]"
          ]
        },
        {
          "output_type": "stream",
          "name": "stdout",
          "text": [
            "\n",
            "Test Epoch: 4\tAccuracy: 50/145 (34%)\n",
            "\n",
            "Train Epoch: 5 [0/535 (0%)]\tLoss: 1.491604\n"
          ]
        },
        {
          "output_type": "stream",
          "name": "stderr",
          "text": [
            " 21%|██        | 4.115942028985519/20 [00:28<01:37,  6.12s/it]"
          ]
        },
        {
          "output_type": "stream",
          "name": "stdout",
          "text": [
            "Train Epoch: 5 [50/535 (9%)]\tLoss: 1.696999\n"
          ]
        },
        {
          "output_type": "stream",
          "name": "stderr",
          "text": [
            " 21%|██        | 4.173913043478273/20 [00:28<01:39,  6.32s/it]"
          ]
        },
        {
          "output_type": "stream",
          "name": "stdout",
          "text": [
            "Train Epoch: 5 [100/535 (19%)]\tLoss: 1.478735\n"
          ]
        },
        {
          "output_type": "stream",
          "name": "stderr",
          "text": [
            " 21%|██▏       | 4.260869565217404/20 [00:29<01:42,  6.53s/it]"
          ]
        },
        {
          "output_type": "stream",
          "name": "stdout",
          "text": [
            "Train Epoch: 5 [150/535 (28%)]\tLoss: 2.576892\n"
          ]
        },
        {
          "output_type": "stream",
          "name": "stderr",
          "text": [
            " 22%|██▏       | 4.318840579710158/20 [00:29<01:42,  6.56s/it]"
          ]
        },
        {
          "output_type": "stream",
          "name": "stdout",
          "text": [
            "Train Epoch: 5 [200/535 (37%)]\tLoss: 2.131553\n"
          ]
        },
        {
          "output_type": "stream",
          "name": "stderr",
          "text": [
            " 22%|██▏       | 4.376811594202912/20 [00:29<01:43,  6.65s/it]"
          ]
        },
        {
          "output_type": "stream",
          "name": "stdout",
          "text": [
            "Train Epoch: 5 [250/535 (46%)]\tLoss: 2.119430\n"
          ]
        },
        {
          "output_type": "stream",
          "name": "stderr",
          "text": [
            " 22%|██▏       | 4.463768115942043/20 [00:30<02:23,  9.21s/it]"
          ]
        },
        {
          "output_type": "stream",
          "name": "stdout",
          "text": [
            "Train Epoch: 5 [300/535 (56%)]\tLoss: 1.830877\n"
          ]
        },
        {
          "output_type": "stream",
          "name": "stderr",
          "text": [
            " 23%|██▎       | 4.536231884057985/20 [00:31<02:29,  9.64s/it] "
          ]
        },
        {
          "output_type": "stream",
          "name": "stdout",
          "text": [
            "Train Epoch: 5 [350/535 (65%)]\tLoss: 1.611157\n"
          ]
        },
        {
          "output_type": "stream",
          "name": "stderr",
          "text": [
            " 23%|██▎       | 4.608695652173927/20 [00:32<02:33,  9.98s/it]"
          ]
        },
        {
          "output_type": "stream",
          "name": "stdout",
          "text": [
            "Train Epoch: 5 [400/535 (74%)]\tLoss: 1.212738\n"
          ]
        },
        {
          "output_type": "stream",
          "name": "stderr",
          "text": [
            " 23%|██▎       | 4.695652173913058/20 [00:32<02:11,  8.60s/it]"
          ]
        },
        {
          "output_type": "stream",
          "name": "stdout",
          "text": [
            "Train Epoch: 5 [450/535 (83%)]\tLoss: 1.543499\n"
          ]
        },
        {
          "output_type": "stream",
          "name": "stderr",
          "text": [
            " 24%|██▍       | 4.753623188405812/20 [00:33<01:51,  7.30s/it]"
          ]
        },
        {
          "output_type": "stream",
          "name": "stdout",
          "text": [
            "Train Epoch: 5 [500/535 (93%)]\tLoss: 0.934598\n"
          ]
        },
        {
          "output_type": "stream",
          "name": "stderr",
          "text": [
            " 25%|██▌       | 5.028985507246393/20 [00:35<01:29,  6.01s/it]"
          ]
        },
        {
          "output_type": "stream",
          "name": "stdout",
          "text": [
            "\n",
            "Test Epoch: 5\tAccuracy: 58/145 (40%)\n",
            "\n",
            "Train Epoch: 6 [0/535 (0%)]\tLoss: 2.470281\n"
          ]
        },
        {
          "output_type": "stream",
          "name": "stderr",
          "text": [
            " 26%|██▌       | 5.115942028985524/20 [00:35<01:33,  6.25s/it]"
          ]
        },
        {
          "output_type": "stream",
          "name": "stdout",
          "text": [
            "Train Epoch: 6 [50/535 (9%)]\tLoss: 1.098562\n"
          ]
        },
        {
          "output_type": "stream",
          "name": "stderr",
          "text": [
            " 26%|██▌       | 5.173913043478278/20 [00:36<01:33,  6.31s/it]"
          ]
        },
        {
          "output_type": "stream",
          "name": "stdout",
          "text": [
            "Train Epoch: 6 [100/535 (19%)]\tLoss: 0.965927\n"
          ]
        },
        {
          "output_type": "stream",
          "name": "stderr",
          "text": [
            " 26%|██▋       | 5.2608695652174085/20 [00:36<01:34,  6.43s/it]"
          ]
        },
        {
          "output_type": "stream",
          "name": "stdout",
          "text": [
            "Train Epoch: 6 [150/535 (28%)]\tLoss: 1.747259\n"
          ]
        },
        {
          "output_type": "stream",
          "name": "stderr",
          "text": [
            " 27%|██▋       | 5.318840579710162/20 [00:37<01:36,  6.56s/it]"
          ]
        },
        {
          "output_type": "stream",
          "name": "stdout",
          "text": [
            "Train Epoch: 6 [200/535 (37%)]\tLoss: 1.940338\n"
          ]
        },
        {
          "output_type": "stream",
          "name": "stderr",
          "text": [
            " 27%|██▋       | 5.405797101449293/20 [00:37<01:35,  6.52s/it]"
          ]
        },
        {
          "output_type": "stream",
          "name": "stdout",
          "text": [
            "Train Epoch: 6 [250/535 (46%)]\tLoss: 0.761214\n"
          ]
        },
        {
          "output_type": "stream",
          "name": "stderr",
          "text": [
            " 27%|██▋       | 5.463768115942047/20 [00:38<01:34,  6.47s/it]"
          ]
        },
        {
          "output_type": "stream",
          "name": "stdout",
          "text": [
            "Train Epoch: 6 [300/535 (56%)]\tLoss: 1.114476\n"
          ]
        },
        {
          "output_type": "stream",
          "name": "stderr",
          "text": [
            " 28%|██▊       | 5.550724637681178/20 [00:38<01:34,  6.56s/it]"
          ]
        },
        {
          "output_type": "stream",
          "name": "stdout",
          "text": [
            "Train Epoch: 6 [350/535 (65%)]\tLoss: 1.448951\n"
          ]
        },
        {
          "output_type": "stream",
          "name": "stderr",
          "text": [
            " 28%|██▊       | 5.608695652173932/20 [00:39<01:33,  6.48s/it]"
          ]
        },
        {
          "output_type": "stream",
          "name": "stdout",
          "text": [
            "Train Epoch: 6 [400/535 (74%)]\tLoss: 0.719121\n"
          ]
        },
        {
          "output_type": "stream",
          "name": "stderr",
          "text": [
            " 28%|██▊       | 5.6956521739130626/20 [00:39<01:32,  6.50s/it]"
          ]
        },
        {
          "output_type": "stream",
          "name": "stdout",
          "text": [
            "Train Epoch: 6 [450/535 (83%)]\tLoss: 1.299293\n"
          ]
        },
        {
          "output_type": "stream",
          "name": "stderr",
          "text": [
            " 29%|██▉       | 5.753623188405816/20 [00:40<01:33,  6.53s/it] "
          ]
        },
        {
          "output_type": "stream",
          "name": "stdout",
          "text": [
            "Train Epoch: 6 [500/535 (93%)]\tLoss: 0.815202\n"
          ]
        },
        {
          "output_type": "stream",
          "name": "stderr",
          "text": [
            " 30%|███       | 6.014492753623209/20 [00:41<01:17,  5.57s/it]"
          ]
        },
        {
          "output_type": "stream",
          "name": "stdout",
          "text": [
            "\n",
            "Test Epoch: 6\tAccuracy: 28/145 (19%)\n",
            "\n",
            "Train Epoch: 7 [0/535 (0%)]\tLoss: 1.142663\n"
          ]
        },
        {
          "output_type": "stream",
          "name": "stderr",
          "text": [
            " 31%|███       | 6.10144927536234/20 [00:42<01:27,  6.27s/it] "
          ]
        },
        {
          "output_type": "stream",
          "name": "stdout",
          "text": [
            "Train Epoch: 7 [50/535 (9%)]\tLoss: 0.654570\n"
          ]
        },
        {
          "output_type": "stream",
          "name": "stderr",
          "text": [
            " 31%|███       | 6.1884057971014705/20 [00:42<01:28,  6.42s/it]"
          ]
        },
        {
          "output_type": "stream",
          "name": "stdout",
          "text": [
            "Train Epoch: 7 [100/535 (19%)]\tLoss: 1.020583\n"
          ]
        },
        {
          "output_type": "stream",
          "name": "stderr",
          "text": [
            " 31%|███       | 6.246376811594224/20 [00:43<01:46,  7.74s/it] "
          ]
        },
        {
          "output_type": "stream",
          "name": "stdout",
          "text": [
            "Train Epoch: 7 [150/535 (28%)]\tLoss: 1.517665\n"
          ]
        },
        {
          "output_type": "stream",
          "name": "stderr",
          "text": [
            " 32%|███▏      | 6.318840579710167/20 [00:43<02:07,  9.28s/it]"
          ]
        },
        {
          "output_type": "stream",
          "name": "stdout",
          "text": [
            "Train Epoch: 7 [200/535 (37%)]\tLoss: 1.123425\n"
          ]
        },
        {
          "output_type": "stream",
          "name": "stderr",
          "text": [
            " 32%|███▏      | 6.391304347826109/20 [00:44<02:13,  9.83s/it]"
          ]
        },
        {
          "output_type": "stream",
          "name": "stdout",
          "text": [
            "Train Epoch: 7 [250/535 (46%)]\tLoss: 0.637643\n"
          ]
        },
        {
          "output_type": "stream",
          "name": "stderr",
          "text": [
            " 32%|███▏      | 6.4637681159420515/20 [00:45<02:16, 10.11s/it]"
          ]
        },
        {
          "output_type": "stream",
          "name": "stdout",
          "text": [
            "Train Epoch: 7 [300/535 (56%)]\tLoss: 1.322234\n"
          ]
        },
        {
          "output_type": "stream",
          "name": "stderr",
          "text": [
            " 33%|███▎      | 6.550724637681182/20 [00:46<01:42,  7.59s/it]"
          ]
        },
        {
          "output_type": "stream",
          "name": "stdout",
          "text": [
            "Train Epoch: 7 [350/535 (65%)]\tLoss: 1.121357\n"
          ]
        },
        {
          "output_type": "stream",
          "name": "stderr",
          "text": [
            " 33%|███▎      | 6.623188405797125/20 [00:46<01:33,  6.96s/it]"
          ]
        },
        {
          "output_type": "stream",
          "name": "stdout",
          "text": [
            "Train Epoch: 7 [400/535 (74%)]\tLoss: 0.454157\n"
          ]
        },
        {
          "output_type": "stream",
          "name": "stderr",
          "text": [
            " 33%|███▎      | 6.695652173913067/20 [00:47<01:30,  6.83s/it]"
          ]
        },
        {
          "output_type": "stream",
          "name": "stdout",
          "text": [
            "Train Epoch: 7 [450/535 (83%)]\tLoss: 1.129332\n"
          ]
        },
        {
          "output_type": "stream",
          "name": "stderr",
          "text": [
            " 34%|███▍      | 6.768115942029009/20 [00:47<01:27,  6.61s/it]"
          ]
        },
        {
          "output_type": "stream",
          "name": "stdout",
          "text": [
            "Train Epoch: 7 [500/535 (93%)]\tLoss: 0.950994\n"
          ]
        },
        {
          "output_type": "stream",
          "name": "stderr",
          "text": [
            " 35%|███▌      | 7.028985507246402/20 [00:48<01:15,  5.80s/it]"
          ]
        },
        {
          "output_type": "stream",
          "name": "stdout",
          "text": [
            "\n",
            "Test Epoch: 7\tAccuracy: 85/145 (59%)\n",
            "\n",
            "Train Epoch: 8 [0/535 (0%)]\tLoss: 0.968329\n"
          ]
        },
        {
          "output_type": "stream",
          "name": "stderr",
          "text": [
            " 36%|███▌      | 7.115942028985533/20 [00:49<01:19,  6.20s/it]"
          ]
        },
        {
          "output_type": "stream",
          "name": "stdout",
          "text": [
            "Train Epoch: 8 [50/535 (9%)]\tLoss: 0.792284\n"
          ]
        },
        {
          "output_type": "stream",
          "name": "stderr",
          "text": [
            " 36%|███▌      | 7.1739130434782865/20 [00:49<01:20,  6.25s/it]"
          ]
        },
        {
          "output_type": "stream",
          "name": "stdout",
          "text": [
            "Train Epoch: 8 [100/535 (19%)]\tLoss: 0.540281\n"
          ]
        },
        {
          "output_type": "stream",
          "name": "stderr",
          "text": [
            " 36%|███▋      | 7.260869565217417/20 [00:50<01:21,  6.39s/it]"
          ]
        },
        {
          "output_type": "stream",
          "name": "stdout",
          "text": [
            "Train Epoch: 8 [150/535 (28%)]\tLoss: 0.423521\n"
          ]
        },
        {
          "output_type": "stream",
          "name": "stderr",
          "text": [
            "\r 36%|███▋      | 7.289855072463794/20 [00:50<01:23,  6.53s/it]"
          ]
        },
        {
          "output_type": "stream",
          "name": "stdout",
          "text": [
            "Train Epoch: 8 [200/535 (37%)]\tLoss: 1.133440\n"
          ]
        },
        {
          "output_type": "stream",
          "name": "stderr",
          "text": [
            " 37%|███▋      | 7.405797101449302/20 [00:51<01:40,  8.01s/it]"
          ]
        },
        {
          "output_type": "stream",
          "name": "stdout",
          "text": [
            "Train Epoch: 8 [250/535 (46%)]\tLoss: 1.648988\n"
          ]
        },
        {
          "output_type": "stream",
          "name": "stderr",
          "text": [
            " 37%|███▋      | 7.463768115942056/20 [00:52<02:06, 10.07s/it]"
          ]
        },
        {
          "output_type": "stream",
          "name": "stdout",
          "text": [
            "Train Epoch: 8 [300/535 (56%)]\tLoss: 1.242133\n"
          ]
        },
        {
          "output_type": "stream",
          "name": "stderr",
          "text": [
            " 38%|███▊      | 7.550724637681187/20 [00:53<01:31,  7.37s/it]"
          ]
        },
        {
          "output_type": "stream",
          "name": "stdout",
          "text": [
            "Train Epoch: 8 [350/535 (65%)]\tLoss: 0.258163\n"
          ]
        },
        {
          "output_type": "stream",
          "name": "stderr",
          "text": [
            " 38%|███▊      | 7.623188405797129/20 [00:53<01:26,  7.01s/it]"
          ]
        },
        {
          "output_type": "stream",
          "name": "stdout",
          "text": [
            "Train Epoch: 8 [400/535 (74%)]\tLoss: 1.281960\n"
          ]
        },
        {
          "output_type": "stream",
          "name": "stderr",
          "text": [
            " 38%|███▊      | 7.695652173913071/20 [00:54<01:20,  6.57s/it] "
          ]
        },
        {
          "output_type": "stream",
          "name": "stdout",
          "text": [
            "Train Epoch: 8 [450/535 (83%)]\tLoss: 0.866538\n"
          ]
        },
        {
          "output_type": "stream",
          "name": "stderr",
          "text": [
            " 39%|███▉      | 7.753623188405825/20 [00:54<01:20,  6.57s/it]"
          ]
        },
        {
          "output_type": "stream",
          "name": "stdout",
          "text": [
            "Train Epoch: 8 [500/535 (93%)]\tLoss: 0.715560\n"
          ]
        },
        {
          "output_type": "stream",
          "name": "stderr",
          "text": [
            " 40%|████      | 8.014492753623216/20 [00:56<01:25,  7.11s/it]"
          ]
        },
        {
          "output_type": "stream",
          "name": "stdout",
          "text": [
            "\n",
            "Test Epoch: 8\tAccuracy: 82/145 (57%)\n",
            "\n",
            "Train Epoch: 9 [0/535 (0%)]\tLoss: 0.836820\n"
          ]
        },
        {
          "output_type": "stream",
          "name": "stderr",
          "text": [
            " 41%|████      | 8.101449275362341/20 [00:57<01:47,  9.03s/it]"
          ]
        },
        {
          "output_type": "stream",
          "name": "stdout",
          "text": [
            "Train Epoch: 9 [50/535 (9%)]\tLoss: 0.976878\n"
          ]
        },
        {
          "output_type": "stream",
          "name": "stderr",
          "text": [
            " 41%|████      | 8.17391304347828/20 [00:57<01:54,  9.64s/it] "
          ]
        },
        {
          "output_type": "stream",
          "name": "stdout",
          "text": [
            "Train Epoch: 9 [100/535 (19%)]\tLoss: 0.343816\n"
          ]
        },
        {
          "output_type": "stream",
          "name": "stderr",
          "text": [
            " 41%|████      | 8.246376811594217/20 [00:58<01:46,  9.09s/it]"
          ]
        },
        {
          "output_type": "stream",
          "name": "stdout",
          "text": [
            "Train Epoch: 9 [150/535 (28%)]\tLoss: 0.255833\n"
          ]
        },
        {
          "output_type": "stream",
          "name": "stderr",
          "text": [
            " 42%|████▏     | 8.333333333333343/20 [00:58<01:19,  6.84s/it]"
          ]
        },
        {
          "output_type": "stream",
          "name": "stdout",
          "text": [
            "Train Epoch: 9 [200/535 (37%)]\tLoss: 0.495346\n"
          ]
        },
        {
          "output_type": "stream",
          "name": "stderr",
          "text": [
            " 42%|████▏     | 8.391304347826093/20 [00:59<01:16,  6.55s/it]"
          ]
        },
        {
          "output_type": "stream",
          "name": "stdout",
          "text": [
            "Train Epoch: 9 [250/535 (46%)]\tLoss: 0.781775\n"
          ]
        },
        {
          "output_type": "stream",
          "name": "stderr",
          "text": [
            " 42%|████▏     | 8.478260869565219/20 [00:59<01:16,  6.60s/it]"
          ]
        },
        {
          "output_type": "stream",
          "name": "stdout",
          "text": [
            "Train Epoch: 9 [300/535 (56%)]\tLoss: 0.539379\n"
          ]
        },
        {
          "output_type": "stream",
          "name": "stderr",
          "text": [
            " 43%|████▎     | 8.536231884057969/20 [01:00<01:14,  6.50s/it]"
          ]
        },
        {
          "output_type": "stream",
          "name": "stdout",
          "text": [
            "Train Epoch: 9 [350/535 (65%)]\tLoss: 0.259394\n"
          ]
        },
        {
          "output_type": "stream",
          "name": "stderr",
          "text": [
            " 43%|████▎     | 8.623188405797094/20 [01:00<01:13,  6.49s/it]"
          ]
        },
        {
          "output_type": "stream",
          "name": "stdout",
          "text": [
            "Train Epoch: 9 [400/535 (74%)]\tLoss: 1.070181\n"
          ]
        },
        {
          "output_type": "stream",
          "name": "stderr",
          "text": [
            " 43%|████▎     | 8.681159420289845/20 [01:01<01:14,  6.58s/it]"
          ]
        },
        {
          "output_type": "stream",
          "name": "stdout",
          "text": [
            "Train Epoch: 9 [450/535 (83%)]\tLoss: 0.222195\n"
          ]
        },
        {
          "output_type": "stream",
          "name": "stderr",
          "text": [
            " 44%|████▍     | 8.76811594202897/20 [01:01<01:15,  6.75s/it] "
          ]
        },
        {
          "output_type": "stream",
          "name": "stdout",
          "text": [
            "Train Epoch: 9 [500/535 (93%)]\tLoss: 0.942789\n"
          ]
        },
        {
          "output_type": "stream",
          "name": "stderr",
          "text": [
            " 45%|████▌     | 9.028985507246347/20 [01:03<01:06,  6.11s/it]"
          ]
        },
        {
          "output_type": "stream",
          "name": "stdout",
          "text": [
            "\n",
            "Test Epoch: 9\tAccuracy: 101/145 (70%)\n",
            "\n",
            "Train Epoch: 10 [0/535 (0%)]\tLoss: 1.057684\n"
          ]
        },
        {
          "output_type": "stream",
          "name": "stderr",
          "text": [
            " 46%|████▌     | 9.115942028985472/20 [01:03<01:11,  6.55s/it]"
          ]
        },
        {
          "output_type": "stream",
          "name": "stdout",
          "text": [
            "Train Epoch: 10 [50/535 (9%)]\tLoss: 0.315070\n"
          ]
        },
        {
          "output_type": "stream",
          "name": "stderr",
          "text": [
            " 46%|████▌     | 9.173913043478223/20 [01:04<01:11,  6.57s/it]"
          ]
        },
        {
          "output_type": "stream",
          "name": "stdout",
          "text": [
            "Train Epoch: 10 [100/535 (19%)]\tLoss: 0.855129\n"
          ]
        },
        {
          "output_type": "stream",
          "name": "stderr",
          "text": [
            " 46%|████▋     | 9.260869565217348/20 [01:04<01:11,  6.69s/it]"
          ]
        },
        {
          "output_type": "stream",
          "name": "stdout",
          "text": [
            "Train Epoch: 10 [150/535 (28%)]\tLoss: 1.449341\n"
          ]
        },
        {
          "output_type": "stream",
          "name": "stderr",
          "text": [
            " 47%|████▋     | 9.318840579710098/20 [01:05<01:10,  6.59s/it]"
          ]
        },
        {
          "output_type": "stream",
          "name": "stdout",
          "text": [
            "Train Epoch: 10 [200/535 (37%)]\tLoss: 0.230669\n"
          ]
        },
        {
          "output_type": "stream",
          "name": "stderr",
          "text": [
            " 47%|████▋     | 9.405797101449224/20 [01:05<01:11,  6.70s/it]"
          ]
        },
        {
          "output_type": "stream",
          "name": "stdout",
          "text": [
            "Train Epoch: 10 [250/535 (46%)]\tLoss: 0.837837\n"
          ]
        },
        {
          "output_type": "stream",
          "name": "stderr",
          "text": [
            " 47%|████▋     | 9.463768115941974/20 [01:06<01:09,  6.60s/it]"
          ]
        },
        {
          "output_type": "stream",
          "name": "stdout",
          "text": [
            "Train Epoch: 10 [300/535 (56%)]\tLoss: 0.401211\n"
          ]
        },
        {
          "output_type": "stream",
          "name": "stderr",
          "text": [
            " 48%|████▊     | 9.5507246376811/20 [01:06<01:08,  6.56s/it]  "
          ]
        },
        {
          "output_type": "stream",
          "name": "stdout",
          "text": [
            "Train Epoch: 10 [350/535 (65%)]\tLoss: 0.290386\n"
          ]
        },
        {
          "output_type": "stream",
          "name": "stderr",
          "text": [
            " 48%|████▊     | 9.60869565217385/20 [01:07<01:07,  6.46s/it] "
          ]
        },
        {
          "output_type": "stream",
          "name": "stdout",
          "text": [
            "Train Epoch: 10 [400/535 (74%)]\tLoss: 0.249830\n"
          ]
        },
        {
          "output_type": "stream",
          "name": "stderr",
          "text": [
            " 48%|████▊     | 9.695652173912976/20 [01:07<01:08,  6.68s/it]"
          ]
        },
        {
          "output_type": "stream",
          "name": "stdout",
          "text": [
            "Train Epoch: 10 [450/535 (83%)]\tLoss: 0.598671\n"
          ]
        },
        {
          "output_type": "stream",
          "name": "stderr",
          "text": [
            " 49%|████▉     | 9.753623188405726/20 [01:08<01:07,  6.62s/it]"
          ]
        },
        {
          "output_type": "stream",
          "name": "stdout",
          "text": [
            "Train Epoch: 10 [500/535 (93%)]\tLoss: 0.454126\n"
          ]
        },
        {
          "output_type": "stream",
          "name": "stderr",
          "text": [
            " 50%|█████     | 10.014492753623102/20 [01:10<01:22,  8.25s/it]"
          ]
        },
        {
          "output_type": "stream",
          "name": "stdout",
          "text": [
            "\n",
            "Test Epoch: 10\tAccuracy: 121/145 (83%)\n",
            "\n",
            "Train Epoch: 11 [0/535 (0%)]\tLoss: 0.229961\n"
          ]
        },
        {
          "output_type": "stream",
          "name": "stderr",
          "text": [
            " 51%|█████     | 10.101449275362228/20 [01:11<01:25,  8.68s/it]"
          ]
        },
        {
          "output_type": "stream",
          "name": "stdout",
          "text": [
            "Train Epoch: 11 [50/535 (9%)]\tLoss: 0.409082\n"
          ]
        },
        {
          "output_type": "stream",
          "name": "stderr",
          "text": [
            " 51%|█████     | 10.188405797101353/20 [01:11<01:09,  7.03s/it]"
          ]
        },
        {
          "output_type": "stream",
          "name": "stdout",
          "text": [
            "Train Epoch: 11 [100/535 (19%)]\tLoss: 0.078870\n"
          ]
        },
        {
          "output_type": "stream",
          "name": "stderr",
          "text": [
            " 51%|█████     | 10.246376811594104/20 [01:12<01:05,  6.74s/it]"
          ]
        },
        {
          "output_type": "stream",
          "name": "stdout",
          "text": [
            "Train Epoch: 11 [150/535 (28%)]\tLoss: 0.576445\n"
          ]
        },
        {
          "output_type": "stream",
          "name": "stderr",
          "text": [
            " 52%|█████▏    | 10.33333333333323/20 [01:12<01:04,  6.68s/it] "
          ]
        },
        {
          "output_type": "stream",
          "name": "stdout",
          "text": [
            "Train Epoch: 11 [200/535 (37%)]\tLoss: 0.261242\n"
          ]
        },
        {
          "output_type": "stream",
          "name": "stderr",
          "text": [
            " 52%|█████▏    | 10.39130434782598/20 [01:13<01:02,  6.55s/it] "
          ]
        },
        {
          "output_type": "stream",
          "name": "stdout",
          "text": [
            "Train Epoch: 11 [250/535 (46%)]\tLoss: 0.666701\n"
          ]
        },
        {
          "output_type": "stream",
          "name": "stderr",
          "text": [
            " 52%|█████▏    | 10.44927536231873/20 [01:13<01:01,  6.47s/it] "
          ]
        },
        {
          "output_type": "stream",
          "name": "stdout",
          "text": [
            "Train Epoch: 11 [300/535 (56%)]\tLoss: 0.711967\n"
          ]
        },
        {
          "output_type": "stream",
          "name": "stderr",
          "text": [
            " 53%|█████▎    | 10.536231884057855/20 [01:14<01:03,  6.75s/it]"
          ]
        },
        {
          "output_type": "stream",
          "name": "stdout",
          "text": [
            "Train Epoch: 11 [350/535 (65%)]\tLoss: 0.144554\n"
          ]
        },
        {
          "output_type": "stream",
          "name": "stderr",
          "text": [
            " 53%|█████▎    | 10.62318840579698/20 [01:14<01:03,  6.79s/it] "
          ]
        },
        {
          "output_type": "stream",
          "name": "stdout",
          "text": [
            "Train Epoch: 11 [400/535 (74%)]\tLoss: 0.492788\n"
          ]
        },
        {
          "output_type": "stream",
          "name": "stderr",
          "text": [
            " 53%|█████▎    | 10.681159420289731/20 [01:15<01:03,  6.82s/it]"
          ]
        },
        {
          "output_type": "stream",
          "name": "stdout",
          "text": [
            "Train Epoch: 11 [450/535 (83%)]\tLoss: 0.773316\n"
          ]
        },
        {
          "output_type": "stream",
          "name": "stderr",
          "text": [
            " 54%|█████▎    | 10.739130434782481/20 [01:15<01:02,  6.74s/it]"
          ]
        },
        {
          "output_type": "stream",
          "name": "stdout",
          "text": [
            "Train Epoch: 11 [500/535 (93%)]\tLoss: 0.491280\n"
          ]
        },
        {
          "output_type": "stream",
          "name": "stderr",
          "text": [
            " 55%|█████▌    | 11.028985507246233/20 [01:17<00:53,  5.95s/it]"
          ]
        },
        {
          "output_type": "stream",
          "name": "stdout",
          "text": [
            "\n",
            "Test Epoch: 11\tAccuracy: 120/145 (83%)\n",
            "\n",
            "Train Epoch: 12 [0/535 (0%)]\tLoss: 0.120733\n"
          ]
        },
        {
          "output_type": "stream",
          "name": "stderr",
          "text": [
            " 56%|█████▌    | 11.115942028985359/20 [01:17<00:57,  6.43s/it]"
          ]
        },
        {
          "output_type": "stream",
          "name": "stdout",
          "text": [
            "Train Epoch: 12 [50/535 (9%)]\tLoss: 0.041427\n"
          ]
        },
        {
          "output_type": "stream",
          "name": "stderr",
          "text": [
            " 56%|█████▌    | 11.173913043478109/20 [01:18<00:58,  6.60s/it]"
          ]
        },
        {
          "output_type": "stream",
          "name": "stdout",
          "text": [
            "Train Epoch: 12 [100/535 (19%)]\tLoss: 0.398745\n"
          ]
        },
        {
          "output_type": "stream",
          "name": "stderr",
          "text": [
            " 56%|█████▋    | 11.260869565217234/20 [01:18<00:58,  6.69s/it]"
          ]
        },
        {
          "output_type": "stream",
          "name": "stdout",
          "text": [
            "Train Epoch: 12 [150/535 (28%)]\tLoss: 0.639562\n"
          ]
        },
        {
          "output_type": "stream",
          "name": "stderr",
          "text": [
            " 57%|█████▋    | 11.318840579709985/20 [01:19<00:58,  6.74s/it]"
          ]
        },
        {
          "output_type": "stream",
          "name": "stdout",
          "text": [
            "Train Epoch: 12 [200/535 (37%)]\tLoss: 0.321788\n"
          ]
        },
        {
          "output_type": "stream",
          "name": "stderr",
          "text": [
            " 57%|█████▋    | 11.376811594202735/20 [01:19<00:57,  6.66s/it]"
          ]
        },
        {
          "output_type": "stream",
          "name": "stdout",
          "text": [
            "Train Epoch: 12 [250/535 (46%)]\tLoss: 0.284164\n"
          ]
        },
        {
          "output_type": "stream",
          "name": "stderr",
          "text": [
            " 57%|█████▋    | 11.46376811594186/20 [01:20<00:56,  6.61s/it] "
          ]
        },
        {
          "output_type": "stream",
          "name": "stdout",
          "text": [
            "Train Epoch: 12 [300/535 (56%)]\tLoss: 0.051954\n"
          ]
        },
        {
          "output_type": "stream",
          "name": "stderr",
          "text": [
            " 58%|█████▊    | 11.52173913043461/20 [01:20<00:55,  6.60s/it] "
          ]
        },
        {
          "output_type": "stream",
          "name": "stdout",
          "text": [
            "Train Epoch: 12 [350/535 (65%)]\tLoss: 0.261234\n"
          ]
        },
        {
          "output_type": "stream",
          "name": "stderr",
          "text": [
            " 58%|█████▊    | 11.608695652173736/20 [01:21<01:01,  7.32s/it]"
          ]
        },
        {
          "output_type": "stream",
          "name": "stdout",
          "text": [
            "Train Epoch: 12 [400/535 (74%)]\tLoss: 0.406461\n"
          ]
        },
        {
          "output_type": "stream",
          "name": "stderr",
          "text": [
            " 58%|█████▊    | 11.681159420289674/20 [01:21<01:15,  9.07s/it]"
          ]
        },
        {
          "output_type": "stream",
          "name": "stdout",
          "text": [
            "Train Epoch: 12 [450/535 (83%)]\tLoss: 0.045770\n"
          ]
        },
        {
          "output_type": "stream",
          "name": "stderr",
          "text": [
            " 59%|█████▉    | 11.753623188405612/20 [01:22<01:17,  9.44s/it]"
          ]
        },
        {
          "output_type": "stream",
          "name": "stdout",
          "text": [
            "Train Epoch: 12 [500/535 (93%)]\tLoss: 0.399873\n"
          ]
        },
        {
          "output_type": "stream",
          "name": "stderr",
          "text": [
            " 60%|██████    | 12.014492753622989/20 [01:24<00:48,  6.09s/it]"
          ]
        },
        {
          "output_type": "stream",
          "name": "stdout",
          "text": [
            "\n",
            "Test Epoch: 12\tAccuracy: 121/145 (83%)\n",
            "\n",
            "Train Epoch: 13 [0/535 (0%)]\tLoss: 0.284601\n"
          ]
        },
        {
          "output_type": "stream",
          "name": "stderr",
          "text": [
            " 61%|██████    | 12.101449275362114/20 [01:25<00:51,  6.47s/it]"
          ]
        },
        {
          "output_type": "stream",
          "name": "stdout",
          "text": [
            "Train Epoch: 13 [50/535 (9%)]\tLoss: 0.157371\n"
          ]
        },
        {
          "output_type": "stream",
          "name": "stderr",
          "text": [
            " 61%|██████    | 12.18840579710124/20 [01:25<00:50,  6.52s/it] "
          ]
        },
        {
          "output_type": "stream",
          "name": "stdout",
          "text": [
            "Train Epoch: 13 [100/535 (19%)]\tLoss: 0.559194\n"
          ]
        },
        {
          "output_type": "stream",
          "name": "stderr",
          "text": [
            " 61%|██████    | 12.24637681159399/20 [01:26<00:51,  6.64s/it] "
          ]
        },
        {
          "output_type": "stream",
          "name": "stdout",
          "text": [
            "Train Epoch: 13 [150/535 (28%)]\tLoss: 0.108629\n"
          ]
        },
        {
          "output_type": "stream",
          "name": "stderr",
          "text": [
            " 62%|██████▏   | 12.333333333333115/20 [01:26<00:51,  6.74s/it]"
          ]
        },
        {
          "output_type": "stream",
          "name": "stdout",
          "text": [
            "Train Epoch: 13 [200/535 (37%)]\tLoss: 0.371425\n"
          ]
        },
        {
          "output_type": "stream",
          "name": "stderr",
          "text": [
            " 62%|██████▏   | 12.391304347825866/20 [01:27<00:51,  6.72s/it]"
          ]
        },
        {
          "output_type": "stream",
          "name": "stdout",
          "text": [
            "Train Epoch: 13 [250/535 (46%)]\tLoss: 0.156847\n"
          ]
        },
        {
          "output_type": "stream",
          "name": "stderr",
          "text": [
            " 62%|██████▏   | 12.478260869564991/20 [01:27<00:49,  6.64s/it]"
          ]
        },
        {
          "output_type": "stream",
          "name": "stdout",
          "text": [
            "Train Epoch: 13 [300/535 (56%)]\tLoss: 0.078327\n"
          ]
        },
        {
          "output_type": "stream",
          "name": "stderr",
          "text": [
            " 63%|██████▎   | 12.536231884057742/20 [01:27<00:49,  6.60s/it]"
          ]
        },
        {
          "output_type": "stream",
          "name": "stdout",
          "text": [
            "Train Epoch: 13 [350/535 (65%)]\tLoss: 0.353109\n"
          ]
        },
        {
          "output_type": "stream",
          "name": "stderr",
          "text": [
            " 63%|██████▎   | 12.623188405796867/20 [01:28<00:48,  6.56s/it]"
          ]
        },
        {
          "output_type": "stream",
          "name": "stdout",
          "text": [
            "Train Epoch: 13 [400/535 (74%)]\tLoss: 0.248487\n"
          ]
        },
        {
          "output_type": "stream",
          "name": "stderr",
          "text": [
            " 63%|██████▎   | 12.681159420289617/20 [01:28<00:48,  6.66s/it]"
          ]
        },
        {
          "output_type": "stream",
          "name": "stdout",
          "text": [
            "Train Epoch: 13 [450/535 (83%)]\tLoss: 0.035537\n"
          ]
        },
        {
          "output_type": "stream",
          "name": "stderr",
          "text": [
            " 64%|██████▍   | 12.768115942028743/20 [01:29<00:48,  6.74s/it]"
          ]
        },
        {
          "output_type": "stream",
          "name": "stdout",
          "text": [
            "Train Epoch: 13 [500/535 (93%)]\tLoss: 0.451562\n"
          ]
        },
        {
          "output_type": "stream",
          "name": "stderr",
          "text": [
            " 65%|██████▌   | 13.02898550724612/20 [01:31<00:40,  5.87s/it] "
          ]
        },
        {
          "output_type": "stream",
          "name": "stdout",
          "text": [
            "\n",
            "Test Epoch: 13\tAccuracy: 114/145 (79%)\n",
            "\n",
            "Train Epoch: 14 [0/535 (0%)]\tLoss: 0.162405\n"
          ]
        },
        {
          "output_type": "stream",
          "name": "stderr",
          "text": [
            " 66%|██████▌   | 13.115942028985245/20 [01:31<00:45,  6.58s/it]"
          ]
        },
        {
          "output_type": "stream",
          "name": "stdout",
          "text": [
            "Train Epoch: 14 [50/535 (9%)]\tLoss: 0.127190\n"
          ]
        },
        {
          "output_type": "stream",
          "name": "stderr",
          "text": [
            " 66%|██████▌   | 13.173913043477995/20 [01:32<00:46,  6.77s/it]"
          ]
        },
        {
          "output_type": "stream",
          "name": "stdout",
          "text": [
            "Train Epoch: 14 [100/535 (19%)]\tLoss: 0.378995\n"
          ]
        },
        {
          "output_type": "stream",
          "name": "stderr",
          "text": [
            " 66%|██████▌   | 13.231884057970746/20 [01:32<00:46,  6.80s/it]"
          ]
        },
        {
          "output_type": "stream",
          "name": "stdout",
          "text": [
            "Train Epoch: 14 [150/535 (28%)]\tLoss: 0.136404\n"
          ]
        },
        {
          "output_type": "stream",
          "name": "stderr",
          "text": [
            " 67%|██████▋   | 13.318840579709871/20 [01:33<00:46,  6.94s/it]"
          ]
        },
        {
          "output_type": "stream",
          "name": "stdout",
          "text": [
            "Train Epoch: 14 [200/535 (37%)]\tLoss: 0.274552\n"
          ]
        },
        {
          "output_type": "stream",
          "name": "stderr",
          "text": [
            " 67%|██████▋   | 13.376811594202621/20 [01:33<00:44,  6.65s/it]"
          ]
        },
        {
          "output_type": "stream",
          "name": "stdout",
          "text": [
            "Train Epoch: 14 [250/535 (46%)]\tLoss: 0.065460\n"
          ]
        },
        {
          "output_type": "stream",
          "name": "stderr",
          "text": [
            " 67%|██████▋   | 13.463768115941747/20 [01:34<00:47,  7.29s/it]"
          ]
        },
        {
          "output_type": "stream",
          "name": "stdout",
          "text": [
            "Train Epoch: 14 [300/535 (56%)]\tLoss: 0.041885\n"
          ]
        },
        {
          "output_type": "stream",
          "name": "stderr",
          "text": [
            " 68%|██████▊   | 13.536231884057685/20 [01:34<00:59,  9.17s/it]"
          ]
        },
        {
          "output_type": "stream",
          "name": "stdout",
          "text": [
            "Train Epoch: 14 [350/535 (65%)]\tLoss: 0.355515\n"
          ]
        },
        {
          "output_type": "stream",
          "name": "stderr",
          "text": [
            " 68%|██████▊   | 13.608695652173623/20 [01:35<01:02,  9.81s/it]"
          ]
        },
        {
          "output_type": "stream",
          "name": "stdout",
          "text": [
            "Train Epoch: 14 [400/535 (74%)]\tLoss: 0.011685\n"
          ]
        },
        {
          "output_type": "stream",
          "name": "stderr",
          "text": [
            " 68%|██████▊   | 13.68115942028956/20 [01:36<01:04, 10.26s/it] "
          ]
        },
        {
          "output_type": "stream",
          "name": "stdout",
          "text": [
            "Train Epoch: 14 [450/535 (83%)]\tLoss: 0.082144\n"
          ]
        },
        {
          "output_type": "stream",
          "name": "stderr",
          "text": [
            " 69%|██████▉   | 13.768115942028686/20 [01:37<00:49,  8.02s/it]"
          ]
        },
        {
          "output_type": "stream",
          "name": "stdout",
          "text": [
            "Train Epoch: 14 [500/535 (93%)]\tLoss: 0.122729\n"
          ]
        },
        {
          "output_type": "stream",
          "name": "stderr",
          "text": [
            " 70%|███████   | 14.028985507246063/20 [01:38<00:35,  5.88s/it]"
          ]
        },
        {
          "output_type": "stream",
          "name": "stdout",
          "text": [
            "\n",
            "Test Epoch: 14\tAccuracy: 125/145 (86%)\n",
            "\n",
            "Train Epoch: 15 [0/535 (0%)]\tLoss: 0.105872\n"
          ]
        },
        {
          "output_type": "stream",
          "name": "stderr",
          "text": [
            " 71%|███████   | 14.115942028985188/20 [01:39<00:39,  6.63s/it]"
          ]
        },
        {
          "output_type": "stream",
          "name": "stdout",
          "text": [
            "Train Epoch: 15 [50/535 (9%)]\tLoss: 0.203905\n"
          ]
        },
        {
          "output_type": "stream",
          "name": "stderr",
          "text": [
            " 71%|███████   | 14.173913043477938/20 [01:39<00:39,  6.71s/it]"
          ]
        },
        {
          "output_type": "stream",
          "name": "stdout",
          "text": [
            "Train Epoch: 15 [100/535 (19%)]\tLoss: 0.129335\n"
          ]
        },
        {
          "output_type": "stream",
          "name": "stderr",
          "text": [
            " 71%|███████▏  | 14.260869565217064/20 [01:40<00:38,  6.75s/it]"
          ]
        },
        {
          "output_type": "stream",
          "name": "stdout",
          "text": [
            "Train Epoch: 15 [150/535 (28%)]\tLoss: 0.088607\n"
          ]
        },
        {
          "output_type": "stream",
          "name": "stderr",
          "text": [
            " 72%|███████▏  | 14.318840579709814/20 [01:40<00:38,  6.85s/it]"
          ]
        },
        {
          "output_type": "stream",
          "name": "stdout",
          "text": [
            "Train Epoch: 15 [200/535 (37%)]\tLoss: 0.216391\n"
          ]
        },
        {
          "output_type": "stream",
          "name": "stderr",
          "text": [
            " 72%|███████▏  | 14.40579710144894/20 [01:41<00:37,  6.75s/it] "
          ]
        },
        {
          "output_type": "stream",
          "name": "stdout",
          "text": [
            "Train Epoch: 15 [250/535 (46%)]\tLoss: 0.161397\n"
          ]
        },
        {
          "output_type": "stream",
          "name": "stderr",
          "text": [
            " 72%|███████▏  | 14.46376811594169/20 [01:41<00:36,  6.68s/it] "
          ]
        },
        {
          "output_type": "stream",
          "name": "stdout",
          "text": [
            "Train Epoch: 15 [300/535 (56%)]\tLoss: 0.067045\n"
          ]
        },
        {
          "output_type": "stream",
          "name": "stderr",
          "text": [
            " 73%|███████▎  | 14.550724637680815/20 [01:42<00:35,  6.55s/it]"
          ]
        },
        {
          "output_type": "stream",
          "name": "stdout",
          "text": [
            "Train Epoch: 15 [350/535 (65%)]\tLoss: 0.212080\n"
          ]
        },
        {
          "output_type": "stream",
          "name": "stderr",
          "text": [
            " 73%|███████▎  | 14.608695652173566/20 [01:42<00:34,  6.46s/it]"
          ]
        },
        {
          "output_type": "stream",
          "name": "stdout",
          "text": [
            "Train Epoch: 15 [400/535 (74%)]\tLoss: 0.040832\n"
          ]
        },
        {
          "output_type": "stream",
          "name": "stderr",
          "text": [
            " 73%|███████▎  | 14.695652173912691/20 [01:42<00:34,  6.53s/it]"
          ]
        },
        {
          "output_type": "stream",
          "name": "stdout",
          "text": [
            "Train Epoch: 15 [450/535 (83%)]\tLoss: 0.112770\n"
          ]
        },
        {
          "output_type": "stream",
          "name": "stderr",
          "text": [
            " 74%|███████▍  | 14.753623188405442/20 [01:43<00:33,  6.42s/it]"
          ]
        },
        {
          "output_type": "stream",
          "name": "stdout",
          "text": [
            "Train Epoch: 15 [500/535 (93%)]\tLoss: 0.208335\n"
          ]
        },
        {
          "output_type": "stream",
          "name": "stderr",
          "text": [
            " 75%|███████▌  | 15.014492753622818/20 [01:44<00:27,  5.49s/it]"
          ]
        },
        {
          "output_type": "stream",
          "name": "stdout",
          "text": [
            "\n",
            "Test Epoch: 15\tAccuracy: 127/145 (88%)\n",
            "\n",
            "Train Epoch: 16 [0/535 (0%)]\tLoss: 0.084985\n"
          ]
        },
        {
          "output_type": "stream",
          "name": "stderr",
          "text": [
            " 76%|███████▌  | 15.101449275361944/20 [01:45<00:29,  6.12s/it]"
          ]
        },
        {
          "output_type": "stream",
          "name": "stdout",
          "text": [
            "Train Epoch: 16 [50/535 (9%)]\tLoss: 0.717298\n"
          ]
        },
        {
          "output_type": "stream",
          "name": "stderr",
          "text": [
            " 76%|███████▌  | 15.188405797101069/20 [01:45<00:31,  6.52s/it]"
          ]
        },
        {
          "output_type": "stream",
          "name": "stdout",
          "text": [
            "Train Epoch: 16 [100/535 (19%)]\tLoss: 0.263933\n"
          ]
        },
        {
          "output_type": "stream",
          "name": "stderr",
          "text": [
            " 76%|███████▌  | 15.24637681159382/20 [01:46<00:30,  6.44s/it] "
          ]
        },
        {
          "output_type": "stream",
          "name": "stdout",
          "text": [
            "Train Epoch: 16 [150/535 (28%)]\tLoss: 0.116663\n"
          ]
        },
        {
          "output_type": "stream",
          "name": "stderr",
          "text": [
            " 77%|███████▋  | 15.30434782608657/20 [01:46<00:30,  6.46s/it] "
          ]
        },
        {
          "output_type": "stream",
          "name": "stdout",
          "text": [
            "Train Epoch: 16 [200/535 (37%)]\tLoss: 0.352285\n"
          ]
        },
        {
          "output_type": "stream",
          "name": "stderr",
          "text": [
            " 77%|███████▋  | 15.391304347825695/20 [01:47<00:42,  9.14s/it]"
          ]
        },
        {
          "output_type": "stream",
          "name": "stdout",
          "text": [
            "Train Epoch: 16 [250/535 (46%)]\tLoss: 0.557756\n"
          ]
        },
        {
          "output_type": "stream",
          "name": "stderr",
          "text": [
            " 77%|███████▋  | 15.463768115941633/20 [01:48<00:43,  9.68s/it]"
          ]
        },
        {
          "output_type": "stream",
          "name": "stdout",
          "text": [
            "Train Epoch: 16 [300/535 (56%)]\tLoss: 0.327849\n"
          ]
        },
        {
          "output_type": "stream",
          "name": "stderr",
          "text": [
            " 78%|███████▊  | 15.536231884057571/20 [01:48<00:43,  9.66s/it]"
          ]
        },
        {
          "output_type": "stream",
          "name": "stdout",
          "text": [
            "Train Epoch: 16 [350/535 (65%)]\tLoss: 0.231838\n"
          ]
        },
        {
          "output_type": "stream",
          "name": "stderr",
          "text": [
            " 78%|███████▊  | 15.608695652173509/20 [01:49<00:45, 10.29s/it]"
          ]
        },
        {
          "output_type": "stream",
          "name": "stdout",
          "text": [
            "Train Epoch: 16 [400/535 (74%)]\tLoss: 0.112752\n"
          ]
        },
        {
          "output_type": "stream",
          "name": "stderr",
          "text": [
            " 78%|███████▊  | 15.695652173912634/20 [01:50<00:31,  7.41s/it]"
          ]
        },
        {
          "output_type": "stream",
          "name": "stdout",
          "text": [
            "Train Epoch: 16 [450/535 (83%)]\tLoss: 0.106528\n"
          ]
        },
        {
          "output_type": "stream",
          "name": "stderr",
          "text": [
            " 79%|███████▉  | 15.753623188405385/20 [01:50<00:29,  6.91s/it]"
          ]
        },
        {
          "output_type": "stream",
          "name": "stdout",
          "text": [
            "Train Epoch: 16 [500/535 (93%)]\tLoss: 0.229857\n"
          ]
        },
        {
          "output_type": "stream",
          "name": "stderr",
          "text": [
            " 80%|████████  | 16.01449275362276/20 [01:52<00:23,  5.93s/it] "
          ]
        },
        {
          "output_type": "stream",
          "name": "stdout",
          "text": [
            "\n",
            "Test Epoch: 16\tAccuracy: 129/145 (89%)\n",
            "\n",
            "Train Epoch: 17 [0/535 (0%)]\tLoss: 0.143010\n"
          ]
        },
        {
          "output_type": "stream",
          "name": "stderr",
          "text": [
            " 81%|████████  | 16.101449275361887/20 [01:52<00:24,  6.36s/it]"
          ]
        },
        {
          "output_type": "stream",
          "name": "stdout",
          "text": [
            "Train Epoch: 17 [50/535 (9%)]\tLoss: 0.109483\n"
          ]
        },
        {
          "output_type": "stream",
          "name": "stderr",
          "text": [
            " 81%|████████  | 16.159420289854637/20 [01:53<00:25,  6.64s/it]"
          ]
        },
        {
          "output_type": "stream",
          "name": "stdout",
          "text": [
            "Train Epoch: 17 [100/535 (19%)]\tLoss: 0.080824\n"
          ]
        },
        {
          "output_type": "stream",
          "name": "stderr",
          "text": [
            " 81%|████████  | 16.246376811593763/20 [01:53<00:25,  6.79s/it]"
          ]
        },
        {
          "output_type": "stream",
          "name": "stdout",
          "text": [
            "Train Epoch: 17 [150/535 (28%)]\tLoss: 0.105449\n"
          ]
        },
        {
          "output_type": "stream",
          "name": "stderr",
          "text": [
            " 82%|████████▏ | 16.304347826086513/20 [01:54<00:24,  6.58s/it]"
          ]
        },
        {
          "output_type": "stream",
          "name": "stdout",
          "text": [
            "Train Epoch: 17 [200/535 (37%)]\tLoss: 0.212656\n"
          ]
        },
        {
          "output_type": "stream",
          "name": "stderr",
          "text": [
            " 82%|████████▏ | 16.39130434782564/20 [01:54<00:24,  6.70s/it] "
          ]
        },
        {
          "output_type": "stream",
          "name": "stdout",
          "text": [
            "Train Epoch: 17 [250/535 (46%)]\tLoss: 0.077040\n"
          ]
        },
        {
          "output_type": "stream",
          "name": "stderr",
          "text": [
            " 82%|████████▏ | 16.478260869564764/20 [01:55<00:23,  6.62s/it]"
          ]
        },
        {
          "output_type": "stream",
          "name": "stdout",
          "text": [
            "Train Epoch: 17 [300/535 (56%)]\tLoss: 0.037885\n"
          ]
        },
        {
          "output_type": "stream",
          "name": "stderr",
          "text": [
            " 83%|████████▎ | 16.536231884057514/20 [01:55<00:22,  6.52s/it]"
          ]
        },
        {
          "output_type": "stream",
          "name": "stdout",
          "text": [
            "Train Epoch: 17 [350/535 (65%)]\tLoss: 0.004207\n"
          ]
        },
        {
          "output_type": "stream",
          "name": "stderr",
          "text": [
            " 83%|████████▎ | 16.594202898550265/20 [01:56<00:22,  6.63s/it]"
          ]
        },
        {
          "output_type": "stream",
          "name": "stdout",
          "text": [
            "Train Epoch: 17 [400/535 (74%)]\tLoss: 0.438895\n"
          ]
        },
        {
          "output_type": "stream",
          "name": "stderr",
          "text": [
            " 83%|████████▎ | 16.695652173912578/20 [01:56<00:22,  6.86s/it]"
          ]
        },
        {
          "output_type": "stream",
          "name": "stdout",
          "text": [
            "Train Epoch: 17 [450/535 (83%)]\tLoss: 0.862818\n"
          ]
        },
        {
          "output_type": "stream",
          "name": "stderr",
          "text": [
            " 84%|████████▍ | 16.753623188405328/20 [01:57<00:21,  6.57s/it]"
          ]
        },
        {
          "output_type": "stream",
          "name": "stdout",
          "text": [
            "Train Epoch: 17 [500/535 (93%)]\tLoss: 0.032719\n"
          ]
        },
        {
          "output_type": "stream",
          "name": "stderr",
          "text": [
            " 85%|████████▌ | 17.014492753622704/20 [01:58<00:17,  5.81s/it]"
          ]
        },
        {
          "output_type": "stream",
          "name": "stdout",
          "text": [
            "\n",
            "Test Epoch: 17\tAccuracy: 102/145 (70%)\n",
            "\n",
            "Train Epoch: 18 [0/535 (0%)]\tLoss: 0.369457\n"
          ]
        },
        {
          "output_type": "stream",
          "name": "stderr",
          "text": [
            " 86%|████████▌ | 17.10144927536183/20 [01:59<00:18,  6.39s/it] "
          ]
        },
        {
          "output_type": "stream",
          "name": "stdout",
          "text": [
            "Train Epoch: 18 [50/535 (9%)]\tLoss: 0.350760\n"
          ]
        },
        {
          "output_type": "stream",
          "name": "stderr",
          "text": [
            " 86%|████████▌ | 17.15942028985458/20 [01:59<00:18,  6.59s/it] "
          ]
        },
        {
          "output_type": "stream",
          "name": "stdout",
          "text": [
            "Train Epoch: 18 [100/535 (19%)]\tLoss: 0.209826\n"
          ]
        },
        {
          "output_type": "stream",
          "name": "stderr",
          "text": [
            " 86%|████████▌ | 17.246376811593706/20 [02:00<00:23,  8.59s/it]"
          ]
        },
        {
          "output_type": "stream",
          "name": "stdout",
          "text": [
            "Train Epoch: 18 [150/535 (28%)]\tLoss: 0.096709\n"
          ]
        },
        {
          "output_type": "stream",
          "name": "stderr",
          "text": [
            " 87%|████████▋ | 17.318840579709644/20 [02:01<00:26,  9.95s/it]"
          ]
        },
        {
          "output_type": "stream",
          "name": "stdout",
          "text": [
            "Train Epoch: 18 [200/535 (37%)]\tLoss: 0.120275\n"
          ]
        },
        {
          "output_type": "stream",
          "name": "stderr",
          "text": [
            " 87%|████████▋ | 17.39130434782558/20 [02:01<00:26,  9.97s/it] "
          ]
        },
        {
          "output_type": "stream",
          "name": "stdout",
          "text": [
            "Train Epoch: 18 [250/535 (46%)]\tLoss: 0.496151\n"
          ]
        },
        {
          "output_type": "stream",
          "name": "stderr",
          "text": [
            " 87%|████████▋ | 17.478260869564707/20 [02:02<00:20,  8.27s/it]"
          ]
        },
        {
          "output_type": "stream",
          "name": "stdout",
          "text": [
            "Train Epoch: 18 [300/535 (56%)]\tLoss: 0.180481\n"
          ]
        },
        {
          "output_type": "stream",
          "name": "stderr",
          "text": [
            " 88%|████████▊ | 17.550724637680645/20 [02:03<00:17,  7.00s/it]"
          ]
        },
        {
          "output_type": "stream",
          "name": "stdout",
          "text": [
            "Train Epoch: 18 [350/535 (65%)]\tLoss: 1.561580\n"
          ]
        },
        {
          "output_type": "stream",
          "name": "stderr",
          "text": [
            " 88%|████████▊ | 17.594202898550208/20 [02:03<00:16,  6.72s/it]"
          ]
        },
        {
          "output_type": "stream",
          "name": "stdout",
          "text": [
            "Train Epoch: 18 [400/535 (74%)]\tLoss: 0.058509\n"
          ]
        },
        {
          "output_type": "stream",
          "name": "stderr",
          "text": [
            " 88%|████████▊ | 17.681159420289333/20 [02:04<00:15,  6.63s/it]"
          ]
        },
        {
          "output_type": "stream",
          "name": "stdout",
          "text": [
            "Train Epoch: 18 [450/535 (83%)]\tLoss: 0.732538\n"
          ]
        },
        {
          "output_type": "stream",
          "name": "stderr",
          "text": [
            " 89%|████████▉ | 17.76811594202846/20 [02:04<00:14,  6.61s/it] "
          ]
        },
        {
          "output_type": "stream",
          "name": "stdout",
          "text": [
            "Train Epoch: 18 [500/535 (93%)]\tLoss: 0.167430\n"
          ]
        },
        {
          "output_type": "stream",
          "name": "stderr",
          "text": [
            " 90%|█████████ | 18.028985507245835/20 [02:06<00:11,  5.81s/it]"
          ]
        },
        {
          "output_type": "stream",
          "name": "stdout",
          "text": [
            "\n",
            "Test Epoch: 18\tAccuracy: 107/145 (74%)\n",
            "\n",
            "Train Epoch: 19 [0/535 (0%)]\tLoss: 0.788879\n"
          ]
        },
        {
          "output_type": "stream",
          "name": "stderr",
          "text": [
            " 90%|█████████ | 18.086956521738585/20 [02:06<00:11,  6.08s/it]"
          ]
        },
        {
          "output_type": "stream",
          "name": "stdout",
          "text": [
            "Train Epoch: 19 [50/535 (9%)]\tLoss: 0.227231\n"
          ]
        },
        {
          "output_type": "stream",
          "name": "stderr",
          "text": [
            " 91%|█████████ | 18.17391304347771/20 [02:07<00:12,  6.74s/it] "
          ]
        },
        {
          "output_type": "stream",
          "name": "stdout",
          "text": [
            "Train Epoch: 19 [100/535 (19%)]\tLoss: 0.335757\n"
          ]
        },
        {
          "output_type": "stream",
          "name": "stderr",
          "text": [
            " 91%|█████████ | 18.23188405797046/20 [02:07<00:11,  6.59s/it] "
          ]
        },
        {
          "output_type": "stream",
          "name": "stdout",
          "text": [
            "Train Epoch: 19 [150/535 (28%)]\tLoss: 1.171239\n"
          ]
        },
        {
          "output_type": "stream",
          "name": "stderr",
          "text": [
            " 92%|█████████▏| 18.318840579709587/20 [02:08<00:11,  6.71s/it]"
          ]
        },
        {
          "output_type": "stream",
          "name": "stdout",
          "text": [
            "Train Epoch: 19 [200/535 (37%)]\tLoss: 0.302377\n"
          ]
        },
        {
          "output_type": "stream",
          "name": "stderr",
          "text": [
            " 92%|█████████▏| 18.405797101448712/20 [02:08<00:10,  6.45s/it]"
          ]
        },
        {
          "output_type": "stream",
          "name": "stdout",
          "text": [
            "Train Epoch: 19 [250/535 (46%)]\tLoss: 0.660352\n"
          ]
        },
        {
          "output_type": "stream",
          "name": "stderr",
          "text": [
            " 92%|█████████▏| 18.463768115941463/20 [02:08<00:10,  6.69s/it]"
          ]
        },
        {
          "output_type": "stream",
          "name": "stdout",
          "text": [
            "Train Epoch: 19 [300/535 (56%)]\tLoss: 1.589440\n"
          ]
        },
        {
          "output_type": "stream",
          "name": "stderr",
          "text": [
            " 93%|█████████▎| 18.550724637680588/20 [02:09<00:09,  6.73s/it]"
          ]
        },
        {
          "output_type": "stream",
          "name": "stdout",
          "text": [
            "Train Epoch: 19 [350/535 (65%)]\tLoss: 0.170642\n"
          ]
        },
        {
          "output_type": "stream",
          "name": "stderr",
          "text": [
            " 93%|█████████▎| 18.60869565217334/20 [02:09<00:09,  6.76s/it] "
          ]
        },
        {
          "output_type": "stream",
          "name": "stdout",
          "text": [
            "Train Epoch: 19 [400/535 (74%)]\tLoss: 0.749424\n"
          ]
        },
        {
          "output_type": "stream",
          "name": "stderr",
          "text": [
            " 93%|█████████▎| 18.695652173912464/20 [02:10<00:08,  6.59s/it]"
          ]
        },
        {
          "output_type": "stream",
          "name": "stdout",
          "text": [
            "Train Epoch: 19 [450/535 (83%)]\tLoss: 0.483445\n"
          ]
        },
        {
          "output_type": "stream",
          "name": "stderr",
          "text": [
            " 94%|█████████▍| 18.753623188405214/20 [02:10<00:08,  6.58s/it]"
          ]
        },
        {
          "output_type": "stream",
          "name": "stdout",
          "text": [
            "Train Epoch: 19 [500/535 (93%)]\tLoss: 0.210473\n"
          ]
        },
        {
          "output_type": "stream",
          "name": "stderr",
          "text": [
            " 95%|█████████▌| 19.01449275362259/20 [02:12<00:05,  5.68s/it] "
          ]
        },
        {
          "output_type": "stream",
          "name": "stdout",
          "text": [
            "\n",
            "Test Epoch: 19\tAccuracy: 127/145 (88%)\n",
            "\n",
            "Train Epoch: 20 [0/535 (0%)]\tLoss: 0.112504\n"
          ]
        },
        {
          "output_type": "stream",
          "name": "stderr",
          "text": [
            " 96%|█████████▌| 19.101449275361716/20 [02:13<00:07,  8.34s/it]"
          ]
        },
        {
          "output_type": "stream",
          "name": "stdout",
          "text": [
            "Train Epoch: 20 [50/535 (9%)]\tLoss: 0.042751\n"
          ]
        },
        {
          "output_type": "stream",
          "name": "stderr",
          "text": [
            " 96%|█████████▌| 19.173913043477654/20 [02:13<00:08,  9.81s/it]"
          ]
        },
        {
          "output_type": "stream",
          "name": "stdout",
          "text": [
            "Train Epoch: 20 [100/535 (19%)]\tLoss: 0.022912\n"
          ]
        },
        {
          "output_type": "stream",
          "name": "stderr",
          "text": [
            " 96%|█████████▌| 19.246376811593592/20 [02:14<00:07,  9.98s/it]"
          ]
        },
        {
          "output_type": "stream",
          "name": "stdout",
          "text": [
            "Train Epoch: 20 [150/535 (28%)]\tLoss: 0.015419\n"
          ]
        },
        {
          "output_type": "stream",
          "name": "stderr",
          "text": [
            " 97%|█████████▋| 19.333333333332718/20 [02:15<00:05,  8.28s/it]"
          ]
        },
        {
          "output_type": "stream",
          "name": "stdout",
          "text": [
            "Train Epoch: 20 [200/535 (37%)]\tLoss: 0.054781\n"
          ]
        },
        {
          "output_type": "stream",
          "name": "stderr",
          "text": [
            " 97%|█████████▋| 19.391304347825468/20 [02:15<00:04,  7.31s/it]"
          ]
        },
        {
          "output_type": "stream",
          "name": "stdout",
          "text": [
            "Train Epoch: 20 [250/535 (46%)]\tLoss: 0.177528\n"
          ]
        },
        {
          "output_type": "stream",
          "name": "stderr",
          "text": [
            " 97%|█████████▋| 19.463768115941406/20 [02:16<00:03,  6.73s/it]"
          ]
        },
        {
          "output_type": "stream",
          "name": "stdout",
          "text": [
            "Train Epoch: 20 [300/535 (56%)]\tLoss: 0.066119\n"
          ]
        },
        {
          "output_type": "stream",
          "name": "stderr",
          "text": [
            " 98%|█████████▊| 19.55072463768053/20 [02:16<00:02,  6.58s/it] "
          ]
        },
        {
          "output_type": "stream",
          "name": "stdout",
          "text": [
            "Train Epoch: 20 [350/535 (65%)]\tLoss: 0.017845\n"
          ]
        },
        {
          "output_type": "stream",
          "name": "stderr",
          "text": [
            " 98%|█████████▊| 19.60869565217328/20 [02:17<00:02,  6.72s/it] "
          ]
        },
        {
          "output_type": "stream",
          "name": "stdout",
          "text": [
            "Train Epoch: 20 [400/535 (74%)]\tLoss: 0.148780\n"
          ]
        },
        {
          "output_type": "stream",
          "name": "stderr",
          "text": [
            " 98%|█████████▊| 19.695652173912407/20 [02:17<00:01,  6.51s/it]"
          ]
        },
        {
          "output_type": "stream",
          "name": "stdout",
          "text": [
            "Train Epoch: 20 [450/535 (83%)]\tLoss: 0.008803\n"
          ]
        },
        {
          "output_type": "stream",
          "name": "stderr",
          "text": [
            " 99%|█████████▉| 19.753623188405157/20 [02:18<00:01,  6.78s/it]"
          ]
        },
        {
          "output_type": "stream",
          "name": "stdout",
          "text": [
            "Train Epoch: 20 [500/535 (93%)]\tLoss: 0.015453\n"
          ]
        },
        {
          "output_type": "stream",
          "name": "stderr",
          "text": [
            "100%|█████████▉| 19.999999999999346/20 [02:19<00:00,  6.98s/it]"
          ]
        },
        {
          "output_type": "stream",
          "name": "stdout",
          "text": [
            "\n",
            "Test Epoch: 20\tAccuracy: 134/145 (92%)\n",
            "\n"
          ]
        },
        {
          "output_type": "stream",
          "name": "stderr",
          "text": [
            "\n"
          ]
        }
      ],
      "source": [
        "log_interval = 5\n",
        "n_epoch = 22\n",
        "\n",
        "pbar_update = 1 / (len(train_loader) + len(test_loader))\n",
        "losses = []\n",
        "\n",
        "transform = transform.to(device)\n",
        "with tqdm(total=n_epoch) as pbar:\n",
        "    for epoch in range(1, n_epoch + 1):\n",
        "        train(model, epoch, log_interval)\n",
        "        test(model, epoch)\n",
        "        scheduler.step()"
      ]
    },
    {
      "cell_type": "markdown",
      "metadata": {
        "id": "BPi-DFaKjaQx"
      },
      "source": [
        "The network should be more than 65% accurate on the test set after 2\n",
        "epochs, and 85% after 21 epochs. Let’s look at the last words in the\n",
        "train set, and see how the model did on it.\n",
        "\n",
        "\n"
      ]
    },
    {
      "cell_type": "code",
      "execution_count": null,
      "metadata": {
        "id": "vqaEs81jjaQx",
        "outputId": "4ffa2bda-9d55-46b3-dcb5-252b9885851f",
        "colab": {
          "base_uri": "https://localhost:8080/"
        }
      },
      "outputs": [
        {
          "output_type": "stream",
          "name": "stdout",
          "text": [
            "Expected: zero. Predicted: zero.\n"
          ]
        }
      ],
      "source": [
        "def predict(tensor):\n",
        "    # Use the model to predict the label of the waveform\n",
        "    tensor = tensor.to(device)\n",
        "    tensor = transform(tensor)\n",
        "    # The input tensor needs to have 2 channels\n",
        "    tensor = tensor.unsqueeze(0) # add an extra dimension for the batch\n",
        "    tensor = model(tensor)\n",
        "    tensor = get_likely_index(tensor)\n",
        "    tensor = index_to_label(tensor.squeeze())\n",
        "    return tensor\n",
        "\n",
        "\n",
        "waveform, sample_rate, utterance, *_ = train_set[-20]\n",
        "ipd.Audio(waveform.numpy(), rate=sample_rate)\n",
        "\n",
        "print(f\"Expected: {utterance}. Predicted: {predict(waveform)}.\")"
      ]
    },
    {
      "cell_type": "markdown",
      "metadata": {
        "id": "FdOaYehSjaQy"
      },
      "source": [
        "Let’s find an example that isn’t classified correctly, if there is one.\n",
        "\n",
        "\n"
      ]
    },
    {
      "cell_type": "code",
      "execution_count": null,
      "metadata": {
        "id": "XCr2TM1YjaQz",
        "outputId": "cb49a6da-6b42-44c9-e97e-36b7a5135b9d",
        "colab": {
          "base_uri": "https://localhost:8080/"
        }
      },
      "outputs": [
        {
          "output_type": "stream",
          "name": "stdout",
          "text": [
            "Data point #8. Expected: bird. Predicted: learn.\n"
          ]
        }
      ],
      "source": [
        "for i, (waveform, sample_rate, utterance, *_) in enumerate(test_set):\n",
        "    output = predict(waveform)\n",
        "    if output != utterance:\n",
        "        ipd.Audio(waveform.numpy(), rate=sample_rate)\n",
        "        print(f\"Data point #{i}. Expected: {utterance}. Predicted: {output}.\")\n",
        "        break\n",
        "else:\n",
        "    print(\"All examples in this dataset were correctly classified!\")\n",
        "    print(\"In this case, let's just look at the last data point\")\n",
        "    ipd.Audio(waveform.numpy(), rate=sample_rate)\n",
        "    print(f\"Data point #{i}. Expected: {utterance}. Predicted: {output}.\")"
      ]
    },
    {
      "cell_type": "markdown",
      "metadata": {
        "id": "QTRy7MzFjaQ0"
      },
      "source": []
    },
    {
      "cell_type": "code",
      "execution_count": null,
      "metadata": {
        "id": "3goSAjHPjaQ1",
        "outputId": "5b3d1ff0-ba85-434c-c581-c3fdefeedfa7",
        "colab": {
          "base_uri": "https://localhost:8080/",
          "height": 70
        }
      },
      "outputs": [
        {
          "output_type": "stream",
          "name": "stdout",
          "text": [
            "Recording started for 1 seconds.\n"
          ]
        },
        {
          "output_type": "display_data",
          "data": {
            "text/plain": [
              "<IPython.core.display.Javascript object>"
            ],
            "application/javascript": [
              "const sleep  = time => new Promise(resolve => setTimeout(resolve, time))\n",
              "const b2text = blob => new Promise(resolve => {\n",
              "  const reader = new FileReader()\n",
              "  reader.onloadend = e => resolve(e.srcElement.result)\n",
              "  reader.readAsDataURL(blob)\n",
              "})\n",
              "var record = time => new Promise(async resolve => {\n",
              "  stream = await navigator.mediaDevices.getUserMedia({ audio: true })\n",
              "  recorder = new MediaRecorder(stream)\n",
              "  chunks = []\n",
              "  recorder.ondataavailable = e => chunks.push(e.data)\n",
              "  recorder.start()\n",
              "  await sleep(time)\n",
              "  recorder.onstop = async ()=>{\n",
              "    blob = new Blob(chunks)\n",
              "    text = await b2text(blob)\n",
              "    resolve(text)\n",
              "  }\n",
              "  recorder.stop()\n",
              "})"
            ]
          },
          "metadata": {}
        },
        {
          "output_type": "stream",
          "name": "stdout",
          "text": [
            "Recording ended.\n",
            "Predicted: no.\n"
          ]
        }
      ],
      "source": [
        "def record(seconds=1):\n",
        "\n",
        "    from google.colab import output as colab_output\n",
        "    from base64 import b64decode\n",
        "    from io import BytesIO\n",
        "    from pydub import AudioSegment\n",
        "\n",
        "    RECORD = (\n",
        "        b\"const sleep  = time => new Promise(resolve => setTimeout(resolve, time))\\n\"\n",
        "        b\"const b2text = blob => new Promise(resolve => {\\n\"\n",
        "        b\"  const reader = new FileReader()\\n\"\n",
        "        b\"  reader.onloadend = e => resolve(e.srcElement.result)\\n\"\n",
        "        b\"  reader.readAsDataURL(blob)\\n\"\n",
        "        b\"})\\n\"\n",
        "        b\"var record = time => new Promise(async resolve => {\\n\"\n",
        "        b\"  stream = await navigator.mediaDevices.getUserMedia({ audio: true })\\n\"\n",
        "        b\"  recorder = new MediaRecorder(stream)\\n\"\n",
        "        b\"  chunks = []\\n\"\n",
        "        b\"  recorder.ondataavailable = e => chunks.push(e.data)\\n\"\n",
        "        b\"  recorder.start()\\n\"\n",
        "        b\"  await sleep(time)\\n\"\n",
        "        b\"  recorder.onstop = async ()=>{\\n\"\n",
        "        b\"    blob = new Blob(chunks)\\n\"\n",
        "        b\"    text = await b2text(blob)\\n\"\n",
        "        b\"    resolve(text)\\n\"\n",
        "        b\"  }\\n\"\n",
        "        b\"  recorder.stop()\\n\"\n",
        "        b\"})\"\n",
        "    )\n",
        "    RECORD = RECORD.decode(\"ascii\")\n",
        "\n",
        "    print(f\"Recording started for {seconds} seconds.\")\n",
        "    display(ipd.Javascript(RECORD))\n",
        "    s = colab_output.eval_js(\"record(%d)\" % (seconds * 1000))\n",
        "    print(\"Recording ended.\")\n",
        "    b = b64decode(s.split(\",\")[1])\n",
        "\n",
        "    fileformat = \"wav\"\n",
        "    filename = f\"_audio.{fileformat}\"\n",
        "    AudioSegment.from_file(BytesIO(b)).export(filename, format=fileformat)\n",
        "    return torchaudio.load(filename)\n",
        "\n",
        "\n",
        "# Detect whether notebook runs in google colab\n",
        "if \"google.colab\" in sys.modules:\n",
        "    waveform, sample_rate = record()\n",
        "    print(f\"Predicted: {predict(waveform)}.\")\n",
        "    ipd.Audio(waveform.numpy(), rate=sample_rate)"
      ]
    },
    {
      "cell_type": "markdown",
      "metadata": {
        "id": "ycQK3NTrjaQ2"
      },
      "source": []
    }
  ],
  "metadata": {
    "kernelspec": {
      "display_name": "Python 3",
      "name": "python3"
    },
    "language_info": {
      "codemirror_mode": {
        "name": "ipython",
        "version": 3
      },
      "file_extension": ".py",
      "mimetype": "text/x-python",
      "name": "python",
      "nbconvert_exporter": "python",
      "pygments_lexer": "ipython3",
      "version": "3.10.9"
    },
    "colab": {
      "provenance": [],
      "gpuType": "T4"
    },
    "accelerator": "GPU"
  },
  "nbformat": 4,
  "nbformat_minor": 0
}